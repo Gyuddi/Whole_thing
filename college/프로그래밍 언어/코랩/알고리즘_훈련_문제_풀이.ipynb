{
  "nbformat": 4,
  "nbformat_minor": 0,
  "metadata": {
    "colab": {
      "name": "알고리즘 훈련 문제 풀이.ipynb",
      "provenance": [],
      "collapsed_sections": []
    },
    "kernelspec": {
      "name": "python3",
      "display_name": "Python 3"
    }
  },
  "cells": [
    {
      "cell_type": "markdown",
      "metadata": {
        "id": "PZyYF4BNu5gU"
      },
      "source": [
        "#알고리즘 훈련 문제 풀이\n",
        "##성명:한규현 학과:경제학과 학번:12173082"
      ]
    },
    {
      "cell_type": "code",
      "metadata": {
        "id": "mnu_ScnavuGQ",
        "outputId": "40d04425-cea2-44bd-a0d7-d56a5a1814f1",
        "colab": {
          "base_uri": "https://localhost:8080/"
        }
      },
      "source": [
        "#1.K번째 약수\n",
        "def q1(n,k):\n",
        "  count=0 \n",
        "  for i in range(1,n+1):\n",
        "    if n % i == 0:\n",
        "      count += 1 \n",
        "    if count == k:\n",
        "      return (i)\n",
        "      break\n",
        "\n",
        "  else:\n",
        "    return(-1)\n",
        "\n",
        "q1(6,3)"
      ],
      "execution_count": null,
      "outputs": [
        {
          "output_type": "execute_result",
          "data": {
            "text/plain": [
              "3"
            ]
          },
          "metadata": {
            "tags": []
          },
          "execution_count": 20
        }
      ]
    },
    {
      "cell_type": "code",
      "metadata": {
        "id": "JmDs4792z4cn",
        "outputId": "eb04e18b-27a7-42e1-8566-eaf311b08408",
        "colab": {
          "base_uri": "https://localhost:8080/"
        }
      },
      "source": [
        "#2.k번째 작은 수\n",
        "def q2():\n",
        "  T=int(input())\n",
        "  for i in range(T):\n",
        "    N,s,e,k = map(int,input().split())\n",
        "    nums=list(map(int,input().split()))\n",
        "    nums=nums[s-1:e]\n",
        "    nums.sort()\n",
        "    print(\"#\",i+1,\" \",nums[k-1])\n",
        "q2()"
      ],
      "execution_count": null,
      "outputs": [
        {
          "output_type": "stream",
          "text": [
            "2\n",
            "6 2 5 3\n",
            "5 2 7 3 8 9\n",
            "# 1   7\n",
            "15 3 10 3\n",
            "4 15 8 16 6 6 17 3 10 11 18 7 14 7 15\n",
            "# 2   6\n"
          ],
          "name": "stdout"
        }
      ]
    },
    {
      "cell_type": "code",
      "metadata": {
        "id": "IG7FvvB4zVFp",
        "outputId": "2572ecb1-d681-4c0b-811e-0aea2c5a4bdb",
        "colab": {
          "base_uri": "https://localhost:8080/"
        }
      },
      "source": [
        "#3.k번쨰 큰 수\n",
        "def q3():\n",
        "  list_result=set()\n",
        "  N,K = map(int,input().split())\n",
        "  list_a = list(map(int,input().split()))\n",
        "  for i in range(N):\n",
        "   for j in range(i+1,N):\n",
        "     for k in range(j+1,N):\n",
        "       list_result.add(list_a[i]+list_a[j]+list_a[k])\n",
        "  list_result=list(list_result)\n",
        "  list_result.sort(reverse=True)\n",
        "  return list_result[K-1]\n",
        "q3()"
      ],
      "execution_count": null,
      "outputs": [
        {
          "output_type": "stream",
          "text": [
            "10 3\n",
            "13 15 34 23 45 65 33 11 26 42\n"
          ],
          "name": "stdout"
        },
        {
          "output_type": "execute_result",
          "data": {
            "text/plain": [
              "143"
            ]
          },
          "metadata": {
            "tags": []
          },
          "execution_count": 32
        }
      ]
    },
    {
      "cell_type": "code",
      "metadata": {
        "id": "UKNcFVPQ7f_0",
        "outputId": "36e9a2aa-8055-4284-af84-858bab6b23a1",
        "colab": {
          "base_uri": "https://localhost:8080/"
        }
      },
      "source": [
        "#4.대표값\n",
        "def q4():\n",
        "  N=int(input())\n",
        "  a=list(map(int,input().split()))\n",
        "  avg= sum(a)/N\n",
        "  closest = abs(a[0]-avg)\n",
        "  for i in range(1,len(a)):\n",
        "    if abs(a[i]-avg) <closest:\n",
        "      closest = abs(a[i]-avg)\n",
        "      return a[i]\n",
        "    elif abs(a[i]-avg) == closest:\n",
        "        if a[i]-avg > cl\n",
        "q4()"
      ],
      "execution_count": null,
      "outputs": [
        {
          "output_type": "stream",
          "text": [
            "10\n",
            "10 65 73 66 87 92 67 55 79 75 80\n"
          ],
          "name": "stdout"
        },
        {
          "output_type": "execute_result",
          "data": {
            "text/plain": [
              "65"
            ]
          },
          "metadata": {
            "tags": []
          },
          "execution_count": 33
        }
      ]
    },
    {
      "cell_type": "code",
      "metadata": {
        "id": "yyfzNAJ3B2r8",
        "outputId": "fd09a53b-70d4-4a32-acd6-8a465b1560b4",
        "colab": {
          "base_uri": "https://localhost:8080/"
        }
      },
      "source": [
        "#5.정다면체\n",
        "def q5():\n",
        "    N,M=map(int,input().split())\n",
        "    result=[]\n",
        "    for i in range(1,N+1):\n",
        "        for j in range(1,M+1):\n",
        "            result.append(i+j)\n",
        "    maxi = 0\n",
        "    for i in range(len(result)):\n",
        "        if result.count(result[i]) > maxi:\n",
        "            maxi = result.count(result[i])\n",
        "    max_count = []\n",
        "    for i in range(len(result)):\n",
        "        if result.count(result[i]) == maxi:\n",
        "            max_count.append(result[i])\n",
        "    max_count = set(max_count)\n",
        "    return max_count\n",
        "\n",
        "print(q5())"
      ],
      "execution_count": null,
      "outputs": [
        {
          "output_type": "stream",
          "text": [
            "4 6\n",
            "{5, 6, 7}\n"
          ],
          "name": "stdout"
        }
      ]
    },
    {
      "cell_type": "code",
      "metadata": {
        "id": "F_O0DU1d0dRo",
        "outputId": "ae3509f2-ba24-432e-a869-446c9958cc69",
        "colab": {
          "base_uri": "https://localhost:8080/"
        }
      },
      "source": [
        "#6.자릿수 합\n",
        "def digit_sum(a):\n",
        "    list_a = list(map(int, list(str(a))))\n",
        "    sum_a = 0\n",
        "    for i in list_a:\n",
        "        sum_a += i\n",
        "        return sum_a\n",
        "\n",
        "def q6():\n",
        "    n = int(input())\n",
        "    m = list(map(int, input().split()))\n",
        "    maxi = 0\n",
        "    for num in m:\n",
        "        if digit_sum(num) > maxi:\n",
        "            maxi = digit_sum(num)\n",
        "    return num\n",
        "\n",
        "print(q6())"
      ],
      "execution_count": null,
      "outputs": [
        {
          "output_type": "stream",
          "text": [
            "3\n",
            "125 15232 97\n",
            "97\n"
          ],
          "name": "stdout"
        }
      ]
    },
    {
      "cell_type": "code",
      "metadata": {
        "id": "1edjPYbH4wB9",
        "outputId": "5e21d80c-475a-428a-8f62-a64accafd0b3",
        "colab": {
          "base_uri": "https://localhost:8080/"
        }
      },
      "source": [
        "#7.소수\n",
        "def q7():\n",
        "    x=int(input())\n",
        "    prime = 0\n",
        "    for i in range(2,x):\n",
        "        count_list = []\n",
        "        for j in range(2,i):\n",
        "            if i % j ==0:\n",
        "                count_list.append(i)\n",
        "        if len(count_list) == 0:\n",
        "            prime += 1\n",
        "    return prime\n",
        "print(q7())"
      ],
      "execution_count": null,
      "outputs": [
        {
          "output_type": "stream",
          "text": [
            "20\n",
            "8\n"
          ],
          "name": "stdout"
        }
      ]
    },
    {
      "cell_type": "code",
      "metadata": {
        "id": "mKzWyhysjj-l",
        "outputId": "3d15aefb-7fb2-4751-d4a0-f0184f065913",
        "colab": {
          "base_uri": "https://localhost:8080/"
        }
      },
      "source": [
        "#8.뒤집은 소수\n",
        "def reverse(x):\n",
        "    x=str(x)\n",
        "    for i in range(len(x)-1):\n",
        "        if x[i] == \"0\":\n",
        "            x = x[:i]\n",
        "    x=x[::-1]\n",
        "    x=int(x)\n",
        "    return x\n",
        "\n",
        "def isPrime(x):\n",
        "    count = 0\n",
        "    for i in range(2,x):\n",
        "        if x % i == 0:\n",
        "            count+=1\n",
        "    if count == 0:\n",
        "        return x\n",
        "\n",
        "\n",
        "def q7():\n",
        "    x=int(input())\n",
        "    m = list(map(int, input().split()))\n",
        "    answer = []\n",
        "    for num in m:\n",
        "        num = reverse(num)\n",
        "        if type(isPrime(num)) == int:\n",
        "            answer.append(isPrime(num))\n",
        "    return answer\n",
        "\n",
        "\n",
        "print(q7())"
      ],
      "execution_count": null,
      "outputs": [
        {
          "output_type": "stream",
          "text": [
            "5\n",
            "32 55 62 3700 250\n",
            "[23, 73]\n"
          ],
          "name": "stdout"
        }
      ]
    },
    {
      "cell_type": "code",
      "metadata": {
        "id": "bH_tFIgIyN4l",
        "outputId": "9ae6739b-5572-4884-d39b-3e9446df4b73",
        "colab": {
          "base_uri": "https://localhost:8080/"
        }
      },
      "source": [
        "#주사위게임\n",
        "def q8():\n",
        "    x=int(input())\n",
        "    answer_list = []\n",
        "    for i in range(x):\n",
        "        list_a = list(map(int,input().split()))\n",
        "        list_a.sort()\n",
        "        a,b,c = list_a[0], list_a[1], list_a[2]\n",
        "        if a == b and b == c:\n",
        "            answer_list.append(10000+a*1000)\n",
        "        elif a == b and b !=c:\n",
        "            answer_list.append(1000+a*100)\n",
        "        else:\n",
        "            answer_list.append(a*100)\n",
        "    return max(answer_list)\n",
        "\n",
        "\n",
        "\n",
        "print(q8())"
      ],
      "execution_count": null,
      "outputs": [
        {
          "output_type": "stream",
          "text": [
            "3\n",
            "3 3 6\n",
            "2 2 2\n",
            "6 2 5\n",
            "12000\n"
          ],
          "name": "stdout"
        }
      ]
    },
    {
      "cell_type": "code",
      "metadata": {
        "id": "XjrmjbQp4F36",
        "outputId": "3ad3a168-7dbb-4262-ce29-b1ccba58d5af",
        "colab": {
          "base_uri": "https://localhost:8080/"
        }
      },
      "source": [
        "#점수계산\n",
        "def q9():\n",
        "    x=int(input())\n",
        "    q_list=list(map(int,input().split()))\n",
        "    score_list=[]\n",
        "    add = 0\n",
        "    for i in range(len(q_list)):\n",
        "        if q_list[i] == 1:\n",
        "            add += 1\n",
        "            score_list.append(add)\n",
        "        elif q_list[i] == 0:\n",
        "            add = 0\n",
        "            score_list.append(add)\n",
        "    return sum(score_list)\n",
        "\n",
        "print(q9())"
      ],
      "execution_count": 14,
      "outputs": [
        {
          "output_type": "stream",
          "text": [
            "10\n",
            "1 0 1 1 1 0 0 1 1 0\n",
            "10\n"
          ],
          "name": "stdout"
        }
      ]
    },
    {
      "cell_type": "code",
      "metadata": {
        "id": "3W0BdFDX_Rvo"
      },
      "source": [
        ""
      ],
      "execution_count": null,
      "outputs": []
    }
  ]
}