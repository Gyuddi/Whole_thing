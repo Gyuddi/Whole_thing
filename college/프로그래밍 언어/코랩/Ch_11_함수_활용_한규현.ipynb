{
  "nbformat": 4,
  "nbformat_minor": 0,
  "metadata": {
    "colab": {
      "name": "Ch.11_함수_활용_한규현.ipynb",
      "provenance": [],
      "collapsed_sections": []
    },
    "kernelspec": {
      "name": "python3",
      "display_name": "Python 3"
    }
  },
  "cells": [
    {
      "cell_type": "markdown",
      "metadata": {
        "id": "gOu6FpNOkIOr"
      },
      "source": [
        "#Ch.11_함수_활용_한규현\n",
        "## 성명:한규현 학과:경제학과 학번:12173082"
      ]
    },
    {
      "cell_type": "code",
      "metadata": {
        "id": "gOfs5ajBl2sY",
        "outputId": "49b06ad7-6967-471c-ec65-9eab0055e3df",
        "colab": {
          "base_uri": "https://localhost:8080/",
          "height": 106
        }
      },
      "source": [
        "#퀴즈 11-1\n",
        "def square(x):\n",
        "  print(x*x)\n",
        "nums= [2,3,4,5,6]\n",
        "\n",
        "for num in nums:\n",
        "  square(num)"
      ],
      "execution_count": 2,
      "outputs": [
        {
          "output_type": "stream",
          "text": [
            "4\n",
            "9\n",
            "16\n",
            "25\n",
            "36\n"
          ],
          "name": "stdout"
        }
      ]
    },
    {
      "cell_type": "code",
      "metadata": {
        "id": "RG9QQSKlmKWY",
        "outputId": "032a9ef0-4edb-41c7-eea0-e545b8d60a88",
        "colab": {
          "base_uri": "https://localhost:8080/",
          "height": 35
        }
      },
      "source": [
        "# 실습 11-1\n",
        "def longest(words):\n",
        "  long_word = words[0]\n",
        "  long = len(words[0])\n",
        "\n",
        "  for i in range (len(words)):\n",
        "    if len(words[i])>long:\n",
        "      long = len(words[i])\n",
        "      long_word = words[i]\n",
        "  return long_word\n",
        "\n",
        "print(longest(['one','second','three']))"
      ],
      "execution_count": 3,
      "outputs": [
        {
          "output_type": "stream",
          "text": [
            "second\n"
          ],
          "name": "stdout"
        }
      ]
    },
    {
      "cell_type": "code",
      "metadata": {
        "id": "D4i7BzCqnwuY",
        "outputId": "f17bcc24-e441-474b-ebed-bf015df843ce",
        "colab": {
          "base_uri": "https://localhost:8080/",
          "height": 35
        }
      },
      "source": [
        "# 실습 11-2\n",
        "def len_word(wordlist):\n",
        "  sum = 0\n",
        "  for i in wordlist:\n",
        "    sum += len(i)\n",
        "  return sum\n",
        "list_fruit = [\"apple\",\"banana\",\"tomato\"]\n",
        "print(len_word(list_fruit))"
      ],
      "execution_count": 4,
      "outputs": [
        {
          "output_type": "stream",
          "text": [
            "17\n"
          ],
          "name": "stdout"
        }
      ]
    },
    {
      "cell_type": "code",
      "metadata": {
        "id": "Mq1Cze9DouRp",
        "outputId": "0cb1ad3b-99e1-426e-dca7-8bda432008b8",
        "colab": {
          "base_uri": "https://localhost:8080/",
          "height": 35
        }
      },
      "source": [
        "# 실습 11-3\n",
        "def passFail(scores):\n",
        "  if sum(scores) / len(scores) >= 60:\n",
        "    return \"pass\"\n",
        "  else:\n",
        "    return \"fail\"\n",
        "  \n",
        "passFail([30,40,50,60,70])"
      ],
      "execution_count": 8,
      "outputs": [
        {
          "output_type": "execute_result",
          "data": {
            "application/vnd.google.colaboratory.intrinsic+json": {
              "type": "string"
            },
            "text/plain": [
              "'fail'"
            ]
          },
          "metadata": {
            "tags": []
          },
          "execution_count": 8
        }
      ]
    },
    {
      "cell_type": "code",
      "metadata": {
        "id": "_LUgV7R1o5pS",
        "outputId": "c9297b2a-519a-421a-c638-ce40451a8a70",
        "colab": {
          "base_uri": "https://localhost:8080/",
          "height": 35
        }
      },
      "source": [
        "#퀴즈 11-2\n",
        "def change(x):\n",
        "  x = 10\n",
        "\n",
        "x = 5\n",
        "change(x)           #call by value (새로운 x가 생긴것이다.)\n",
        "print(x)"
      ],
      "execution_count": 7,
      "outputs": [
        {
          "output_type": "stream",
          "text": [
            "5\n"
          ],
          "name": "stdout"
        }
      ]
    },
    {
      "cell_type": "code",
      "metadata": {
        "id": "YrLbS0pko_1M",
        "outputId": "b9537924-dfe1-471e-bbcd-14b13f51fecb",
        "colab": {
          "base_uri": "https://localhost:8080/",
          "height": 35
        }
      },
      "source": [
        "# 실습 11-4\n",
        "def max_score(a):\n",
        " largest = a[0]\n",
        " for i in a:\n",
        "   if i > largest:\n",
        "     largest = i\n",
        " return largest\n",
        "\n",
        "math_score = [45, 66, 70, 83, 50, 77, 87, 92, 73, 89]\n",
        "max_score(math_score)"
      ],
      "execution_count": 14,
      "outputs": [
        {
          "output_type": "execute_result",
          "data": {
            "text/plain": [
              "92"
            ]
          },
          "metadata": {
            "tags": []
          },
          "execution_count": 14
        }
      ]
    },
    {
      "cell_type": "code",
      "metadata": {
        "id": "0oIDDO-ArADH",
        "outputId": "9c2f1ab0-d7a7-4303-e4c5-3f61057aa045",
        "colab": {
          "base_uri": "https://localhost:8080/",
          "height": 35
        }
      },
      "source": [
        "#실습 11-5:\n",
        "def gap_score(a):\n",
        " largest = a[0]\n",
        " for i in a:\n",
        "   if i > largest:\n",
        "     largest = i\n",
        "\n",
        "\n",
        " smallest = a[0]\n",
        " for x in a:\n",
        "   if x < smallest:\n",
        "     smallest = x\n",
        " return largest-smallest\n",
        "\n",
        "math_score = [45, 66, 70, 83, 50, 77, 87, 92, 73, 89]\n",
        "gap_score(math_score)"
      ],
      "execution_count": 19,
      "outputs": [
        {
          "output_type": "execute_result",
          "data": {
            "text/plain": [
              "47"
            ]
          },
          "metadata": {
            "tags": []
          },
          "execution_count": 19
        }
      ]
    },
    {
      "cell_type": "code",
      "metadata": {
        "id": "zQp70MFYszI0",
        "outputId": "0ca19123-dea2-4151-f012-f52da457ed02",
        "colab": {
          "base_uri": "https://localhost:8080/",
          "height": 52
        }
      },
      "source": [
        "#실습 11-6\n",
        "def change_temp(a):\n",
        "  x = ((9/5) * a + 32)\n",
        "  return x\n",
        "a= int(input(\"섭씨 온도 입력:\"))\n",
        "change_temp(a)"
      ],
      "execution_count": 20,
      "outputs": [
        {
          "output_type": "stream",
          "text": [
            "섭씨 온도 입력:32\n"
          ],
          "name": "stdout"
        },
        {
          "output_type": "execute_result",
          "data": {
            "text/plain": [
              "89.6"
            ]
          },
          "metadata": {
            "tags": []
          },
          "execution_count": 20
        }
      ]
    },
    {
      "cell_type": "code",
      "metadata": {
        "id": "0s7Isn-Dtv1O",
        "outputId": "e48ad256-7731-489b-d4c2-41c58aaa9502",
        "colab": {
          "base_uri": "https://localhost:8080/",
          "height": 52
        }
      },
      "source": [
        "#실습 11-7\n",
        "def change(a):\n",
        "  feet = a / 0.305\n",
        "  yard = a * 1.0936\n",
        "  print(a,\"미터는\",feet,\"feet\",yard,\"yard 입니다\")\n",
        "\n",
        "m= float(input(\"meter 입력:\"))\n",
        "change(m)"
      ],
      "execution_count": 24,
      "outputs": [
        {
          "output_type": "stream",
          "text": [
            "meter 입력:50\n",
            "50.0 미터는 163.9344262295082 feet 54.67999999999999 yard 입니다\n"
          ],
          "name": "stdout"
        }
      ]
    },
    {
      "cell_type": "code",
      "metadata": {
        "id": "GSB6JAGiufzm",
        "outputId": "ce290d23-e0a2-4a36-e80e-7cdc89094ef4",
        "colab": {
          "base_uri": "https://localhost:8080/",
          "height": 70
        }
      },
      "source": [
        "#실습 11-8\n",
        "def area(bottom,height):\n",
        "  area = float(0.5 * bottom * height)\n",
        "  print(area)\n",
        "\n",
        "a=int(input(\"밑변 입력:\"))\n",
        "b=int(input(\"높이 입력:\"))\n",
        "area(a,b)"
      ],
      "execution_count": 28,
      "outputs": [
        {
          "output_type": "stream",
          "text": [
            "밑변 입력:20\n",
            "높이 입력:15\n",
            "150.0\n"
          ],
          "name": "stdout"
        }
      ]
    },
    {
      "cell_type": "code",
      "metadata": {
        "id": "YpZONzx5vN2h",
        "outputId": "6f10c1c3-8120-4958-9440-319ad760612d",
        "colab": {
          "base_uri": "https://localhost:8080/",
          "height": 35
        }
      },
      "source": [
        "# 실습 11-9\n",
        "def time(second):\n",
        "  h = second // (60*60)\n",
        "  m = (second-h*60*60) //60\n",
        "  sec = second - h*60*60 - m*60\n",
        "  return h,m,sec\n",
        "\n",
        "time(57894)"
      ],
      "execution_count": 31,
      "outputs": [
        {
          "output_type": "execute_result",
          "data": {
            "text/plain": [
              "(16, 4, 54)"
            ]
          },
          "metadata": {
            "tags": []
          },
          "execution_count": 31
        }
      ]
    },
    {
      "cell_type": "code",
      "metadata": {
        "id": "CDNZssawv8dS",
        "outputId": "67e55637-5f90-4c53-bea8-fb289bd43869",
        "colab": {
          "base_uri": "https://localhost:8080/",
          "height": 52
        }
      },
      "source": [
        "#실습 11-10\n",
        "def cal_productPrice(a):\n",
        "  return a*(10/11)\n",
        "\n",
        "def cal_tax(a):\n",
        "  return a*(1/11)\n",
        "\n",
        "a=int(input(\"소비자가 입력(원):\"))\n",
        "productPrice = cal_productPrice(a)\n",
        "tax = cal_tax(a)\n",
        "print(\"제품 가격은%d원, 부가가치세는%d원입니다.\"%(productPrice,tax))"
      ],
      "execution_count": 34,
      "outputs": [
        {
          "output_type": "stream",
          "text": [
            "소비자가 입력(원):11000\n",
            "제품 가격은10000원, 부가가치세는1000원입니다.\n"
          ],
          "name": "stdout"
        }
      ]
    },
    {
      "cell_type": "code",
      "metadata": {
        "id": "WCN5Kj6GxTrs",
        "outputId": "82f0b3e3-f3fc-4c18-8f1f-459cb2d30272",
        "colab": {
          "base_uri": "https://localhost:8080/",
          "height": 52
        }
      },
      "source": [
        "#실습 11-11\n",
        "def password(a):\n",
        "  if len(a) >=9:\n",
        "    print(\"Good\")\n",
        "  elif len(a) >= 5 and len(a) < 9:\n",
        "    print(\"Normal\")\n",
        "  elif len(a) < 5:\n",
        "    print(\"Bad\")\n",
        "\n",
        "a=input(\"비밀번호 입력:\")\n",
        "password(a)"
      ],
      "execution_count": 37,
      "outputs": [
        {
          "output_type": "stream",
          "text": [
            "비밀번호 입력:myPassword\n",
            "Good\n"
          ],
          "name": "stdout"
        }
      ]
    },
    {
      "cell_type": "code",
      "metadata": {
        "id": "-voYwwZP1Lwh",
        "outputId": "56aa7da8-0c84-4790-c864-a9d4d958b518",
        "colab": {
          "base_uri": "https://localhost:8080/",
          "height": 88
        }
      },
      "source": [
        "def periodDiscount(cp,p):\n",
        "  if p <= 6:\n",
        "    return(cp)\n",
        "  elif p > 6 and p <=12:\n",
        "    cp = cp * (90/100)\n",
        "    return(cp)\n",
        "  elif p > 12:\n",
        "    cp = cp * (80/100)\n",
        "    return(cp)\n",
        "\n",
        "def creditCardDiscount(cp,c):\n",
        "  if c == 11:\n",
        "    cp = cp * (95/100)\n",
        "    return(cp)\n",
        "  elif c == 12:\n",
        "    cp = cp * (92/100)\n",
        "    return(cp)\n",
        "  elif c == 13:\n",
        "    cp = cp * (88/100)\n",
        "    return(cp)\n",
        "\n",
        "contractPrice=float(input(\"계약금액\"))\n",
        "period=float(input(\"사용개월\"))\n",
        "cardcode=float(input(\"카드코드\"))\n",
        "\n",
        "a=periodDiscount(contractPrice,period)\n",
        "\n",
        "print(creditCardDiscount(a,cardcode))\n"
      ],
      "execution_count": 57,
      "outputs": [
        {
          "output_type": "stream",
          "text": [
            "계약금액50000\n",
            "사용개월10\n",
            "카드코드11\n",
            "42750.0\n"
          ],
          "name": "stdout"
        }
      ]
    },
    {
      "cell_type": "code",
      "metadata": {
        "id": "NHqoyb4V3f0g"
      },
      "source": [
        ""
      ],
      "execution_count": null,
      "outputs": []
    }
  ]
}