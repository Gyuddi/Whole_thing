{
  "nbformat": 4,
  "nbformat_minor": 0,
  "metadata": {
    "colab": {
      "name": "1~3주차_과제_한규현.ipynb",
      "provenance": []
    },
    "kernelspec": {
      "name": "python3",
      "display_name": "Python 3"
    }
  },
  "cells": [
    {
      "cell_type": "markdown",
      "metadata": {
        "id": "X3xgcQLvAEEU",
        "colab_type": "text"
      },
      "source": [
        "#  안녕하십니까 교수님. 강입으로 수업에 들어오게된 12173082 한규\n",
        "#현입니다. 강입 대기기간 동안 제출하지 못한 과제를 함께 올렸습니\n",
        "#다. 좋은 수업 감사합니다."
      ]
    },
    {
      "cell_type": "markdown",
      "metadata": {
        "id": "E27cs7DR9R95",
        "colab_type": "text"
      },
      "source": [
        "# Ch 3. 연산자와 변수\n",
        "## 지은이: 인하대 소프트웨어융합공학 연계전공 한규현(12173082)"
      ]
    },
    {
      "cell_type": "code",
      "metadata": {
        "id": "NRskyWT58fiF",
        "colab_type": "code",
        "colab": {
          "base_uri": "https://localhost:8080/",
          "height": 34
        },
        "outputId": "408111bd-598a-4eab-f929-e349cff098b9"
      },
      "source": [
        "# 사칙연산 실습\n",
        "31 + 26 , 511 - 54 , 5 * 15 , 96 / 4"
      ],
      "execution_count": null,
      "outputs": [
        {
          "output_type": "execute_result",
          "data": {
            "text/plain": [
              "(57, 457, 75, 24.0)"
            ]
          },
          "metadata": {
            "tags": []
          },
          "execution_count": 6
        }
      ]
    },
    {
      "cell_type": "code",
      "metadata": {
        "id": "T52ZP3g99FM6",
        "colab_type": "code",
        "colab": {
          "base_uri": "https://localhost:8080/",
          "height": 34
        },
        "outputId": "43c78457-e9a4-4ac5-e20c-a6d68aa4a393"
      },
      "source": [
        "# //연산자\n",
        "26 // 2 , 31 // 4"
      ],
      "execution_count": null,
      "outputs": [
        {
          "output_type": "execute_result",
          "data": {
            "text/plain": [
              "(13, 7)"
            ]
          },
          "metadata": {
            "tags": []
          },
          "execution_count": 7
        }
      ]
    },
    {
      "cell_type": "code",
      "metadata": {
        "id": "5mYFdq0j-CzD",
        "colab_type": "code",
        "colab": {
          "base_uri": "https://localhost:8080/",
          "height": 34
        },
        "outputId": "84d45ac9-e1d5-436e-957d-e9266af91786"
      },
      "source": [
        "# % 연산자 연습\n",
        "26 % 2 , 31 % 4"
      ],
      "execution_count": null,
      "outputs": [
        {
          "output_type": "execute_result",
          "data": {
            "text/plain": [
              "(0, 3)"
            ]
          },
          "metadata": {
            "tags": []
          },
          "execution_count": 8
        }
      ]
    },
    {
      "cell_type": "code",
      "metadata": {
        "id": "jykd7K2V_M81",
        "colab_type": "code",
        "colab": {
          "base_uri": "https://localhost:8080/",
          "height": 34
        },
        "outputId": "773ecea9-a6c9-44c1-af0f-e27eb50d6a18"
      },
      "source": [
        "# 퀴즈 3-1\n",
        "20 % 6 , 21 / 5 , 21 // 5"
      ],
      "execution_count": null,
      "outputs": [
        {
          "output_type": "execute_result",
          "data": {
            "text/plain": [
              "(2, 4.2, 4)"
            ]
          },
          "metadata": {
            "tags": []
          },
          "execution_count": 9
        }
      ]
    },
    {
      "cell_type": "code",
      "metadata": {
        "id": "71xemYYA_YBF",
        "colab_type": "code",
        "colab": {
          "base_uri": "https://localhost:8080/",
          "height": 34
        },
        "outputId": "3c2097b1-5df6-4148-fb88-904115842973"
      },
      "source": [
        "# ** 연산자\n",
        "2 ** 4 , 4 ** 6"
      ],
      "execution_count": null,
      "outputs": [
        {
          "output_type": "execute_result",
          "data": {
            "text/plain": [
              "(16, 4096)"
            ]
          },
          "metadata": {
            "tags": []
          },
          "execution_count": 10
        }
      ]
    },
    {
      "cell_type": "code",
      "metadata": {
        "id": "NgIqNbarAGpK",
        "colab_type": "code",
        "colab": {
          "base_uri": "https://localhost:8080/",
          "height": 34
        },
        "outputId": "196c68e6-e5ed-4fac-8ad1-87659e17ebf5"
      },
      "source": [
        "3.1 ** 4.2 , 2.6 ** 5.4"
      ],
      "execution_count": null,
      "outputs": [
        {
          "output_type": "execute_result",
          "data": {
            "text/plain": [
              "(115.80281433592612, 174.12297512053922)"
            ]
          },
          "metadata": {
            "tags": []
          },
          "execution_count": 11
        }
      ]
    },
    {
      "cell_type": "code",
      "metadata": {
        "id": "MENs3jmIALeH",
        "colab_type": "code",
        "colab": {
          "base_uri": "https://localhost:8080/",
          "height": 34
        },
        "outputId": "1356478e-3a6f-4872-dee1-6ebd8e6fc374"
      },
      "source": [
        "# 연산자 우선순위\n",
        "(2 + 4) * 5 , 4 * (26 - 9) , (4 + 5) ** (9 - 6)"
      ],
      "execution_count": null,
      "outputs": [
        {
          "output_type": "execute_result",
          "data": {
            "text/plain": [
              "(30, 68, 729)"
            ]
          },
          "metadata": {
            "tags": []
          },
          "execution_count": 12
        }
      ]
    },
    {
      "cell_type": "code",
      "metadata": {
        "id": "GdDxjPP6BfVs",
        "colab_type": "code",
        "colab": {
          "base_uri": "https://localhost:8080/",
          "height": 34
        },
        "outputId": "e8936baa-00cb-4d24-f2e0-7a086f1480da"
      },
      "source": [
        "4 * 6 - 5 , 9 + 54 / 6"
      ],
      "execution_count": null,
      "outputs": [
        {
          "output_type": "execute_result",
          "data": {
            "text/plain": [
              "(19, 18.0)"
            ]
          },
          "metadata": {
            "tags": []
          },
          "execution_count": 13
        }
      ]
    },
    {
      "cell_type": "code",
      "metadata": {
        "id": "7gClCPzlBnFI",
        "colab_type": "code",
        "colab": {
          "base_uri": "https://localhost:8080/",
          "height": 34
        },
        "outputId": "9b82d36e-82a3-456d-eb46-8dcfff68f1d8"
      },
      "source": [
        "2 ** 4 + 5 , 6 * 5 ** 2"
      ],
      "execution_count": null,
      "outputs": [
        {
          "output_type": "execute_result",
          "data": {
            "text/plain": [
              "(21, 150)"
            ]
          },
          "metadata": {
            "tags": []
          },
          "execution_count": 14
        }
      ]
    },
    {
      "cell_type": "code",
      "metadata": {
        "id": "d9TJb5OsBtGL",
        "colab_type": "code",
        "colab": {
          "base_uri": "https://localhost:8080/",
          "height": 34
        },
        "outputId": "08125866-8df1-4a91-9316-6b0398aa3b44"
      },
      "source": [
        "5 * 4 + 6 , 26 + 20 / 2 , (511 // 31) ** (9 - 6)"
      ],
      "execution_count": null,
      "outputs": [
        {
          "output_type": "execute_result",
          "data": {
            "text/plain": [
              "(26, 36.0, 4096)"
            ]
          },
          "metadata": {
            "tags": []
          },
          "execution_count": 15
        }
      ]
    },
    {
      "cell_type": "code",
      "metadata": {
        "id": "pwYpSyauB1TM",
        "colab_type": "code",
        "colab": {
          "base_uri": "https://localhost:8080/",
          "height": 34
        },
        "outputId": "4dd30a73-59ce-481d-aacc-36093a631893"
      },
      "source": [
        "82 * 4 + 2 , 20 + 9 / 4.5 , (15.1 / 4) ** (6 - 4)"
      ],
      "execution_count": null,
      "outputs": [
        {
          "output_type": "execute_result",
          "data": {
            "text/plain": [
              "(330, 22.0, 14.250625)"
            ]
          },
          "metadata": {
            "tags": []
          },
          "execution_count": 17
        }
      ]
    },
    {
      "cell_type": "code",
      "metadata": {
        "id": "cQfj2aUlCE0n",
        "colab_type": "code",
        "colab": {
          "base_uri": "https://localhost:8080/",
          "height": 34
        },
        "outputId": "ea818891-f115-43df-868a-c7420fa923aa"
      },
      "source": [
        "5 + 12 // 7 * 3 , 15 / 2 + 21 % 4 - 2 ** 3"
      ],
      "execution_count": null,
      "outputs": [
        {
          "output_type": "execute_result",
          "data": {
            "text/plain": [
              "(8, 0.5)"
            ]
          },
          "metadata": {
            "tags": []
          },
          "execution_count": 18
        }
      ]
    },
    {
      "cell_type": "code",
      "metadata": {
        "id": "chdDR08vCUIX",
        "colab_type": "code",
        "colab": {
          "base_uri": "https://localhost:8080/",
          "height": 34
        },
        "outputId": "6d43add4-fa3f-4ad9-cd09-5a0b7236c782"
      },
      "source": [
        "# 할당문\n",
        "num_1 = 26\n",
        "num_2 = 2 * 5 ** 2\n",
        "num_1"
      ],
      "execution_count": null,
      "outputs": [
        {
          "output_type": "execute_result",
          "data": {
            "text/plain": [
              "26"
            ]
          },
          "metadata": {
            "tags": []
          },
          "execution_count": 20
        }
      ]
    },
    {
      "cell_type": "code",
      "metadata": {
        "id": "5o7LKzaQCkWJ",
        "colab_type": "code",
        "colab": {
          "base_uri": "https://localhost:8080/",
          "height": 34
        },
        "outputId": "e28c728f-f018-4300-c8a7-7e628281621d"
      },
      "source": [
        "num_2"
      ],
      "execution_count": null,
      "outputs": [
        {
          "output_type": "execute_result",
          "data": {
            "text/plain": [
              "50"
            ]
          },
          "metadata": {
            "tags": []
          },
          "execution_count": 21
        }
      ]
    },
    {
      "cell_type": "code",
      "metadata": {
        "id": "2hihPBrXCp8u",
        "colab_type": "code",
        "colab": {
          "base_uri": "https://localhost:8080/",
          "height": 169
        },
        "outputId": "37d729d4-8525-41df-ac37-ba096688647c"
      },
      "source": [
        "num"
      ],
      "execution_count": null,
      "outputs": [
        {
          "output_type": "error",
          "ename": "NameError",
          "evalue": "ignored",
          "traceback": [
            "\u001b[0;31m---------------------------------------------------------------------------\u001b[0m",
            "\u001b[0;31mNameError\u001b[0m                                 Traceback (most recent call last)",
            "\u001b[0;32m<ipython-input-22-c774dac2b598>\u001b[0m in \u001b[0;36m<module>\u001b[0;34m()\u001b[0m\n\u001b[0;32m----> 1\u001b[0;31m \u001b[0mnum\u001b[0m\u001b[0;34m\u001b[0m\u001b[0;34m\u001b[0m\u001b[0m\n\u001b[0m",
            "\u001b[0;31mNameError\u001b[0m: name 'num' is not defined"
          ]
        }
      ]
    },
    {
      "cell_type": "code",
      "metadata": {
        "id": "aBHvI9I5CuIh",
        "colab_type": "code",
        "colab": {
          "base_uri": "https://localhost:8080/",
          "height": 34
        },
        "outputId": "5b1f34d7-c14b-4c1e-cd2d-f7a7f1923847"
      },
      "source": [
        "num = 5\n",
        "num"
      ],
      "execution_count": null,
      "outputs": [
        {
          "output_type": "execute_result",
          "data": {
            "text/plain": [
              "5"
            ]
          },
          "metadata": {
            "tags": []
          },
          "execution_count": 23
        }
      ]
    },
    {
      "cell_type": "code",
      "metadata": {
        "id": "cDL5Bz5yCxpG",
        "colab_type": "code",
        "colab": {
          "base_uri": "https://localhost:8080/",
          "height": 134
        },
        "outputId": "3a53190e-b670-4c00-bdd5-3778710ddaa1"
      },
      "source": [
        "# 변수명\n",
        "money$"
      ],
      "execution_count": null,
      "outputs": [
        {
          "output_type": "error",
          "ename": "SyntaxError",
          "evalue": "ignored",
          "traceback": [
            "\u001b[0;36m  File \u001b[0;32m\"<ipython-input-24-2416c3199d76>\"\u001b[0;36m, line \u001b[0;32m2\u001b[0m\n\u001b[0;31m    money$\u001b[0m\n\u001b[0m         ^\u001b[0m\n\u001b[0;31mSyntaxError\u001b[0m\u001b[0;31m:\u001b[0m invalid syntax\n"
          ]
        }
      ]
    },
    {
      "cell_type": "code",
      "metadata": {
        "id": "VqBDh7LTC37Y",
        "colab_type": "code",
        "colab": {
          "base_uri": "https://localhost:8080/",
          "height": 134
        },
        "outputId": "09133d85-0d4e-4ddc-ce70-f6a0c24ccb63"
      },
      "source": [
        "7up"
      ],
      "execution_count": null,
      "outputs": [
        {
          "output_type": "error",
          "ename": "SyntaxError",
          "evalue": "ignored",
          "traceback": [
            "\u001b[0;36m  File \u001b[0;32m\"<ipython-input-25-a2c867a01c06>\"\u001b[0;36m, line \u001b[0;32m1\u001b[0m\n\u001b[0;31m    7up\u001b[0m\n\u001b[0m      ^\u001b[0m\n\u001b[0;31mSyntaxError\u001b[0m\u001b[0;31m:\u001b[0m invalid syntax\n"
          ]
        }
      ]
    },
    {
      "cell_type": "code",
      "metadata": {
        "id": "ax956CD_C5aC",
        "colab_type": "code",
        "colab": {
          "base_uri": "https://localhost:8080/",
          "height": 34
        },
        "outputId": "f05f0e73-ffdb-44a2-d1b4-b554428ada15"
      },
      "source": [
        "False"
      ],
      "execution_count": null,
      "outputs": [
        {
          "output_type": "execute_result",
          "data": {
            "text/plain": [
              "False"
            ]
          },
          "metadata": {
            "tags": []
          },
          "execution_count": 27
        }
      ]
    },
    {
      "cell_type": "code",
      "metadata": {
        "id": "nxs5m8pfC6rV",
        "colab_type": "code",
        "colab": {}
      },
      "source": [
        "#퀴즈3-3\n",
        "True == X\n",
        "3apples == X\n",
        "elif == X\n",
        "new_score == O\n",
        "Brother == O"
      ],
      "execution_count": null,
      "outputs": []
    },
    {
      "cell_type": "code",
      "metadata": {
        "id": "Ie4pX9YvDdQ1",
        "colab_type": "code",
        "colab": {}
      },
      "source": [
        "#의미있는 변수명\n",
        "a = 26\n",
        "b = 54\n",
        "c = 96\n",
        "d= a + b + c\n",
        "f = d / 3\n",
        "#위와 같이 작성 시 협업에 문제가 생김"
      ],
      "execution_count": null,
      "outputs": []
    },
    {
      "cell_type": "code",
      "metadata": {
        "id": "PQ_ryVOwEKhm",
        "colab_type": "code",
        "colab": {}
      },
      "source": [
        "#그러므로 가독성이 좋게 만들자!\n",
        "math = 26\n",
        "english = 54\n",
        "history = 96\n",
        "sum = math + english + history\n",
        "average = sum / 3"
      ],
      "execution_count": null,
      "outputs": []
    },
    {
      "cell_type": "code",
      "metadata": {
        "id": "RJGY34uHEbt5",
        "colab_type": "code",
        "colab": {
          "base_uri": "https://localhost:8080/",
          "height": 34
        },
        "outputId": "5594599c-d080-4515-aeb7-55e75bbf42f3"
      },
      "source": [
        "sum"
      ],
      "execution_count": null,
      "outputs": [
        {
          "output_type": "execute_result",
          "data": {
            "text/plain": [
              "176"
            ]
          },
          "metadata": {
            "tags": []
          },
          "execution_count": 30
        }
      ]
    },
    {
      "cell_type": "code",
      "metadata": {
        "id": "sfJyRIu4EgS9",
        "colab_type": "code",
        "colab": {
          "base_uri": "https://localhost:8080/",
          "height": 34
        },
        "outputId": "66decde4-603c-46eb-ea81-9661ffb45c73"
      },
      "source": [
        "average"
      ],
      "execution_count": null,
      "outputs": [
        {
          "output_type": "execute_result",
          "data": {
            "text/plain": [
              "58.666666666666664"
            ]
          },
          "metadata": {
            "tags": []
          },
          "execution_count": 31
        }
      ]
    },
    {
      "cell_type": "code",
      "metadata": {
        "id": "TDnuuqRXEhgV",
        "colab_type": "code",
        "colab": {
          "base_uri": "https://localhost:8080/",
          "height": 186
        },
        "outputId": "6a0cbf0d-30bc-4102-ad89-cae11f2e6486"
      },
      "source": [
        "#변수 할당\n",
        "num_1 , num_2 = 511"
      ],
      "execution_count": null,
      "outputs": [
        {
          "output_type": "error",
          "ename": "TypeError",
          "evalue": "ignored",
          "traceback": [
            "\u001b[0;31m---------------------------------------------------------------------------\u001b[0m",
            "\u001b[0;31mTypeError\u001b[0m                                 Traceback (most recent call last)",
            "\u001b[0;32m<ipython-input-34-aba5b9076d85>\u001b[0m in \u001b[0;36m<module>\u001b[0;34m()\u001b[0m\n\u001b[1;32m      1\u001b[0m \u001b[0;31m#변수 할당\u001b[0m\u001b[0;34m\u001b[0m\u001b[0;34m\u001b[0m\u001b[0;34m\u001b[0m\u001b[0m\n\u001b[0;32m----> 2\u001b[0;31m \u001b[0mnum_1\u001b[0m \u001b[0;34m,\u001b[0m \u001b[0mnum_2\u001b[0m \u001b[0;34m=\u001b[0m \u001b[0;36m511\u001b[0m\u001b[0;34m\u001b[0m\u001b[0;34m\u001b[0m\u001b[0m\n\u001b[0m",
            "\u001b[0;31mTypeError\u001b[0m: 'int' object is not iterable"
          ]
        }
      ]
    },
    {
      "cell_type": "code",
      "metadata": {
        "id": "s9OdMhPYEwHt",
        "colab_type": "code",
        "colab": {
          "base_uri": "https://localhost:8080/",
          "height": 169
        },
        "outputId": "b3424b32-a0b8-4feb-e4a9-3921a025d887"
      },
      "source": [
        "num_1 , num_2 = 2 , 4 , 5"
      ],
      "execution_count": null,
      "outputs": [
        {
          "output_type": "error",
          "ename": "ValueError",
          "evalue": "ignored",
          "traceback": [
            "\u001b[0;31m---------------------------------------------------------------------------\u001b[0m",
            "\u001b[0;31mValueError\u001b[0m                                Traceback (most recent call last)",
            "\u001b[0;32m<ipython-input-35-ae10f33f0e28>\u001b[0m in \u001b[0;36m<module>\u001b[0;34m()\u001b[0m\n\u001b[0;32m----> 1\u001b[0;31m \u001b[0mnum_1\u001b[0m \u001b[0;34m,\u001b[0m \u001b[0mnum_2\u001b[0m \u001b[0;34m=\u001b[0m \u001b[0;36m2\u001b[0m \u001b[0;34m,\u001b[0m \u001b[0;36m4\u001b[0m \u001b[0;34m,\u001b[0m \u001b[0;36m5\u001b[0m\u001b[0;34m\u001b[0m\u001b[0;34m\u001b[0m\u001b[0m\n\u001b[0m",
            "\u001b[0;31mValueError\u001b[0m: too many values to unpack (expected 2)"
          ]
        }
      ]
    },
    {
      "cell_type": "code",
      "metadata": {
        "id": "HwVj4vV0EzT7",
        "colab_type": "code",
        "colab": {}
      },
      "source": [
        "num_1 , num_2 =6 , 9 # 각각의 변수에 하나씩"
      ],
      "execution_count": null,
      "outputs": []
    },
    {
      "cell_type": "code",
      "metadata": {
        "id": "17lCWOjEE3JF",
        "colab_type": "code",
        "colab": {
          "base_uri": "https://localhost:8080/",
          "height": 169
        },
        "outputId": "48a3a44b-629e-4788-8fa5-a72ff1116ffe"
      },
      "source": [
        "number_1 = number_2"
      ],
      "execution_count": null,
      "outputs": [
        {
          "output_type": "error",
          "ename": "NameError",
          "evalue": "ignored",
          "traceback": [
            "\u001b[0;31m---------------------------------------------------------------------------\u001b[0m",
            "\u001b[0;31mNameError\u001b[0m                                 Traceback (most recent call last)",
            "\u001b[0;32m<ipython-input-38-8b6a799a6a77>\u001b[0m in \u001b[0;36m<module>\u001b[0;34m()\u001b[0m\n\u001b[0;32m----> 1\u001b[0;31m \u001b[0mnumber_1\u001b[0m \u001b[0;34m=\u001b[0m \u001b[0mnumber_2\u001b[0m\u001b[0;34m\u001b[0m\u001b[0;34m\u001b[0m\u001b[0m\n\u001b[0m",
            "\u001b[0;31mNameError\u001b[0m: name 'number_2' is not defined"
          ]
        }
      ]
    },
    {
      "cell_type": "code",
      "metadata": {
        "id": "zf0Xk03gFM1R",
        "colab_type": "code",
        "colab": {}
      },
      "source": [
        "number_2 = 511"
      ],
      "execution_count": null,
      "outputs": []
    },
    {
      "cell_type": "code",
      "metadata": {
        "id": "5y2bjUZoHN9g",
        "colab_type": "code",
        "colab": {}
      },
      "source": [
        "number_1 = number_2"
      ],
      "execution_count": null,
      "outputs": []
    },
    {
      "cell_type": "code",
      "metadata": {
        "id": "zsD9pgjdHsKH",
        "colab_type": "code",
        "colab": {
          "base_uri": "https://localhost:8080/",
          "height": 34
        },
        "outputId": "0a17096a-8a63-45bb-e710-e0d070e7e44a"
      },
      "source": [
        "number_1"
      ],
      "execution_count": null,
      "outputs": [
        {
          "output_type": "execute_result",
          "data": {
            "text/plain": [
              "511"
            ]
          },
          "metadata": {
            "tags": []
          },
          "execution_count": 44
        }
      ]
    },
    {
      "cell_type": "code",
      "metadata": {
        "id": "b46W2s71HtYW",
        "colab_type": "code",
        "colab": {
          "base_uri": "https://localhost:8080/",
          "height": 34
        },
        "outputId": "9b81a7f6-24d0-4f74-a0e0-d79be31f6ba9"
      },
      "source": [
        "number_2"
      ],
      "execution_count": null,
      "outputs": [
        {
          "output_type": "execute_result",
          "data": {
            "text/plain": [
              "511"
            ]
          },
          "metadata": {
            "tags": []
          },
          "execution_count": 45
        }
      ]
    },
    {
      "cell_type": "code",
      "metadata": {
        "id": "9haFKHJ4HuuR",
        "colab_type": "code",
        "colab": {}
      },
      "source": [
        "del number_1"
      ],
      "execution_count": null,
      "outputs": []
    },
    {
      "cell_type": "code",
      "metadata": {
        "id": "4zd5SIH8H2mM",
        "colab_type": "code",
        "colab": {}
      },
      "source": [
        "del number_2"
      ],
      "execution_count": null,
      "outputs": []
    },
    {
      "cell_type": "code",
      "metadata": {
        "id": "s3mS6gnwL1Bg",
        "colab_type": "code",
        "colab": {
          "base_uri": "https://localhost:8080/",
          "height": 186
        },
        "outputId": "f0ccf92e-cb3a-4c4e-a044-ff5a2cb9c0e8"
      },
      "source": [
        "#예제 3-13\n",
        "number_1 = number_2 + 2 "
      ],
      "execution_count": null,
      "outputs": [
        {
          "output_type": "error",
          "ename": "NameError",
          "evalue": "ignored",
          "traceback": [
            "\u001b[0;31m---------------------------------------------------------------------------\u001b[0m",
            "\u001b[0;31mNameError\u001b[0m                                 Traceback (most recent call last)",
            "\u001b[0;32m<ipython-input-58-fef02ea065a9>\u001b[0m in \u001b[0;36m<module>\u001b[0;34m()\u001b[0m\n\u001b[1;32m      1\u001b[0m \u001b[0;31m#예제 3-13\u001b[0m\u001b[0;34m\u001b[0m\u001b[0;34m\u001b[0m\u001b[0;34m\u001b[0m\u001b[0m\n\u001b[0;32m----> 2\u001b[0;31m \u001b[0mnumber_1\u001b[0m \u001b[0;34m=\u001b[0m \u001b[0mnumber_2\u001b[0m\u001b[0;34m+\u001b[0m\u001b[0;36m2\u001b[0m\u001b[0;34m\u001b[0m\u001b[0;34m\u001b[0m\u001b[0m\n\u001b[0m",
            "\u001b[0;31mNameError\u001b[0m: name 'number_2' is not defined"
          ]
        }
      ]
    },
    {
      "cell_type": "code",
      "metadata": {
        "id": "6tBkyxKrL8I6",
        "colab_type": "code",
        "colab": {}
      },
      "source": [
        "del num_1"
      ],
      "execution_count": null,
      "outputs": []
    },
    {
      "cell_type": "code",
      "metadata": {
        "id": "Dj0_mw59MG_V",
        "colab_type": "code",
        "colab": {}
      },
      "source": [
        "del num_2"
      ],
      "execution_count": null,
      "outputs": []
    },
    {
      "cell_type": "code",
      "metadata": {
        "id": "jcUJNAH2MIdM",
        "colab_type": "code",
        "colab": {}
      },
      "source": [
        "#퀴즈 3-4\n",
        "num_1 = 5\n",
        "num_2 = num_1\n",
        "num_1 = num_1 +2"
      ],
      "execution_count": null,
      "outputs": []
    },
    {
      "cell_type": "code",
      "metadata": {
        "id": "hX7g7ioBMS6t",
        "colab_type": "code",
        "colab": {
          "base_uri": "https://localhost:8080/",
          "height": 34
        },
        "outputId": "4e7f34b0-f37b-4362-aba1-017b8f271ba4"
      },
      "source": [
        "num_1"
      ],
      "execution_count": null,
      "outputs": [
        {
          "output_type": "execute_result",
          "data": {
            "text/plain": [
              "7"
            ]
          },
          "metadata": {
            "tags": []
          },
          "execution_count": 62
        }
      ]
    },
    {
      "cell_type": "code",
      "metadata": {
        "id": "4h_tS2YCMT_f",
        "colab_type": "code",
        "colab": {
          "base_uri": "https://localhost:8080/",
          "height": 34
        },
        "outputId": "a1dbd3d5-aa0d-4b6a-cc69-bfccbfac613d"
      },
      "source": [
        "num_2"
      ],
      "execution_count": null,
      "outputs": [
        {
          "output_type": "execute_result",
          "data": {
            "text/plain": [
              "5"
            ]
          },
          "metadata": {
            "tags": []
          },
          "execution_count": 63
        }
      ]
    },
    {
      "cell_type": "code",
      "metadata": {
        "id": "Zg2fcSr0MwlT",
        "colab_type": "code",
        "colab": {
          "base_uri": "https://localhost:8080/",
          "height": 34
        },
        "outputId": "ff556f3f-e1a9-41bb-95fd-772197e1bc36"
      },
      "source": [
        "#복합 대입 연산자\n",
        "x = 1\n",
        "x += 1\n",
        "x"
      ],
      "execution_count": null,
      "outputs": [
        {
          "output_type": "execute_result",
          "data": {
            "text/plain": [
              "2"
            ]
          },
          "metadata": {
            "tags": []
          },
          "execution_count": 67
        }
      ]
    },
    {
      "cell_type": "code",
      "metadata": {
        "id": "D9Y9ku5iND5R",
        "colab_type": "code",
        "colab": {
          "base_uri": "https://localhost:8080/",
          "height": 34
        },
        "outputId": "cf0414a1-6408-4555-fee3-5e29441381eb"
      },
      "source": [
        "x -= 1\n",
        "x"
      ],
      "execution_count": null,
      "outputs": [
        {
          "output_type": "execute_result",
          "data": {
            "text/plain": [
              "1"
            ]
          },
          "metadata": {
            "tags": []
          },
          "execution_count": 68
        }
      ]
    },
    {
      "cell_type": "code",
      "metadata": {
        "id": "_MMpToeWMVWe",
        "colab_type": "code",
        "colab": {
          "base_uri": "https://localhost:8080/",
          "height": 34
        },
        "outputId": "473d3a35-dc71-499b-d0ec-ce0fd98a3994"
      },
      "source": [
        "#변수들의 연산식\n",
        "number = 5\n",
        "number = 4 * number + 6\n",
        "number\n"
      ],
      "execution_count": null,
      "outputs": [
        {
          "output_type": "execute_result",
          "data": {
            "text/plain": [
              "26"
            ]
          },
          "metadata": {
            "tags": []
          },
          "execution_count": 70
        }
      ]
    },
    {
      "cell_type": "code",
      "metadata": {
        "id": "f1Mi8BWXNPdH",
        "colab_type": "code",
        "colab": {
          "base_uri": "https://localhost:8080/",
          "height": 34
        },
        "outputId": "f49cdb94-b6c5-4e3a-beb6-7c9041043346"
      },
      "source": [
        "count = 0\n",
        "count += 1\n",
        "count"
      ],
      "execution_count": null,
      "outputs": [
        {
          "output_type": "execute_result",
          "data": {
            "text/plain": [
              "1"
            ]
          },
          "metadata": {
            "tags": []
          },
          "execution_count": 71
        }
      ]
    },
    {
      "cell_type": "code",
      "metadata": {
        "id": "jEsaB7zVNY0y",
        "colab_type": "code",
        "colab": {
          "base_uri": "https://localhost:8080/",
          "height": 34
        },
        "outputId": "05ca5f99-7f65-4520-d293-f9fc9c01371d"
      },
      "source": [
        "count *= 2\n",
        "count"
      ],
      "execution_count": null,
      "outputs": [
        {
          "output_type": "execute_result",
          "data": {
            "text/plain": [
              "2"
            ]
          },
          "metadata": {
            "tags": []
          },
          "execution_count": 72
        }
      ]
    },
    {
      "cell_type": "code",
      "metadata": {
        "id": "J5fDR1IgNcW1",
        "colab_type": "code",
        "colab": {
          "base_uri": "https://localhost:8080/",
          "height": 34
        },
        "outputId": "2028926d-450c-48cb-a18d-ff9c4eca25c7"
      },
      "source": [
        "number = 2\n",
        "number *= 5\n",
        "number"
      ],
      "execution_count": null,
      "outputs": [
        {
          "output_type": "execute_result",
          "data": {
            "text/plain": [
              "10"
            ]
          },
          "metadata": {
            "tags": []
          },
          "execution_count": 73
        }
      ]
    },
    {
      "cell_type": "code",
      "metadata": {
        "id": "sacjPr6uN2Ez",
        "colab_type": "code",
        "colab": {
          "base_uri": "https://localhost:8080/",
          "height": 34
        },
        "outputId": "8ded89e8-c9f8-434b-ead4-0e5a5018d304"
      },
      "source": [
        "number -= 4\n",
        "number"
      ],
      "execution_count": null,
      "outputs": [
        {
          "output_type": "execute_result",
          "data": {
            "text/plain": [
              "6"
            ]
          },
          "metadata": {
            "tags": []
          },
          "execution_count": 74
        }
      ]
    },
    {
      "cell_type": "code",
      "metadata": {
        "id": "WvyrTAdJN5M-",
        "colab_type": "code",
        "colab": {
          "base_uri": "https://localhost:8080/",
          "height": 34
        },
        "outputId": "6be4cd55-233e-4afb-f908-72337029ee5f"
      },
      "source": [
        "number //= 2\n",
        "number"
      ],
      "execution_count": null,
      "outputs": [
        {
          "output_type": "execute_result",
          "data": {
            "text/plain": [
              "3"
            ]
          },
          "metadata": {
            "tags": []
          },
          "execution_count": 75
        }
      ]
    },
    {
      "cell_type": "code",
      "metadata": {
        "id": "bkgH82meOFzd",
        "colab_type": "code",
        "colab": {
          "base_uri": "https://localhost:8080/",
          "height": 34
        },
        "outputId": "070463f6-3c17-4b30-e308-295b1954da96"
      },
      "source": [
        "number %= 2\n",
        "number"
      ],
      "execution_count": null,
      "outputs": [
        {
          "output_type": "execute_result",
          "data": {
            "text/plain": [
              "1"
            ]
          },
          "metadata": {
            "tags": []
          },
          "execution_count": 76
        }
      ]
    },
    {
      "cell_type": "code",
      "metadata": {
        "id": "U9KcvCKKOMvo",
        "colab_type": "code",
        "colab": {
          "base_uri": "https://localhost:8080/",
          "height": 34
        },
        "outputId": "c09828c0-038c-46df-8a67-3f11feffe75b"
      },
      "source": [
        "#연습문제\n",
        "#1.\n",
        "type(96/4)  #나눗셈 연사자의 값은 float형이다."
      ],
      "execution_count": null,
      "outputs": [
        {
          "output_type": "execute_result",
          "data": {
            "text/plain": [
              "float"
            ]
          },
          "metadata": {
            "tags": []
          },
          "execution_count": 79
        }
      ]
    },
    {
      "cell_type": "code",
      "metadata": {
        "id": "3805O1jtaD6m",
        "colab_type": "code",
        "colab": {}
      },
      "source": [
        "#2\n",
        "'//' 연산자는 나눗셈 연산의 몫 만을 나타내고,\n",
        "'%' 연산자는 나눗셈 연산의 나머지 만을 나타낸다."
      ],
      "execution_count": null,
      "outputs": []
    },
    {
      "cell_type": "code",
      "metadata": {
        "id": "wKt41SDnb8J0",
        "colab_type": "code",
        "colab": {}
      },
      "source": [
        "#3\n",
        "변수의 값이 할당되지 않았다."
      ],
      "execution_count": null,
      "outputs": []
    },
    {
      "cell_type": "code",
      "metadata": {
        "id": "M2ZFWYobcIbK",
        "colab_type": "code",
        "colab": {}
      },
      "source": [
        "#4\n",
        "변수명에는 숫자가 들어갈 수 없다."
      ],
      "execution_count": null,
      "outputs": []
    },
    {
      "cell_type": "code",
      "metadata": {
        "id": "vpXWNObecQDR",
        "colab_type": "code",
        "colab": {
          "base_uri": "https://localhost:8080/",
          "height": 34
        },
        "outputId": "3c51d810-6493-4b23-d17e-9f23cce7074a"
      },
      "source": [
        "#5\n",
        "2 * 3 ** (1+2) , 3 ** 4 / (2 + 2) , 7 // 4 + 1  ** 5 , 6 + 11 * 2 // 4 ** 1\\\n",
        ", ((3 + 4)** 2) % 5 * 4"
      ],
      "execution_count": null,
      "outputs": [
        {
          "output_type": "execute_result",
          "data": {
            "text/plain": [
              "(54, 20.25, 2, 11, 16)"
            ]
          },
          "metadata": {
            "tags": []
          },
          "execution_count": 83
        }
      ]
    },
    {
      "cell_type": "code",
      "metadata": {
        "id": "6bW9bPLGdC5n",
        "colab_type": "code",
        "colab": {}
      },
      "source": [
        "#6\n",
        "1) 변수의 이름은 문자, 숫자 그리고 _,특수문자로만 이루어진다 (X)\n",
        "2) 변수명은 문자 또는 Underscore로만 시작해야 하며 숫자로는 시작할 수 없다(O)\n",
        "3) 변수 Number는 number로 사용해도 된다.(X)\n",
        "4) number1.number2=125입력 시 두 변수 number1.number2에 각각 125가 할당된다.(X)\n"
      ],
      "execution_count": null,
      "outputs": []
    },
    {
      "cell_type": "code",
      "metadata": {
        "id": "yhRBcJlNd96c",
        "colab_type": "code",
        "colab": {
          "base_uri": "https://localhost:8080/",
          "height": 34
        },
        "outputId": "4642df8a-9f22-46d8-ecb1-618b126d198a"
      },
      "source": [
        "# 5) 아래 프로그램의 출력값은 3이다.\n",
        "count = 3\n",
        "count += 1\n",
        "count"
      ],
      "execution_count": null,
      "outputs": [
        {
          "output_type": "execute_result",
          "data": {
            "text/plain": [
              "4"
            ]
          },
          "metadata": {
            "tags": []
          },
          "execution_count": 84
        }
      ]
    },
    {
      "cell_type": "code",
      "metadata": {
        "id": "rfa51poLecdF",
        "colab_type": "code",
        "colab": {
          "base_uri": "https://localhost:8080/",
          "height": 34
        },
        "outputId": "8df54960-502e-4df9-f681-9c54d6fbadc5"
      },
      "source": [
        "count += 2\n",
        "count"
      ],
      "execution_count": null,
      "outputs": [
        {
          "output_type": "execute_result",
          "data": {
            "text/plain": [
              "6"
            ]
          },
          "metadata": {
            "tags": []
          },
          "execution_count": 85
        }
      ]
    },
    {
      "cell_type": "code",
      "metadata": {
        "id": "obFeqxhvegGS",
        "colab_type": "code",
        "colab": {}
      },
      "source": [
        "출력값은 6이므로 (X)"
      ],
      "execution_count": null,
      "outputs": []
    },
    {
      "cell_type": "code",
      "metadata": {
        "id": "kOiYeQbTelVQ",
        "colab_type": "code",
        "colab": {
          "base_uri": "https://localhost:8080/",
          "height": 204
        },
        "outputId": "c52ff90d-428c-4a42-8920-0fd31d365960"
      },
      "source": [
        "# 아래 프로그램의 출력값은 30이다\n",
        "x = 10\n",
        "y = 20\n",
        "X += y"
      ],
      "execution_count": null,
      "outputs": [
        {
          "output_type": "error",
          "ename": "NameError",
          "evalue": "ignored",
          "traceback": [
            "\u001b[0;31m---------------------------------------------------------------------------\u001b[0m",
            "\u001b[0;31mNameError\u001b[0m                                 Traceback (most recent call last)",
            "\u001b[0;32m<ipython-input-86-f3acff7ce05a>\u001b[0m in \u001b[0;36m<module>\u001b[0;34m()\u001b[0m\n\u001b[1;32m      2\u001b[0m \u001b[0mx\u001b[0m \u001b[0;34m=\u001b[0m \u001b[0;36m10\u001b[0m\u001b[0;34m\u001b[0m\u001b[0;34m\u001b[0m\u001b[0m\n\u001b[1;32m      3\u001b[0m \u001b[0my\u001b[0m \u001b[0;34m=\u001b[0m \u001b[0;36m20\u001b[0m\u001b[0;34m\u001b[0m\u001b[0;34m\u001b[0m\u001b[0m\n\u001b[0;32m----> 4\u001b[0;31m \u001b[0mX\u001b[0m \u001b[0;34m+=\u001b[0m \u001b[0my\u001b[0m\u001b[0;34m\u001b[0m\u001b[0;34m\u001b[0m\u001b[0m\n\u001b[0m",
            "\u001b[0;31mNameError\u001b[0m: name 'X' is not defined"
          ]
        }
      ]
    },
    {
      "cell_type": "code",
      "metadata": {
        "id": "5tBFN8f5e1Qx",
        "colab_type": "code",
        "colab": {}
      },
      "source": [
        "파이썬은 대문자와 소문자를 구별하기에 X는 갑을 갖고있지 않다 그러므로(X)"
      ],
      "execution_count": null,
      "outputs": []
    },
    {
      "cell_type": "code",
      "metadata": {
        "id": "fb0WBv23e8sK",
        "colab_type": "code",
        "colab": {
          "base_uri": "https://localhost:8080/",
          "height": 34
        },
        "outputId": "d3fcda73-318a-44ff-856b-7b3daf638f9a"
      },
      "source": [
        "#7)\n",
        "number1=5\n",
        "number2=number1\n",
        "number1 += number2\n",
        "number1"
      ],
      "execution_count": null,
      "outputs": [
        {
          "output_type": "execute_result",
          "data": {
            "text/plain": [
              "10"
            ]
          },
          "metadata": {
            "tags": []
          },
          "execution_count": 87
        }
      ]
    },
    {
      "cell_type": "code",
      "metadata": {
        "id": "Bgd852pTfLEg",
        "colab_type": "code",
        "colab": {}
      },
      "source": [
        "8)\n",
        "**(제곱)의 결합 법칙은 ( 오른쪽 ) 에서 ( 왼쪽 ) 이다.\n",
        "a+=5 의 의미를 설명하라. ( a=a+5 ) first number=3 위를 실행하였을 때 에러가\n",
        "발생하는 이유를 설명하라. ( 변수명의 오류. 변수명은 문자, 숫자, _(Underscore)로만\n",
        "이루어진다. 띄어쓰기 불가능 )"
      ],
      "execution_count": null,
      "outputs": []
    },
    {
      "cell_type": "code",
      "metadata": {
        "id": "DMvMejDjgIbM",
        "colab_type": "code",
        "colab": {
          "base_uri": "https://localhost:8080/",
          "height": 34
        },
        "outputId": "e8de10ee-a666-467d-e185-c2962e2c6d82"
      },
      "source": [
        "#9)\n",
        "a = 5\n",
        "b = 7\n",
        "result= a*b\n",
        "result"
      ],
      "execution_count": null,
      "outputs": [
        {
          "output_type": "execute_result",
          "data": {
            "text/plain": [
              "35"
            ]
          },
          "metadata": {
            "tags": []
          },
          "execution_count": 88
        }
      ]
    },
    {
      "cell_type": "code",
      "metadata": {
        "id": "oi23IqAogVCJ",
        "colab_type": "code",
        "colab": {
          "base_uri": "https://localhost:8080/",
          "height": 34
        },
        "outputId": "fe02f216-38b5-4c62-91e9-adda09729964"
      },
      "source": [
        "#10)\n",
        "a = 123456\n",
        "b = 789\n",
        "portion = a // b\n",
        "rest = a % b\n",
        "portion"
      ],
      "execution_count": null,
      "outputs": [
        {
          "output_type": "execute_result",
          "data": {
            "text/plain": [
              "156"
            ]
          },
          "metadata": {
            "tags": []
          },
          "execution_count": 89
        }
      ]
    },
    {
      "cell_type": "code",
      "metadata": {
        "id": "-Wg8sfgOgtZz",
        "colab_type": "code",
        "colab": {
          "base_uri": "https://localhost:8080/",
          "height": 34
        },
        "outputId": "7e642a3c-239e-409f-a94d-aa7cd73d95b1"
      },
      "source": [
        "rest"
      ],
      "execution_count": null,
      "outputs": [
        {
          "output_type": "execute_result",
          "data": {
            "text/plain": [
              "372"
            ]
          },
          "metadata": {
            "tags": []
          },
          "execution_count": 90
        }
      ]
    },
    {
      "cell_type": "code",
      "metadata": {
        "id": "4S--FJHkgufm",
        "colab_type": "code",
        "colab": {
          "base_uri": "https://localhost:8080/",
          "height": 34
        },
        "outputId": "e3596f2f-51fb-49e6-99eb-67e5ab1c0653"
      },
      "source": [
        "#11) \n",
        "x = 11\n",
        "y = 22  \n",
        "z = x\n",
        "x = y\n",
        "y = z\n",
        "x"
      ],
      "execution_count": null,
      "outputs": [
        {
          "output_type": "execute_result",
          "data": {
            "text/plain": [
              "22"
            ]
          },
          "metadata": {
            "tags": []
          },
          "execution_count": 91
        }
      ]
    },
    {
      "cell_type": "code",
      "metadata": {
        "id": "mt7-AfF9g_xZ",
        "colab_type": "code",
        "colab": {
          "base_uri": "https://localhost:8080/",
          "height": 34
        },
        "outputId": "2b58b73a-fe31-495e-a77e-d115e0182d21"
      },
      "source": [
        "y"
      ],
      "execution_count": null,
      "outputs": [
        {
          "output_type": "execute_result",
          "data": {
            "text/plain": [
              "11"
            ]
          },
          "metadata": {
            "tags": []
          },
          "execution_count": 92
        }
      ]
    },
    {
      "cell_type": "code",
      "metadata": {
        "id": "cUxCbdK3hAsx",
        "colab_type": "code",
        "colab": {
          "base_uri": "https://localhost:8080/",
          "height": 34
        },
        "outputId": "b9120f9b-2a17-47a6-fa49-26bdb93fe250"
      },
      "source": [
        "#12)\n",
        "r = 7\n",
        "pi = 3.14\n",
        "area = pi * r ** 2\n",
        "area"
      ],
      "execution_count": null,
      "outputs": [
        {
          "output_type": "execute_result",
          "data": {
            "text/plain": [
              "153.86"
            ]
          },
          "metadata": {
            "tags": []
          },
          "execution_count": 93
        }
      ]
    },
    {
      "cell_type": "code",
      "metadata": {
        "id": "FRBp5VAkhLUy",
        "colab_type": "code",
        "colab": {
          "base_uri": "https://localhost:8080/",
          "height": 34
        },
        "outputId": "f95e717b-b8ba-460a-ad24-e736b79baeba"
      },
      "source": [
        "#13)\n",
        "num1,num2,num3,num4 = 5,4,9,2\n",
        "(num1 * num2)*(num2 - num3)*(num3 // num4)"
      ],
      "execution_count": null,
      "outputs": [
        {
          "output_type": "execute_result",
          "data": {
            "text/plain": [
              "-400"
            ]
          },
          "metadata": {
            "tags": []
          },
          "execution_count": 101
        }
      ]
    },
    {
      "cell_type": "code",
      "metadata": {
        "id": "bqVujKFnhmxU",
        "colab_type": "code",
        "colab": {}
      },
      "source": [
        ""
      ],
      "execution_count": null,
      "outputs": []
    },
    {
      "cell_type": "markdown",
      "metadata": {
        "id": "vwShrB5zlRun",
        "colab_type": "text"
      },
      "source": [
        "# Ch 4. 자료의 입력과 출력\n",
        "## 지은이: 인하대 소프트웨어융합공학 연계전공 한규현(12173082)"
      ]
    },
    {
      "cell_type": "code",
      "metadata": {
        "id": "NQRJS4MTloIa",
        "colab_type": "code",
        "colab": {
          "base_uri": "https://localhost:8080/",
          "height": 34
        },
        "outputId": "f8349226-9157-4729-9af9-6b33a6a1d244"
      },
      "source": [
        "#퀴즈 4-1\n",
        "name = 'Gildong'\n",
        "location='Seoul'\n",
        "print('Hello, My name is ' + name + '. And I live in '+location+'.')"
      ],
      "execution_count": null,
      "outputs": [
        {
          "output_type": "stream",
          "text": [
            "Hello, My name is Gildong. And I live in Seoul.\n"
          ],
          "name": "stdout"
        }
      ]
    },
    {
      "cell_type": "code",
      "metadata": {
        "id": "l_E21J9iowr0",
        "colab_type": "code",
        "colab": {
          "base_uri": "https://localhost:8080/",
          "height": 34
        },
        "outputId": "c7807469-04b4-4f7f-a2ed-9fd74f0a6a11"
      },
      "source": [
        "#퀴즈 4-2\n",
        "string1='Hello'\n",
        "string2='Python'\n",
        "star='*******'\n",
        "star='***'\n",
        "print(star*3+string1+string2+star*3)"
      ],
      "execution_count": null,
      "outputs": [
        {
          "output_type": "stream",
          "text": [
            "*********HelloPython*********\n"
          ],
          "name": "stdout"
        }
      ]
    },
    {
      "cell_type": "code",
      "metadata": {
        "id": "JAQaV5byo5wX",
        "colab_type": "code",
        "colab": {
          "base_uri": "https://localhost:8080/",
          "height": 34
        },
        "outputId": "f01ff4de-3195-41cd-bad4-0c969e90a998"
      },
      "source": [
        "#퀴즈 4-3\n",
        "string1='python'\n",
        "string2='programming'\n",
        "len(string1)"
      ],
      "execution_count": null,
      "outputs": [
        {
          "output_type": "execute_result",
          "data": {
            "text/plain": [
              "6"
            ]
          },
          "metadata": {
            "tags": []
          },
          "execution_count": 3
        }
      ]
    },
    {
      "cell_type": "code",
      "metadata": {
        "id": "ogSs9C4Jo9zi",
        "colab_type": "code",
        "colab": {
          "base_uri": "https://localhost:8080/",
          "height": 34
        },
        "outputId": "f313b5e5-31fc-4492-b5fa-2e1c03879c5c"
      },
      "source": [
        "string3=(string1+' '+string2)\n",
        "len(string3)"
      ],
      "execution_count": null,
      "outputs": [
        {
          "output_type": "execute_result",
          "data": {
            "text/plain": [
              "18"
            ]
          },
          "metadata": {
            "tags": []
          },
          "execution_count": 4
        }
      ]
    },
    {
      "cell_type": "code",
      "metadata": {
        "id": "f-LzgKHLpEu-",
        "colab_type": "code",
        "colab": {
          "base_uri": "https://localhost:8080/",
          "height": 34
        },
        "outputId": "b22c37a4-5647-46b4-ab13-fbb1ef4e4180"
      },
      "source": [
        "#퀴즈 4-4\n",
        "string1='Beautiful Weather'\n",
        "firstindex=string1[0]\n",
        "secondindex=string1[1]\n",
        "thirdindex=string1[11]\n",
        "print(firstindex+secondindex+thirdindex)"
      ],
      "execution_count": null,
      "outputs": [
        {
          "output_type": "stream",
          "text": [
            "Bee\n"
          ],
          "name": "stdout"
        }
      ]
    },
    {
      "cell_type": "code",
      "metadata": {
        "id": "gDmNNvd9pIlI",
        "colab_type": "code",
        "colab": {
          "base_uri": "https://localhost:8080/",
          "height": 52
        },
        "outputId": "ee0f2a46-258b-4775-ad2a-fc81963fa093"
      },
      "source": [
        "#실습 4-1\n",
        "string1=\"red apple\"\n",
        "string2=\"yellow banana\"\n",
        "print(string2[0:6]+' '+string1[4:])\n",
        "print(string1[0:3]+' '+string2[7:])"
      ],
      "execution_count": null,
      "outputs": [
        {
          "output_type": "stream",
          "text": [
            "yellow apple\n",
            "red banana\n"
          ],
          "name": "stdout"
        }
      ]
    },
    {
      "cell_type": "code",
      "metadata": {
        "id": "NkhTx1Zqqnn9",
        "colab_type": "code",
        "colab": {
          "base_uri": "https://localhost:8080/",
          "height": 35
        },
        "outputId": "26c34da6-3c52-4bc6-ae0d-5dac93fe0153"
      },
      "source": [
        "#퀴즈 4-5\n",
        "name='Hong Gildong'\n",
        "family_name = name[0:4]\n",
        "family_name"
      ],
      "execution_count": null,
      "outputs": [
        {
          "output_type": "execute_result",
          "data": {
            "application/vnd.google.colaboratory.intrinsic+json": {
              "type": "string"
            },
            "text/plain": [
              "'Hong'"
            ]
          },
          "metadata": {
            "tags": []
          },
          "execution_count": 7
        }
      ]
    },
    {
      "cell_type": "code",
      "metadata": {
        "id": "iU0JsS2_qx2r",
        "colab_type": "code",
        "colab": {
          "base_uri": "https://localhost:8080/",
          "height": 34
        },
        "outputId": "c66e5f43-3583-4e76-8d51-6e582a6d0348"
      },
      "source": [
        "#퀴즈 4-6\n",
        "favorite_color = input('What is your favorite color?')"
      ],
      "execution_count": null,
      "outputs": [
        {
          "output_type": "stream",
          "text": [
            "What is your favorite color?Blue\n"
          ],
          "name": "stdout"
        }
      ]
    },
    {
      "cell_type": "code",
      "metadata": {
        "id": "1rX2pdaIrCjo",
        "colab_type": "code",
        "colab": {
          "base_uri": "https://localhost:8080/",
          "height": 35
        },
        "outputId": "0712fbf7-613a-44e1-9326-7ebcef963514"
      },
      "source": [
        "favorite_color"
      ],
      "execution_count": null,
      "outputs": [
        {
          "output_type": "execute_result",
          "data": {
            "application/vnd.google.colaboratory.intrinsic+json": {
              "type": "string"
            },
            "text/plain": [
              "'Blue'"
            ]
          },
          "metadata": {
            "tags": []
          },
          "execution_count": 9
        }
      ]
    },
    {
      "cell_type": "code",
      "metadata": {
        "id": "-g9p33R9rGqf",
        "colab_type": "code",
        "colab": {
          "base_uri": "https://localhost:8080/",
          "height": 34
        },
        "outputId": "c4eb0fb0-937a-4c33-8a32-7a7f11b2ef0c"
      },
      "source": [
        "#퀴즈 4-7\n",
        "name = 'Gildong'\n",
        "print('Hello, my name is',name)"
      ],
      "execution_count": null,
      "outputs": [
        {
          "output_type": "stream",
          "text": [
            "Hello, my name is Gildong\n"
          ],
          "name": "stdout"
        }
      ]
    },
    {
      "cell_type": "code",
      "metadata": {
        "id": "_6oJWJcyrMfL",
        "colab_type": "code",
        "colab": {
          "base_uri": "https://localhost:8080/",
          "height": 34
        },
        "outputId": "245783a2-e8bf-47e9-f223-08461056430d"
      },
      "source": [
        "#연습문제 1.\n",
        "start = '*' * 10\n",
        "title = \"Let's have fun\"\n",
        "finish = '*' * 10\n",
        "print(start + title + finish)"
      ],
      "execution_count": null,
      "outputs": [
        {
          "output_type": "stream",
          "text": [
            "**********Let's have fun**********\n"
          ],
          "name": "stdout"
        }
      ]
    },
    {
      "cell_type": "code",
      "metadata": {
        "id": "NP0VYoU9GJpY",
        "colab_type": "code",
        "colab": {
          "base_uri": "https://localhost:8080/",
          "height": 35
        },
        "outputId": "0273e43d-5209-4e43-d3e2-a03a2f493c9a"
      },
      "source": [
        "#2.\n",
        "title = 'Mission Impossible'\n",
        "title[9:13]"
      ],
      "execution_count": null,
      "outputs": [
        {
          "output_type": "execute_result",
          "data": {
            "application/vnd.google.colaboratory.intrinsic+json": {
              "type": "string"
            },
            "text/plain": [
              "'mpos'"
            ]
          },
          "metadata": {
            "tags": []
          },
          "execution_count": 2
        }
      ]
    },
    {
      "cell_type": "code",
      "metadata": {
        "id": "YzCzsKqbGY75",
        "colab_type": "code",
        "colab": {
          "base_uri": "https://localhost:8080/",
          "height": 34
        },
        "outputId": "dbd100b2-4938-47eb-f5c7-d6a22c398a07"
      },
      "source": [
        "#3.\n",
        "n = input('Enter the number')"
      ],
      "execution_count": null,
      "outputs": [
        {
          "output_type": "stream",
          "text": [
            "Enter the number7\n"
          ],
          "name": "stdout"
        }
      ]
    },
    {
      "cell_type": "code",
      "metadata": {
        "id": "CY4XyykRHDeo",
        "colab_type": "code",
        "colab": {
          "base_uri": "https://localhost:8080/",
          "height": 35
        },
        "outputId": "0bd4ee14-0572-4696-eb8e-a3c979279e2f"
      },
      "source": [
        "m= n * 4\n",
        "m"
      ],
      "execution_count": null,
      "outputs": [
        {
          "output_type": "execute_result",
          "data": {
            "application/vnd.google.colaboratory.intrinsic+json": {
              "type": "string"
            },
            "text/plain": [
              "'7777'"
            ]
          },
          "metadata": {
            "tags": []
          },
          "execution_count": 4
        }
      ]
    },
    {
      "cell_type": "code",
      "metadata": {
        "id": "2rac15HnHH1t",
        "colab_type": "code",
        "colab": {
          "base_uri": "https://localhost:8080/",
          "height": 34
        },
        "outputId": "a82c63dc-40b0-4dcb-d1b2-f02878345b38"
      },
      "source": [
        "# m = 28 을 원한다면?\n",
        "n = int(input('Enter the number'))"
      ],
      "execution_count": null,
      "outputs": [
        {
          "output_type": "stream",
          "text": [
            "Enter the number7\n"
          ],
          "name": "stdout"
        }
      ]
    },
    {
      "cell_type": "code",
      "metadata": {
        "id": "hL_iiA5UHTOv",
        "colab_type": "code",
        "colab": {
          "base_uri": "https://localhost:8080/",
          "height": 34
        },
        "outputId": "359002a0-ce67-4772-8922-90fb75bb0d93"
      },
      "source": [
        "m= n * 4\n",
        "m"
      ],
      "execution_count": null,
      "outputs": [
        {
          "output_type": "execute_result",
          "data": {
            "text/plain": [
              "28"
            ]
          },
          "metadata": {
            "tags": []
          },
          "execution_count": 6
        }
      ]
    },
    {
      "cell_type": "code",
      "metadata": {
        "id": "-5-gHXaQHVjM",
        "colab_type": "code",
        "colab": {
          "base_uri": "https://localhost:8080/",
          "height": 35
        },
        "outputId": "38aa3256-2f75-4a98-e4b5-9805ec0c49cc"
      },
      "source": [
        "#4.\n",
        "greeting='hello!'\n",
        "greeting[0]"
      ],
      "execution_count": null,
      "outputs": [
        {
          "output_type": "execute_result",
          "data": {
            "application/vnd.google.colaboratory.intrinsic+json": {
              "type": "string"
            },
            "text/plain": [
              "'h'"
            ]
          },
          "metadata": {
            "tags": []
          },
          "execution_count": 7
        }
      ]
    },
    {
      "cell_type": "code",
      "metadata": {
        "id": "NecBzQy1Hewa",
        "colab_type": "code",
        "colab": {}
      },
      "source": [
        "'H'가 아닌 'h'가 나와야 한다."
      ],
      "execution_count": null,
      "outputs": []
    },
    {
      "cell_type": "code",
      "metadata": {
        "id": "eUQ5AXDkHlaN",
        "colab_type": "code",
        "colab": {
          "base_uri": "https://localhost:8080/",
          "height": 70
        },
        "outputId": "1c45e773-816c-42fb-92c7-cd4555aa4eb0"
      },
      "source": [
        "#5.\n",
        "num_pencil = int(input(\"연필은 몇 개를 구입하시겠습니까?\"))\n",
        "num_pen = int(input(\"펜은 몇 개를 구입하시겠습니까? \"))\n",
        "total_price = num_pencil * 3000 + num_pen * 4000\n",
        "print(\"총 가격은\",0.7 * total_price,\"원 입니다.\")"
      ],
      "execution_count": null,
      "outputs": [
        {
          "output_type": "stream",
          "text": [
            "연필은 몇 개를 구입하시겠습니까?5\n",
            "펜은 몇 개를 구입하시겠습니까? 5\n",
            "총 가격은 24500.0 원 입니다.\n"
          ],
          "name": "stdout"
        }
      ]
    },
    {
      "cell_type": "code",
      "metadata": {
        "id": "MSMU83eAJSFy",
        "colab_type": "code",
        "colab": {}
      },
      "source": [
        "#6\n",
        "1) (X) -int와 float형이 함께 쓰일 경우 결괏값은 float형이다.\n",
        "2) (X) -10이다. 공백을 포함하기 때문\n",
        "3) (O) -input값은 string으로 인식된다.\n",
        "4) (X) -she's 의 ' 에서 오류가 발생한다.\n",
        "5) (X) -파이썬에선 string의 내용 일부를 변경할 수 없다.\n",
        "6) (X) -string[2]의 값은  t 가 아닌 't'이다.\n",
        "7) (X) - 4가지 형식의 Quote ('', \"\", ''' ''', \"\"\" \"\"\")가 모두 허용된다. "
      ],
      "execution_count": null,
      "outputs": []
    },
    {
      "cell_type": "code",
      "metadata": {
        "id": "bZ63xet2Kyel",
        "colab_type": "code",
        "colab": {}
      },
      "source": [
        "#7\n",
        "다음 문제를 보고 빈칸을 채워보시오.\n",
        "( len ) 함수를 이용하면 문자열의 길이를 파악할 수 있다.\n",
        "정수 입력 시 ( int ) 형을 사용하고 실수 입력 시 ( float ) 형을 사용한다.\n",
        "( type ) 함수를 이용하면 형의 종류를 파악할 수 있다."
      ],
      "execution_count": null,
      "outputs": []
    },
    {
      "cell_type": "code",
      "metadata": {
        "id": "w7osZqLuK2wM",
        "colab_type": "code",
        "colab": {
          "base_uri": "https://localhost:8080/",
          "height": 35
        },
        "outputId": "29d4b775-2a41-4e75-fe8a-c7967bdc6730"
      },
      "source": [
        "#8\n",
        "python = 'python is easy programming language'\n",
        "python[10:25]"
      ],
      "execution_count": null,
      "outputs": [
        {
          "output_type": "execute_result",
          "data": {
            "application/vnd.google.colaboratory.intrinsic+json": {
              "type": "string"
            },
            "text/plain": [
              "'easy programmin'"
            ]
          },
          "metadata": {
            "tags": []
          },
          "execution_count": 9
        }
      ]
    },
    {
      "cell_type": "code",
      "metadata": {
        "id": "GFQvH8SHK8Cw",
        "colab_type": "code",
        "colab": {
          "base_uri": "https://localhost:8080/",
          "height": 35
        },
        "outputId": "5a74b82c-25c8-4e43-c10b-e5ce70a28e24"
      },
      "source": [
        "#9\n",
        "a = 'hello'\n",
        "b = 'world'\n",
        "a+b"
      ],
      "execution_count": null,
      "outputs": [
        {
          "output_type": "execute_result",
          "data": {
            "application/vnd.google.colaboratory.intrinsic+json": {
              "type": "string"
            },
            "text/plain": [
              "'helloworld'"
            ]
          },
          "metadata": {
            "tags": []
          },
          "execution_count": 10
        }
      ]
    },
    {
      "cell_type": "code",
      "metadata": {
        "id": "QmOAbxEoLBxQ",
        "colab_type": "code",
        "colab": {
          "base_uri": "https://localhost:8080/",
          "height": 34
        },
        "outputId": "bafc9eff-8f05-46b1-90e2-533ca9653bc4"
      },
      "source": [
        "print(a+b)"
      ],
      "execution_count": null,
      "outputs": [
        {
          "output_type": "stream",
          "text": [
            "helloworld\n"
          ],
          "name": "stdout"
        }
      ]
    },
    {
      "cell_type": "code",
      "metadata": {
        "id": "KQBPJLr9LDeC",
        "colab_type": "code",
        "colab": {
          "base_uri": "https://localhost:8080/",
          "height": 34
        },
        "outputId": "cb2dd9c8-452c-495b-e499-692fd5ce0f73"
      },
      "source": [
        "#10\n",
        "string = 'My name is tommy'\n",
        "print(string[0] + string[12:14])"
      ],
      "execution_count": null,
      "outputs": [
        {
          "output_type": "stream",
          "text": [
            "Mom\n"
          ],
          "name": "stdout"
        }
      ]
    },
    {
      "cell_type": "code",
      "metadata": {
        "id": "rob1JbMxLI0Y",
        "colab_type": "code",
        "colab": {
          "base_uri": "https://localhost:8080/",
          "height": 34
        },
        "outputId": "07b8a955-eafc-4003-f03a-d568e2b80509"
      },
      "source": [
        "#11\n",
        "number1 = input()"
      ],
      "execution_count": null,
      "outputs": [
        {
          "output_type": "stream",
          "text": [
            "4\n"
          ],
          "name": "stdout"
        }
      ]
    },
    {
      "cell_type": "code",
      "metadata": {
        "id": "1HCg4iF1LNvJ",
        "colab_type": "code",
        "colab": {
          "base_uri": "https://localhost:8080/",
          "height": 34
        },
        "outputId": "a210203c-e362-4787-d99b-3ef38316d10c"
      },
      "source": [
        "number1 = int(number1)\n",
        "number1 + 6"
      ],
      "execution_count": null,
      "outputs": [
        {
          "output_type": "execute_result",
          "data": {
            "text/plain": [
              "10"
            ]
          },
          "metadata": {
            "tags": []
          },
          "execution_count": 14
        }
      ]
    },
    {
      "cell_type": "code",
      "metadata": {
        "id": "8PouUxZ0LSSE",
        "colab_type": "code",
        "colab": {
          "base_uri": "https://localhost:8080/",
          "height": 70
        },
        "outputId": "04cd2977-78af-4f76-a070-a650db7cd0d2"
      },
      "source": [
        "#12\n",
        "D = int(input(\"거리를 입력하시오.: \"))\n",
        "T = int(input(\"시간을 입력하시오.: \"))\n",
        "S = D/T\n",
        "print(\"속도는\",S,\"입니다.\")"
      ],
      "execution_count": null,
      "outputs": [
        {
          "output_type": "stream",
          "text": [
            "거리를 입력하시오.: 100\n",
            "시간을 입력하시오.: 3\n",
            "속도는 33.333333333333336 입니다.\n"
          ],
          "name": "stdout"
        }
      ]
    },
    {
      "cell_type": "code",
      "metadata": {
        "id": "sHyQyzH7LlWX",
        "colab_type": "code",
        "colab": {
          "base_uri": "https://localhost:8080/",
          "height": 34
        },
        "outputId": "8a18e255-386b-4e6d-f57d-f6c5d1bdd722"
      },
      "source": [
        "#13\n",
        "x1 = 3\n",
        "y1 = 5\n",
        "x2 = -1\n",
        "y2 = 4\n",
        "area = ((x1-x2)*(y1-y2))/2\n",
        "print(area)"
      ],
      "execution_count": null,
      "outputs": [
        {
          "output_type": "stream",
          "text": [
            "2.0\n"
          ],
          "name": "stdout"
        }
      ]
    },
    {
      "cell_type": "code",
      "metadata": {
        "id": "D_l7z_swMBDD",
        "colab_type": "code",
        "colab": {
          "base_uri": "https://localhost:8080/",
          "height": 52
        },
        "outputId": "5f6149d1-8c9c-4f10-92b7-3961342b5a7a"
      },
      "source": [
        "#14\n",
        "x = int(input(\"x를 입력하시오:\"))\n",
        "print(\"@\"*x)"
      ],
      "execution_count": null,
      "outputs": [
        {
          "output_type": "stream",
          "text": [
            "x를 입력하시오:10\n",
            "@@@@@@@@@@\n"
          ],
          "name": "stdout"
        }
      ]
    },
    {
      "cell_type": "code",
      "metadata": {
        "id": "TUOEPPL1MJTr",
        "colab_type": "code",
        "colab": {
          "base_uri": "https://localhost:8080/",
          "height": 70
        },
        "outputId": "26298b6a-538d-49ed-f451-b23c1d334aab"
      },
      "source": [
        "#15\n",
        "last_name = input(\"last_name을 입력하시오.\")\n",
        "first_name = input(\"first_name을 입력하시오.\")\n",
        "fullname = last_name+first_name\n",
        "print(fullname)"
      ],
      "execution_count": null,
      "outputs": [
        {
          "output_type": "stream",
          "text": [
            "last_name을 입력하시오.한\n",
            "first_name을 입력하시오.규현\n",
            "한규현\n"
          ],
          "name": "stdout"
        }
      ]
    },
    {
      "cell_type": "code",
      "metadata": {
        "id": "aj0axnUrMmh8",
        "colab_type": "code",
        "colab": {
          "base_uri": "https://localhost:8080/",
          "height": 87
        },
        "outputId": "a37355ef-c3ff-4185-dde4-d17429326b79"
      },
      "source": [
        "hour = input(\"시각을 입력하시오.\")\n",
        "minute = input(\"분을 입력하시오.\")\n",
        "second = input(\"초를 입력하시오.\")\n",
        "print(hour +\":\" + minute + \":\" + second)"
      ],
      "execution_count": null,
      "outputs": [
        {
          "output_type": "stream",
          "text": [
            "시각을 입력하시오.18\n",
            "분을 입력하시오.16\n",
            "초를 입력하시오.40\n",
            "18:16:40\n"
          ],
          "name": "stdout"
        }
      ]
    },
    {
      "cell_type": "code",
      "metadata": {
        "id": "COoOJC2EMzl_",
        "colab_type": "code",
        "colab": {}
      },
      "source": [
        ""
      ],
      "execution_count": null,
      "outputs": []
    },
    {
      "cell_type": "markdown",
      "metadata": {
        "id": "ZfQKACZMOI3x",
        "colab_type": "text"
      },
      "source": [
        "# Ch_5조건에_따른_문제_해결하기(조건문)\n",
        "## 지은이: 인하대 소프트웨어융합공학 연계전공 한규현(12173082)"
      ]
    },
    {
      "cell_type": "code",
      "metadata": {
        "id": "MDZuzHFvOs1x",
        "colab_type": "code",
        "colab": {
          "base_uri": "https://localhost:8080/",
          "height": 34
        },
        "outputId": "8bf9d272-2a0b-4dc7-a45d-7d5d09aee574"
      },
      "source": [
        "#실습 5-1\n",
        "total = 30000 + 50000 + 15000 + 25000\n",
        "total >= 100000"
      ],
      "execution_count": null,
      "outputs": [
        {
          "output_type": "execute_result",
          "data": {
            "text/plain": [
              "True"
            ]
          },
          "metadata": {
            "tags": []
          },
          "execution_count": 2
        }
      ]
    },
    {
      "cell_type": "code",
      "metadata": {
        "id": "vTPIG8YAR0Ff",
        "colab_type": "code",
        "colab": {
          "base_uri": "https://localhost:8080/",
          "height": 34
        },
        "outputId": "a9d5d615-0ae4-43f8-e15a-ee5b4445b7cd"
      },
      "source": [
        "#퀴즈 5-1\n",
        "A_English_score = 80\n",
        "A_math_score = 65\n",
        "A_average = (A_English_score + A_math_score)/2\n",
        "B_English_score =76\n",
        "B_math_score = 58\n",
        "B_average = (B_English_score  + B_math_score)/2\n",
        "A_average > B_average"
      ],
      "execution_count": null,
      "outputs": [
        {
          "output_type": "execute_result",
          "data": {
            "text/plain": [
              "True"
            ]
          },
          "metadata": {
            "tags": []
          },
          "execution_count": 8
        }
      ]
    },
    {
      "cell_type": "code",
      "metadata": {
        "id": "O8DNc0ulSovL",
        "colab_type": "code",
        "colab": {
          "base_uri": "https://localhost:8080/",
          "height": 34
        },
        "outputId": "e7ae8f4a-535b-4a6e-ec30-56c2136ee303"
      },
      "source": [
        "# 실습 5-2\n",
        "average = 2\n",
        "F_grade = 4\n",
        "average <= 1 or F_grade >= 3"
      ],
      "execution_count": null,
      "outputs": [
        {
          "output_type": "execute_result",
          "data": {
            "text/plain": [
              "True"
            ]
          },
          "metadata": {
            "tags": []
          },
          "execution_count": 9
        }
      ]
    },
    {
      "cell_type": "code",
      "metadata": {
        "id": "2KNSOuYoTxsj",
        "colab_type": "code",
        "colab": {
          "base_uri": "https://localhost:8080/",
          "height": 34
        },
        "outputId": "ad8a5de0-3be7-4114-e2c6-be65b726fddf"
      },
      "source": [
        "# 퀴즈 5-2\n",
        "a = True\n",
        "b = False\n",
        "c = (a and b)\n",
        "d = (a or b)\n",
        "a and b"
      ],
      "execution_count": null,
      "outputs": [
        {
          "output_type": "execute_result",
          "data": {
            "text/plain": [
              "False"
            ]
          },
          "metadata": {
            "tags": []
          },
          "execution_count": 10
        }
      ]
    },
    {
      "cell_type": "code",
      "metadata": {
        "id": "qGNzZANAT9Uk",
        "colab_type": "code",
        "colab": {
          "base_uri": "https://localhost:8080/",
          "height": 34
        },
        "outputId": "a0f5a5f3-6719-47fd-d6f6-368d7619e791"
      },
      "source": [
        "a or (c and d)"
      ],
      "execution_count": null,
      "outputs": [
        {
          "output_type": "execute_result",
          "data": {
            "text/plain": [
              "True"
            ]
          },
          "metadata": {
            "tags": []
          },
          "execution_count": 11
        }
      ]
    },
    {
      "cell_type": "code",
      "metadata": {
        "id": "MHZYow1YT-tf",
        "colab_type": "code",
        "colab": {
          "base_uri": "https://localhost:8080/",
          "height": 34
        },
        "outputId": "600f7292-3da4-49d2-b1a9-b54fc31d08a2"
      },
      "source": [
        "b and (a or c) and d"
      ],
      "execution_count": null,
      "outputs": [
        {
          "output_type": "execute_result",
          "data": {
            "text/plain": [
              "False"
            ]
          },
          "metadata": {
            "tags": []
          },
          "execution_count": 12
        }
      ]
    },
    {
      "cell_type": "code",
      "metadata": {
        "id": "4ANnPF79UAD9",
        "colab_type": "code",
        "colab": {
          "base_uri": "https://localhost:8080/",
          "height": 52
        },
        "outputId": "50754f13-fc00-4cb7-ed73-36a57c2ff8a5"
      },
      "source": [
        "#퀴즈 5-3\n",
        "age = int(input(\"사용자의 나이는?\"))\n",
        "if age >= 20:\n",
        "  print(\"You are an adult\")"
      ],
      "execution_count": null,
      "outputs": [
        {
          "output_type": "stream",
          "text": [
            "사용자의 나이는?25\n",
            "You are an adult\n"
          ],
          "name": "stdout"
        }
      ]
    },
    {
      "cell_type": "code",
      "metadata": {
        "id": "ZvqIn_CGUajk",
        "colab_type": "code",
        "colab": {
          "base_uri": "https://localhost:8080/",
          "height": 34
        },
        "outputId": "a66b6ea2-f427-49b7-a01d-4a40b3ac3480"
      },
      "source": [
        "# 실습 5-3\n",
        "import random\n",
        "if random.random() > 0.5:\n",
        "  print(\"앞면입니다.중국요리\")\n",
        "else:\n",
        "  print(\"뒷면입니다.일본요리\")"
      ],
      "execution_count": null,
      "outputs": [
        {
          "output_type": "stream",
          "text": [
            "뒷면입니다.일본요리\n"
          ],
          "name": "stdout"
        }
      ]
    },
    {
      "cell_type": "code",
      "metadata": {
        "id": "OBvH-c3EVXt6",
        "colab_type": "code",
        "colab": {
          "base_uri": "https://localhost:8080/",
          "height": 70
        },
        "outputId": "b0be434f-db1a-4d98-9709-6851abd34ee9"
      },
      "source": [
        "# 실습 5-4 \n",
        "t = 10000\n",
        "s = 30000\n",
        "\n",
        "t_num = int(input(\"T-shirts 개수 \"))\n",
        "s_num = int(input(\"Sweater 개수 \"))\n",
        "\n",
        "total_price = (t * t_num) + (s * s_num)\n",
        "\n",
        "if total_price <= 100000:\n",
        "    total_price = total_price * 0.95\n",
        "else:\n",
        "    total_price = total_price * 0.85\n",
        "\n",
        "print(\"합계 :\", total_price )"
      ],
      "execution_count": null,
      "outputs": [
        {
          "output_type": "stream",
          "text": [
            "T-shirts 개수 5\n",
            "Sweater 개수 20\n",
            "합계 : 552500.0\n"
          ],
          "name": "stdout"
        }
      ]
    },
    {
      "cell_type": "code",
      "metadata": {
        "id": "mGBwfhaEWkBX",
        "colab_type": "code",
        "colab": {
          "base_uri": "https://localhost:8080/",
          "height": 70
        },
        "outputId": "5ec712f3-594a-43d8-b5e7-ce2a861b8298"
      },
      "source": [
        "#실습 5-5\n",
        "high = int(input(\"키를 입력하세요 : \"))\n",
        "weigh = int(input(\"몸무게를 입력하세요 : \"))\n",
        "\n",
        "if high <= 155 and weigh <= 50:\n",
        "  print(\"입장가능합니다.\")\n",
        "else:\n",
        "  print(\"입장 불가능합니다.\")"
      ],
      "execution_count": null,
      "outputs": [
        {
          "output_type": "stream",
          "text": [
            "키를 입력하세요 : 165\n",
            "몸무게를 입력하세요 : 60\n",
            "입장 불가능합니다.\n"
          ],
          "name": "stdout"
        }
      ]
    },
    {
      "cell_type": "code",
      "metadata": {
        "id": "ur_lkL9VYNsR",
        "colab_type": "code",
        "colab": {
          "base_uri": "https://localhost:8080/",
          "height": 34
        },
        "outputId": "2a067bd7-c9e5-474a-ff48-8fd8d04925e0"
      },
      "source": [
        "#연습문제 1)\n",
        "a = False\n",
        "b = a\n",
        "type (b)"
      ],
      "execution_count": null,
      "outputs": [
        {
          "output_type": "execute_result",
          "data": {
            "text/plain": [
              "bool"
            ]
          },
          "metadata": {
            "tags": []
          },
          "execution_count": 26
        }
      ]
    },
    {
      "cell_type": "code",
      "metadata": {
        "id": "Bzc54GZ3YdmF",
        "colab_type": "code",
        "colab": {}
      },
      "source": [
        "# 2)\n",
        "( 할당 ) 연산자인 ( = )은 변수에 어떤 값을 할당하는 데 사용하는 연산자이고,\n",
        "( 비교 ) 연산자인 ( == )은 서로 다른 두 변수의 값이 같은지를 확인하는 데 사용하는\n",
        "연산자이다."
      ],
      "execution_count": null,
      "outputs": []
    },
    {
      "cell_type": "code",
      "metadata": {
        "id": "sCT7s3xcYrpX",
        "colab_type": "code",
        "colab": {
          "base_uri": "https://localhost:8080/",
          "height": 134
        },
        "outputId": "52f216cf-a059-438e-a1bb-36ccd56f5001"
      },
      "source": [
        "# 3)\n",
        "if a > b\n",
        "  print('***')\n",
        "  print('True')\n",
        "  print('***') # a와 b가 할당되지 않았습니다."
      ],
      "execution_count": null,
      "outputs": [
        {
          "output_type": "error",
          "ename": "SyntaxError",
          "evalue": "ignored",
          "traceback": [
            "\u001b[0;36m  File \u001b[0;32m\"<ipython-input-27-5ef1eb0621e8>\"\u001b[0;36m, line \u001b[0;32m2\u001b[0m\n\u001b[0;31m    if a > b\u001b[0m\n\u001b[0m            ^\u001b[0m\n\u001b[0;31mSyntaxError\u001b[0m\u001b[0;31m:\u001b[0m invalid syntax\n"
          ]
        }
      ]
    },
    {
      "cell_type": "code",
      "metadata": {
        "id": "gSuPm78PYwKj",
        "colab_type": "code",
        "colab": {
          "base_uri": "https://localhost:8080/",
          "height": 52
        },
        "outputId": "2e8e3703-c82e-47e5-a25c-be52bbf40f9b"
      },
      "source": [
        "# 4)\n",
        "iq = int(input(\"IQ를 적으시오\"))\n",
        "\n",
        "if iq >= 148:\n",
        "  print('멘사에 가입할 수 있습니다.')\n",
        "else:\n",
        "  print('멘사에 가입할 수 없습니다.')"
      ],
      "execution_count": null,
      "outputs": [
        {
          "output_type": "stream",
          "text": [
            "IQ를 적으시오148\n",
            "멘사에 가입할 수 있습니다.\n"
          ],
          "name": "stdout"
        }
      ]
    },
    {
      "cell_type": "code",
      "metadata": {
        "id": "_gPyvwx7ZKJi",
        "colab_type": "code",
        "colab": {
          "base_uri": "https://localhost:8080/",
          "height": 52
        },
        "outputId": "f699330a-181c-45b8-d185-7d725334ec14"
      },
      "source": [
        "# 5)\n",
        "score = int(input(\"점수는? \"))\n",
        "\n",
        "if score >= 85:\n",
        "  print(\"정규직 전환 가능\")\n",
        "else:\n",
        "  print(\"정규직 전환 불가능\")"
      ],
      "execution_count": null,
      "outputs": [
        {
          "output_type": "stream",
          "text": [
            "점수는? 85\n",
            "정규직 전환 가능\n"
          ],
          "name": "stdout"
        }
      ]
    },
    {
      "cell_type": "code",
      "metadata": {
        "id": "y5k-THytZTkO",
        "colab_type": "code",
        "colab": {
          "base_uri": "https://localhost:8080/",
          "height": 52
        },
        "outputId": "c5cad611-c15e-41d4-cb13-eec1ab80cee0"
      },
      "source": [
        "# 6)\n",
        "oil = int(input('현재 휘발유 양은?:'))\n",
        "\n",
        "if oil < 10:\n",
        "  print('휘발유 공급')\n",
        "else:\n",
        "  print(\"아직은 괜찮아요!\") "
      ],
      "execution_count": null,
      "outputs": [
        {
          "output_type": "stream",
          "text": [
            "현재 휘발유 양은?:11\n",
            "아직은 괜찮아요!\n"
          ],
          "name": "stdout"
        }
      ]
    },
    {
      "cell_type": "code",
      "metadata": {
        "id": "PEQdLt_mZsy7",
        "colab_type": "code",
        "colab": {
          "base_uri": "https://localhost:8080/",
          "height": 52
        },
        "outputId": "4840316c-14a4-45ae-faf8-a65902de3dea"
      },
      "source": [
        "# 7)\n",
        "total_credit = int(input(\"현재 이수 학점 : \"))\n",
        "\n",
        "if total_credit >= 140:\n",
        "  print('졸업가능')\n",
        "else:\n",
        "  print('졸업불가능')"
      ],
      "execution_count": null,
      "outputs": [
        {
          "output_type": "stream",
          "text": [
            "현재 이수 학점 : 140\n",
            "졸업가능\n"
          ],
          "name": "stdout"
        }
      ]
    },
    {
      "cell_type": "code",
      "metadata": {
        "id": "YpIpo-R9aSRH",
        "colab_type": "code",
        "colab": {
          "base_uri": "https://localhost:8080/",
          "height": 52
        },
        "outputId": "c3c33674-d07a-493c-c489-3c59b27b7d7d"
      },
      "source": [
        "# 8)\n",
        "card_money = int(input('현재 잔액 : '))\n",
        "\n",
        "if card_money > 1200:\n",
        "  print('버스 탑승 가능')\n",
        "else:\n",
        "  print('버스 탑승 불가능')"
      ],
      "execution_count": null,
      "outputs": [
        {
          "output_type": "stream",
          "text": [
            "현재 잔액 : 1100\n",
            "버스 탑승 불가능\n"
          ],
          "name": "stdout"
        }
      ]
    },
    {
      "cell_type": "code",
      "metadata": {
        "id": "52HahNhnBxCe",
        "colab_type": "code",
        "colab": {
          "base_uri": "https://localhost:8080/",
          "height": 52
        },
        "outputId": "efd6b0b2-0422-4b01-d862-301e5cb42631"
      },
      "source": [
        "# 9)\n",
        "river = int(input('강의 폭은? '))\n",
        "\n",
        "if river > 30:\n",
        "  print('강을 건널 수 없습니다.')\n",
        "else:\n",
        "  print(\"강을 건널 수 있습니다.\")"
      ],
      "execution_count": null,
      "outputs": [
        {
          "output_type": "stream",
          "text": [
            "강의 폭은? 35\n",
            "강을 건널 수 없습니다.\n"
          ],
          "name": "stdout"
        }
      ]
    },
    {
      "cell_type": "code",
      "metadata": {
        "id": "mdghdhQpB6Z0",
        "colab_type": "code",
        "colab": {
          "base_uri": "https://localhost:8080/",
          "height": 52
        },
        "outputId": "df68bdec-d63c-4833-c274-c45aa687e635"
      },
      "source": [
        "# 10)\n",
        "aircon_d = int(input('현재 에어컨 온도는? '))\n",
        "\n",
        "if aircon_d < 23:\n",
        "  print('적정 온도가 아니니, 온도를 높여야 한다.')\n",
        "else:\n",
        "  print('적정 온도입니다.')"
      ],
      "execution_count": null,
      "outputs": [
        {
          "output_type": "stream",
          "text": [
            "현재 에어컨 온도는? 22\n",
            "적정 온도가 아니니, 온도를 높여야 한다.\n"
          ],
          "name": "stdout"
        }
      ]
    },
    {
      "cell_type": "code",
      "metadata": {
        "id": "8tPtie_wCuvt",
        "colab_type": "code",
        "colab": {
          "base_uri": "https://localhost:8080/",
          "height": 52
        },
        "outputId": "8431c453-1d59-40cb-b29b-08561f2bef96"
      },
      "source": [
        "# 11)\n",
        "vol = int(input('현재 음량은? '))\n",
        "\n",
        "if vol >= 7:\n",
        "  print('적정 음량보다 높다. 줄여야 한다.')\n",
        "elif (vol < 1):\n",
        "  print('오디오 음량이 아닙니다.')\n",
        "else:\n",
        "  ('적정음량입니다.')"
      ],
      "execution_count": null,
      "outputs": [
        {
          "output_type": "stream",
          "text": [
            "현재 음량은? 10\n",
            "적정 음량보다 높다. 줄여야 한다.\n"
          ],
          "name": "stdout"
        }
      ]
    },
    {
      "cell_type": "code",
      "metadata": {
        "id": "MUcafRGHC5eJ",
        "colab_type": "code",
        "colab": {
          "base_uri": "https://localhost:8080/",
          "height": 70
        },
        "outputId": "6365a76d-b4e2-411b-a37e-83258e73b777"
      },
      "source": [
        "# 12)\n",
        "total_elec = int(input('전체 전기 총량 : '))\n",
        "pre_elec = int(input('현재 전기 총량 : '))\n",
        "\n",
        "if pre_elec < (total_elec * 0.3):\n",
        "  print('전체 전기 총량의 30%보다 현재 전기량이 적으니, 휘발유로 주행해야 한다.')"
      ],
      "execution_count": null,
      "outputs": [
        {
          "output_type": "stream",
          "text": [
            "전체 전기 총량 : 100\n",
            "현재 전기 총량 : 20\n",
            "전체 전기 총량의 30%보다 현재 전기량이 적으니, 휘발유로 주행해야 한다.\n"
          ],
          "name": "stdout"
        }
      ]
    },
    {
      "cell_type": "code",
      "metadata": {
        "id": "jkMwq4gTDCqw",
        "colab_type": "code",
        "colab": {
          "base_uri": "https://localhost:8080/",
          "height": 70
        },
        "outputId": "dee1bd0b-aec6-4a39-cd0b-f9c9db1dbab2"
      },
      "source": [
        "# 13)\n",
        "age = int(input('탑승객의 나이는? '))\n",
        "height = int(input('탑승객의 신장은? '))\n",
        "\n",
        "if (age < 19) and (height > 140):\n",
        "  print(\"탑승가능하다.\")\n",
        "else:\n",
        "  print('답승불가능하다.')"
      ],
      "execution_count": null,
      "outputs": [
        {
          "output_type": "stream",
          "text": [
            "탑승객의 나이는? 19\n",
            "탑승객의 신장은? 150\n",
            "답승불가능하다.\n"
          ],
          "name": "stdout"
        }
      ]
    },
    {
      "cell_type": "code",
      "metadata": {
        "id": "J43w_7d8DSDq",
        "colab_type": "code",
        "colab": {
          "base_uri": "https://localhost:8080/",
          "height": 70
        },
        "outputId": "fcf299a3-55a4-49db-b59a-a49fe92f206f"
      },
      "source": [
        "# 14)\n",
        "canada = int(input('캐나다 대륙의 면적은?'))\n",
        "china = int(input('중국 대륙의 면적은?'))\n",
        "\n",
        "if china < canada:\n",
        "  print('true')\n",
        "else:\n",
        "  print('false')"
      ],
      "execution_count": null,
      "outputs": [
        {
          "output_type": "stream",
          "text": [
            "캐나다 대륙의 면적은?99\n",
            "중국 대륙의 면적은?95\n",
            "true\n"
          ],
          "name": "stdout"
        }
      ]
    },
    {
      "cell_type": "code",
      "metadata": {
        "id": "_uFLTBeJElgX",
        "colab_type": "code",
        "colab": {
          "base_uri": "https://localhost:8080/",
          "height": 52
        },
        "outputId": "ef331f31-59b1-48fb-ccfc-a8e8286442d8"
      },
      "source": [
        "# 15)\n",
        "debit = int(input('현재 통장 잔액(만 원) : '))\n",
        "\n",
        "if debit >= 300:\n",
        "  print('주식 투자가 가능합니다.')\n",
        "else:\n",
        "  print('주식 투자가 불가능합니다.')"
      ],
      "execution_count": null,
      "outputs": [
        {
          "output_type": "stream",
          "text": [
            "현재 통장 잔액(만 원) : 300\n",
            "주식 투자가 가능합니다.\n"
          ],
          "name": "stdout"
        }
      ]
    },
    {
      "cell_type": "code",
      "metadata": {
        "id": "3VBvZt0rEvX9",
        "colab_type": "code",
        "colab": {
          "base_uri": "https://localhost:8080/",
          "height": 70
        },
        "outputId": "6572c2d2-f46b-472d-c62b-99fbf17f729c"
      },
      "source": [
        "# 16)\n",
        "profit_percentage = int(input('이윤은? '))\n",
        "profit_money = int(input('벌어들인 금액은? '))\n",
        "if  (profit_percentage >= 10) or (profit_money >= 500):\n",
        "  print('주식 투자를 잘한 것이다.')\n",
        "else:\n",
        "  print('주식 투자를 실패하였다.')"
      ],
      "execution_count": null,
      "outputs": [
        {
          "output_type": "stream",
          "text": [
            "이윤은? 5\n",
            "벌어들인 금액은? 540\n",
            "주식 투자를 잘한 것이다.\n"
          ],
          "name": "stdout"
        }
      ]
    },
    {
      "cell_type": "code",
      "metadata": {
        "id": "6Q0MC5EGE9-K",
        "colab_type": "code",
        "colab": {
          "base_uri": "https://localhost:8080/",
          "height": 70
        },
        "outputId": "dca59a12-0cb0-46cc-aec6-0c8354127d84"
      },
      "source": [
        "# 17)\n",
        "major = str(input('학과 : '))\n",
        "grade = input('학년 : ')\n",
        "\n",
        "if (major == \"컴퓨터과학과\") and (grade == 4):\n",
        "  print(\"문자가 온다.\")\n",
        "else:\n",
        "  print('문자가 오지 않는다.')"
      ],
      "execution_count": null,
      "outputs": [
        {
          "output_type": "stream",
          "text": [
            "학과 : 컴퓨터과학과\n",
            "학년 : 3\n",
            "문자가 오지 않는다.\n"
          ],
          "name": "stdout"
        }
      ]
    },
    {
      "cell_type": "code",
      "metadata": {
        "id": "HzfipUABFGbx",
        "colab_type": "code",
        "colab": {
          "base_uri": "https://localhost:8080/",
          "height": 52
        },
        "outputId": "c7b102fb-0057-4c3d-9540-7d390ea59932"
      },
      "source": [
        "# 18)\n",
        "coat_price = 33000\n",
        "School_year = (input('학년은?'))\n",
        "\n",
        "if School_year == \"고3\":\n",
        "  coat_price = coat_price * 0.9\n",
        "  print( coat_price, \"원 입니다.\" )"
      ],
      "execution_count": null,
      "outputs": [
        {
          "output_type": "stream",
          "text": [
            "학년은?고3\n",
            "29700.0 원 입니다.\n"
          ],
          "name": "stdout"
        }
      ]
    },
    {
      "cell_type": "code",
      "metadata": {
        "id": "VCDdpjQBFVTc",
        "colab_type": "code",
        "colab": {
          "base_uri": "https://localhost:8080/",
          "height": 52
        },
        "outputId": "85aa7310-7e43-48ff-dd5a-600df91b5154"
      },
      "source": [
        "# 19)\n",
        "num = int(input(\"숫자를 입력하세요. \"))\n",
        "\n",
        "if (num % 3) == 0:\n",
        "  print('3의 배수입니다.')\n",
        "else:\n",
        "  print('3의 배수가 아닙니다.')"
      ],
      "execution_count": null,
      "outputs": [
        {
          "output_type": "stream",
          "text": [
            "숫자를 입력하세요. 33\n",
            "3의 배수입니다.\n"
          ],
          "name": "stdout"
        }
      ]
    },
    {
      "cell_type": "code",
      "metadata": {
        "id": "8YCFZNGnGfWr",
        "colab_type": "code",
        "colab": {}
      },
      "source": [
        "# 20)\n",
        "number의 변수값을 정하는 프로그램이 존재하지 않는다."
      ],
      "execution_count": null,
      "outputs": []
    },
    {
      "cell_type": "code",
      "metadata": {
        "id": "b7EZWjqUGljF",
        "colab_type": "code",
        "colab": {
          "base_uri": "https://localhost:8080/",
          "height": 105
        },
        "outputId": "179adeaf-d3bc-43d1-8813-e657ea9968de"
      },
      "source": [
        "# 21)\n",
        "apple = 1000\n",
        "grape = 3000\n",
        "pear = 2000\n",
        "orange = 500\n",
        "\n",
        "num_apple = int(input(\"사과의 개수 : \"))\n",
        "num_grape = int(input(\"포도의 개수 : \"))\n",
        "num_pear = int(input(\"배의 개수 : \"))\n",
        "num_orange = int(input(\"귤의 개수 : \"))\n",
        "\n",
        "total_fprice = (apple * num_apple) + (grape * num_grape) + (pear * num_pear) + (orange * num_orange)\n",
        "\n",
        "if num_grape >= 3:\n",
        "  print(total_fprice * 0.9, '원 입니다.' )\n",
        "else:\n",
        "  print(total_fprice,'원 입니다.')"
      ],
      "execution_count": null,
      "outputs": [
        {
          "output_type": "stream",
          "text": [
            "사과의 개수 : 5\n",
            "포도의 개수 : 5\n",
            "배의 개수 : 5\n",
            "귤의 개수 : 5\n",
            "29250.0 원 입니다.\n"
          ],
          "name": "stdout"
        }
      ]
    },
    {
      "cell_type": "code",
      "metadata": {
        "id": "6cih6ir6G27N",
        "colab_type": "code",
        "colab": {
          "base_uri": "https://localhost:8080/",
          "height": 87
        },
        "outputId": "d2f0a749-655b-4a83-e1bd-457a63af74db"
      },
      "source": [
        "# 22)\n",
        "bank = str(input('은행 이름 : '))\n",
        "way = str(input('방법 : '))\n",
        "money_check = str(input('돈 or 수표 : '))\n",
        "\n",
        "if (bank == \"파이\") and ((way == \"카드\") or (way == \"통장\")) and (money_check == \"돈\"):\n",
        "  print('입금할 수 있다.')\n",
        "else:\n",
        "  print('입금 불가능하다.')"
      ],
      "execution_count": null,
      "outputs": [
        {
          "output_type": "stream",
          "text": [
            "은행 이름 : 파이\n",
            "방법 : 카드\n",
            "돈 or 수표 : 수표\n",
            "입금 불가능하다.\n"
          ],
          "name": "stdout"
        }
      ]
    },
    {
      "cell_type": "code",
      "metadata": {
        "id": "yn2CDJ5fHvXi",
        "colab_type": "code",
        "colab": {
          "base_uri": "https://localhost:8080/",
          "height": 87
        },
        "outputId": "d6873603-e709-4b2f-d6d4-6b3770077f6a"
      },
      "source": [
        "# 23)\n",
        "object_one = int(input('1과목 : '))\n",
        "object_two = int(input('2과목 : '))\n",
        "object_three = int(input('3과목 : '))\n",
        "\n",
        "avg_object = (object_one + object_two + object_three) / 3\n",
        "\n",
        "if ((object_one >= 60) and (object_two >= 60) and (object_three >= 60)) or (avg_object >= 70):\n",
        "  print('자격증을 딸 수 있다.')\n",
        "else:\n",
        "  print('자격증을 딸 수 없다.')"
      ],
      "execution_count": null,
      "outputs": [
        {
          "output_type": "stream",
          "text": [
            "1과목 : 90\n",
            "2과목 : 70\n",
            "3과목 : 50\n",
            "자격증을 딸 수 있다.\n"
          ],
          "name": "stdout"
        }
      ]
    },
    {
      "cell_type": "code",
      "metadata": {
        "id": "uXa6OuoiH91y",
        "colab_type": "code",
        "colab": {
          "base_uri": "https://localhost:8080/",
          "height": 70
        },
        "outputId": "c8f27730-8928-4835-f9cc-1a02feb37051"
      },
      "source": [
        "# 24)\n",
        "num_semester = int(input('현재 학기는? '))\n",
        "num_object = int(input('현재 이수 학점은? '))\n",
        "\n",
        "if (num_semester < 8) and (num_object >= 140):\n",
        "  print('조기졸업이 가능하다.')\n",
        "else:\n",
        "  print('조기졸업이 불가능하다.')"
      ],
      "execution_count": null,
      "outputs": [
        {
          "output_type": "stream",
          "text": [
            "현재 학기는? 6\n",
            "현재 이수 학점은? 150\n",
            "조기졸업이 가능하다.\n"
          ],
          "name": "stdout"
        }
      ]
    },
    {
      "cell_type": "code",
      "metadata": {
        "id": "iSXCHnK3IIcT",
        "colab_type": "code",
        "colab": {}
      },
      "source": [
        ""
      ],
      "execution_count": null,
      "outputs": []
    },
    {
      "cell_type": "markdown",
      "metadata": {
        "id": "7GT6WroJJEeX",
        "colab_type": "text"
      },
      "source": [
        "#Ch6_중첩조건문_한규현\n",
        "##성명:한규현 학과:경제학과 학번:12173082"
      ]
    },
    {
      "cell_type": "code",
      "metadata": {
        "id": "Ia4fUsFNOMJ9",
        "colab_type": "code",
        "colab": {
          "base_uri": "https://localhost:8080/",
          "height": 70
        },
        "outputId": "912cfcda-527d-4a72-da4b-3db203589577"
      },
      "source": [
        "# 실습 6-1\n",
        "num1 = int(input(\"num1입력\"))\n",
        "num2 = int(input(\"num2입력\"))\n",
        "\n",
        "if (num1 >= 0) and (num2 >= 0):\n",
        "    print(\"두수의 곱은 양수입니다.\")\n",
        "else:\n",
        "    if (num1 < 0) and (num2 < 0):\n",
        "        print(\"두수의 곱은 양수입니다.\")\n",
        "    else:\n",
        "        print(\"두수의 곱은 음수입니다.\")"
      ],
      "execution_count": null,
      "outputs": [
        {
          "output_type": "stream",
          "text": [
            "num1입력5\n",
            "num2입력3\n",
            "두수의 곱은 양수입니다.\n"
          ],
          "name": "stdout"
        }
      ]
    },
    {
      "cell_type": "code",
      "metadata": {
        "id": "j6o7QkD7T5jJ",
        "colab_type": "code",
        "colab": {}
      },
      "source": [
        "# 퀴즈 6-1\n",
        "if cond1 == True:\n",
        "( if cond2 == True:\n",
        "Statement1\n",
        "else:\n",
        "Statement2 )\n",
        "else:\n",
        "False_statements\n",
        "Next_statements"
      ],
      "execution_count": null,
      "outputs": []
    },
    {
      "cell_type": "code",
      "metadata": {
        "id": "IdxMhUtMZddX",
        "colab_type": "code",
        "colab": {
          "base_uri": "https://localhost:8080/",
          "height": 52
        },
        "outputId": "8430c2fd-fa94-4184-fe7a-3bfadb5e51e4"
      },
      "source": [
        "# 퀴즈 6-2\n",
        "age = int(input('당신의 나이를 입력하세요.'))\n",
        "\n",
        "if age >= 10:\n",
        "    if age < 20:\n",
        "        print('student')\n",
        "    else:\n",
        "        print('adult')\n",
        "else:\n",
        "    print('kid')"
      ],
      "execution_count": null,
      "outputs": [
        {
          "output_type": "stream",
          "text": [
            "당신의 나이를 입력하세요.15\n",
            "student\n"
          ],
          "name": "stdout"
        }
      ]
    },
    {
      "cell_type": "code",
      "metadata": {
        "id": "cvMcqTPSZg3h",
        "colab_type": "code",
        "colab": {
          "base_uri": "https://localhost:8080/",
          "height": 52
        },
        "outputId": "2bee58a4-4456-4cec-eafc-6278e8365b9b"
      },
      "source": [
        "#실습 6-2\n",
        "score = int(input('점수 입력 : '))\n",
        "\n",
        "if score >= 90:\n",
        "    print('A')\n",
        "elif score >= 80:\n",
        "    print('B')\n",
        "elif score >= 70:\n",
        "    print('C')\n",
        "else:\n",
        "    print('D')"
      ],
      "execution_count": null,
      "outputs": [
        {
          "output_type": "stream",
          "text": [
            "점수 입력 : 90\n",
            "A\n"
          ],
          "name": "stdout"
        }
      ]
    },
    {
      "cell_type": "code",
      "metadata": {
        "id": "GCajMdNUbPMR",
        "colab_type": "code",
        "colab": {
          "base_uri": "https://localhost:8080/",
          "height": 70
        },
        "outputId": "a64a4612-086c-43a8-b811-d4ee4219399d"
      },
      "source": [
        "# 실습 6-3\n",
        "english = int(input(\"영어점수입력\")) \n",
        "math = int(input(\"수학점수입력\"))\n",
        "total = english + math\n",
        "if total < 110:\n",
        "  print(\"불합격입니다\")\n",
        "elif english < 40 or math < 40:\n",
        "  print(\"불합격입니다\")\n",
        "else :\n",
        "  print(\"합격입니다\")"
      ],
      "execution_count": null,
      "outputs": [
        {
          "output_type": "stream",
          "text": [
            "영어점수입력80\n",
            "수학점수입력20\n",
            "불합격입니다\n"
          ],
          "name": "stdout"
        }
      ]
    },
    {
      "cell_type": "code",
      "metadata": {
        "id": "gPdlGoaJdfme",
        "colab_type": "code",
        "colab": {
          "base_uri": "https://localhost:8080/",
          "height": 52
        },
        "outputId": "226f30b6-0283-4200-8edd-7dd27f928ecb"
      },
      "source": [
        "# 퀴즈 6-3\n",
        "age = int(input(\"당신의 나이를 입력하시오\"))\n",
        "if  age >= 20:\n",
        "  print(\"adult\")\n",
        "elif age >= 10:\n",
        "    print(\"student\")\n",
        "else:\n",
        "    print(\"kid\")"
      ],
      "execution_count": null,
      "outputs": [
        {
          "output_type": "stream",
          "text": [
            "당신의 나이를 입력하시오15\n",
            "student\n"
          ],
          "name": "stdout"
        }
      ]
    },
    {
      "cell_type": "code",
      "metadata": {
        "id": "rdPU4f44euKy",
        "colab_type": "code",
        "colab": {
          "base_uri": "https://localhost:8080/",
          "height": 34
        },
        "outputId": "ec51f27c-706e-4860-aa31-3032cbce7908"
      },
      "source": [
        "# 연습문제 1)\n",
        "number = 18\n",
        "if number < 10:\n",
        "    if number > 5:\n",
        "        print('A')\n",
        "    else:\n",
        "        print('B')\n",
        "else:\n",
        "    print('C')"
      ],
      "execution_count": null,
      "outputs": [
        {
          "output_type": "stream",
          "text": [
            "C\n"
          ],
          "name": "stdout"
        }
      ]
    },
    {
      "cell_type": "code",
      "metadata": {
        "id": "qOuI-99dfnmL",
        "colab_type": "code",
        "colab": {}
      },
      "source": [
        "# 2)\n",
        "조건이 많아지는 경우 ( if-elif-else문 )은 프로그램의 실행 시간이 짧아진다는 장점이 있는\n",
        "반면 프로그램을 코딩한 사람 외에는 해당 프로그램을 해석하기 어렵다는 단점이 있다.\n",
        "그러한 프로그램을 ( 중첩 조건문 )으로 프로그래밍하게 되면 프로그램의 실행 시간은\n",
        "길어지는 단점이 있으나 다른 누군가가 그 프로그램을 해석하기 쉬워지는 장점이 있다."
      ],
      "execution_count": null,
      "outputs": []
    },
    {
      "cell_type": "code",
      "metadata": {
        "id": "CUkZukp2fqTu",
        "colab_type": "code",
        "colab": {
          "base_uri": "https://localhost:8080/",
          "height": 52
        },
        "outputId": "f15bf64f-099a-464b-d3b3-a8b9f3672354"
      },
      "source": [
        "# 3) \n",
        "size = float(input('손가락 둘레 입력 : '))\n",
        "\n",
        "if 51< size <= 52:\n",
        "    print('9호')\n",
        "elif 52 < size <= 53:\n",
        "    print('10호')\n",
        "elif 53 < size <= 54:\n",
        "    print('11호')\n",
        "elif 54 < size <= 55:\n",
        "    print('12호')\n",
        "else:\n",
        "    print('반지 제작 불가')"
      ],
      "execution_count": null,
      "outputs": [
        {
          "output_type": "stream",
          "text": [
            "손가락 둘레 입력 : 52.1\n",
            "10호\n"
          ],
          "name": "stdout"
        }
      ]
    },
    {
      "cell_type": "code",
      "metadata": {
        "id": "ZeYo8Xv2f-KJ",
        "colab_type": "code",
        "colab": {
          "base_uri": "https://localhost:8080/",
          "height": 87
        },
        "outputId": "5887d659-26d2-461f-8479-e1cf9d603caf"
      },
      "source": [
        "#4)\n",
        "num1 = int(input(\"첫번째 양수\"))\n",
        "num2 = int(input(\"두번째 양수\"))\n",
        "cal = int(input(\"원하는 연산 번호 입력\"))\n",
        "if cal == 1:\n",
        "  print(num1 + num2)\n",
        "elif cal == 2:\n",
        "  print(num1 - num2)\n",
        "elif cal == 3:\n",
        "  print(num1 * num2)\n",
        "elif cal == 4:\n",
        "  print(num1 / num2)\n",
        "else :\n",
        "  print(\"연산번호 재입력\")\n"
      ],
      "execution_count": null,
      "outputs": [
        {
          "output_type": "stream",
          "text": [
            "첫번째 양수55\n",
            "두번째 양수5\n",
            "원하는 연산 번호 입력3\n",
            "275\n"
          ],
          "name": "stdout"
        }
      ]
    },
    {
      "cell_type": "code",
      "metadata": {
        "id": "a4a8OQG8hBUT",
        "colab_type": "code",
        "colab": {
          "base_uri": "https://localhost:8080/",
          "height": 52
        },
        "outputId": "09051377-50bf-4ba4-9d9d-3da2ee286429"
      },
      "source": [
        "# 5)\n",
        "year = int(input('해당 연도 입력 '))\n",
        "\n",
        "if year % 400 == 0:\n",
        "    print('윤년')\n",
        "elif year % 4 == 0 and year % 100 != 0:\n",
        "    print('윤년')\n",
        "else:\n",
        "    print('윤년이 아니다.') "
      ],
      "execution_count": null,
      "outputs": [
        {
          "output_type": "stream",
          "text": [
            "해당 연도 입력 2020\n",
            "윤년\n"
          ],
          "name": "stdout"
        }
      ]
    },
    {
      "cell_type": "code",
      "metadata": {
        "id": "HbyS8VBwLA-Y",
        "colab_type": "code",
        "colab": {
          "base_uri": "https://localhost:8080/",
          "height": 70
        },
        "outputId": "8704693f-1e33-4d19-9608-91b6d283149f"
      },
      "source": [
        "# 6)\n",
        "weight = int(input(\"몸무게 입력\"))\n",
        "hight = float(input(\"키 입력(m)\"))\n",
        "bmi = weight / (hight * hight)\n",
        "if bmi < 20:\n",
        "  print(\"저체중\")\n",
        "elif bmi >= 20 and bmi <= 24:\n",
        "  print(\"정상체중\")\n",
        "elif bmi >= 25 and bmi <= 30:\n",
        "  print(\"경도비만\")\n",
        "else :\n",
        "  print(\"비만\")"
      ],
      "execution_count": null,
      "outputs": [
        {
          "output_type": "stream",
          "text": [
            "몸무게 입력78\n",
            "키 입력(m)1.75\n",
            "경도비만\n"
          ],
          "name": "stdout"
        }
      ]
    },
    {
      "cell_type": "code",
      "metadata": {
        "id": "a5YOn9NFN1By",
        "colab_type": "code",
        "colab": {
          "base_uri": "https://localhost:8080/",
          "height": 70
        },
        "outputId": "fe52abee-9e80-4e22-91ef-adf526327477"
      },
      "source": [
        "# 7)\n",
        "name = input('이름 : ')\n",
        "part = int(input('현재 직급 입력'))\n",
        "\n",
        "if part == 1:\n",
        "    print('연봉 9000만원')\n",
        "elif part == 2:\n",
        "    print('연봉 6500만원')\n",
        "elif part == 3:\n",
        "    print('연봉 4000만원')\n",
        "elif part == 4:\n",
        "    print('연봉 3000만원')\n",
        "elif part == 5:\n",
        "    print('연봉 1000만원')\n",
        "else:\n",
        "    print('잘못 입력했습니다.')"
      ],
      "execution_count": null,
      "outputs": [
        {
          "output_type": "stream",
          "text": [
            "이름 : 수지\n",
            "현재 직급 입력4\n",
            "연봉 3000만원\n"
          ],
          "name": "stdout"
        }
      ]
    },
    {
      "cell_type": "code",
      "metadata": {
        "id": "p3wqgdk5Oll5",
        "colab_type": "code",
        "colab": {
          "base_uri": "https://localhost:8080/",
          "height": 52
        },
        "outputId": "2580df6b-0ee6-4e2e-8183-2205476a87ac"
      },
      "source": [
        "# 8)\n",
        "tall = int(input('키 입력 '))\n",
        "\n",
        "if tall <= 140:\n",
        "    print('6급 병역 면제')\n",
        "elif tall <= 145:\n",
        "    print('5급 제2국민역')\n",
        "elif tall <= 158:\n",
        "    print('4급 보충역')\n",
        "else:\n",
        "    print('현역병')"
      ],
      "execution_count": null,
      "outputs": [
        {
          "output_type": "stream",
          "text": [
            "키 입력 156\n",
            "4급 보충역\n"
          ],
          "name": "stdout"
        }
      ]
    },
    {
      "cell_type": "code",
      "metadata": {
        "id": "BIBjiTwZOunl",
        "colab_type": "code",
        "colab": {
          "base_uri": "https://localhost:8080/",
          "height": 70
        },
        "outputId": "4b42283c-4d49-41d5-a407-10d14a68bb62"
      },
      "source": [
        "# 9)\n",
        "kg = float(input('몸무게 '))\n",
        "cm = float(input('키(m) '))\n",
        "bmi = kg / (cm * cm)\n",
        "\n",
        "if 20 <= bmi <= 24.9:\n",
        "    print('군 면제 몸무게 1급')\n",
        "elif 18.5 <= bmi <= 19.9:\n",
        "    print('군 면제 몸무게 2급')\n",
        "elif (16 <= bmi <= 18.4) or (30 <= bmi <= 34.9):\n",
        "    print('군 면제 몸무게 3급')\n",
        "else:\n",
        "    print('군 면제 몸무게 4급')"
      ],
      "execution_count": null,
      "outputs": [
        {
          "output_type": "stream",
          "text": [
            "몸무게 56\n",
            "키(m) 1.8\n",
            "군 면제 몸무게 3급\n"
          ],
          "name": "stdout"
        }
      ]
    },
    {
      "cell_type": "code",
      "metadata": {
        "id": "mRapG52-O8Hb",
        "colab_type": "code",
        "colab": {
          "base_uri": "https://localhost:8080/",
          "height": 70
        },
        "outputId": "9232c9b7-e01d-4771-c350-91ab46317b08"
      },
      "source": [
        "# 10)\n",
        "gender = input('성별')\n",
        "old = int(input('나이'))\n",
        "\n",
        "if gender == '여':\n",
        "    if old >= 20:\n",
        "        print('적립금의 2배 적립')\n",
        "    elif old >= 30:\n",
        "        print('적립금의 3배 적립')\n",
        "    else:\n",
        "        print('적립금의 1.5배 적립')\n",
        "else:\n",
        "    print('적립금의 2배 적립')"
      ],
      "execution_count": null,
      "outputs": [
        {
          "output_type": "stream",
          "text": [
            "성별여\n",
            "나이25\n",
            "적립금의 2배 적립\n"
          ],
          "name": "stdout"
        }
      ]
    },
    {
      "cell_type": "code",
      "metadata": {
        "id": "F2Qm5JDzPztY",
        "colab_type": "code",
        "colab": {
          "base_uri": "https://localhost:8080/",
          "height": 70
        },
        "outputId": "50b35dfe-c222-4221-ea8c-6e8a547bf565"
      },
      "source": [
        "# 11)\n",
        "number1 = int(input(\"number1\"))\n",
        "number2 = int(input(\"number2\"))\n",
        "\n",
        "if number1 > number2:\n",
        "    if (number1 % 2) == 0:\n",
        "        print('첫번째 숫자가 큰 수이고 짝수')\n",
        "    else:\n",
        "        print('첫번째 숫자가 큰 수이고 홀수')\n",
        "elif number1 < number2:\n",
        "    if (number2 % 2) == 0:\n",
        "        print('두번째 숫자가 큰 수이고 짝수')\n",
        "    else:\n",
        "        print('두번째 숫자가 큰 수이고 홀수')\n",
        "else:\n",
        "    print('두 수는 같은 수이다.')"
      ],
      "execution_count": null,
      "outputs": [
        {
          "output_type": "stream",
          "text": [
            "number110\n",
            "number28\n",
            "첫번째 숫자가 큰 수이고 짝수\n"
          ],
          "name": "stdout"
        }
      ]
    },
    {
      "cell_type": "code",
      "metadata": {
        "id": "N3Z2peYcQMNZ",
        "colab_type": "code",
        "colab": {
          "base_uri": "https://localhost:8080/",
          "height": 87
        },
        "outputId": "665f816c-ac1f-466f-d690-91360b2dcf27"
      },
      "source": [
        "# 12)\n",
        "t1 = int(input(\"첫번째 변\"))\n",
        "t2 = int(input(\"두번째 변\"))\n",
        "t3 = int(input(\"세번째 변(가장 긴 변)\"))\n",
        "\n",
        "if (t1 + t2) <= t3:\n",
        "    print('삼각형이 아니다.')\n",
        "elif (t1 == t2 == t3):\n",
        "    print('정삼각형')\n",
        "elif (t1 == t2) or (t1 == t3) or (t2 == t3):\n",
        "    print('이등변삼각형')\n",
        "elif ((t3**2) == (t1**2 + t2**2)):\n",
        "    print('직각삼각형')\n",
        "else:\n",
        "    print('삼각형')"
      ],
      "execution_count": null,
      "outputs": [
        {
          "output_type": "stream",
          "text": [
            "첫번째 변10\n",
            "두번째 변10\n",
            "세번째 변(가장 긴 변)15\n",
            "이등변삼각형\n"
          ],
          "name": "stdout"
        }
      ]
    },
    {
      "cell_type": "code",
      "metadata": {
        "id": "nPjN8zcHRBC_",
        "colab_type": "code",
        "colab": {
          "base_uri": "https://localhost:8080/",
          "height": 134
        },
        "outputId": "9b0adbec-f34b-440b-9a43-82569801d80d"
      },
      "source": [
        "# 13)\n",
        "point = int(input('점수 입력:'))\n",
        "if point >= 90:\n",
        "print('A')\n",
        "elif point >= 80:\n",
        "print('B')\n",
        "elif point >= 70:\n",
        "print('C')\n",
        "else:\n",
        "print('D')\n",
        "#조건문 다음 들여쓰기가 되어있지 않다."
      ],
      "execution_count": null,
      "outputs": [
        {
          "output_type": "error",
          "ename": "IndentationError",
          "evalue": "ignored",
          "traceback": [
            "\u001b[0;36m  File \u001b[0;32m\"<ipython-input-23-c9b0d70ac268>\"\u001b[0;36m, line \u001b[0;32m4\u001b[0m\n\u001b[0;31m    print('A')\u001b[0m\n\u001b[0m        ^\u001b[0m\n\u001b[0;31mIndentationError\u001b[0m\u001b[0;31m:\u001b[0m expected an indented block\n"
          ]
        }
      ]
    },
    {
      "cell_type": "code",
      "metadata": {
        "id": "DrbU2MyjRIgY",
        "colab_type": "code",
        "colab": {
          "base_uri": "https://localhost:8080/",
          "height": 70
        },
        "outputId": "67cdf6d2-2d4e-4826-cd47-88a410ee9a0d"
      },
      "source": [
        "# 14)\n",
        "sem = int(input('수료한 학기'))\n",
        "avg_grade = float(input('평균 학점'))\n",
        "\n",
        "if (sem == 0) or (sem > 8):\n",
        "    print('장학금을 받을 수 없음')\n",
        "elif avg_grade >= 4.0:\n",
        "    print('전액 장학금')\n",
        "elif avg_grade >= 3.5:\n",
        "    print('50% 장학금')\n",
        "elif avg_grade >= 3.0:\n",
        "    print('30% 장학금')\n",
        "else:\n",
        "    print('장학금을 받을 수 없음')"
      ],
      "execution_count": null,
      "outputs": [
        {
          "output_type": "stream",
          "text": [
            "수료한 학기4\n",
            "평균 학점3.3\n",
            "30% 장학금\n"
          ],
          "name": "stdout"
        }
      ]
    },
    {
      "cell_type": "code",
      "metadata": {
        "id": "J3SbXHSmRicL",
        "colab_type": "code",
        "colab": {
          "base_uri": "https://localhost:8080/",
          "height": 70
        },
        "outputId": "4866a49d-b57d-46ee-ffbf-7ff0ab35b476"
      },
      "source": [
        "# 15)\n",
        "hour = int(input('출근 시각의 시'))\n",
        "min = int(input('출근 시각의 분'))\n",
        "\n",
        "if hour == 9:\n",
        "    if min > 30:\n",
        "        print('지각')\n",
        "    else:\n",
        "        print('정시출근')\n",
        "elif hour < 9:\n",
        "    print('정시 출근')\n",
        "else:\n",
        "    print('지각')"
      ],
      "execution_count": null,
      "outputs": [
        {
          "output_type": "stream",
          "text": [
            "출근 시각의 시9\n",
            "출근 시각의 분31\n",
            "지각\n"
          ],
          "name": "stdout"
        }
      ]
    },
    {
      "cell_type": "code",
      "metadata": {
        "id": "Do9tPZe9RyWp",
        "colab_type": "code",
        "colab": {
          "base_uri": "https://localhost:8080/",
          "height": 87
        },
        "outputId": "04964b3c-3dd7-4130-e686-22fcf1a18204"
      },
      "source": [
        "# 16)\n",
        "num1 = int(input(\"정수 1 \"))\n",
        "num2 = int(input(\"정수 2 \"))\n",
        "num3 = int(input(\"정수 3 \"))\n",
        "if num1 == num2:\n",
        "  num1 = max\n",
        "  if num1 >= num3:\n",
        "    print(num1)\n",
        "  else:\n",
        "    print(num3)\n",
        "else:\n",
        "  max = num2\n",
        "  if num2 >= num3:\n",
        "    print(num2)\n",
        "  else:\n",
        "    print(num3)"
      ],
      "execution_count": null,
      "outputs": [
        {
          "output_type": "stream",
          "text": [
            "정수 1 5\n",
            "정수 2 6\n",
            "정수 3 7\n",
            "7\n"
          ],
          "name": "stdout"
        }
      ]
    },
    {
      "cell_type": "code",
      "metadata": {
        "id": "SzPJqnKHX5w7",
        "colab_type": "code",
        "colab": {
          "base_uri": "https://localhost:8080/",
          "height": 70
        },
        "outputId": "304cc24f-6eb4-43da-8cf0-0ab47a6e2700"
      },
      "source": [
        "# 17)\n",
        "num1 = int(input(\"정수 1\"))\n",
        "num2 = int(input(\"정수 2\"))\n",
        "total = num1 + num2\n",
        "\n",
        "if (total % 2) == 0:\n",
        "    if (total % 3) == 0:\n",
        "        print('합은 짝수이며 3의 배수이다.')\n",
        "    else:\n",
        "        print('합은 짝수이며 3의 배수는 아니다.')\n",
        "elif (total % 3) == 0:\n",
        "    print('합은 홀수이며 3의 배수이다.')\n",
        "else:\n",
        "    print('합은 홀수이며 3의 배수는 아니다.')"
      ],
      "execution_count": null,
      "outputs": [
        {
          "output_type": "stream",
          "text": [
            "정수 16\n",
            "정수 29\n",
            "합은 홀수이며 3의 배수이다.\n"
          ],
          "name": "stdout"
        }
      ]
    },
    {
      "cell_type": "code",
      "metadata": {
        "id": "KvTqqgRdYeFP",
        "colab_type": "code",
        "colab": {
          "base_uri": "https://localhost:8080/",
          "height": 70
        },
        "outputId": "fc255919-bc1e-4eaa-c5c3-1132d04aa008"
      },
      "source": [
        "# 18)\n",
        "lucky_num = int(input('행운의 숫자 입력'))\n",
        "k_num = int(input('한국인이 좋아하는 숫자 입력'))\n",
        "\n",
        "if (lucky_num == 7) and (k_num == 3):\n",
        "    print('둘 다 정답')\n",
        "elif (lucky_num == 7) and (k_num != 3):\n",
        "    print('행운의 숫자만 정답')\n",
        "elif (lucky_num != 7) and (k_num == 3):\n",
        "    print('한국인이 좋아하는 숫자만 정답')\n",
        "else:\n",
        "    print('둘 다 오답')"
      ],
      "execution_count": null,
      "outputs": [
        {
          "output_type": "stream",
          "text": [
            "행운의 숫자 입력7\n",
            "한국인이 좋아하는 숫자 입력7\n",
            "행운의 숫자만 정답\n"
          ],
          "name": "stdout"
        }
      ]
    },
    {
      "cell_type": "code",
      "metadata": {
        "id": "2_l-PQ-aYypR",
        "colab_type": "code",
        "colab": {
          "base_uri": "https://localhost:8080/",
          "height": 52
        },
        "outputId": "a5782166-6467-499c-f5d9-d3086e92a53f"
      },
      "source": [
        "#19)\n",
        "luv = input(\"'사랑해'라는 말은 외국어로? \")\n",
        "\n",
        "if luv == 'I love you':\n",
        "    print('영어')\n",
        "elif luv == 'Ti amo':\n",
        "    print('이탈리아어')\n",
        "elif luv == 'Aishiteru':\n",
        "    print('일본어')\n",
        "elif luv == 'Te qiero':\n",
        "    print('스페인어')\n",
        "elif luv == 'Wo ai ni':\n",
        "    print('중국어')\n",
        "elif luv == 'Ich liebe dich':\n",
        "    print('독일어')\n",
        "else:\n",
        "    print('잘 모르겠습니다')"
      ],
      "execution_count": null,
      "outputs": [
        {
          "output_type": "stream",
          "text": [
            "'사랑해'라는 말은 외국어로? Ti amo\n",
            "이탈리아어\n"
          ],
          "name": "stdout"
        }
      ]
    },
    {
      "cell_type": "code",
      "metadata": {
        "id": "B39b7wL7Y-Yl",
        "colab_type": "code",
        "colab": {
          "base_uri": "https://localhost:8080/",
          "height": 87
        },
        "outputId": "853ecb2b-0fb5-431b-8f9e-4916d16848dd"
      },
      "source": [
        "# 20)\n",
        "num1 = int(input(\"정수 1 입력\"))\n",
        "num2 = int(input(\"정수 2 입력\"))\n",
        "num3 = int(input(\"정수 3 입력\"))\n",
        "\n",
        "if num1 <= num2:\n",
        "    min = num1\n",
        "    if num1 <= num3:\n",
        "        print('가장 작은 수 :', min)\n",
        "    else:\n",
        "        min = num3\n",
        "        print('가장 작은 수 :', min)\n",
        "else:\n",
        "    min = num2\n",
        "    if num2 <= num3:\n",
        "        print('가장 작은 수 :', min)\n",
        "    else:\n",
        "        min = num3\n",
        "        print('가장 작은 수 :', min)\n"
      ],
      "execution_count": null,
      "outputs": [
        {
          "output_type": "stream",
          "text": [
            "정수 1 입력6\n",
            "정수 2 입력8\n",
            "정수 3 입력7\n",
            "가장 작은 수 : 6\n"
          ],
          "name": "stdout"
        }
      ]
    },
    {
      "cell_type": "code",
      "metadata": {
        "id": "2MZ8_tCCZ7oc",
        "colab_type": "code",
        "colab": {
          "base_uri": "https://localhost:8080/",
          "height": 87
        },
        "outputId": "eb0883a0-9f37-47fd-a1a6-b423a923e777"
      },
      "source": [
        "# 21)\n",
        "num1 = int(input(\"정수 1 입력\"))\n",
        "num2 = int(input(\"정수 2 입력\"))\n",
        "num3 = int(input(\"정수 3 입력\"))\n",
        "\n",
        "total= num1 + num2 + num3\n",
        "\n",
        "if (total % 2) == 0:\n",
        "    if num1 >= num2:\n",
        "        max = num1\n",
        "        if num1 >= num3:\n",
        "            print('합은 짝수, 가장 큰 수는 %d' % max)\n",
        "        else:\n",
        "            max = num3\n",
        "            print('합은 짝수, 가장 큰 수는 %d' % max)\n",
        "    else:\n",
        "        max = num2\n",
        "        if num2 >= num3:\n",
        "            print('합은 짝수, 가장 큰 수는 %d' % max)\n",
        "        else:\n",
        "            max = num3\n",
        "            print('합은 짝수, 가장 큰 수는 %d' % max)\n",
        "else:\n",
        "    print('합은 홀수, %d' % total)"
      ],
      "execution_count": null,
      "outputs": [
        {
          "output_type": "stream",
          "text": [
            "정수 1 입력4\n",
            "정수 2 입력8\n",
            "정수 3 입력10\n",
            "합은 짝수, 가장 큰 수는 10\n"
          ],
          "name": "stdout"
        }
      ]
    },
    {
      "cell_type": "code",
      "metadata": {
        "id": "49PHHxMTbjz1",
        "colab_type": "code",
        "colab": {
          "base_uri": "https://localhost:8080/",
          "height": 105
        },
        "outputId": "749a8ff2-e72d-493a-d3ea-0ca8977c13c3"
      },
      "source": [
        "# 22)\n",
        "x1 = int(input(\"점1의 x좌표\"))\n",
        "y1 = int(input(\"점1의 y좌표\"))\n",
        "x2 = int(input(\"점2의 x좌표\"))\n",
        "y2 = int(input(\"점2의 y좌표\"))\n",
        "\n",
        "if (x1 >= x2) and (y1 >= y2):\n",
        "  print(((x1 - x2)**2+(y1 - y2)**2)**0.5)\n",
        " \n",
        "elif (x1 >= x2) and (y1 < y2):\n",
        "  print(((x1 - x2)**2+(y1 - y2)**2)**0.5)\n",
        "  \n",
        "elif (x1 < x2) and (y1 >= y2):\n",
        "  print(((x1 - x2)**2+(y1 - y2)**2)**0.5)\n",
        "  \n",
        "else :\n",
        "  print(((x1 - x2)**2+(y1 - y2)**2)**0.5) "
      ],
      "execution_count": null,
      "outputs": [
        {
          "output_type": "stream",
          "text": [
            "점1의 x좌표10\n",
            "점1의 y좌표12\n",
            "점2의 x좌표5\n",
            "점2의 y좌표15\n",
            "5.830951894845301\n"
          ],
          "name": "stdout"
        }
      ]
    },
    {
      "cell_type": "code",
      "metadata": {
        "id": "Fj-W7W2Qdyow",
        "colab_type": "code",
        "colab": {
          "base_uri": "https://localhost:8080/",
          "height": 87
        },
        "outputId": "717819cd-e716-4fd6-bf83-afc027e5af1b"
      },
      "source": [
        "# 23)\n",
        "time = int(input('출국 전 남은 기간 : '))\n",
        "country = input('여행할 국가 : ')\n",
        "\n",
        "UK = 70\n",
        "France = 67\n",
        "Germany = 63\n",
        "Greece = 60\n",
        "\n",
        "if time >= 45:\n",
        "    if country == '영국':\n",
        "        price = UK * 0.95\n",
        "        print('5% 할인')\n",
        "        print('가격 :',price)\n",
        "    elif country == '프랑스':\n",
        "        price = France * 0.95\n",
        "        print('5% 할인')\n",
        "        print('가격 :',price)\n",
        "    elif country == '독일':\n",
        "        price = Germany * 0.95\n",
        "        print('5% 할인')\n",
        "        print('가격 :',price)\n",
        "    elif country == '그리스':\n",
        "        price = Greece * 0.95\n",
        "        print('5% 할인')\n",
        "        print('가격 :',price)\n",
        "    else:\n",
        "        print('해당 국가 없음')\n",
        "elif time >= 30:\n",
        "    if country == '영국':\n",
        "        price = UK * 0.97\n",
        "        print('3% 할인')\n",
        "        print('가격 :',price)\n",
        "    elif country == '프랑스':\n",
        "        price = France * 0.97\n",
        "        print('3% 할인')\n",
        "        print('가격 :',price)\n",
        "    elif country == '독일':\n",
        "        price = Germany * 0.97\n",
        "        print('3% 할인')\n",
        "        print('가격 :',price)\n",
        "    elif country == '그리스':\n",
        "        price = Greece * 0.97\n",
        "        print('3% 할인')\n",
        "        print('가격 :',price)\n",
        "    else:\n",
        "        print('해당 국가 없음')\n",
        "else:\n",
        "    if country == '영국':\n",
        "        print('가격 :',UK)\n",
        "    elif country == '프랑스':\n",
        "        print('가격 :',France)\n",
        "    elif country == '독일':\n",
        "        print('가격 :',Germany)\n",
        "    elif country == '그리스':\n",
        "        print('가격 :',Greece)\n",
        "    else:\n",
        "        print('해당 국가 없음')"
      ],
      "execution_count": null,
      "outputs": [
        {
          "output_type": "stream",
          "text": [
            "출국 전 남은 기간 : 45\n",
            "여행할 국가 : 프랑스\n",
            "5% 할인\n",
            "가격 : 63.65\n"
          ],
          "name": "stdout"
        }
      ]
    },
    {
      "cell_type": "code",
      "metadata": {
        "id": "1hI3bjgze5Tc",
        "colab_type": "code",
        "colab": {}
      },
      "source": [
        ""
      ],
      "execution_count": null,
      "outputs": []
    },
    {
      "cell_type": "markdown",
      "metadata": {
        "id": "k9EvTpV7iA1Z",
        "colab_type": "text"
      },
      "source": [
        "#7장. 구성이 다른 자료 – list\n",
        "## 성명:한규현 학과:경제학과 학번:12173082"
      ]
    },
    {
      "cell_type": "code",
      "metadata": {
        "id": "XZMY5Ou6iUKF",
        "colab_type": "code",
        "colab": {
          "base_uri": "https://localhost:8080/",
          "height": 34
        },
        "outputId": "d337d351-8440-4a67-80a4-8a9c73cd027c"
      },
      "source": [
        "# 실습 7-1\n",
        "list1=[\"risk\",\"issue\",\"test\",\"maintenance\",\"maturiy\"]\n",
        "list2=[\"security\",\"plan\",\"design\",\"systematic\",\"safety\"]\n",
        "list3=[\"maintenance\",\"verification\",\"validation\"]\n",
        "\n",
        "if \"maintenance\" in list1 and len(list1)>=5:\n",
        "  print(\"list1은 적합합니다.\")\n",
        "elif \"maintenance\" in list2 and len(list2)>=5:\n",
        "  print(\"list2은 적합합니다.\")\n",
        "elif \"maintenance\" in list3 and len(list3)>=5:\n",
        "  print(\"list3은 적합합니다.\")\n",
        "else:\n",
        "  print(\"적합한 리스트가 없습니다\")\n"
      ],
      "execution_count": null,
      "outputs": [
        {
          "output_type": "stream",
          "text": [
            "list1은 적합합니다.\n"
          ],
          "name": "stdout"
        }
      ]
    },
    {
      "cell_type": "code",
      "metadata": {
        "id": "DsWLpstGj3_S",
        "colab_type": "code",
        "colab": {
          "base_uri": "https://localhost:8080/",
          "height": 34
        },
        "outputId": "8a732f1a-1402-4c04-b76c-ff1526c5412e"
      },
      "source": [
        "# 퀴즈 7-1\n",
        "list1 = ['a', 'b', ['c', 'd'], '1', [2, 3], 'e']\n",
        "len(list1)"
      ],
      "execution_count": null,
      "outputs": [
        {
          "output_type": "execute_result",
          "data": {
            "text/plain": [
              "6"
            ]
          },
          "metadata": {
            "tags": []
          },
          "execution_count": 12
        }
      ]
    },
    {
      "cell_type": "code",
      "metadata": {
        "id": "WaL3KZQbqMpP",
        "colab_type": "code",
        "colab": {
          "base_uri": "https://localhost:8080/",
          "height": 34
        },
        "outputId": "a989a0d8-7598-4052-93c9-500cf37798b9"
      },
      "source": [
        "['b'] in list1"
      ],
      "execution_count": null,
      "outputs": [
        {
          "output_type": "execute_result",
          "data": {
            "text/plain": [
              "False"
            ]
          },
          "metadata": {
            "tags": []
          },
          "execution_count": 13
        }
      ]
    },
    {
      "cell_type": "code",
      "metadata": {
        "id": "hzgBF7H2qOuu",
        "colab_type": "code",
        "colab": {
          "base_uri": "https://localhost:8080/",
          "height": 34
        },
        "outputId": "4bbbcc63-a10e-4a73-fb13-0b3494b7f696"
      },
      "source": [
        "['c', 'd'] in list1"
      ],
      "execution_count": null,
      "outputs": [
        {
          "output_type": "execute_result",
          "data": {
            "text/plain": [
              "True"
            ]
          },
          "metadata": {
            "tags": []
          },
          "execution_count": 14
        }
      ]
    },
    {
      "cell_type": "code",
      "metadata": {
        "id": "NPBiufcHqQA1",
        "colab_type": "code",
        "colab": {
          "base_uri": "https://localhost:8080/",
          "height": 34
        },
        "outputId": "0d1cf37b-4027-4bd5-e5ee-4ace5c2b3e33"
      },
      "source": [
        "'a' in list1"
      ],
      "execution_count": null,
      "outputs": [
        {
          "output_type": "execute_result",
          "data": {
            "text/plain": [
              "True"
            ]
          },
          "metadata": {
            "tags": []
          },
          "execution_count": 15
        }
      ]
    },
    {
      "cell_type": "code",
      "metadata": {
        "id": "9sBS5cFzqRP7",
        "colab_type": "code",
        "colab": {
          "base_uri": "https://localhost:8080/",
          "height": 34
        },
        "outputId": "ab81cd12-a880-430e-be43-9a3e58bc4306"
      },
      "source": [
        "#퀴즈 7-2\n",
        "list_odd = [1,3,5,7,9]\n",
        "list_even = [2,4,6,8,10]\n",
        "list_odd[-3]"
      ],
      "execution_count": null,
      "outputs": [
        {
          "output_type": "execute_result",
          "data": {
            "text/plain": [
              "5"
            ]
          },
          "metadata": {
            "tags": []
          },
          "execution_count": 16
        }
      ]
    },
    {
      "cell_type": "code",
      "metadata": {
        "id": "jWUhEXg2qs20",
        "colab_type": "code",
        "colab": {
          "base_uri": "https://localhost:8080/",
          "height": 34
        },
        "outputId": "d97abf37-4760-4974-c3ee-3e89aedc323e"
      },
      "source": [
        "list_even[1+3]"
      ],
      "execution_count": null,
      "outputs": [
        {
          "output_type": "execute_result",
          "data": {
            "text/plain": [
              "10"
            ]
          },
          "metadata": {
            "tags": []
          },
          "execution_count": 17
        }
      ]
    },
    {
      "cell_type": "code",
      "metadata": {
        "id": "NiomNY-fq1er",
        "colab_type": "code",
        "colab": {
          "base_uri": "https://localhost:8080/",
          "height": 34
        },
        "outputId": "449e8541-5e44-4142-e611-d9969ec4d720"
      },
      "source": [
        "list_odd + list_even"
      ],
      "execution_count": null,
      "outputs": [
        {
          "output_type": "execute_result",
          "data": {
            "text/plain": [
              "[1, 3, 5, 7, 9, 2, 4, 6, 8, 10]"
            ]
          },
          "metadata": {
            "tags": []
          },
          "execution_count": 18
        }
      ]
    },
    {
      "cell_type": "code",
      "metadata": {
        "id": "6RqXQNp8q6uN",
        "colab_type": "code",
        "colab": {
          "base_uri": "https://localhost:8080/",
          "height": 34
        },
        "outputId": "90cc01fc-904c-4b46-b567-29b27d572ccd"
      },
      "source": [
        "list_odd * 2"
      ],
      "execution_count": null,
      "outputs": [
        {
          "output_type": "execute_result",
          "data": {
            "text/plain": [
              "[1, 3, 5, 7, 9, 1, 3, 5, 7, 9]"
            ]
          },
          "metadata": {
            "tags": []
          },
          "execution_count": 19
        }
      ]
    },
    {
      "cell_type": "code",
      "metadata": {
        "id": "MYJRCP4Bq8Lv",
        "colab_type": "code",
        "colab": {
          "base_uri": "https://localhost:8080/",
          "height": 34
        },
        "outputId": "43e6ffa6-10a4-46c5-b772-726499699814"
      },
      "source": [
        "# 퀴즈 7-3\n",
        "list_1 = [1,2,3,4,5,6,7,8,9]\n",
        "list_1[:3]"
      ],
      "execution_count": null,
      "outputs": [
        {
          "output_type": "execute_result",
          "data": {
            "text/plain": [
              "[1, 2, 3]"
            ]
          },
          "metadata": {
            "tags": []
          },
          "execution_count": 20
        }
      ]
    },
    {
      "cell_type": "code",
      "metadata": {
        "id": "XFW0KB7Bq_xS",
        "colab_type": "code",
        "colab": {
          "base_uri": "https://localhost:8080/",
          "height": 34
        },
        "outputId": "572e2171-967d-499e-b056-6197c14b60f5"
      },
      "source": [
        "list_1[0:3]"
      ],
      "execution_count": null,
      "outputs": [
        {
          "output_type": "execute_result",
          "data": {
            "text/plain": [
              "[1, 2, 3]"
            ]
          },
          "metadata": {
            "tags": []
          },
          "execution_count": 21
        }
      ]
    },
    {
      "cell_type": "code",
      "metadata": {
        "id": "LZ5w6tZYrBPW",
        "colab_type": "code",
        "colab": {
          "base_uri": "https://localhost:8080/",
          "height": 34
        },
        "outputId": "75c5dd4a-95d2-4eba-fe6c-0142028afcdc"
      },
      "source": [
        "list_1[3:5]"
      ],
      "execution_count": null,
      "outputs": [
        {
          "output_type": "execute_result",
          "data": {
            "text/plain": [
              "[4, 5]"
            ]
          },
          "metadata": {
            "tags": []
          },
          "execution_count": 22
        }
      ]
    },
    {
      "cell_type": "code",
      "metadata": {
        "id": "6sv5OppCrCtV",
        "colab_type": "code",
        "colab": {
          "base_uri": "https://localhost:8080/",
          "height": 34
        },
        "outputId": "59ad3df9-7af8-458a-ee04-c20a89342db3"
      },
      "source": [
        "list_1[3:]"
      ],
      "execution_count": null,
      "outputs": [
        {
          "output_type": "execute_result",
          "data": {
            "text/plain": [
              "[4, 5, 6, 7, 8, 9]"
            ]
          },
          "metadata": {
            "tags": []
          },
          "execution_count": 23
        }
      ]
    },
    {
      "cell_type": "code",
      "metadata": {
        "id": "Xoknv0bCrDzL",
        "colab_type": "code",
        "colab": {
          "base_uri": "https://localhost:8080/",
          "height": 34
        },
        "outputId": "1cc3ee07-a350-4d34-e355-2642fc60da41"
      },
      "source": [
        "list_1[3:999]"
      ],
      "execution_count": null,
      "outputs": [
        {
          "output_type": "execute_result",
          "data": {
            "text/plain": [
              "[4, 5, 6, 7, 8, 9]"
            ]
          },
          "metadata": {
            "tags": []
          },
          "execution_count": 24
        }
      ]
    },
    {
      "cell_type": "code",
      "metadata": {
        "id": "xjZrSJHPrE_7",
        "colab_type": "code",
        "colab": {
          "base_uri": "https://localhost:8080/",
          "height": 34
        },
        "outputId": "068ea963-e0d8-4748-b200-e488ebb4c4c4"
      },
      "source": [
        "# 실습 7-2\n",
        "spell_re = ['r','e']\n",
        "spell_serve = ['s','e','r','v','e']\n",
        "spell_reserve = spell_re + spell_serve\n",
        "spell_reserve"
      ],
      "execution_count": null,
      "outputs": [
        {
          "output_type": "execute_result",
          "data": {
            "text/plain": [
              "['r', 'e', 's', 'e', 'r', 'v', 'e']"
            ]
          },
          "metadata": {
            "tags": []
          },
          "execution_count": 25
        }
      ]
    },
    {
      "cell_type": "code",
      "metadata": {
        "id": "EcfZ-CqjsVst",
        "colab_type": "code",
        "colab": {
          "base_uri": "https://localhost:8080/",
          "height": 34
        },
        "outputId": "a303e0e4-c9c7-47a0-fd91-fd3573184562"
      },
      "source": [
        "spell_reserve[0:2] = ['o','b']\n",
        "spell_reserve"
      ],
      "execution_count": null,
      "outputs": [
        {
          "output_type": "execute_result",
          "data": {
            "text/plain": [
              "['o', 'b', 's', 'e', 'r', 'v', 'e']"
            ]
          },
          "metadata": {
            "tags": []
          },
          "execution_count": 26
        }
      ]
    },
    {
      "cell_type": "code",
      "metadata": {
        "id": "QVzoZsB-sYI_",
        "colab_type": "code",
        "colab": {
          "base_uri": "https://localhost:8080/",
          "height": 34
        },
        "outputId": "b5d7efbe-dd47-4de8-ed91-6993e65f3f51"
      },
      "source": [
        "# 퀴즈 7-4\n",
        "string = ['a','b','c','d','e','f']\n",
        "string[0:3]"
      ],
      "execution_count": null,
      "outputs": [
        {
          "output_type": "execute_result",
          "data": {
            "text/plain": [
              "['a', 'b', 'c']"
            ]
          },
          "metadata": {
            "tags": []
          },
          "execution_count": 27
        }
      ]
    },
    {
      "cell_type": "code",
      "metadata": {
        "id": "1f_AxJSdscIX",
        "colab_type": "code",
        "colab": {
          "base_uri": "https://localhost:8080/",
          "height": 34
        },
        "outputId": "3627cafd-13b9-4d41-9811-8e2401d18f8a"
      },
      "source": [
        "string[2:5]"
      ],
      "execution_count": null,
      "outputs": [
        {
          "output_type": "execute_result",
          "data": {
            "text/plain": [
              "['c', 'd', 'e']"
            ]
          },
          "metadata": {
            "tags": []
          },
          "execution_count": 28
        }
      ]
    },
    {
      "cell_type": "code",
      "metadata": {
        "id": "2GgL86mysdfe",
        "colab_type": "code",
        "colab": {
          "base_uri": "https://localhost:8080/",
          "height": 34
        },
        "outputId": "998f368e-e156-4301-a894-4ed4f726c079"
      },
      "source": [
        "string[1:3]"
      ],
      "execution_count": null,
      "outputs": [
        {
          "output_type": "execute_result",
          "data": {
            "text/plain": [
              "['b', 'c']"
            ]
          },
          "metadata": {
            "tags": []
          },
          "execution_count": 29
        }
      ]
    },
    {
      "cell_type": "code",
      "metadata": {
        "id": "HOPLGAEWseqU",
        "colab_type": "code",
        "colab": {
          "base_uri": "https://localhost:8080/",
          "height": 34
        },
        "outputId": "764d9061-b230-4d37-ee37-e04b107b49dd"
      },
      "source": [
        "#연습문제 1)\n",
        "list3 = ['n','e','w','l','i','s','t']\n",
        "list4 = ['n','e','w','s','t','r','i','n','g']\n",
        "list_new = list3[:3] + list4[6:]\n",
        "print(list_new)"
      ],
      "execution_count": null,
      "outputs": [
        {
          "output_type": "stream",
          "text": [
            "['n', 'e', 'w', 'i', 'n', 'g']\n"
          ],
          "name": "stdout"
        }
      ]
    },
    {
      "cell_type": "code",
      "metadata": {
        "id": "JdlxzyYUsimT",
        "colab_type": "code",
        "colab": {
          "base_uri": "https://localhost:8080/",
          "height": 34
        },
        "outputId": "9790315d-2ff5-463e-eb9b-9da367264cad"
      },
      "source": [
        "# 2)\n",
        "title = ['P','r','o','g','r','a','m','m','i','n','g']\n",
        "title[:7]"
      ],
      "execution_count": null,
      "outputs": [
        {
          "output_type": "execute_result",
          "data": {
            "text/plain": [
              "['P', 'r', 'o', 'g', 'r', 'a', 'm']"
            ]
          },
          "metadata": {
            "tags": []
          },
          "execution_count": 31
        }
      ]
    },
    {
      "cell_type": "code",
      "metadata": {
        "id": "6vnme8cUsliA",
        "colab_type": "code",
        "colab": {
          "base_uri": "https://localhost:8080/",
          "height": 34
        },
        "outputId": "d6b80a1d-7920-403f-c886-81007207773e"
      },
      "source": [
        "# 3)\n",
        "word = ['happy','love','I','am','You']\n",
        "word_Iamhappy = word[2] + ' ' + word[3] + ' ' + word[0]\n",
        "print(word_Iamhappy)"
      ],
      "execution_count": null,
      "outputs": [
        {
          "output_type": "stream",
          "text": [
            "I am happy\n"
          ],
          "name": "stdout"
        }
      ]
    },
    {
      "cell_type": "code",
      "metadata": {
        "id": "h9C52hgKsoBI",
        "colab_type": "code",
        "colab": {
          "base_uri": "https://localhost:8080/",
          "height": 34
        },
        "outputId": "dd29d286-82f1-4241-e04b-01c6ec921ae1"
      },
      "source": [
        "# 4)\n",
        "names = ['철수','영희','수지','수정','길동','영철']\n",
        "'수정' in names"
      ],
      "execution_count": null,
      "outputs": [
        {
          "output_type": "execute_result",
          "data": {
            "text/plain": [
              "True"
            ]
          },
          "metadata": {
            "tags": []
          },
          "execution_count": 33
        }
      ]
    },
    {
      "cell_type": "code",
      "metadata": {
        "id": "1h21RRAssy-a",
        "colab_type": "code",
        "colab": {
          "base_uri": "https://localhost:8080/",
          "height": 34
        },
        "outputId": "eaa5b6ea-39df-4d7e-f6af-8f0d1aa450fe"
      },
      "source": [
        "# 5)\n",
        "rotto = [1,2,3,6,7]\n",
        "if len(rotto) == 6:\n",
        "    print('통과')\n",
        "else:\n",
        "    print('6개의 숫자를 입력하시오.')"
      ],
      "execution_count": null,
      "outputs": [
        {
          "output_type": "stream",
          "text": [
            "6개의 숫자를 입력하시오.\n"
          ],
          "name": "stdout"
        }
      ]
    },
    {
      "cell_type": "code",
      "metadata": {
        "id": "Npk3smLOtKIi",
        "colab_type": "code",
        "colab": {
          "base_uri": "https://localhost:8080/",
          "height": 34
        },
        "outputId": "0f323781-c630-45ea-8bf0-8834732c325b"
      },
      "source": [
        "# 6)\n",
        "word = ['h','i','m','y','n','a','m','e','i','s']\n",
        "print(word[4:8])"
      ],
      "execution_count": null,
      "outputs": [
        {
          "output_type": "stream",
          "text": [
            "['n', 'a', 'm', 'e']\n"
          ],
          "name": "stdout"
        }
      ]
    },
    {
      "cell_type": "code",
      "metadata": {
        "id": "O5KVXvdUteHy",
        "colab_type": "code",
        "colab": {
          "base_uri": "https://localhost:8080/",
          "height": 34
        },
        "outputId": "2990f7aa-e2d4-45ff-b3c3-0c7a4db8e139"
      },
      "source": [
        "# 7)\n",
        "introduce = ['내', '이', '름', '은', '수', '지', '야']\n",
        "introduce[4:6] = ['민', '수']\n",
        "print(introduce)"
      ],
      "execution_count": null,
      "outputs": [
        {
          "output_type": "stream",
          "text": [
            "['내', '이', '름', '은', '민', '수', '야']\n"
          ],
          "name": "stdout"
        }
      ]
    },
    {
      "cell_type": "code",
      "metadata": {
        "id": "YXA1qvdFt1rm",
        "colab_type": "code",
        "colab": {
          "base_uri": "https://localhost:8080/",
          "height": 34
        },
        "outputId": "e987cd84-1472-40cf-c022-8f2b01f447ab"
      },
      "source": [
        "# 8)\n",
        "winner = ['박민아','정민호','김철수','이영희','손수정']\n",
        "'정수지' in winner"
      ],
      "execution_count": null,
      "outputs": [
        {
          "output_type": "execute_result",
          "data": {
            "text/plain": [
              "False"
            ]
          },
          "metadata": {
            "tags": []
          },
          "execution_count": 42
        }
      ]
    },
    {
      "cell_type": "code",
      "metadata": {
        "id": "dizL1k1uuBp3",
        "colab_type": "code",
        "colab": {
          "base_uri": "https://localhost:8080/",
          "height": 34
        },
        "outputId": "8ae355fe-d3ca-4e2d-e4f3-a7682e6e19cb"
      },
      "source": [
        "'김철수' not in winner"
      ],
      "execution_count": null,
      "outputs": [
        {
          "output_type": "execute_result",
          "data": {
            "text/plain": [
              "False"
            ]
          },
          "metadata": {
            "tags": []
          },
          "execution_count": 43
        }
      ]
    },
    {
      "cell_type": "code",
      "metadata": {
        "id": "SD16pQJxuEkY",
        "colab_type": "code",
        "colab": {
          "base_uri": "https://localhost:8080/",
          "height": 34
        },
        "outputId": "3bce2019-ce03-4474-fa22-08cac9bc7206"
      },
      "source": [
        "'박민아' in winner"
      ],
      "execution_count": null,
      "outputs": [
        {
          "output_type": "execute_result",
          "data": {
            "text/plain": [
              "True"
            ]
          },
          "metadata": {
            "tags": []
          },
          "execution_count": 44
        }
      ]
    },
    {
      "cell_type": "code",
      "metadata": {
        "id": "Ba0BZUazuGSl",
        "colab_type": "code",
        "colab": {
          "base_uri": "https://localhost:8080/",
          "height": 34
        },
        "outputId": "a39e56d9-f61b-4373-881f-58ab9ef714a7"
      },
      "source": [
        "'전은진' not in winner"
      ],
      "execution_count": null,
      "outputs": [
        {
          "output_type": "execute_result",
          "data": {
            "text/plain": [
              "True"
            ]
          },
          "metadata": {
            "tags": []
          },
          "execution_count": 45
        }
      ]
    },
    {
      "cell_type": "code",
      "metadata": {
        "id": "UtwF7y5kuHnS",
        "colab_type": "code",
        "colab": {
          "base_uri": "https://localhost:8080/",
          "height": 34
        },
        "outputId": "5537b3b0-6566-47d3-da59-b0c7b443923a"
      },
      "source": [
        "# 9)\n",
        "phone = ['수지','민지','철수','미소']\n",
        "phone [0] = '010-7897-4564'\n",
        "phone [1] = '010-7897-4563'\n",
        "phone [2] = '010-7897-4562'\n",
        "phone [3] = '010-7897-4561'\n",
        "print(phone)"
      ],
      "execution_count": null,
      "outputs": [
        {
          "output_type": "stream",
          "text": [
            "['010-7897-4564', '010-7897-4563', '010-7897-4562', '010-7897-4561']\n"
          ],
          "name": "stdout"
        }
      ]
    },
    {
      "cell_type": "code",
      "metadata": {
        "id": "GSGpPg9LvWRc",
        "colab_type": "code",
        "colab": {
          "base_uri": "https://localhost:8080/",
          "height": 34
        },
        "outputId": "edbf85a4-b947-4025-e425-90c212b22012"
      },
      "source": [
        "# 10)\n",
        "score = {'Peter':100, 'john':0, 'mina':55, 'tim':75, 'cony':95}\n",
        "print(score['tim'])"
      ],
      "execution_count": null,
      "outputs": [
        {
          "output_type": "stream",
          "text": [
            "75\n"
          ],
          "name": "stdout"
        }
      ]
    },
    {
      "cell_type": "code",
      "metadata": {
        "id": "jwGVYEmMvjZ1",
        "colab_type": "code",
        "colab": {
          "base_uri": "https://localhost:8080/",
          "height": 34
        },
        "outputId": "796fb780-3f3a-49d0-82ba-a2191d51bfee"
      },
      "source": [
        "# 11)\n",
        "string = ['happy','love','dog','cat']\n",
        "num = [1,2,6,3,9,5]\n",
        "empty = []\n",
        "mix = [4,0,'hi',1,'sun','x']\n",
        "\n",
        "total = (len(string)) + (len(num)) + (len(empty)) + (len(mix))\n",
        "\n",
        "print(total)"
      ],
      "execution_count": null,
      "outputs": [
        {
          "output_type": "stream",
          "text": [
            "16\n"
          ],
          "name": "stdout"
        }
      ]
    },
    {
      "cell_type": "code",
      "metadata": {
        "id": "bIfY6uOlv0KV",
        "colab_type": "code",
        "colab": {
          "base_uri": "https://localhost:8080/",
          "height": 52
        },
        "outputId": "49741eaf-c049-4017-e996-f0810315bea0"
      },
      "source": [
        "# 12)\n",
        "str_b = ['boy','is']\n",
        "str_g = ['girl','is']\n",
        "str_bad = ['bad']\n",
        "str_good = ['good']\n",
        "\n",
        "print(str_b + str_bad)\n",
        "print(str_g + str_good)"
      ],
      "execution_count": null,
      "outputs": [
        {
          "output_type": "stream",
          "text": [
            "['boy', 'is', 'bad']\n",
            "['girl', 'is', 'good']\n"
          ],
          "name": "stdout"
        }
      ]
    },
    {
      "cell_type": "code",
      "metadata": {
        "id": "jB6YLrjHwDOe",
        "colab_type": "code",
        "colab": {
          "base_uri": "https://localhost:8080/",
          "height": 34
        },
        "outputId": "37f2a0d2-4689-47c2-e9fe-d99ccd25b7af"
      },
      "source": [
        "# 13)\n",
        "spell1 = ['j','e','s','u','s']\n",
        "spell1[2:] = ['l','l','y']\n",
        "print(spell1)"
      ],
      "execution_count": null,
      "outputs": [
        {
          "output_type": "stream",
          "text": [
            "['j', 'e', 'l', 'l', 'y']\n"
          ],
          "name": "stdout"
        }
      ]
    },
    {
      "cell_type": "code",
      "metadata": {
        "id": "l50zXpD6xKS2",
        "colab_type": "code",
        "colab": {
          "base_uri": "https://localhost:8080/",
          "height": 34
        },
        "outputId": "1b856951-4121-465c-a3da-9f9beadafdc1"
      },
      "source": [
        "# 14)\n",
        "season = ['spring','summer','fall','winter']\n",
        "season2 = season * 2\n",
        "season2[4:] = ['winter'] * 4\n",
        "print(season2)"
      ],
      "execution_count": null,
      "outputs": [
        {
          "output_type": "stream",
          "text": [
            "['spring', 'summer', 'fall', 'winter', 'winter', 'winter', 'winter', 'winter']\n"
          ],
          "name": "stdout"
        }
      ]
    },
    {
      "cell_type": "code",
      "metadata": {
        "id": "UkqP128ixYmR",
        "colab_type": "code",
        "colab": {
          "base_uri": "https://localhost:8080/",
          "height": 34
        },
        "outputId": "30a55068-d34b-4085-d614-9d4d68462ffb"
      },
      "source": [
        "# 15)\n",
        "word = ['I','like','You','He','her','love','hate','dog']\n",
        "print(word[0],word[5],word[2])"
      ],
      "execution_count": null,
      "outputs": [
        {
          "output_type": "stream",
          "text": [
            "I love You\n"
          ],
          "name": "stdout"
        }
      ]
    },
    {
      "cell_type": "code",
      "metadata": {
        "id": "cHMPhld8xsjD",
        "colab_type": "code",
        "colab": {
          "base_uri": "https://localhost:8080/",
          "height": 34
        },
        "outputId": "f0a355e1-dd05-476f-f76e-8343ba30eea1"
      },
      "source": [
        "# 16)\n",
        "import random\n",
        "week = ['월','화','수','목','금','토','일']\n",
        "day = random.randint(0,6)\n",
        "print(week[day])\n"
      ],
      "execution_count": null,
      "outputs": [
        {
          "output_type": "stream",
          "text": [
            "목\n"
          ],
          "name": "stdout"
        }
      ]
    },
    {
      "cell_type": "code",
      "metadata": {
        "id": "8fQd2M30y0js",
        "colab_type": "code",
        "colab": {
          "base_uri": "https://localhost:8080/",
          "height": 34
        },
        "outputId": "6fac1325-bfa6-4482-9d8e-0962b2b2af81"
      },
      "source": [
        "# 17)\n",
        "find_word = ['t','e','c','h','n','o','l','o','g','y']\n",
        "word1 = find_word[2] + find_word[5] + find_word[7] + find_word[6]\n",
        "word2 = find_word[0] + find_word[5] + find_word[7] + find_word[6]\n",
        "word3 = find_word[1] + find_word[8] + find_word[7]\n",
        "word4 = find_word[0] + find_word[5] + find_word[9]\n",
        "print(word1,word2,word3,word4)"
      ],
      "execution_count": null,
      "outputs": [
        {
          "output_type": "stream",
          "text": [
            "cool tool ego toy\n"
          ],
          "name": "stdout"
        }
      ]
    },
    {
      "cell_type": "code",
      "metadata": {
        "id": "UxtcEKRzznZ0",
        "colab_type": "code",
        "colab": {
          "base_uri": "https://localhost:8080/",
          "height": 52
        },
        "outputId": "47b3e3f9-bfe3-4793-8aa3-0b6dfe816062"
      },
      "source": [
        "# 18)\n",
        "call = input('이름을 입력하세요')\n",
        "phone_book={'min':'010-1234-5678','jin':'010-2345-6789','jay':'010-2585-8525','ken':'010-9876-5432','ain':'010-8765-4321'}\n",
        "print(phone_book[name])"
      ],
      "execution_count": null,
      "outputs": [
        {
          "output_type": "stream",
          "text": [
            "이름을 입력하세요jin\n",
            "010-2345-6789\n"
          ],
          "name": "stdout"
        }
      ]
    },
    {
      "cell_type": "code",
      "metadata": {
        "id": "sSCRMTwD4pbF",
        "colab_type": "code",
        "colab": {
          "base_uri": "https://localhost:8080/",
          "height": 52
        },
        "outputId": "1da4312c-cf2f-4914-83d3-2b71d4ec27b9"
      },
      "source": [
        "# 19)\n",
        "num = int(input('0~5 중 하나의 숫자를 입력하세요'))\n",
        "\n",
        "goodsay = ['happy','love','sad','hot','angry','fortunate']\n",
        "\n",
        "print(goodsay[num])"
      ],
      "execution_count": null,
      "outputs": [
        {
          "output_type": "stream",
          "text": [
            "0~5 중 하나의 숫자를 입력하세요3\n",
            "hot\n"
          ],
          "name": "stdout"
        }
      ]
    },
    {
      "cell_type": "code",
      "metadata": {
        "id": "9KmRFpEx8r86",
        "colab_type": "code",
        "colab": {
          "base_uri": "https://localhost:8080/",
          "height": 34
        },
        "outputId": "13a3bf3e-b13c-4ad1-d221-be9ff0d9f8f1"
      },
      "source": [
        "# 20)\n",
        "team = ['민지','경희','상구','철수','지민']\n",
        "\n",
        "if len(team) > 3:\n",
        "    print('구성원은 최대 3명까지입니다. 줄이세요.')"
      ],
      "execution_count": null,
      "outputs": [
        {
          "output_type": "stream",
          "text": [
            "구성원은 최대 3명까지입니다. 줄이세요.\n"
          ],
          "name": "stdout"
        }
      ]
    },
    {
      "cell_type": "code",
      "metadata": {
        "id": "5pIg_laX81Yh",
        "colab_type": "code",
        "colab": {
          "base_uri": "https://localhost:8080/",
          "height": 34
        },
        "outputId": "240cb706-8977-44e9-9a1f-30165be25481"
      },
      "source": [
        "# 21)\n",
        "score2 = [90,75,30,100,85]\n",
        "\n",
        "(score2[0] + score2[1] + score2[2] + score2[3] + score2[4]) / len(score2)"
      ],
      "execution_count": null,
      "outputs": [
        {
          "output_type": "execute_result",
          "data": {
            "text/plain": [
              "76.0"
            ]
          },
          "metadata": {
            "tags": []
          },
          "execution_count": 80
        }
      ]
    },
    {
      "cell_type": "code",
      "metadata": {
        "id": "Ce3Yt-Q-88U9",
        "colab_type": "code",
        "colab": {
          "base_uri": "https://localhost:8080/",
          "height": 87
        },
        "outputId": "2c9b53d7-7d40-4209-c9d5-ddcf51ef519b"
      },
      "source": [
        "# 22)\n",
        "piano = ['도','레','미','파','솔','라','시']\n",
        "\n",
        "print('1도 화음 : ' , piano[0] , piano[2] , piano[4])\n",
        "print('4도 화음 : ' , piano[3] , piano[5] , piano[0])\n",
        "print('5도 화음 : ' , piano[4] , piano[6] , piano[2])\n",
        "\n",
        "school_bell = [piano[4],piano[4],piano[5],piano[5],piano[4],piano[4],piano[2]]\n",
        "print(school_bell)"
      ],
      "execution_count": null,
      "outputs": [
        {
          "output_type": "stream",
          "text": [
            "1도 화음 :  도 미 솔\n",
            "4도 화음 :  파 라 도\n",
            "5도 화음 :  솔 시 미\n",
            "['솔', '솔', '라', '라', '솔', '솔', '미']\n"
          ],
          "name": "stdout"
        }
      ]
    },
    {
      "cell_type": "code",
      "metadata": {
        "id": "FxNYuDob9OLJ",
        "colab_type": "code",
        "colab": {}
      },
      "source": [
        ""
      ],
      "execution_count": null,
      "outputs": []
    }
  ]
}