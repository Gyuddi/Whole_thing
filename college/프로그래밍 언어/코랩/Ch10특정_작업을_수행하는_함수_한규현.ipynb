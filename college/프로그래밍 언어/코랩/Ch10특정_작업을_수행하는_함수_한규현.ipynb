{
  "nbformat": 4,
  "nbformat_minor": 0,
  "metadata": {
    "colab": {
      "name": "특정_작업을_수행하는_함수_한규현.ipynb",
      "provenance": [],
      "collapsed_sections": []
    },
    "kernelspec": {
      "name": "python3",
      "display_name": "Python 3"
    }
  },
  "cells": [
    {
      "cell_type": "markdown",
      "metadata": {
        "id": "Cb7zRkarlo8E"
      },
      "source": [
        "#Ch_10.특정_작업을_수행하는_함수\n",
        "##성명:한규현 학과:경제학과 학번:12173082"
      ]
    },
    {
      "cell_type": "code",
      "metadata": {
        "id": "O2hl4nfEmBoE",
        "outputId": "4f9ac547-e267-4e73-f10c-991b568b87ce",
        "colab": {
          "base_uri": "https://localhost:8080/",
          "height": 52
        }
      },
      "source": [
        "#실습 10-1\n",
        "def increase_3(number):\n",
        "  print(number+3)\n",
        "number=int(input(\"n1=\"))\n",
        "increase_3(number)\n"
      ],
      "execution_count": null,
      "outputs": [
        {
          "output_type": "stream",
          "text": [
            "n1=3\n",
            "6\n"
          ],
          "name": "stdout"
        }
      ]
    },
    {
      "cell_type": "code",
      "metadata": {
        "id": "Ovl6X5Z3os6x",
        "outputId": "85de0f5b-3074-46aa-f39d-2d0448a2381a",
        "colab": {
          "base_uri": "https://localhost:8080/",
          "height": 35
        }
      },
      "source": [
        "#실습 10-2\n",
        "def list_avg(numlist):\n",
        "  sum=0\n",
        "  for num in numlist:\n",
        "    sum += num\n",
        "  avg= sum/len(numlist)\n",
        "  return avg\n",
        "math_score = [90,80,70,60,50]\n",
        "list_avg(math_score)"
      ],
      "execution_count": null,
      "outputs": [
        {
          "output_type": "execute_result",
          "data": {
            "text/plain": [
              "70.0"
            ]
          },
          "metadata": {
            "tags": []
          },
          "execution_count": 3
        }
      ]
    },
    {
      "cell_type": "code",
      "metadata": {
        "id": "3FEaNKAmqO1N",
        "outputId": "f78710ca-9840-4d56-d8cf-e7fd030e8f47",
        "colab": {
          "base_uri": "https://localhost:8080/",
          "height": 70
        }
      },
      "source": [
        "# 퀴즈 10-1\n",
        "def sub_num(num1,num2):\n",
        "  sub=abs(num1-num2)\n",
        "  return sub\n",
        "\n",
        "num1=int(input(\"number1=\"))\n",
        "num2=int(input(\"number2=\"))\n",
        "\n",
        "print(sub_num(num1,num2))"
      ],
      "execution_count": null,
      "outputs": [
        {
          "output_type": "stream",
          "text": [
            "number1=5\n",
            "number2=10\n",
            "5\n"
          ],
          "name": "stdout"
        }
      ]
    },
    {
      "cell_type": "code",
      "metadata": {
        "id": "BYB6T0agrQbK",
        "outputId": "e36f7892-8d19-4947-88b2-0a33eeb0de56",
        "colab": {
          "base_uri": "https://localhost:8080/",
          "height": 35
        }
      },
      "source": [
        "# 실습 10-3\n",
        "def dec_food(side):\n",
        "  if side == \"앞\":\n",
        "    print(\"중국요리\")\n",
        "  else:\n",
        "    print(\"일본요리\")\n",
        "\n",
        "dec_food(\"앞\")"
      ],
      "execution_count": null,
      "outputs": [
        {
          "output_type": "stream",
          "text": [
            "중국요리\n"
          ],
          "name": "stdout"
        }
      ]
    },
    {
      "cell_type": "code",
      "metadata": {
        "id": "zvR1nu25ybwa",
        "outputId": "b9e6b857-4fba-4ac9-da68-478ce5bfe26b",
        "colab": {
          "base_uri": "https://localhost:8080/",
          "height": 70
        }
      },
      "source": [
        "#퀴즈 10-3\n",
        "def concate_str(str1,str2):\n",
        "  print(str1+str2)\n",
        "str1=input(\"str1=\")\n",
        "str2=input(\"str2=\")\n",
        "concate_str(str1,str2)"
      ],
      "execution_count": null,
      "outputs": [
        {
          "output_type": "stream",
          "text": [
            "str1=안녕\n",
            "str2=하세요\n",
            "안녕하세요\n"
          ],
          "name": "stdout"
        }
      ]
    },
    {
      "cell_type": "code",
      "metadata": {
        "id": "Hi3kh3G9y6NN",
        "outputId": "8fbb02b7-e4ec-4125-e9d0-ef27030dd0b5",
        "colab": {
          "base_uri": "https://localhost:8080/",
          "height": 70
        }
      },
      "source": [
        "# 연습문제 1.\n",
        "def average(num1,num2):\n",
        "  print(num1+num2)\n",
        "num1=int(input(\"num1=\"))\n",
        "num2=int(input(\"num2=\"))\n",
        "average(num1,num2)"
      ],
      "execution_count": null,
      "outputs": [
        {
          "output_type": "stream",
          "text": [
            "num1=5\n",
            "num2=5\n",
            "10\n"
          ],
          "name": "stdout"
        }
      ]
    },
    {
      "cell_type": "code",
      "metadata": {
        "id": "3_d3mZeXzens",
        "outputId": "d81da427-e6f4-487b-898a-b7b61278216b",
        "colab": {
          "base_uri": "https://localhost:8080/",
          "height": 70
        }
      },
      "source": [
        "# 2.\n",
        "def print_list(num_list):\n",
        "  for n in num_list:\n",
        "    if(n != 0):\n",
        "      print(n)\n",
        "    else:\n",
        "      break\n",
        "  \n",
        "print_list([1,2,3,0])"
      ],
      "execution_count": null,
      "outputs": [
        {
          "output_type": "stream",
          "text": [
            "1\n",
            "2\n",
            "3\n"
          ],
          "name": "stdout"
        }
      ]
    },
    {
      "cell_type": "code",
      "metadata": {
        "id": "ZcYYFAIKzxA3"
      },
      "source": [
        "# 3.\n",
        "기억해야 할 중요한 사항은 함수를 정의하는 것과 함수를 수행하는 것은 다르다는 것이다.\n",
        "함수의 수행은 함수를 (호출)한 후에 함수 (반환)를 통해 이루어진다."
      ],
      "execution_count": null,
      "outputs": []
    },
    {
      "cell_type": "code",
      "metadata": {
        "id": "EGN1796G0pCc",
        "outputId": "73f3f558-162f-4f54-8652-0d06549cf9c1",
        "colab": {
          "base_uri": "https://localhost:8080/",
          "height": 70
        }
      },
      "source": [
        "# 4.\n",
        "def print_greeting(n):\n",
        "  for count in range(n):\n",
        "    print('Hello, Python')\n",
        "print_greeting(3)\n",
        "#return을 항상하는 것이 아닌, 바로 print를 해준다."
      ],
      "execution_count": null,
      "outputs": [
        {
          "output_type": "stream",
          "text": [
            "Hello, Python\n",
            "Hello, Python\n",
            "Hello, Python\n"
          ],
          "name": "stdout"
        }
      ]
    },
    {
      "cell_type": "code",
      "metadata": {
        "id": "HEGUeo54-IG8",
        "outputId": "0ab90980-5eaa-4cd9-fe5e-31723d90b8e7",
        "colab": {
          "base_uri": "https://localhost:8080/",
          "height": 35
        }
      },
      "source": [
        "# 5.\n",
        "def sum(n):\n",
        "  result = 0\n",
        "  for count in range(n):\n",
        "    result = result + count\n",
        "  return(result)\n",
        "\n",
        "print(sum(5))\n",
        "#for 루트가 끝난 뒤에 result값을 return 해줘야 한다."
      ],
      "execution_count": null,
      "outputs": [
        {
          "output_type": "stream",
          "text": [
            "10\n"
          ],
          "name": "stdout"
        }
      ]
    },
    {
      "cell_type": "code",
      "metadata": {
        "id": "eVEPdklG-u4d",
        "outputId": "2730f329-0999-4043-94d3-a32224550c60",
        "colab": {
          "base_uri": "https://localhost:8080/",
          "height": 35
        }
      },
      "source": [
        "# 6.\n",
        "def add(n1,n2):\n",
        "  print(n1+n2)\n",
        "add(3,5)"
      ],
      "execution_count": null,
      "outputs": [
        {
          "output_type": "stream",
          "text": [
            "8\n"
          ],
          "name": "stdout"
        }
      ]
    },
    {
      "cell_type": "code",
      "metadata": {
        "id": "LJTHfLCECClb",
        "outputId": "ddd1d0e1-21c6-47dc-9c1f-d83d2ada46b2",
        "colab": {
          "base_uri": "https://localhost:8080/",
          "height": 35
        }
      },
      "source": [
        "# 7.\n",
        "def square(a,b):\n",
        "  print(2*a+2*b)\n",
        "square(3,6)"
      ],
      "execution_count": null,
      "outputs": [
        {
          "output_type": "stream",
          "text": [
            "18\n"
          ],
          "name": "stdout"
        }
      ]
    },
    {
      "cell_type": "code",
      "metadata": {
        "id": "Z2yNlQsqCPmW",
        "outputId": "af0a5ae1-2648-4064-8935-b46654091905",
        "colab": {
          "base_uri": "https://localhost:8080/",
          "height": 35
        }
      },
      "source": [
        "# 8.\n",
        "def max_score(a,b,c,d,e,f):\n",
        "  score_list=[a,b,c,d,e,f]\n",
        "  maxvalue=score_list[0]\n",
        "  for i in range(1,len(score_list)):\n",
        "    if maxvalue < score_list[i]:\n",
        "      maxvalue = score_list[i]\n",
        "  print(maxvalue)\n",
        "\n",
        "max_score(50,84,54,96,90,100)\n",
        "    \n",
        "\n",
        "  \n",
        "\n"
      ],
      "execution_count": null,
      "outputs": [
        {
          "output_type": "stream",
          "text": [
            "100\n"
          ],
          "name": "stdout"
        }
      ]
    },
    {
      "cell_type": "code",
      "metadata": {
        "id": "D_ibvq22ExKb",
        "outputId": "69ebc26a-c08c-4594-f776-5ca0c763a936",
        "colab": {
          "base_uri": "https://localhost:8080/",
          "height": 70
        }
      },
      "source": [
        "# 9.\n",
        "def temp(x):\n",
        "  prtem = 0\n",
        "  prtem += x\n",
        "  if prtem > 5:\n",
        "    print(\"더 이상은 불가능입니다.\")\n",
        "  return(prtem)\n",
        "\n",
        "print(\"현재 템포는 0입니다. 템포 조정은 0부터 5까지 가능합니다. \")\n",
        "a=int(input(\"조정하고자 하는 만큼의 크기를 입력:\"))\n",
        "new = temp(a)\n",
        "print(\"조정한 후의 템포는 %d 입니다.\"% (new))"
      ],
      "execution_count": null,
      "outputs": [
        {
          "output_type": "stream",
          "text": [
            "현재 템포는 0입니다. 템포 조정은 0부터 5까지 가능합니다. \n",
            "조정하고자 하는 만큼의 크기를 입력:3\n",
            "조정한 후의 템포는 3 입니다.\n"
          ],
          "name": "stdout"
        }
      ]
    },
    {
      "cell_type": "code",
      "metadata": {
        "id": "5pLglvBtHBQF",
        "outputId": "79f63024-1e6f-469e-87c9-ff1418543169",
        "colab": {
          "base_uri": "https://localhost:8080/",
          "height": 70
        }
      },
      "source": [
        "# 10.\n",
        "def vol(x):\n",
        "  prvol = 3\n",
        "  prvol += x\n",
        "  return(prvol)\n",
        "\n",
        "print(\"현재 음량은 3입니다.\")\n",
        "a=int(input(\"증가시킬 만큼의 음량을 입력:\"))\n",
        "new = vol(a)\n",
        "print(\"증가 후의 음량은 %d 입니다.\"% (new))"
      ],
      "execution_count": null,
      "outputs": [
        {
          "output_type": "stream",
          "text": [
            "현재 음량은 3입니다.\n",
            "증가시킬 만큼의 음량을 입력:4\n",
            "증가 후의 음량은 7 입니다.\n"
          ],
          "name": "stdout"
        }
      ]
    },
    {
      "cell_type": "code",
      "metadata": {
        "id": "GLbhG-qrO4yM",
        "outputId": "c3af2b5d-3a0a-46d6-a8a2-897846e14706",
        "colab": {
          "base_uri": "https://localhost:8080/",
          "height": 52
        }
      },
      "source": [
        "# 11.\n",
        "def come_o():\n",
        "  a=input(\"이름을 입력하세요:\")\n",
        "  print(\"출근 완료되었습니다.\")\n",
        "\n",
        "come_o()"
      ],
      "execution_count": null,
      "outputs": [
        {
          "output_type": "stream",
          "text": [
            "이름을 입력하세요:suzi\n",
            "출근 완료되었습니다.\n"
          ],
          "name": "stdout"
        }
      ]
    },
    {
      "cell_type": "code",
      "metadata": {
        "id": "R7lKPYrjPYSG",
        "outputId": "875f62c5-e831-4ad9-c803-f46d4c338f06",
        "colab": {
          "base_uri": "https://localhost:8080/",
          "height": 70
        }
      },
      "source": [
        "# 12.\n",
        "def reservation ():\n",
        "  x=input(\"춘천(운임 : 5000원) / 부산(운임 :30000원) / 대구(운임 20000원) / 수원(운임10000)\\n 한곳을 입력하세요 :\")\n",
        "  if x == \"춘천\":\n",
        "    print(x,\"까지의 금액은 5000원 입니다.\")\n",
        "  elif x== \"부산\":\n",
        "    print(x,\"까지의 금액은 30000원 입니다.\")\n",
        "  elif x== \"대구\":\n",
        "    print(x,\"까지의 금액은 20000원 입니다.\")\n",
        "  elif x== \"수원\":\n",
        "    print(x,\"까지의 금액은 10000원 입니다.\")\n",
        "\n",
        "reservation()    "
      ],
      "execution_count": null,
      "outputs": [
        {
          "output_type": "stream",
          "text": [
            "춘천(운임 : 5000원) / 부산(운임 :30000원) / 대구(운임 20000원) / 수원(운임10000)\n",
            " 한곳을 입력하세요 :수원\n",
            "수원 까지의 금액은 10000원 입니다.\n"
          ],
          "name": "stdout"
        }
      ]
    },
    {
      "cell_type": "code",
      "metadata": {
        "id": "Bdgc7LR8P9Kf",
        "outputId": "f8e094d7-04df-4677-f323-e67e7adb3ab5",
        "colab": {
          "base_uri": "https://localhost:8080/",
          "height": 35
        }
      },
      "source": [
        "# 13.\n",
        "def factorial(x):\n",
        "  sum=1\n",
        "  for i in range(1,x+1):\n",
        "    sum = sum*i\n",
        "  return(sum)\n",
        "factorial(4)"
      ],
      "execution_count": null,
      "outputs": [
        {
          "output_type": "execute_result",
          "data": {
            "text/plain": [
              "24"
            ]
          },
          "metadata": {
            "tags": []
          },
          "execution_count": 94
        }
      ]
    },
    {
      "cell_type": "code",
      "metadata": {
        "id": "xUJftOhNRQv1"
      },
      "source": [
        ""
      ],
      "execution_count": null,
      "outputs": []
    },
    {
      "cell_type": "markdown",
      "metadata": {
        "id": "gOu6FpNOkIOr"
      },
      "source": [
        "#Ch.11_함수_활용_한규현\n",
        "## 성명:한규현 학과:경제학과 학번:12173082"
      ]
    },
    {
      "cell_type": "code",
      "metadata": {
        "id": "gOfs5ajBl2sY",
        "outputId": "49b06ad7-6967-471c-ec65-9eab0055e3df",
        "colab": {
          "base_uri": "https://localhost:8080/",
          "height": 106
        }
      },
      "source": [
        "#퀴즈 11-1\n",
        "def square(x):\n",
        "  print(x*x)\n",
        "nums= [2,3,4,5,6]\n",
        "\n",
        "for num in nums:\n",
        "  square(num)"
      ],
      "execution_count": null,
      "outputs": [
        {
          "output_type": "stream",
          "text": [
            "4\n",
            "9\n",
            "16\n",
            "25\n",
            "36\n"
          ],
          "name": "stdout"
        }
      ]
    },
    {
      "cell_type": "code",
      "metadata": {
        "id": "RG9QQSKlmKWY",
        "outputId": "032a9ef0-4edb-41c7-eea0-e545b8d60a88",
        "colab": {
          "base_uri": "https://localhost:8080/",
          "height": 35
        }
      },
      "source": [
        "# 실습 11-1\n",
        "def longest(words):\n",
        "  long_word = words[0]\n",
        "  long = len(words[0])\n",
        "\n",
        "  for i in range (len(words)):\n",
        "    if len(words[i])>long:\n",
        "      long = len(words[i])\n",
        "      long_word = words[i]\n",
        "  return long_word\n",
        "\n",
        "print(longest(['one','second','three']))"
      ],
      "execution_count": null,
      "outputs": [
        {
          "output_type": "stream",
          "text": [
            "second\n"
          ],
          "name": "stdout"
        }
      ]
    },
    {
      "cell_type": "code",
      "metadata": {
        "id": "D4i7BzCqnwuY",
        "outputId": "f17bcc24-e441-474b-ebed-bf015df843ce",
        "colab": {
          "base_uri": "https://localhost:8080/",
          "height": 35
        }
      },
      "source": [
        "# 실습 11-2\n",
        "def len_word(wordlist):\n",
        "  sum = 0\n",
        "  for i in wordlist:\n",
        "    sum += len(i)\n",
        "  return sum\n",
        "list_fruit = [\"apple\",\"banana\",\"tomato\"]\n",
        "print(len_word(list_fruit))"
      ],
      "execution_count": null,
      "outputs": [
        {
          "output_type": "stream",
          "text": [
            "17\n"
          ],
          "name": "stdout"
        }
      ]
    },
    {
      "cell_type": "code",
      "metadata": {
        "id": "Mq1Cze9DouRp",
        "outputId": "0cb1ad3b-99e1-426e-dca7-8bda432008b8",
        "colab": {
          "base_uri": "https://localhost:8080/",
          "height": 35
        }
      },
      "source": [
        "# 실습 11-3\n",
        "def passFail(scores):\n",
        "  if sum(scores) / len(scores) >= 60:\n",
        "    return \"pass\"\n",
        "  else:\n",
        "    return \"fail\"\n",
        "  \n",
        "passFail([30,40,50,60,70])"
      ],
      "execution_count": null,
      "outputs": [
        {
          "output_type": "execute_result",
          "data": {
            "application/vnd.google.colaboratory.intrinsic+json": {
              "type": "string"
            },
            "text/plain": [
              "'fail'"
            ]
          },
          "metadata": {
            "tags": []
          },
          "execution_count": 8
        }
      ]
    },
    {
      "cell_type": "code",
      "metadata": {
        "id": "_LUgV7R1o5pS",
        "outputId": "c9297b2a-519a-421a-c638-ce40451a8a70",
        "colab": {
          "base_uri": "https://localhost:8080/",
          "height": 35
        }
      },
      "source": [
        "#퀴즈 11-2\n",
        "def change(x):\n",
        "  x = 10\n",
        "\n",
        "x = 5\n",
        "change(x)           #call by value (새로운 x가 생긴것이다.)\n",
        "print(x)"
      ],
      "execution_count": null,
      "outputs": [
        {
          "output_type": "stream",
          "text": [
            "5\n"
          ],
          "name": "stdout"
        }
      ]
    },
    {
      "cell_type": "code",
      "metadata": {
        "id": "YrLbS0pko_1M",
        "outputId": "b9537924-dfe1-471e-bbcd-14b13f51fecb",
        "colab": {
          "base_uri": "https://localhost:8080/",
          "height": 35
        }
      },
      "source": [
        "# 실습 11-4\n",
        "def max_score(a):\n",
        " largest = a[0]\n",
        " for i in a:\n",
        "   if i > largest:\n",
        "     largest = i\n",
        " return largest\n",
        "\n",
        "math_score = [45, 66, 70, 83, 50, 77, 87, 92, 73, 89]\n",
        "max_score(math_score)"
      ],
      "execution_count": null,
      "outputs": [
        {
          "output_type": "execute_result",
          "data": {
            "text/plain": [
              "92"
            ]
          },
          "metadata": {
            "tags": []
          },
          "execution_count": 14
        }
      ]
    },
    {
      "cell_type": "code",
      "metadata": {
        "id": "0oIDDO-ArADH",
        "outputId": "9c2f1ab0-d7a7-4303-e4c5-3f61057aa045",
        "colab": {
          "base_uri": "https://localhost:8080/",
          "height": 35
        }
      },
      "source": [
        "#실습 11-5:\n",
        "def gap_score(a):\n",
        " largest = a[0]\n",
        " for i in a:\n",
        "   if i > largest:\n",
        "     largest = i\n",
        "\n",
        "\n",
        " smallest = a[0]\n",
        " for x in a:\n",
        "   if x < smallest:\n",
        "     smallest = x\n",
        " return largest-smallest\n",
        "\n",
        "math_score = [45, 66, 70, 83, 50, 77, 87, 92, 73, 89]\n",
        "gap_score(math_score)"
      ],
      "execution_count": null,
      "outputs": [
        {
          "output_type": "execute_result",
          "data": {
            "text/plain": [
              "47"
            ]
          },
          "metadata": {
            "tags": []
          },
          "execution_count": 19
        }
      ]
    },
    {
      "cell_type": "code",
      "metadata": {
        "id": "zQp70MFYszI0",
        "outputId": "0ca19123-dea2-4151-f012-f52da457ed02",
        "colab": {
          "base_uri": "https://localhost:8080/",
          "height": 52
        }
      },
      "source": [
        "#실습 11-6\n",
        "def change_temp(a):\n",
        "  x = ((9/5) * a + 32)\n",
        "  return x\n",
        "a= int(input(\"섭씨 온도 입력:\"))\n",
        "change_temp(a)"
      ],
      "execution_count": null,
      "outputs": [
        {
          "output_type": "stream",
          "text": [
            "섭씨 온도 입력:32\n"
          ],
          "name": "stdout"
        },
        {
          "output_type": "execute_result",
          "data": {
            "text/plain": [
              "89.6"
            ]
          },
          "metadata": {
            "tags": []
          },
          "execution_count": 20
        }
      ]
    },
    {
      "cell_type": "code",
      "metadata": {
        "id": "0s7Isn-Dtv1O",
        "outputId": "e48ad256-7731-489b-d4c2-41c58aaa9502",
        "colab": {
          "base_uri": "https://localhost:8080/",
          "height": 52
        }
      },
      "source": [
        "#실습 11-7\n",
        "def change(a):\n",
        "  feet = a / 0.305\n",
        "  yard = a * 1.0936\n",
        "  print(a,\"미터는\",feet,\"feet\",yard,\"yard 입니다\")\n",
        "\n",
        "m= float(input(\"meter 입력:\"))\n",
        "change(m)"
      ],
      "execution_count": null,
      "outputs": [
        {
          "output_type": "stream",
          "text": [
            "meter 입력:50\n",
            "50.0 미터는 163.9344262295082 feet 54.67999999999999 yard 입니다\n"
          ],
          "name": "stdout"
        }
      ]
    },
    {
      "cell_type": "code",
      "metadata": {
        "id": "GSB6JAGiufzm",
        "outputId": "ce290d23-e0a2-4a36-e80e-7cdc89094ef4",
        "colab": {
          "base_uri": "https://localhost:8080/",
          "height": 70
        }
      },
      "source": [
        "#실습 11-8\n",
        "def area(bottom,height):\n",
        "  area = float(0.5 * bottom * height)\n",
        "  print(area)\n",
        "\n",
        "a=int(input(\"밑변 입력:\"))\n",
        "b=int(input(\"높이 입력:\"))\n",
        "area(a,b)"
      ],
      "execution_count": null,
      "outputs": [
        {
          "output_type": "stream",
          "text": [
            "밑변 입력:20\n",
            "높이 입력:15\n",
            "150.0\n"
          ],
          "name": "stdout"
        }
      ]
    },
    {
      "cell_type": "code",
      "metadata": {
        "id": "YpZONzx5vN2h",
        "outputId": "6f10c1c3-8120-4958-9440-319ad760612d",
        "colab": {
          "base_uri": "https://localhost:8080/",
          "height": 35
        }
      },
      "source": [
        "# 실습 11-9\n",
        "def time(second):\n",
        "  h = second // (60*60)\n",
        "  m = (second-h*60*60) //60\n",
        "  sec = second - h*60*60 - m*60\n",
        "  return h,m,sec\n",
        "\n",
        "time(57894)"
      ],
      "execution_count": null,
      "outputs": [
        {
          "output_type": "execute_result",
          "data": {
            "text/plain": [
              "(16, 4, 54)"
            ]
          },
          "metadata": {
            "tags": []
          },
          "execution_count": 31
        }
      ]
    },
    {
      "cell_type": "code",
      "metadata": {
        "id": "CDNZssawv8dS",
        "outputId": "67e55637-5f90-4c53-bea8-fb289bd43869",
        "colab": {
          "base_uri": "https://localhost:8080/",
          "height": 52
        }
      },
      "source": [
        "#실습 11-10\n",
        "def cal_productPrice(a):\n",
        "  return a*(10/11)\n",
        "\n",
        "def cal_tax(a):\n",
        "  return a*(1/11)\n",
        "\n",
        "a=int(input(\"소비자가 입력(원):\"))\n",
        "productPrice = cal_productPrice(a)\n",
        "tax = cal_tax(a)\n",
        "print(\"제품 가격은%d원, 부가가치세는%d원입니다.\"%(productPrice,tax))"
      ],
      "execution_count": null,
      "outputs": [
        {
          "output_type": "stream",
          "text": [
            "소비자가 입력(원):11000\n",
            "제품 가격은10000원, 부가가치세는1000원입니다.\n"
          ],
          "name": "stdout"
        }
      ]
    },
    {
      "cell_type": "code",
      "metadata": {
        "id": "WCN5Kj6GxTrs",
        "outputId": "82f0b3e3-f3fc-4c18-8f1f-459cb2d30272",
        "colab": {
          "base_uri": "https://localhost:8080/",
          "height": 52
        }
      },
      "source": [
        "#실습 11-11\n",
        "def password(a):\n",
        "  if len(a) >=9:\n",
        "    print(\"Good\")\n",
        "  elif len(a) >= 5 and len(a) < 9:\n",
        "    print(\"Normal\")\n",
        "  elif len(a) < 5:\n",
        "    print(\"Bad\")\n",
        "\n",
        "a=input(\"비밀번호 입력:\")\n",
        "password(a)"
      ],
      "execution_count": null,
      "outputs": [
        {
          "output_type": "stream",
          "text": [
            "비밀번호 입력:myPassword\n",
            "Good\n"
          ],
          "name": "stdout"
        }
      ]
    },
    {
      "cell_type": "code",
      "metadata": {
        "id": "-voYwwZP1Lwh",
        "outputId": "56aa7da8-0c84-4790-c864-a9d4d958b518",
        "colab": {
          "base_uri": "https://localhost:8080/",
          "height": 88
        }
      },
      "source": [
        "def periodDiscount(cp,p):\n",
        "  if p <= 6:\n",
        "    return(cp)\n",
        "  elif p > 6 and p <=12:\n",
        "    cp = cp * (90/100)\n",
        "    return(cp)\n",
        "  elif p > 12:\n",
        "    cp = cp * (80/100)\n",
        "    return(cp)\n",
        "\n",
        "def creditCardDiscount(cp,c):\n",
        "  if c == 11:\n",
        "    cp = cp * (95/100)\n",
        "    return(cp)\n",
        "  elif c == 12:\n",
        "    cp = cp * (92/100)\n",
        "    return(cp)\n",
        "  elif c == 13:\n",
        "    cp = cp * (88/100)\n",
        "    return(cp)\n",
        "\n",
        "contractPrice=float(input(\"계약금액\"))\n",
        "period=float(input(\"사용개월\"))\n",
        "cardcode=float(input(\"카드코드\"))\n",
        "\n",
        "a=periodDiscount(contractPrice,period)\n",
        "\n",
        "print(creditCardDiscount(a,cardcode))\n"
      ],
      "execution_count": null,
      "outputs": [
        {
          "output_type": "stream",
          "text": [
            "계약금액50000\n",
            "사용개월10\n",
            "카드코드11\n",
            "42750.0\n"
          ],
          "name": "stdout"
        }
      ]
    },
    {
      "cell_type": "code",
      "metadata": {
        "id": "NHqoyb4V3f0g"
      },
      "source": [
        ""
      ],
      "execution_count": null,
      "outputs": []
    }
  ]
}