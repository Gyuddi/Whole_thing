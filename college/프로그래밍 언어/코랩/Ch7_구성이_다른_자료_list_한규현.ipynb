{
  "nbformat": 4,
  "nbformat_minor": 0,
  "metadata": {
    "colab": {
      "name": "Ch7_구성이_다른_자료_list_한규현.ipynb",
      "provenance": [],
      "collapsed_sections": []
    },
    "kernelspec": {
      "name": "python3",
      "display_name": "Python 3"
    }
  },
  "cells": [
    {
      "cell_type": "markdown",
      "metadata": {
        "id": "k9EvTpV7iA1Z",
        "colab_type": "text"
      },
      "source": [
        "#7장. 구성이 다른 자료 – list\n",
        "## 성명:한규현 학과:경제학과 학번:12173082"
      ]
    },
    {
      "cell_type": "code",
      "metadata": {
        "id": "XZMY5Ou6iUKF",
        "colab_type": "code",
        "colab": {
          "base_uri": "https://localhost:8080/",
          "height": 34
        },
        "outputId": "d337d351-8440-4a67-80a4-8a9c73cd027c"
      },
      "source": [
        "# 실습 7-1\n",
        "list1=[\"risk\",\"issue\",\"test\",\"maintenance\",\"maturiy\"]\n",
        "list2=[\"security\",\"plan\",\"design\",\"systematic\",\"safety\"]\n",
        "list3=[\"maintenance\",\"verification\",\"validation\"]\n",
        "\n",
        "if \"maintenance\" in list1 and len(list1)>=5:\n",
        "  print(\"list1은 적합합니다.\")\n",
        "elif \"maintenance\" in list2 and len(list2)>=5:\n",
        "  print(\"list2은 적합합니다.\")\n",
        "elif \"maintenance\" in list3 and len(list3)>=5:\n",
        "  print(\"list3은 적합합니다.\")\n",
        "else:\n",
        "  print(\"적합한 리스트가 없습니다\")\n"
      ],
      "execution_count": 11,
      "outputs": [
        {
          "output_type": "stream",
          "text": [
            "list1은 적합합니다.\n"
          ],
          "name": "stdout"
        }
      ]
    },
    {
      "cell_type": "code",
      "metadata": {
        "id": "DsWLpstGj3_S",
        "colab_type": "code",
        "colab": {
          "base_uri": "https://localhost:8080/",
          "height": 34
        },
        "outputId": "8a732f1a-1402-4c04-b76c-ff1526c5412e"
      },
      "source": [
        "# 퀴즈 7-1\n",
        "list1 = ['a', 'b', ['c', 'd'], '1', [2, 3], 'e']\n",
        "len(list1)"
      ],
      "execution_count": 12,
      "outputs": [
        {
          "output_type": "execute_result",
          "data": {
            "text/plain": [
              "6"
            ]
          },
          "metadata": {
            "tags": []
          },
          "execution_count": 12
        }
      ]
    },
    {
      "cell_type": "code",
      "metadata": {
        "id": "WaL3KZQbqMpP",
        "colab_type": "code",
        "colab": {
          "base_uri": "https://localhost:8080/",
          "height": 34
        },
        "outputId": "a989a0d8-7598-4052-93c9-500cf37798b9"
      },
      "source": [
        "['b'] in list1"
      ],
      "execution_count": 13,
      "outputs": [
        {
          "output_type": "execute_result",
          "data": {
            "text/plain": [
              "False"
            ]
          },
          "metadata": {
            "tags": []
          },
          "execution_count": 13
        }
      ]
    },
    {
      "cell_type": "code",
      "metadata": {
        "id": "hzgBF7H2qOuu",
        "colab_type": "code",
        "colab": {
          "base_uri": "https://localhost:8080/",
          "height": 34
        },
        "outputId": "4bbbcc63-a10e-4a73-fb13-0b3494b7f696"
      },
      "source": [
        "['c', 'd'] in list1"
      ],
      "execution_count": 14,
      "outputs": [
        {
          "output_type": "execute_result",
          "data": {
            "text/plain": [
              "True"
            ]
          },
          "metadata": {
            "tags": []
          },
          "execution_count": 14
        }
      ]
    },
    {
      "cell_type": "code",
      "metadata": {
        "id": "NPBiufcHqQA1",
        "colab_type": "code",
        "colab": {
          "base_uri": "https://localhost:8080/",
          "height": 34
        },
        "outputId": "0d1cf37b-4027-4bd5-e5ee-4ace5c2b3e33"
      },
      "source": [
        "'a' in list1"
      ],
      "execution_count": 15,
      "outputs": [
        {
          "output_type": "execute_result",
          "data": {
            "text/plain": [
              "True"
            ]
          },
          "metadata": {
            "tags": []
          },
          "execution_count": 15
        }
      ]
    },
    {
      "cell_type": "code",
      "metadata": {
        "id": "9sBS5cFzqRP7",
        "colab_type": "code",
        "colab": {
          "base_uri": "https://localhost:8080/",
          "height": 34
        },
        "outputId": "ab81cd12-a880-430e-be43-9a3e58bc4306"
      },
      "source": [
        "#퀴즈 7-2\n",
        "list_odd = [1,3,5,7,9]\n",
        "list_even = [2,4,6,8,10]\n",
        "list_odd[-3]"
      ],
      "execution_count": 16,
      "outputs": [
        {
          "output_type": "execute_result",
          "data": {
            "text/plain": [
              "5"
            ]
          },
          "metadata": {
            "tags": []
          },
          "execution_count": 16
        }
      ]
    },
    {
      "cell_type": "code",
      "metadata": {
        "id": "jWUhEXg2qs20",
        "colab_type": "code",
        "colab": {
          "base_uri": "https://localhost:8080/",
          "height": 34
        },
        "outputId": "d97abf37-4760-4974-c3ee-3e89aedc323e"
      },
      "source": [
        "list_even[1+3]"
      ],
      "execution_count": 17,
      "outputs": [
        {
          "output_type": "execute_result",
          "data": {
            "text/plain": [
              "10"
            ]
          },
          "metadata": {
            "tags": []
          },
          "execution_count": 17
        }
      ]
    },
    {
      "cell_type": "code",
      "metadata": {
        "id": "NiomNY-fq1er",
        "colab_type": "code",
        "colab": {
          "base_uri": "https://localhost:8080/",
          "height": 34
        },
        "outputId": "449e8541-5e44-4142-e611-d9969ec4d720"
      },
      "source": [
        "list_odd + list_even"
      ],
      "execution_count": 18,
      "outputs": [
        {
          "output_type": "execute_result",
          "data": {
            "text/plain": [
              "[1, 3, 5, 7, 9, 2, 4, 6, 8, 10]"
            ]
          },
          "metadata": {
            "tags": []
          },
          "execution_count": 18
        }
      ]
    },
    {
      "cell_type": "code",
      "metadata": {
        "id": "6RqXQNp8q6uN",
        "colab_type": "code",
        "colab": {
          "base_uri": "https://localhost:8080/",
          "height": 34
        },
        "outputId": "90cc01fc-904c-4b46-b567-29b27d572ccd"
      },
      "source": [
        "list_odd * 2"
      ],
      "execution_count": 19,
      "outputs": [
        {
          "output_type": "execute_result",
          "data": {
            "text/plain": [
              "[1, 3, 5, 7, 9, 1, 3, 5, 7, 9]"
            ]
          },
          "metadata": {
            "tags": []
          },
          "execution_count": 19
        }
      ]
    },
    {
      "cell_type": "code",
      "metadata": {
        "id": "MYJRCP4Bq8Lv",
        "colab_type": "code",
        "colab": {
          "base_uri": "https://localhost:8080/",
          "height": 34
        },
        "outputId": "43e6ffa6-10a4-46c5-b772-726499699814"
      },
      "source": [
        "# 퀴즈 7-3\n",
        "list_1 = [1,2,3,4,5,6,7,8,9]\n",
        "list_1[:3]"
      ],
      "execution_count": 20,
      "outputs": [
        {
          "output_type": "execute_result",
          "data": {
            "text/plain": [
              "[1, 2, 3]"
            ]
          },
          "metadata": {
            "tags": []
          },
          "execution_count": 20
        }
      ]
    },
    {
      "cell_type": "code",
      "metadata": {
        "id": "XFW0KB7Bq_xS",
        "colab_type": "code",
        "colab": {
          "base_uri": "https://localhost:8080/",
          "height": 34
        },
        "outputId": "572e2171-967d-499e-b056-6197c14b60f5"
      },
      "source": [
        "list_1[0:3]"
      ],
      "execution_count": 21,
      "outputs": [
        {
          "output_type": "execute_result",
          "data": {
            "text/plain": [
              "[1, 2, 3]"
            ]
          },
          "metadata": {
            "tags": []
          },
          "execution_count": 21
        }
      ]
    },
    {
      "cell_type": "code",
      "metadata": {
        "id": "LZ5w6tZYrBPW",
        "colab_type": "code",
        "colab": {
          "base_uri": "https://localhost:8080/",
          "height": 34
        },
        "outputId": "75c5dd4a-95d2-4eba-fe6c-0142028afcdc"
      },
      "source": [
        "list_1[3:5]"
      ],
      "execution_count": 22,
      "outputs": [
        {
          "output_type": "execute_result",
          "data": {
            "text/plain": [
              "[4, 5]"
            ]
          },
          "metadata": {
            "tags": []
          },
          "execution_count": 22
        }
      ]
    },
    {
      "cell_type": "code",
      "metadata": {
        "id": "6sv5OppCrCtV",
        "colab_type": "code",
        "colab": {
          "base_uri": "https://localhost:8080/",
          "height": 34
        },
        "outputId": "59ad3df9-7af8-458a-ee04-c20a89342db3"
      },
      "source": [
        "list_1[3:]"
      ],
      "execution_count": 23,
      "outputs": [
        {
          "output_type": "execute_result",
          "data": {
            "text/plain": [
              "[4, 5, 6, 7, 8, 9]"
            ]
          },
          "metadata": {
            "tags": []
          },
          "execution_count": 23
        }
      ]
    },
    {
      "cell_type": "code",
      "metadata": {
        "id": "Xoknv0bCrDzL",
        "colab_type": "code",
        "colab": {
          "base_uri": "https://localhost:8080/",
          "height": 34
        },
        "outputId": "1cc3ee07-a350-4d34-e355-2642fc60da41"
      },
      "source": [
        "list_1[3:999]"
      ],
      "execution_count": 24,
      "outputs": [
        {
          "output_type": "execute_result",
          "data": {
            "text/plain": [
              "[4, 5, 6, 7, 8, 9]"
            ]
          },
          "metadata": {
            "tags": []
          },
          "execution_count": 24
        }
      ]
    },
    {
      "cell_type": "code",
      "metadata": {
        "id": "xjZrSJHPrE_7",
        "colab_type": "code",
        "colab": {
          "base_uri": "https://localhost:8080/",
          "height": 34
        },
        "outputId": "068ea963-e0d8-4748-b200-e488ebb4c4c4"
      },
      "source": [
        "# 실습 7-2\n",
        "spell_re = ['r','e']\n",
        "spell_serve = ['s','e','r','v','e']\n",
        "spell_reserve = spell_re + spell_serve\n",
        "spell_reserve"
      ],
      "execution_count": 25,
      "outputs": [
        {
          "output_type": "execute_result",
          "data": {
            "text/plain": [
              "['r', 'e', 's', 'e', 'r', 'v', 'e']"
            ]
          },
          "metadata": {
            "tags": []
          },
          "execution_count": 25
        }
      ]
    },
    {
      "cell_type": "code",
      "metadata": {
        "id": "EcfZ-CqjsVst",
        "colab_type": "code",
        "colab": {
          "base_uri": "https://localhost:8080/",
          "height": 34
        },
        "outputId": "a303e0e4-c9c7-47a0-fd91-fd3573184562"
      },
      "source": [
        "spell_reserve[0:2] = ['o','b']\n",
        "spell_reserve"
      ],
      "execution_count": 26,
      "outputs": [
        {
          "output_type": "execute_result",
          "data": {
            "text/plain": [
              "['o', 'b', 's', 'e', 'r', 'v', 'e']"
            ]
          },
          "metadata": {
            "tags": []
          },
          "execution_count": 26
        }
      ]
    },
    {
      "cell_type": "code",
      "metadata": {
        "id": "QVzoZsB-sYI_",
        "colab_type": "code",
        "colab": {
          "base_uri": "https://localhost:8080/",
          "height": 34
        },
        "outputId": "b5d7efbe-dd47-4de8-ed91-6993e65f3f51"
      },
      "source": [
        "# 퀴즈 7-4\n",
        "string = ['a','b','c','d','e','f']\n",
        "string[0:3]"
      ],
      "execution_count": 27,
      "outputs": [
        {
          "output_type": "execute_result",
          "data": {
            "text/plain": [
              "['a', 'b', 'c']"
            ]
          },
          "metadata": {
            "tags": []
          },
          "execution_count": 27
        }
      ]
    },
    {
      "cell_type": "code",
      "metadata": {
        "id": "1f_AxJSdscIX",
        "colab_type": "code",
        "colab": {
          "base_uri": "https://localhost:8080/",
          "height": 34
        },
        "outputId": "3627cafd-13b9-4d41-9811-8e2401d18f8a"
      },
      "source": [
        "string[2:5]"
      ],
      "execution_count": 28,
      "outputs": [
        {
          "output_type": "execute_result",
          "data": {
            "text/plain": [
              "['c', 'd', 'e']"
            ]
          },
          "metadata": {
            "tags": []
          },
          "execution_count": 28
        }
      ]
    },
    {
      "cell_type": "code",
      "metadata": {
        "id": "2GgL86mysdfe",
        "colab_type": "code",
        "colab": {
          "base_uri": "https://localhost:8080/",
          "height": 34
        },
        "outputId": "998f368e-e156-4301-a894-4ed4f726c079"
      },
      "source": [
        "string[1:3]"
      ],
      "execution_count": 29,
      "outputs": [
        {
          "output_type": "execute_result",
          "data": {
            "text/plain": [
              "['b', 'c']"
            ]
          },
          "metadata": {
            "tags": []
          },
          "execution_count": 29
        }
      ]
    },
    {
      "cell_type": "code",
      "metadata": {
        "id": "HOPLGAEWseqU",
        "colab_type": "code",
        "colab": {
          "base_uri": "https://localhost:8080/",
          "height": 34
        },
        "outputId": "764d9061-b230-4d37-ee37-e04b107b49dd"
      },
      "source": [
        "#연습문제 1)\n",
        "list3 = ['n','e','w','l','i','s','t']\n",
        "list4 = ['n','e','w','s','t','r','i','n','g']\n",
        "list_new = list3[:3] + list4[6:]\n",
        "print(list_new)"
      ],
      "execution_count": 30,
      "outputs": [
        {
          "output_type": "stream",
          "text": [
            "['n', 'e', 'w', 'i', 'n', 'g']\n"
          ],
          "name": "stdout"
        }
      ]
    },
    {
      "cell_type": "code",
      "metadata": {
        "id": "JdlxzyYUsimT",
        "colab_type": "code",
        "colab": {
          "base_uri": "https://localhost:8080/",
          "height": 34
        },
        "outputId": "9790315d-2ff5-463e-eb9b-9da367264cad"
      },
      "source": [
        "# 2)\n",
        "title = ['P','r','o','g','r','a','m','m','i','n','g']\n",
        "title[:7]"
      ],
      "execution_count": 31,
      "outputs": [
        {
          "output_type": "execute_result",
          "data": {
            "text/plain": [
              "['P', 'r', 'o', 'g', 'r', 'a', 'm']"
            ]
          },
          "metadata": {
            "tags": []
          },
          "execution_count": 31
        }
      ]
    },
    {
      "cell_type": "code",
      "metadata": {
        "id": "6vnme8cUsliA",
        "colab_type": "code",
        "colab": {
          "base_uri": "https://localhost:8080/",
          "height": 34
        },
        "outputId": "d6b80a1d-7920-403f-c886-81007207773e"
      },
      "source": [
        "# 3)\n",
        "word = ['happy','love','I','am','You']\n",
        "word_Iamhappy = word[2] + ' ' + word[3] + ' ' + word[0]\n",
        "print(word_Iamhappy)"
      ],
      "execution_count": 32,
      "outputs": [
        {
          "output_type": "stream",
          "text": [
            "I am happy\n"
          ],
          "name": "stdout"
        }
      ]
    },
    {
      "cell_type": "code",
      "metadata": {
        "id": "h9C52hgKsoBI",
        "colab_type": "code",
        "colab": {
          "base_uri": "https://localhost:8080/",
          "height": 34
        },
        "outputId": "dd29d286-82f1-4241-e04b-01c6ec921ae1"
      },
      "source": [
        "# 4)\n",
        "names = ['철수','영희','수지','수정','길동','영철']\n",
        "'수정' in names"
      ],
      "execution_count": 33,
      "outputs": [
        {
          "output_type": "execute_result",
          "data": {
            "text/plain": [
              "True"
            ]
          },
          "metadata": {
            "tags": []
          },
          "execution_count": 33
        }
      ]
    },
    {
      "cell_type": "code",
      "metadata": {
        "id": "1h21RRAssy-a",
        "colab_type": "code",
        "colab": {
          "base_uri": "https://localhost:8080/",
          "height": 34
        },
        "outputId": "eaa5b6ea-39df-4d7e-f6af-8f0d1aa450fe"
      },
      "source": [
        "# 5)\n",
        "rotto = [1,2,3,6,7]\n",
        "if len(rotto) == 6:\n",
        "    print('통과')\n",
        "else:\n",
        "    print('6개의 숫자를 입력하시오.')"
      ],
      "execution_count": 35,
      "outputs": [
        {
          "output_type": "stream",
          "text": [
            "6개의 숫자를 입력하시오.\n"
          ],
          "name": "stdout"
        }
      ]
    },
    {
      "cell_type": "code",
      "metadata": {
        "id": "Npk3smLOtKIi",
        "colab_type": "code",
        "colab": {
          "base_uri": "https://localhost:8080/",
          "height": 34
        },
        "outputId": "0f323781-c630-45ea-8bf0-8834732c325b"
      },
      "source": [
        "# 6)\n",
        "word = ['h','i','m','y','n','a','m','e','i','s']\n",
        "print(word[4:8])"
      ],
      "execution_count": 38,
      "outputs": [
        {
          "output_type": "stream",
          "text": [
            "['n', 'a', 'm', 'e']\n"
          ],
          "name": "stdout"
        }
      ]
    },
    {
      "cell_type": "code",
      "metadata": {
        "id": "O5KVXvdUteHy",
        "colab_type": "code",
        "colab": {
          "base_uri": "https://localhost:8080/",
          "height": 34
        },
        "outputId": "2990f7aa-e2d4-45ff-b3c3-0c7a4db8e139"
      },
      "source": [
        "# 7)\n",
        "introduce = ['내', '이', '름', '은', '수', '지', '야']\n",
        "introduce[4:6] = ['민', '수']\n",
        "print(introduce)"
      ],
      "execution_count": 39,
      "outputs": [
        {
          "output_type": "stream",
          "text": [
            "['내', '이', '름', '은', '민', '수', '야']\n"
          ],
          "name": "stdout"
        }
      ]
    },
    {
      "cell_type": "code",
      "metadata": {
        "id": "YXA1qvdFt1rm",
        "colab_type": "code",
        "colab": {
          "base_uri": "https://localhost:8080/",
          "height": 34
        },
        "outputId": "e987cd84-1472-40cf-c022-8f2b01f447ab"
      },
      "source": [
        "# 8)\n",
        "winner = ['박민아','정민호','김철수','이영희','손수정']\n",
        "'정수지' in winner"
      ],
      "execution_count": 42,
      "outputs": [
        {
          "output_type": "execute_result",
          "data": {
            "text/plain": [
              "False"
            ]
          },
          "metadata": {
            "tags": []
          },
          "execution_count": 42
        }
      ]
    },
    {
      "cell_type": "code",
      "metadata": {
        "id": "dizL1k1uuBp3",
        "colab_type": "code",
        "colab": {
          "base_uri": "https://localhost:8080/",
          "height": 34
        },
        "outputId": "8ae355fe-d3ca-4e2d-e4f3-a7682e6e19cb"
      },
      "source": [
        "'김철수' not in winner"
      ],
      "execution_count": 43,
      "outputs": [
        {
          "output_type": "execute_result",
          "data": {
            "text/plain": [
              "False"
            ]
          },
          "metadata": {
            "tags": []
          },
          "execution_count": 43
        }
      ]
    },
    {
      "cell_type": "code",
      "metadata": {
        "id": "SD16pQJxuEkY",
        "colab_type": "code",
        "colab": {
          "base_uri": "https://localhost:8080/",
          "height": 34
        },
        "outputId": "3bce2019-ce03-4474-fa22-08cac9bc7206"
      },
      "source": [
        "'박민아' in winner"
      ],
      "execution_count": 44,
      "outputs": [
        {
          "output_type": "execute_result",
          "data": {
            "text/plain": [
              "True"
            ]
          },
          "metadata": {
            "tags": []
          },
          "execution_count": 44
        }
      ]
    },
    {
      "cell_type": "code",
      "metadata": {
        "id": "Ba0BZUazuGSl",
        "colab_type": "code",
        "colab": {
          "base_uri": "https://localhost:8080/",
          "height": 34
        },
        "outputId": "a39e56d9-f61b-4373-881f-58ab9ef714a7"
      },
      "source": [
        "'전은진' not in winner"
      ],
      "execution_count": 45,
      "outputs": [
        {
          "output_type": "execute_result",
          "data": {
            "text/plain": [
              "True"
            ]
          },
          "metadata": {
            "tags": []
          },
          "execution_count": 45
        }
      ]
    },
    {
      "cell_type": "code",
      "metadata": {
        "id": "UtwF7y5kuHnS",
        "colab_type": "code",
        "colab": {
          "base_uri": "https://localhost:8080/",
          "height": 34
        },
        "outputId": "5537b3b0-6566-47d3-da59-b0c7b443923a"
      },
      "source": [
        "# 9)\n",
        "phone = ['수지','민지','철수','미소']\n",
        "phone [0] = '010-7897-4564'\n",
        "phone [1] = '010-7897-4563'\n",
        "phone [2] = '010-7897-4562'\n",
        "phone [3] = '010-7897-4561'\n",
        "print(phone)"
      ],
      "execution_count": 47,
      "outputs": [
        {
          "output_type": "stream",
          "text": [
            "['010-7897-4564', '010-7897-4563', '010-7897-4562', '010-7897-4561']\n"
          ],
          "name": "stdout"
        }
      ]
    },
    {
      "cell_type": "code",
      "metadata": {
        "id": "GSGpPg9LvWRc",
        "colab_type": "code",
        "colab": {
          "base_uri": "https://localhost:8080/",
          "height": 34
        },
        "outputId": "edbf85a4-b947-4025-e425-90c212b22012"
      },
      "source": [
        "# 10)\n",
        "score = {'Peter':100, 'john':0, 'mina':55, 'tim':75, 'cony':95}\n",
        "print(score['tim'])"
      ],
      "execution_count": 48,
      "outputs": [
        {
          "output_type": "stream",
          "text": [
            "75\n"
          ],
          "name": "stdout"
        }
      ]
    },
    {
      "cell_type": "code",
      "metadata": {
        "id": "jwGVYEmMvjZ1",
        "colab_type": "code",
        "colab": {
          "base_uri": "https://localhost:8080/",
          "height": 34
        },
        "outputId": "796fb780-3f3a-49d0-82ba-a2191d51bfee"
      },
      "source": [
        "# 11)\n",
        "string = ['happy','love','dog','cat']\n",
        "num = [1,2,6,3,9,5]\n",
        "empty = []\n",
        "mix = [4,0,'hi',1,'sun','x']\n",
        "\n",
        "total = (len(string)) + (len(num)) + (len(empty)) + (len(mix))\n",
        "\n",
        "print(total)"
      ],
      "execution_count": 49,
      "outputs": [
        {
          "output_type": "stream",
          "text": [
            "16\n"
          ],
          "name": "stdout"
        }
      ]
    },
    {
      "cell_type": "code",
      "metadata": {
        "id": "bIfY6uOlv0KV",
        "colab_type": "code",
        "colab": {
          "base_uri": "https://localhost:8080/",
          "height": 52
        },
        "outputId": "49741eaf-c049-4017-e996-f0810315bea0"
      },
      "source": [
        "# 12)\n",
        "str_b = ['boy','is']\n",
        "str_g = ['girl','is']\n",
        "str_bad = ['bad']\n",
        "str_good = ['good']\n",
        "\n",
        "print(str_b + str_bad)\n",
        "print(str_g + str_good)"
      ],
      "execution_count": 50,
      "outputs": [
        {
          "output_type": "stream",
          "text": [
            "['boy', 'is', 'bad']\n",
            "['girl', 'is', 'good']\n"
          ],
          "name": "stdout"
        }
      ]
    },
    {
      "cell_type": "code",
      "metadata": {
        "id": "jB6YLrjHwDOe",
        "colab_type": "code",
        "colab": {
          "base_uri": "https://localhost:8080/",
          "height": 34
        },
        "outputId": "37f2a0d2-4689-47c2-e9fe-d99ccd25b7af"
      },
      "source": [
        "# 13)\n",
        "spell1 = ['j','e','s','u','s']\n",
        "spell1[2:] = ['l','l','y']\n",
        "print(spell1)"
      ],
      "execution_count": 51,
      "outputs": [
        {
          "output_type": "stream",
          "text": [
            "['j', 'e', 'l', 'l', 'y']\n"
          ],
          "name": "stdout"
        }
      ]
    },
    {
      "cell_type": "code",
      "metadata": {
        "id": "l50zXpD6xKS2",
        "colab_type": "code",
        "colab": {
          "base_uri": "https://localhost:8080/",
          "height": 34
        },
        "outputId": "1b856951-4121-465c-a3da-9f9beadafdc1"
      },
      "source": [
        "# 14)\n",
        "season = ['spring','summer','fall','winter']\n",
        "season2 = season * 2\n",
        "season2[4:] = ['winter'] * 4\n",
        "print(season2)"
      ],
      "execution_count": 52,
      "outputs": [
        {
          "output_type": "stream",
          "text": [
            "['spring', 'summer', 'fall', 'winter', 'winter', 'winter', 'winter', 'winter']\n"
          ],
          "name": "stdout"
        }
      ]
    },
    {
      "cell_type": "code",
      "metadata": {
        "id": "UkqP128ixYmR",
        "colab_type": "code",
        "colab": {
          "base_uri": "https://localhost:8080/",
          "height": 34
        },
        "outputId": "30a55068-d34b-4085-d614-9d4d68462ffb"
      },
      "source": [
        "# 15)\n",
        "word = ['I','like','You','He','her','love','hate','dog']\n",
        "print(word[0],word[5],word[2])"
      ],
      "execution_count": 53,
      "outputs": [
        {
          "output_type": "stream",
          "text": [
            "I love You\n"
          ],
          "name": "stdout"
        }
      ]
    },
    {
      "cell_type": "code",
      "metadata": {
        "id": "cHMPhld8xsjD",
        "colab_type": "code",
        "colab": {
          "base_uri": "https://localhost:8080/",
          "height": 34
        },
        "outputId": "f0a355e1-dd05-476f-f76e-8343ba30eea1"
      },
      "source": [
        "# 16)\n",
        "import random\n",
        "week = ['월','화','수','목','금','토','일']\n",
        "day = random.randint(0,6)\n",
        "print(week[day])\n"
      ],
      "execution_count": 54,
      "outputs": [
        {
          "output_type": "stream",
          "text": [
            "목\n"
          ],
          "name": "stdout"
        }
      ]
    },
    {
      "cell_type": "code",
      "metadata": {
        "id": "8fQd2M30y0js",
        "colab_type": "code",
        "colab": {
          "base_uri": "https://localhost:8080/",
          "height": 34
        },
        "outputId": "6fac1325-bfa6-4482-9d8e-0962b2b2af81"
      },
      "source": [
        "# 17)\n",
        "find_word = ['t','e','c','h','n','o','l','o','g','y']\n",
        "word1 = find_word[2] + find_word[5] + find_word[7] + find_word[6]\n",
        "word2 = find_word[0] + find_word[5] + find_word[7] + find_word[6]\n",
        "word3 = find_word[1] + find_word[8] + find_word[7]\n",
        "word4 = find_word[0] + find_word[5] + find_word[9]\n",
        "print(word1,word2,word3,word4)"
      ],
      "execution_count": 55,
      "outputs": [
        {
          "output_type": "stream",
          "text": [
            "cool tool ego toy\n"
          ],
          "name": "stdout"
        }
      ]
    },
    {
      "cell_type": "code",
      "metadata": {
        "id": "UxtcEKRzznZ0",
        "colab_type": "code",
        "colab": {
          "base_uri": "https://localhost:8080/",
          "height": 52
        },
        "outputId": "47b3e3f9-bfe3-4793-8aa3-0b6dfe816062"
      },
      "source": [
        "# 18)\n",
        "call = input('이름을 입력하세요')\n",
        "phone_book={'min':'010-1234-5678','jin':'010-2345-6789','jay':'010-2585-8525','ken':'010-9876-5432','ain':'010-8765-4321'}\n",
        "print(phone_book[name])"
      ],
      "execution_count": 77,
      "outputs": [
        {
          "output_type": "stream",
          "text": [
            "이름을 입력하세요jin\n",
            "010-2345-6789\n"
          ],
          "name": "stdout"
        }
      ]
    },
    {
      "cell_type": "code",
      "metadata": {
        "id": "sSCRMTwD4pbF",
        "colab_type": "code",
        "colab": {
          "base_uri": "https://localhost:8080/",
          "height": 52
        },
        "outputId": "1da4312c-cf2f-4914-83d3-2b71d4ec27b9"
      },
      "source": [
        "# 19)\n",
        "num = int(input('0~5 중 하나의 숫자를 입력하세요'))\n",
        "\n",
        "goodsay = ['happy','love','sad','hot','angry','fortunate']\n",
        "\n",
        "print(goodsay[num])"
      ],
      "execution_count": 78,
      "outputs": [
        {
          "output_type": "stream",
          "text": [
            "0~5 중 하나의 숫자를 입력하세요3\n",
            "hot\n"
          ],
          "name": "stdout"
        }
      ]
    },
    {
      "cell_type": "code",
      "metadata": {
        "id": "9KmRFpEx8r86",
        "colab_type": "code",
        "colab": {
          "base_uri": "https://localhost:8080/",
          "height": 34
        },
        "outputId": "13a3bf3e-b13c-4ad1-d221-be9ff0d9f8f1"
      },
      "source": [
        "# 20)\n",
        "team = ['민지','경희','상구','철수','지민']\n",
        "\n",
        "if len(team) > 3:\n",
        "    print('구성원은 최대 3명까지입니다. 줄이세요.')"
      ],
      "execution_count": 79,
      "outputs": [
        {
          "output_type": "stream",
          "text": [
            "구성원은 최대 3명까지입니다. 줄이세요.\n"
          ],
          "name": "stdout"
        }
      ]
    },
    {
      "cell_type": "code",
      "metadata": {
        "id": "5pIg_laX81Yh",
        "colab_type": "code",
        "colab": {
          "base_uri": "https://localhost:8080/",
          "height": 34
        },
        "outputId": "240cb706-8977-44e9-9a1f-30165be25481"
      },
      "source": [
        "# 21)\n",
        "score2 = [90,75,30,100,85]\n",
        "\n",
        "(score2[0] + score2[1] + score2[2] + score2[3] + score2[4]) / len(score2)"
      ],
      "execution_count": 80,
      "outputs": [
        {
          "output_type": "execute_result",
          "data": {
            "text/plain": [
              "76.0"
            ]
          },
          "metadata": {
            "tags": []
          },
          "execution_count": 80
        }
      ]
    },
    {
      "cell_type": "code",
      "metadata": {
        "id": "Ce3Yt-Q-88U9",
        "colab_type": "code",
        "colab": {
          "base_uri": "https://localhost:8080/",
          "height": 87
        },
        "outputId": "2c9b53d7-7d40-4209-c9d5-ddcf51ef519b"
      },
      "source": [
        "# 22)\n",
        "piano = ['도','레','미','파','솔','라','시']\n",
        "\n",
        "print('1도 화음 : ' , piano[0] , piano[2] , piano[4])\n",
        "print('4도 화음 : ' , piano[3] , piano[5] , piano[0])\n",
        "print('5도 화음 : ' , piano[4] , piano[6] , piano[2])\n",
        "\n",
        "school_bell = [piano[4],piano[4],piano[5],piano[5],piano[4],piano[4],piano[2]]\n",
        "print(school_bell)"
      ],
      "execution_count": 82,
      "outputs": [
        {
          "output_type": "stream",
          "text": [
            "1도 화음 :  도 미 솔\n",
            "4도 화음 :  파 라 도\n",
            "5도 화음 :  솔 시 미\n",
            "['솔', '솔', '라', '라', '솔', '솔', '미']\n"
          ],
          "name": "stdout"
        }
      ]
    },
    {
      "cell_type": "code",
      "metadata": {
        "id": "FxNYuDob9OLJ",
        "colab_type": "code",
        "colab": {}
      },
      "source": [
        ""
      ],
      "execution_count": null,
      "outputs": []
    }
  ]
}