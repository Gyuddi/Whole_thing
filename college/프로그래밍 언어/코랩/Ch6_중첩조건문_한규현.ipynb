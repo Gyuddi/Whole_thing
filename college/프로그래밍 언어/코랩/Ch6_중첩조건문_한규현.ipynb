{
  "nbformat": 4,
  "nbformat_minor": 0,
  "metadata": {
    "colab": {
      "name": "Ch6_중첩조건문_한규현.ipynb",
      "provenance": [],
      "collapsed_sections": []
    },
    "kernelspec": {
      "name": "python3",
      "display_name": "Python 3"
    }
  },
  "cells": [
    {
      "cell_type": "markdown",
      "metadata": {
        "id": "7GT6WroJJEeX",
        "colab_type": "text"
      },
      "source": [
        "#Ch6_중첩조건문_한규현\n",
        "##성명:한규현 학과:경제학과 학번:12173082"
      ]
    },
    {
      "cell_type": "code",
      "metadata": {
        "id": "Ia4fUsFNOMJ9",
        "colab_type": "code",
        "colab": {
          "base_uri": "https://localhost:8080/",
          "height": 70
        },
        "outputId": "912cfcda-527d-4a72-da4b-3db203589577"
      },
      "source": [
        "# 실습 6-1\n",
        "num1 = int(input(\"num1입력\"))\n",
        "num2 = int(input(\"num2입력\"))\n",
        "\n",
        "if (num1 >= 0) and (num2 >= 0):\n",
        "    print(\"두수의 곱은 양수입니다.\")\n",
        "else:\n",
        "    if (num1 < 0) and (num2 < 0):\n",
        "        print(\"두수의 곱은 양수입니다.\")\n",
        "    else:\n",
        "        print(\"두수의 곱은 음수입니다.\")"
      ],
      "execution_count": 2,
      "outputs": [
        {
          "output_type": "stream",
          "text": [
            "num1입력5\n",
            "num2입력3\n",
            "두수의 곱은 양수입니다.\n"
          ],
          "name": "stdout"
        }
      ]
    },
    {
      "cell_type": "code",
      "metadata": {
        "id": "j6o7QkD7T5jJ",
        "colab_type": "code",
        "colab": {}
      },
      "source": [
        "# 퀴즈 6-1\n",
        "if cond1 == True:\n",
        "( if cond2 == True:\n",
        "Statement1\n",
        "else:\n",
        "Statement2 )\n",
        "else:\n",
        "False_statements\n",
        "Next_statements"
      ],
      "execution_count": null,
      "outputs": []
    },
    {
      "cell_type": "code",
      "metadata": {
        "id": "IdxMhUtMZddX",
        "colab_type": "code",
        "colab": {
          "base_uri": "https://localhost:8080/",
          "height": 52
        },
        "outputId": "8430c2fd-fa94-4184-fe7a-3bfadb5e51e4"
      },
      "source": [
        "# 퀴즈 6-2\n",
        "age = int(input('당신의 나이를 입력하세요.'))\n",
        "\n",
        "if age >= 10:\n",
        "    if age < 20:\n",
        "        print('student')\n",
        "    else:\n",
        "        print('adult')\n",
        "else:\n",
        "    print('kid')"
      ],
      "execution_count": 3,
      "outputs": [
        {
          "output_type": "stream",
          "text": [
            "당신의 나이를 입력하세요.15\n",
            "student\n"
          ],
          "name": "stdout"
        }
      ]
    },
    {
      "cell_type": "code",
      "metadata": {
        "id": "cvMcqTPSZg3h",
        "colab_type": "code",
        "colab": {
          "base_uri": "https://localhost:8080/",
          "height": 52
        },
        "outputId": "2bee58a4-4456-4cec-eafc-6278e8365b9b"
      },
      "source": [
        "#실습 6-2\n",
        "score = int(input('점수 입력 : '))\n",
        "\n",
        "if score >= 90:\n",
        "    print('A')\n",
        "elif score >= 80:\n",
        "    print('B')\n",
        "elif score >= 70:\n",
        "    print('C')\n",
        "else:\n",
        "    print('D')"
      ],
      "execution_count": 5,
      "outputs": [
        {
          "output_type": "stream",
          "text": [
            "점수 입력 : 90\n",
            "A\n"
          ],
          "name": "stdout"
        }
      ]
    },
    {
      "cell_type": "code",
      "metadata": {
        "id": "GCajMdNUbPMR",
        "colab_type": "code",
        "colab": {
          "base_uri": "https://localhost:8080/",
          "height": 70
        },
        "outputId": "a64a4612-086c-43a8-b811-d4ee4219399d"
      },
      "source": [
        "# 실습 6-3\n",
        "english = int(input(\"영어점수입력\")) \n",
        "math = int(input(\"수학점수입력\"))\n",
        "total = english + math\n",
        "if total < 110:\n",
        "  print(\"불합격입니다\")\n",
        "elif english < 40 or math < 40:\n",
        "  print(\"불합격입니다\")\n",
        "else :\n",
        "  print(\"합격입니다\")"
      ],
      "execution_count": 6,
      "outputs": [
        {
          "output_type": "stream",
          "text": [
            "영어점수입력80\n",
            "수학점수입력20\n",
            "불합격입니다\n"
          ],
          "name": "stdout"
        }
      ]
    },
    {
      "cell_type": "code",
      "metadata": {
        "id": "gPdlGoaJdfme",
        "colab_type": "code",
        "colab": {
          "base_uri": "https://localhost:8080/",
          "height": 52
        },
        "outputId": "226f30b6-0283-4200-8edd-7dd27f928ecb"
      },
      "source": [
        "# 퀴즈 6-3\n",
        "age = int(input(\"당신의 나이를 입력하시오\"))\n",
        "if  age >= 20:\n",
        "  print(\"adult\")\n",
        "elif age >= 10:\n",
        "    print(\"student\")\n",
        "else:\n",
        "    print(\"kid\")"
      ],
      "execution_count": 8,
      "outputs": [
        {
          "output_type": "stream",
          "text": [
            "당신의 나이를 입력하시오15\n",
            "student\n"
          ],
          "name": "stdout"
        }
      ]
    },
    {
      "cell_type": "code",
      "metadata": {
        "id": "rdPU4f44euKy",
        "colab_type": "code",
        "colab": {
          "base_uri": "https://localhost:8080/",
          "height": 34
        },
        "outputId": "ec51f27c-706e-4860-aa31-3032cbce7908"
      },
      "source": [
        "# 연습문제 1)\n",
        "number = 18\n",
        "if number < 10:\n",
        "    if number > 5:\n",
        "        print('A')\n",
        "    else:\n",
        "        print('B')\n",
        "else:\n",
        "    print('C')"
      ],
      "execution_count": 9,
      "outputs": [
        {
          "output_type": "stream",
          "text": [
            "C\n"
          ],
          "name": "stdout"
        }
      ]
    },
    {
      "cell_type": "code",
      "metadata": {
        "id": "qOuI-99dfnmL",
        "colab_type": "code",
        "colab": {}
      },
      "source": [
        "# 2)\n",
        "조건이 많아지는 경우 ( if-elif-else문 )은 프로그램의 실행 시간이 짧아진다는 장점이 있는\n",
        "반면 프로그램을 코딩한 사람 외에는 해당 프로그램을 해석하기 어렵다는 단점이 있다.\n",
        "그러한 프로그램을 ( 중첩 조건문 )으로 프로그래밍하게 되면 프로그램의 실행 시간은\n",
        "길어지는 단점이 있으나 다른 누군가가 그 프로그램을 해석하기 쉬워지는 장점이 있다."
      ],
      "execution_count": null,
      "outputs": []
    },
    {
      "cell_type": "code",
      "metadata": {
        "id": "CUkZukp2fqTu",
        "colab_type": "code",
        "colab": {
          "base_uri": "https://localhost:8080/",
          "height": 52
        },
        "outputId": "f15bf64f-099a-464b-d3b3-a8b9f3672354"
      },
      "source": [
        "# 3) \n",
        "size = float(input('손가락 둘레 입력 : '))\n",
        "\n",
        "if 51< size <= 52:\n",
        "    print('9호')\n",
        "elif 52 < size <= 53:\n",
        "    print('10호')\n",
        "elif 53 < size <= 54:\n",
        "    print('11호')\n",
        "elif 54 < size <= 55:\n",
        "    print('12호')\n",
        "else:\n",
        "    print('반지 제작 불가')"
      ],
      "execution_count": 10,
      "outputs": [
        {
          "output_type": "stream",
          "text": [
            "손가락 둘레 입력 : 52.1\n",
            "10호\n"
          ],
          "name": "stdout"
        }
      ]
    },
    {
      "cell_type": "code",
      "metadata": {
        "id": "ZeYo8Xv2f-KJ",
        "colab_type": "code",
        "colab": {
          "base_uri": "https://localhost:8080/",
          "height": 87
        },
        "outputId": "5887d659-26d2-461f-8479-e1cf9d603caf"
      },
      "source": [
        "#4)\n",
        "num1 = int(input(\"첫번째 양수\"))\n",
        "num2 = int(input(\"두번째 양수\"))\n",
        "cal = int(input(\"원하는 연산 번호 입력\"))\n",
        "if cal == 1:\n",
        "  print(num1 + num2)\n",
        "elif cal == 2:\n",
        "  print(num1 - num2)\n",
        "elif cal == 3:\n",
        "  print(num1 * num2)\n",
        "elif cal == 4:\n",
        "  print(num1 / num2)\n",
        "else :\n",
        "  print(\"연산번호 재입력\")\n"
      ],
      "execution_count": 13,
      "outputs": [
        {
          "output_type": "stream",
          "text": [
            "첫번째 양수55\n",
            "두번째 양수5\n",
            "원하는 연산 번호 입력3\n",
            "275\n"
          ],
          "name": "stdout"
        }
      ]
    },
    {
      "cell_type": "code",
      "metadata": {
        "id": "a4a8OQG8hBUT",
        "colab_type": "code",
        "colab": {
          "base_uri": "https://localhost:8080/",
          "height": 52
        },
        "outputId": "09051377-50bf-4ba4-9d9d-3da2ee286429"
      },
      "source": [
        "# 5)\n",
        "year = int(input('해당 연도 입력 '))\n",
        "\n",
        "if year % 400 == 0:\n",
        "    print('윤년')\n",
        "elif year % 4 == 0 and year % 100 != 0:\n",
        "    print('윤년')\n",
        "else:\n",
        "    print('윤년이 아니다.') "
      ],
      "execution_count": 5,
      "outputs": [
        {
          "output_type": "stream",
          "text": [
            "해당 연도 입력 2020\n",
            "윤년\n"
          ],
          "name": "stdout"
        }
      ]
    },
    {
      "cell_type": "code",
      "metadata": {
        "id": "HbyS8VBwLA-Y",
        "colab_type": "code",
        "colab": {
          "base_uri": "https://localhost:8080/",
          "height": 70
        },
        "outputId": "8704693f-1e33-4d19-9608-91b6d283149f"
      },
      "source": [
        "# 6)\n",
        "weight = int(input(\"몸무게 입력\"))\n",
        "hight = float(input(\"키 입력(m)\"))\n",
        "bmi = weight / (hight * hight)\n",
        "if bmi < 20:\n",
        "  print(\"저체중\")\n",
        "elif bmi >= 20 and bmi <= 24:\n",
        "  print(\"정상체중\")\n",
        "elif bmi >= 25 and bmi <= 30:\n",
        "  print(\"경도비만\")\n",
        "else :\n",
        "  print(\"비만\")"
      ],
      "execution_count": 15,
      "outputs": [
        {
          "output_type": "stream",
          "text": [
            "몸무게 입력78\n",
            "키 입력(m)1.75\n",
            "경도비만\n"
          ],
          "name": "stdout"
        }
      ]
    },
    {
      "cell_type": "code",
      "metadata": {
        "id": "a5YOn9NFN1By",
        "colab_type": "code",
        "colab": {
          "base_uri": "https://localhost:8080/",
          "height": 70
        },
        "outputId": "fe52abee-9e80-4e22-91ef-adf526327477"
      },
      "source": [
        "# 7)\n",
        "name = input('이름 : ')\n",
        "part = int(input('현재 직급 입력'))\n",
        "\n",
        "if part == 1:\n",
        "    print('연봉 9000만원')\n",
        "elif part == 2:\n",
        "    print('연봉 6500만원')\n",
        "elif part == 3:\n",
        "    print('연봉 4000만원')\n",
        "elif part == 4:\n",
        "    print('연봉 3000만원')\n",
        "elif part == 5:\n",
        "    print('연봉 1000만원')\n",
        "else:\n",
        "    print('잘못 입력했습니다.')"
      ],
      "execution_count": 14,
      "outputs": [
        {
          "output_type": "stream",
          "text": [
            "이름 : 수지\n",
            "현재 직급 입력4\n",
            "연봉 3000만원\n"
          ],
          "name": "stdout"
        }
      ]
    },
    {
      "cell_type": "code",
      "metadata": {
        "id": "p3wqgdk5Oll5",
        "colab_type": "code",
        "colab": {
          "base_uri": "https://localhost:8080/",
          "height": 52
        },
        "outputId": "2580df6b-0ee6-4e2e-8183-2205476a87ac"
      },
      "source": [
        "# 8)\n",
        "tall = int(input('키 입력 '))\n",
        "\n",
        "if tall <= 140:\n",
        "    print('6급 병역 면제')\n",
        "elif tall <= 145:\n",
        "    print('5급 제2국민역')\n",
        "elif tall <= 158:\n",
        "    print('4급 보충역')\n",
        "else:\n",
        "    print('현역병')"
      ],
      "execution_count": 13,
      "outputs": [
        {
          "output_type": "stream",
          "text": [
            "키 입력 156\n",
            "4급 보충역\n"
          ],
          "name": "stdout"
        }
      ]
    },
    {
      "cell_type": "code",
      "metadata": {
        "id": "BIBjiTwZOunl",
        "colab_type": "code",
        "colab": {
          "base_uri": "https://localhost:8080/",
          "height": 70
        },
        "outputId": "4b42283c-4d49-41d5-a407-10d14a68bb62"
      },
      "source": [
        "# 9)\n",
        "kg = float(input('몸무게 '))\n",
        "cm = float(input('키(m) '))\n",
        "bmi = kg / (cm * cm)\n",
        "\n",
        "if 20 <= bmi <= 24.9:\n",
        "    print('군 면제 몸무게 1급')\n",
        "elif 18.5 <= bmi <= 19.9:\n",
        "    print('군 면제 몸무게 2급')\n",
        "elif (16 <= bmi <= 18.4) or (30 <= bmi <= 34.9):\n",
        "    print('군 면제 몸무게 3급')\n",
        "else:\n",
        "    print('군 면제 몸무게 4급')"
      ],
      "execution_count": 19,
      "outputs": [
        {
          "output_type": "stream",
          "text": [
            "몸무게 56\n",
            "키(m) 1.8\n",
            "군 면제 몸무게 3급\n"
          ],
          "name": "stdout"
        }
      ]
    },
    {
      "cell_type": "code",
      "metadata": {
        "id": "mRapG52-O8Hb",
        "colab_type": "code",
        "colab": {
          "base_uri": "https://localhost:8080/",
          "height": 70
        },
        "outputId": "9232c9b7-e01d-4771-c350-91ab46317b08"
      },
      "source": [
        "# 10)\n",
        "gender = input('성별')\n",
        "old = int(input('나이'))\n",
        "\n",
        "if gender == '여':\n",
        "    if old >= 20:\n",
        "        print('적립금의 2배 적립')\n",
        "    elif old >= 30:\n",
        "        print('적립금의 3배 적립')\n",
        "    else:\n",
        "        print('적립금의 1.5배 적립')\n",
        "else:\n",
        "    print('적립금의 2배 적립')"
      ],
      "execution_count": 18,
      "outputs": [
        {
          "output_type": "stream",
          "text": [
            "성별여\n",
            "나이25\n",
            "적립금의 2배 적립\n"
          ],
          "name": "stdout"
        }
      ]
    },
    {
      "cell_type": "code",
      "metadata": {
        "id": "F2Qm5JDzPztY",
        "colab_type": "code",
        "colab": {
          "base_uri": "https://localhost:8080/",
          "height": 70
        },
        "outputId": "50b35dfe-c222-4221-ea8c-6e8a547bf565"
      },
      "source": [
        "# 11)\n",
        "number1 = int(input(\"number1\"))\n",
        "number2 = int(input(\"number2\"))\n",
        "\n",
        "if number1 > number2:\n",
        "    if (number1 % 2) == 0:\n",
        "        print('첫번째 숫자가 큰 수이고 짝수')\n",
        "    else:\n",
        "        print('첫번째 숫자가 큰 수이고 홀수')\n",
        "elif number1 < number2:\n",
        "    if (number2 % 2) == 0:\n",
        "        print('두번째 숫자가 큰 수이고 짝수')\n",
        "    else:\n",
        "        print('두번째 숫자가 큰 수이고 홀수')\n",
        "else:\n",
        "    print('두 수는 같은 수이다.')"
      ],
      "execution_count": 21,
      "outputs": [
        {
          "output_type": "stream",
          "text": [
            "number110\n",
            "number28\n",
            "첫번째 숫자가 큰 수이고 짝수\n"
          ],
          "name": "stdout"
        }
      ]
    },
    {
      "cell_type": "code",
      "metadata": {
        "id": "N3Z2peYcQMNZ",
        "colab_type": "code",
        "colab": {
          "base_uri": "https://localhost:8080/",
          "height": 87
        },
        "outputId": "665f816c-ac1f-466f-d690-91360b2dcf27"
      },
      "source": [
        "# 12)\n",
        "t1 = int(input(\"첫번째 변\"))\n",
        "t2 = int(input(\"두번째 변\"))\n",
        "t3 = int(input(\"세번째 변(가장 긴 변)\"))\n",
        "\n",
        "if (t1 + t2) <= t3:\n",
        "    print('삼각형이 아니다.')\n",
        "elif (t1 == t2 == t3):\n",
        "    print('정삼각형')\n",
        "elif (t1 == t2) or (t1 == t3) or (t2 == t3):\n",
        "    print('이등변삼각형')\n",
        "elif ((t3**2) == (t1**2 + t2**2)):\n",
        "    print('직각삼각형')\n",
        "else:\n",
        "    print('삼각형')"
      ],
      "execution_count": 22,
      "outputs": [
        {
          "output_type": "stream",
          "text": [
            "첫번째 변10\n",
            "두번째 변10\n",
            "세번째 변(가장 긴 변)15\n",
            "이등변삼각형\n"
          ],
          "name": "stdout"
        }
      ]
    },
    {
      "cell_type": "code",
      "metadata": {
        "id": "nPjN8zcHRBC_",
        "colab_type": "code",
        "colab": {
          "base_uri": "https://localhost:8080/",
          "height": 134
        },
        "outputId": "9b0adbec-f34b-440b-9a43-82569801d80d"
      },
      "source": [
        "# 13)\n",
        "point = int(input('점수 입력:'))\n",
        "if point >= 90:\n",
        "print('A')\n",
        "elif point >= 80:\n",
        "print('B')\n",
        "elif point >= 70:\n",
        "print('C')\n",
        "else:\n",
        "print('D')\n",
        "#조건문 다음 들여쓰기가 되어있지 않다."
      ],
      "execution_count": 23,
      "outputs": [
        {
          "output_type": "error",
          "ename": "IndentationError",
          "evalue": "ignored",
          "traceback": [
            "\u001b[0;36m  File \u001b[0;32m\"<ipython-input-23-c9b0d70ac268>\"\u001b[0;36m, line \u001b[0;32m4\u001b[0m\n\u001b[0;31m    print('A')\u001b[0m\n\u001b[0m        ^\u001b[0m\n\u001b[0;31mIndentationError\u001b[0m\u001b[0;31m:\u001b[0m expected an indented block\n"
          ]
        }
      ]
    },
    {
      "cell_type": "code",
      "metadata": {
        "id": "DrbU2MyjRIgY",
        "colab_type": "code",
        "colab": {
          "base_uri": "https://localhost:8080/",
          "height": 70
        },
        "outputId": "67cdf6d2-2d4e-4826-cd47-88a410ee9a0d"
      },
      "source": [
        "# 14)\n",
        "sem = int(input('수료한 학기'))\n",
        "avg_grade = float(input('평균 학점'))\n",
        "\n",
        "if (sem == 0) or (sem > 8):\n",
        "    print('장학금을 받을 수 없음')\n",
        "elif avg_grade >= 4.0:\n",
        "    print('전액 장학금')\n",
        "elif avg_grade >= 3.5:\n",
        "    print('50% 장학금')\n",
        "elif avg_grade >= 3.0:\n",
        "    print('30% 장학금')\n",
        "else:\n",
        "    print('장학금을 받을 수 없음')"
      ],
      "execution_count": 24,
      "outputs": [
        {
          "output_type": "stream",
          "text": [
            "수료한 학기4\n",
            "평균 학점3.3\n",
            "30% 장학금\n"
          ],
          "name": "stdout"
        }
      ]
    },
    {
      "cell_type": "code",
      "metadata": {
        "id": "J3SbXHSmRicL",
        "colab_type": "code",
        "colab": {
          "base_uri": "https://localhost:8080/",
          "height": 70
        },
        "outputId": "4866a49d-b57d-46ee-ffbf-7ff0ab35b476"
      },
      "source": [
        "# 15)\n",
        "hour = int(input('출근 시각의 시'))\n",
        "min = int(input('출근 시각의 분'))\n",
        "\n",
        "if hour == 9:\n",
        "    if min > 30:\n",
        "        print('지각')\n",
        "    else:\n",
        "        print('정시출근')\n",
        "elif hour < 9:\n",
        "    print('정시 출근')\n",
        "else:\n",
        "    print('지각')"
      ],
      "execution_count": 25,
      "outputs": [
        {
          "output_type": "stream",
          "text": [
            "출근 시각의 시9\n",
            "출근 시각의 분31\n",
            "지각\n"
          ],
          "name": "stdout"
        }
      ]
    },
    {
      "cell_type": "code",
      "metadata": {
        "id": "Do9tPZe9RyWp",
        "colab_type": "code",
        "colab": {
          "base_uri": "https://localhost:8080/",
          "height": 87
        },
        "outputId": "04964b3c-3dd7-4130-e686-22fcf1a18204"
      },
      "source": [
        "# 16)\n",
        "num1 = int(input(\"정수 1 \"))\n",
        "num2 = int(input(\"정수 2 \"))\n",
        "num3 = int(input(\"정수 3 \"))\n",
        "if num1 == num2:\n",
        "  num1 = max\n",
        "  if num1 >= num3:\n",
        "    print(num1)\n",
        "  else:\n",
        "    print(num3)\n",
        "else:\n",
        "  max = num2\n",
        "  if num2 >= num3:\n",
        "    print(num2)\n",
        "  else:\n",
        "    print(num3)"
      ],
      "execution_count": 26,
      "outputs": [
        {
          "output_type": "stream",
          "text": [
            "정수 1 5\n",
            "정수 2 6\n",
            "정수 3 7\n",
            "7\n"
          ],
          "name": "stdout"
        }
      ]
    },
    {
      "cell_type": "code",
      "metadata": {
        "id": "SzPJqnKHX5w7",
        "colab_type": "code",
        "colab": {
          "base_uri": "https://localhost:8080/",
          "height": 70
        },
        "outputId": "304cc24f-6eb4-43da-8cf0-0ab47a6e2700"
      },
      "source": [
        "# 17)\n",
        "num1 = int(input(\"정수 1\"))\n",
        "num2 = int(input(\"정수 2\"))\n",
        "total = num1 + num2\n",
        "\n",
        "if (total % 2) == 0:\n",
        "    if (total % 3) == 0:\n",
        "        print('합은 짝수이며 3의 배수이다.')\n",
        "    else:\n",
        "        print('합은 짝수이며 3의 배수는 아니다.')\n",
        "elif (total % 3) == 0:\n",
        "    print('합은 홀수이며 3의 배수이다.')\n",
        "else:\n",
        "    print('합은 홀수이며 3의 배수는 아니다.')"
      ],
      "execution_count": 27,
      "outputs": [
        {
          "output_type": "stream",
          "text": [
            "정수 16\n",
            "정수 29\n",
            "합은 홀수이며 3의 배수이다.\n"
          ],
          "name": "stdout"
        }
      ]
    },
    {
      "cell_type": "code",
      "metadata": {
        "id": "KvTqqgRdYeFP",
        "colab_type": "code",
        "colab": {
          "base_uri": "https://localhost:8080/",
          "height": 70
        },
        "outputId": "fc255919-bc1e-4eaa-c5c3-1132d04aa008"
      },
      "source": [
        "# 18)\n",
        "lucky_num = int(input('행운의 숫자 입력'))\n",
        "k_num = int(input('한국인이 좋아하는 숫자 입력'))\n",
        "\n",
        "if (lucky_num == 7) and (k_num == 3):\n",
        "    print('둘 다 정답')\n",
        "elif (lucky_num == 7) and (k_num != 3):\n",
        "    print('행운의 숫자만 정답')\n",
        "elif (lucky_num != 7) and (k_num == 3):\n",
        "    print('한국인이 좋아하는 숫자만 정답')\n",
        "else:\n",
        "    print('둘 다 오답')"
      ],
      "execution_count": 28,
      "outputs": [
        {
          "output_type": "stream",
          "text": [
            "행운의 숫자 입력7\n",
            "한국인이 좋아하는 숫자 입력7\n",
            "행운의 숫자만 정답\n"
          ],
          "name": "stdout"
        }
      ]
    },
    {
      "cell_type": "code",
      "metadata": {
        "id": "2_l-PQ-aYypR",
        "colab_type": "code",
        "colab": {
          "base_uri": "https://localhost:8080/",
          "height": 52
        },
        "outputId": "a5782166-6467-499c-f5d9-d3086e92a53f"
      },
      "source": [
        "#19)\n",
        "luv = input(\"'사랑해'라는 말은 외국어로? \")\n",
        "\n",
        "if luv == 'I love you':\n",
        "    print('영어')\n",
        "elif luv == 'Ti amo':\n",
        "    print('이탈리아어')\n",
        "elif luv == 'Aishiteru':\n",
        "    print('일본어')\n",
        "elif luv == 'Te qiero':\n",
        "    print('스페인어')\n",
        "elif luv == 'Wo ai ni':\n",
        "    print('중국어')\n",
        "elif luv == 'Ich liebe dich':\n",
        "    print('독일어')\n",
        "else:\n",
        "    print('잘 모르겠습니다')"
      ],
      "execution_count": 29,
      "outputs": [
        {
          "output_type": "stream",
          "text": [
            "'사랑해'라는 말은 외국어로? Ti amo\n",
            "이탈리아어\n"
          ],
          "name": "stdout"
        }
      ]
    },
    {
      "cell_type": "code",
      "metadata": {
        "id": "B39b7wL7Y-Yl",
        "colab_type": "code",
        "colab": {
          "base_uri": "https://localhost:8080/",
          "height": 87
        },
        "outputId": "853ecb2b-0fb5-431b-8f9e-4916d16848dd"
      },
      "source": [
        "# 20)\n",
        "num1 = int(input(\"정수 1 입력\"))\n",
        "num2 = int(input(\"정수 2 입력\"))\n",
        "num3 = int(input(\"정수 3 입력\"))\n",
        "\n",
        "if num1 <= num2:\n",
        "    min = num1\n",
        "    if num1 <= num3:\n",
        "        print('가장 작은 수 :', min)\n",
        "    else:\n",
        "        min = num3\n",
        "        print('가장 작은 수 :', min)\n",
        "else:\n",
        "    min = num2\n",
        "    if num2 <= num3:\n",
        "        print('가장 작은 수 :', min)\n",
        "    else:\n",
        "        min = num3\n",
        "        print('가장 작은 수 :', min)\n"
      ],
      "execution_count": 33,
      "outputs": [
        {
          "output_type": "stream",
          "text": [
            "정수 1 입력6\n",
            "정수 2 입력8\n",
            "정수 3 입력7\n",
            "가장 작은 수 : 6\n"
          ],
          "name": "stdout"
        }
      ]
    },
    {
      "cell_type": "code",
      "metadata": {
        "id": "2MZ8_tCCZ7oc",
        "colab_type": "code",
        "colab": {
          "base_uri": "https://localhost:8080/",
          "height": 87
        },
        "outputId": "eb0883a0-9f37-47fd-a1a6-b423a923e777"
      },
      "source": [
        "# 21)\n",
        "num1 = int(input(\"정수 1 입력\"))\n",
        "num2 = int(input(\"정수 2 입력\"))\n",
        "num3 = int(input(\"정수 3 입력\"))\n",
        "\n",
        "total= num1 + num2 + num3\n",
        "\n",
        "if (total % 2) == 0:\n",
        "    if num1 >= num2:\n",
        "        max = num1\n",
        "        if num1 >= num3:\n",
        "            print('합은 짝수, 가장 큰 수는 %d' % max)\n",
        "        else:\n",
        "            max = num3\n",
        "            print('합은 짝수, 가장 큰 수는 %d' % max)\n",
        "    else:\n",
        "        max = num2\n",
        "        if num2 >= num3:\n",
        "            print('합은 짝수, 가장 큰 수는 %d' % max)\n",
        "        else:\n",
        "            max = num3\n",
        "            print('합은 짝수, 가장 큰 수는 %d' % max)\n",
        "else:\n",
        "    print('합은 홀수, %d' % total)"
      ],
      "execution_count": 35,
      "outputs": [
        {
          "output_type": "stream",
          "text": [
            "정수 1 입력4\n",
            "정수 2 입력8\n",
            "정수 3 입력10\n",
            "합은 짝수, 가장 큰 수는 10\n"
          ],
          "name": "stdout"
        }
      ]
    },
    {
      "cell_type": "code",
      "metadata": {
        "id": "49PHHxMTbjz1",
        "colab_type": "code",
        "colab": {
          "base_uri": "https://localhost:8080/",
          "height": 105
        },
        "outputId": "749a8ff2-e72d-493a-d3ea-0ca8977c13c3"
      },
      "source": [
        "# 22)\n",
        "x1 = int(input(\"점1의 x좌표\"))\n",
        "y1 = int(input(\"점1의 y좌표\"))\n",
        "x2 = int(input(\"점2의 x좌표\"))\n",
        "y2 = int(input(\"점2의 y좌표\"))\n",
        "\n",
        "if (x1 >= x2) and (y1 >= y2):\n",
        "  print(((x1 - x2)**2+(y1 - y2)**2)**0.5)\n",
        " \n",
        "elif (x1 >= x2) and (y1 < y2):\n",
        "  print(((x1 - x2)**2+(y1 - y2)**2)**0.5)\n",
        "  \n",
        "elif (x1 < x2) and (y1 >= y2):\n",
        "  print(((x1 - x2)**2+(y1 - y2)**2)**0.5)\n",
        "  \n",
        "else :\n",
        "  print(((x1 - x2)**2+(y1 - y2)**2)**0.5) "
      ],
      "execution_count": 37,
      "outputs": [
        {
          "output_type": "stream",
          "text": [
            "점1의 x좌표10\n",
            "점1의 y좌표12\n",
            "점2의 x좌표5\n",
            "점2의 y좌표15\n",
            "5.830951894845301\n"
          ],
          "name": "stdout"
        }
      ]
    },
    {
      "cell_type": "code",
      "metadata": {
        "id": "Fj-W7W2Qdyow",
        "colab_type": "code",
        "colab": {
          "base_uri": "https://localhost:8080/",
          "height": 87
        },
        "outputId": "717819cd-e716-4fd6-bf83-afc027e5af1b"
      },
      "source": [
        "# 23)\n",
        "time = int(input('출국 전 남은 기간 : '))\n",
        "country = input('여행할 국가 : ')\n",
        "\n",
        "UK = 70\n",
        "France = 67\n",
        "Germany = 63\n",
        "Greece = 60\n",
        "\n",
        "if time >= 45:\n",
        "    if country == '영국':\n",
        "        price = UK * 0.95\n",
        "        print('5% 할인')\n",
        "        print('가격 :',price)\n",
        "    elif country == '프랑스':\n",
        "        price = France * 0.95\n",
        "        print('5% 할인')\n",
        "        print('가격 :',price)\n",
        "    elif country == '독일':\n",
        "        price = Germany * 0.95\n",
        "        print('5% 할인')\n",
        "        print('가격 :',price)\n",
        "    elif country == '그리스':\n",
        "        price = Greece * 0.95\n",
        "        print('5% 할인')\n",
        "        print('가격 :',price)\n",
        "    else:\n",
        "        print('해당 국가 없음')\n",
        "elif time >= 30:\n",
        "    if country == '영국':\n",
        "        price = UK * 0.97\n",
        "        print('3% 할인')\n",
        "        print('가격 :',price)\n",
        "    elif country == '프랑스':\n",
        "        price = France * 0.97\n",
        "        print('3% 할인')\n",
        "        print('가격 :',price)\n",
        "    elif country == '독일':\n",
        "        price = Germany * 0.97\n",
        "        print('3% 할인')\n",
        "        print('가격 :',price)\n",
        "    elif country == '그리스':\n",
        "        price = Greece * 0.97\n",
        "        print('3% 할인')\n",
        "        print('가격 :',price)\n",
        "    else:\n",
        "        print('해당 국가 없음')\n",
        "else:\n",
        "    if country == '영국':\n",
        "        print('가격 :',UK)\n",
        "    elif country == '프랑스':\n",
        "        print('가격 :',France)\n",
        "    elif country == '독일':\n",
        "        print('가격 :',Germany)\n",
        "    elif country == '그리스':\n",
        "        print('가격 :',Greece)\n",
        "    else:\n",
        "        print('해당 국가 없음')"
      ],
      "execution_count": 39,
      "outputs": [
        {
          "output_type": "stream",
          "text": [
            "출국 전 남은 기간 : 45\n",
            "여행할 국가 : 프랑스\n",
            "5% 할인\n",
            "가격 : 63.65\n"
          ],
          "name": "stdout"
        }
      ]
    },
    {
      "cell_type": "code",
      "metadata": {
        "id": "1hI3bjgze5Tc",
        "colab_type": "code",
        "colab": {}
      },
      "source": [
        ""
      ],
      "execution_count": null,
      "outputs": []
    }
  ]
}