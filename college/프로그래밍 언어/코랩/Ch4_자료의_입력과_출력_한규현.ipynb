{
  "nbformat": 4,
  "nbformat_minor": 0,
  "metadata": {
    "colab": {
      "name": "Ch4_자료의_입력과_출력_한규현.ipynb",
      "provenance": [],
      "collapsed_sections": []
    },
    "kernelspec": {
      "name": "python3",
      "display_name": "Python 3"
    }
  },
  "cells": [
    {
      "cell_type": "markdown",
      "metadata": {
        "id": "vwShrB5zlRun",
        "colab_type": "text"
      },
      "source": [
        "# Ch 4. 자료의 입력과 출력\n",
        "## 지은이: 인하대 소프트웨어융합공학 연계전공 한규현(12173082)"
      ]
    },
    {
      "cell_type": "code",
      "metadata": {
        "id": "NQRJS4MTloIa",
        "colab_type": "code",
        "colab": {
          "base_uri": "https://localhost:8080/",
          "height": 34
        },
        "outputId": "f8349226-9157-4729-9af9-6b33a6a1d244"
      },
      "source": [
        "#퀴즈 4-1\n",
        "name = 'Gildong'\n",
        "location='Seoul'\n",
        "print('Hello, My name is ' + name + '. And I live in '+location+'.')"
      ],
      "execution_count": null,
      "outputs": [
        {
          "output_type": "stream",
          "text": [
            "Hello, My name is Gildong. And I live in Seoul.\n"
          ],
          "name": "stdout"
        }
      ]
    },
    {
      "cell_type": "code",
      "metadata": {
        "id": "l_E21J9iowr0",
        "colab_type": "code",
        "colab": {
          "base_uri": "https://localhost:8080/",
          "height": 34
        },
        "outputId": "c7807469-04b4-4f7f-a2ed-9fd74f0a6a11"
      },
      "source": [
        "#퀴즈 4-2\n",
        "string1='Hello'\n",
        "string2='Python'\n",
        "star='*******'\n",
        "star='***'\n",
        "print(star*3+string1+string2+star*3)"
      ],
      "execution_count": null,
      "outputs": [
        {
          "output_type": "stream",
          "text": [
            "*********HelloPython*********\n"
          ],
          "name": "stdout"
        }
      ]
    },
    {
      "cell_type": "code",
      "metadata": {
        "id": "JAQaV5byo5wX",
        "colab_type": "code",
        "colab": {
          "base_uri": "https://localhost:8080/",
          "height": 34
        },
        "outputId": "f01ff4de-3195-41cd-bad4-0c969e90a998"
      },
      "source": [
        "#퀴즈 4-3\n",
        "string1='python'\n",
        "string2='programming'\n",
        "len(string1)"
      ],
      "execution_count": null,
      "outputs": [
        {
          "output_type": "execute_result",
          "data": {
            "text/plain": [
              "6"
            ]
          },
          "metadata": {
            "tags": []
          },
          "execution_count": 3
        }
      ]
    },
    {
      "cell_type": "code",
      "metadata": {
        "id": "ogSs9C4Jo9zi",
        "colab_type": "code",
        "colab": {
          "base_uri": "https://localhost:8080/",
          "height": 34
        },
        "outputId": "f313b5e5-31fc-4492-b5fa-2e1c03879c5c"
      },
      "source": [
        "string3=(string1+' '+string2)\n",
        "len(string3)"
      ],
      "execution_count": null,
      "outputs": [
        {
          "output_type": "execute_result",
          "data": {
            "text/plain": [
              "18"
            ]
          },
          "metadata": {
            "tags": []
          },
          "execution_count": 4
        }
      ]
    },
    {
      "cell_type": "code",
      "metadata": {
        "id": "f-LzgKHLpEu-",
        "colab_type": "code",
        "colab": {
          "base_uri": "https://localhost:8080/",
          "height": 34
        },
        "outputId": "b22c37a4-5647-46b4-ab13-fbb1ef4e4180"
      },
      "source": [
        "#퀴즈 4-4\n",
        "string1='Beautiful Weather'\n",
        "firstindex=string1[0]\n",
        "secondindex=string1[1]\n",
        "thirdindex=string1[11]\n",
        "print(firstindex+secondindex+thirdindex)"
      ],
      "execution_count": null,
      "outputs": [
        {
          "output_type": "stream",
          "text": [
            "Bee\n"
          ],
          "name": "stdout"
        }
      ]
    },
    {
      "cell_type": "code",
      "metadata": {
        "id": "gDmNNvd9pIlI",
        "colab_type": "code",
        "colab": {
          "base_uri": "https://localhost:8080/",
          "height": 52
        },
        "outputId": "ee0f2a46-258b-4775-ad2a-fc81963fa093"
      },
      "source": [
        "#실습 4-1\n",
        "string1=\"red apple\"\n",
        "string2=\"yellow banana\"\n",
        "print(string2[0:6]+' '+string1[4:])\n",
        "print(string1[0:3]+' '+string2[7:])"
      ],
      "execution_count": null,
      "outputs": [
        {
          "output_type": "stream",
          "text": [
            "yellow apple\n",
            "red banana\n"
          ],
          "name": "stdout"
        }
      ]
    },
    {
      "cell_type": "code",
      "metadata": {
        "id": "NkhTx1Zqqnn9",
        "colab_type": "code",
        "colab": {
          "base_uri": "https://localhost:8080/",
          "height": 35
        },
        "outputId": "26c34da6-3c52-4bc6-ae0d-5dac93fe0153"
      },
      "source": [
        "#퀴즈 4-5\n",
        "name='Hong Gildong'\n",
        "family_name = name[0:4]\n",
        "family_name"
      ],
      "execution_count": null,
      "outputs": [
        {
          "output_type": "execute_result",
          "data": {
            "application/vnd.google.colaboratory.intrinsic+json": {
              "type": "string"
            },
            "text/plain": [
              "'Hong'"
            ]
          },
          "metadata": {
            "tags": []
          },
          "execution_count": 7
        }
      ]
    },
    {
      "cell_type": "code",
      "metadata": {
        "id": "iU0JsS2_qx2r",
        "colab_type": "code",
        "colab": {
          "base_uri": "https://localhost:8080/",
          "height": 34
        },
        "outputId": "c66e5f43-3583-4e76-8d51-6e582a6d0348"
      },
      "source": [
        "#퀴즈 4-6\n",
        "favorite_color = input('What is your favorite color?')"
      ],
      "execution_count": null,
      "outputs": [
        {
          "output_type": "stream",
          "text": [
            "What is your favorite color?Blue\n"
          ],
          "name": "stdout"
        }
      ]
    },
    {
      "cell_type": "code",
      "metadata": {
        "id": "1rX2pdaIrCjo",
        "colab_type": "code",
        "colab": {
          "base_uri": "https://localhost:8080/",
          "height": 35
        },
        "outputId": "0712fbf7-613a-44e1-9326-7ebcef963514"
      },
      "source": [
        "favorite_color"
      ],
      "execution_count": null,
      "outputs": [
        {
          "output_type": "execute_result",
          "data": {
            "application/vnd.google.colaboratory.intrinsic+json": {
              "type": "string"
            },
            "text/plain": [
              "'Blue'"
            ]
          },
          "metadata": {
            "tags": []
          },
          "execution_count": 9
        }
      ]
    },
    {
      "cell_type": "code",
      "metadata": {
        "id": "-g9p33R9rGqf",
        "colab_type": "code",
        "colab": {
          "base_uri": "https://localhost:8080/",
          "height": 34
        },
        "outputId": "c4eb0fb0-937a-4c33-8a32-7a7f11b2ef0c"
      },
      "source": [
        "#퀴즈 4-7\n",
        "name = 'Gildong'\n",
        "print('Hello, my name is',name)"
      ],
      "execution_count": null,
      "outputs": [
        {
          "output_type": "stream",
          "text": [
            "Hello, my name is Gildong\n"
          ],
          "name": "stdout"
        }
      ]
    },
    {
      "cell_type": "code",
      "metadata": {
        "id": "_6oJWJcyrMfL",
        "colab_type": "code",
        "colab": {
          "base_uri": "https://localhost:8080/",
          "height": 34
        },
        "outputId": "245783a2-e8bf-47e9-f223-08461056430d"
      },
      "source": [
        "#연습문제 1.\n",
        "start = '*' * 10\n",
        "title = \"Let's have fun\"\n",
        "finish = '*' * 10\n",
        "print(start + title + finish)"
      ],
      "execution_count": 1,
      "outputs": [
        {
          "output_type": "stream",
          "text": [
            "**********Let's have fun**********\n"
          ],
          "name": "stdout"
        }
      ]
    },
    {
      "cell_type": "code",
      "metadata": {
        "id": "NP0VYoU9GJpY",
        "colab_type": "code",
        "colab": {
          "base_uri": "https://localhost:8080/",
          "height": 35
        },
        "outputId": "0273e43d-5209-4e43-d3e2-a03a2f493c9a"
      },
      "source": [
        "#2.\n",
        "title = 'Mission Impossible'\n",
        "title[9:13]"
      ],
      "execution_count": 2,
      "outputs": [
        {
          "output_type": "execute_result",
          "data": {
            "application/vnd.google.colaboratory.intrinsic+json": {
              "type": "string"
            },
            "text/plain": [
              "'mpos'"
            ]
          },
          "metadata": {
            "tags": []
          },
          "execution_count": 2
        }
      ]
    },
    {
      "cell_type": "code",
      "metadata": {
        "id": "YzCzsKqbGY75",
        "colab_type": "code",
        "colab": {
          "base_uri": "https://localhost:8080/",
          "height": 34
        },
        "outputId": "dbd100b2-4938-47eb-f5c7-d6a22c398a07"
      },
      "source": [
        "#3.\n",
        "n = input('Enter the number')"
      ],
      "execution_count": 3,
      "outputs": [
        {
          "output_type": "stream",
          "text": [
            "Enter the number7\n"
          ],
          "name": "stdout"
        }
      ]
    },
    {
      "cell_type": "code",
      "metadata": {
        "id": "CY4XyykRHDeo",
        "colab_type": "code",
        "colab": {
          "base_uri": "https://localhost:8080/",
          "height": 35
        },
        "outputId": "0bd4ee14-0572-4696-eb8e-a3c979279e2f"
      },
      "source": [
        "m= n * 4\n",
        "m"
      ],
      "execution_count": 4,
      "outputs": [
        {
          "output_type": "execute_result",
          "data": {
            "application/vnd.google.colaboratory.intrinsic+json": {
              "type": "string"
            },
            "text/plain": [
              "'7777'"
            ]
          },
          "metadata": {
            "tags": []
          },
          "execution_count": 4
        }
      ]
    },
    {
      "cell_type": "code",
      "metadata": {
        "id": "2rac15HnHH1t",
        "colab_type": "code",
        "colab": {
          "base_uri": "https://localhost:8080/",
          "height": 34
        },
        "outputId": "a82c63dc-40b0-4dcb-d1b2-f02878345b38"
      },
      "source": [
        "# m = 28 을 원한다면?\n",
        "n = int(input('Enter the number'))"
      ],
      "execution_count": 5,
      "outputs": [
        {
          "output_type": "stream",
          "text": [
            "Enter the number7\n"
          ],
          "name": "stdout"
        }
      ]
    },
    {
      "cell_type": "code",
      "metadata": {
        "id": "hL_iiA5UHTOv",
        "colab_type": "code",
        "colab": {
          "base_uri": "https://localhost:8080/",
          "height": 34
        },
        "outputId": "359002a0-ce67-4772-8922-90fb75bb0d93"
      },
      "source": [
        "m= n * 4\n",
        "m"
      ],
      "execution_count": 6,
      "outputs": [
        {
          "output_type": "execute_result",
          "data": {
            "text/plain": [
              "28"
            ]
          },
          "metadata": {
            "tags": []
          },
          "execution_count": 6
        }
      ]
    },
    {
      "cell_type": "code",
      "metadata": {
        "id": "-5-gHXaQHVjM",
        "colab_type": "code",
        "colab": {
          "base_uri": "https://localhost:8080/",
          "height": 35
        },
        "outputId": "38aa3256-2f75-4a98-e4b5-9805ec0c49cc"
      },
      "source": [
        "#4.\n",
        "greeting='hello!'\n",
        "greeting[0]"
      ],
      "execution_count": 7,
      "outputs": [
        {
          "output_type": "execute_result",
          "data": {
            "application/vnd.google.colaboratory.intrinsic+json": {
              "type": "string"
            },
            "text/plain": [
              "'h'"
            ]
          },
          "metadata": {
            "tags": []
          },
          "execution_count": 7
        }
      ]
    },
    {
      "cell_type": "code",
      "metadata": {
        "id": "NecBzQy1Hewa",
        "colab_type": "code",
        "colab": {}
      },
      "source": [
        "'H'가 아닌 'h'가 나와야 한다."
      ],
      "execution_count": null,
      "outputs": []
    },
    {
      "cell_type": "code",
      "metadata": {
        "id": "eUQ5AXDkHlaN",
        "colab_type": "code",
        "colab": {
          "base_uri": "https://localhost:8080/",
          "height": 70
        },
        "outputId": "1c45e773-816c-42fb-92c7-cd4555aa4eb0"
      },
      "source": [
        "#5.\n",
        "num_pencil = int(input(\"연필은 몇 개를 구입하시겠습니까?\"))\n",
        "num_pen = int(input(\"펜은 몇 개를 구입하시겠습니까? \"))\n",
        "total_price = num_pencil * 3000 + num_pen * 4000\n",
        "print(\"총 가격은\",0.7 * total_price,\"원 입니다.\")"
      ],
      "execution_count": 8,
      "outputs": [
        {
          "output_type": "stream",
          "text": [
            "연필은 몇 개를 구입하시겠습니까?5\n",
            "펜은 몇 개를 구입하시겠습니까? 5\n",
            "총 가격은 24500.0 원 입니다.\n"
          ],
          "name": "stdout"
        }
      ]
    },
    {
      "cell_type": "code",
      "metadata": {
        "id": "MSMU83eAJSFy",
        "colab_type": "code",
        "colab": {}
      },
      "source": [
        "#6\n",
        "1) (X) -int와 float형이 함께 쓰일 경우 결괏값은 float형이다.\n",
        "2) (X) -10이다. 공백을 포함하기 때문\n",
        "3) (O) -input값은 string으로 인식된다.\n",
        "4) (X) -she's 의 ' 에서 오류가 발생한다.\n",
        "5) (X) -파이썬에선 string의 내용 일부를 변경할 수 없다.\n",
        "6) (X) -string[2]의 값은  t 가 아닌 't'이다.\n",
        "7) (X) - 4가지 형식의 Quote ('', \"\", ''' ''', \"\"\" \"\"\")가 모두 허용된다. "
      ],
      "execution_count": null,
      "outputs": []
    },
    {
      "cell_type": "code",
      "metadata": {
        "id": "bZ63xet2Kyel",
        "colab_type": "code",
        "colab": {}
      },
      "source": [
        "#7\n",
        "다음 문제를 보고 빈칸을 채워보시오.\n",
        "( len ) 함수를 이용하면 문자열의 길이를 파악할 수 있다.\n",
        "정수 입력 시 ( int ) 형을 사용하고 실수 입력 시 ( float ) 형을 사용한다.\n",
        "( type ) 함수를 이용하면 형의 종류를 파악할 수 있다."
      ],
      "execution_count": null,
      "outputs": []
    },
    {
      "cell_type": "code",
      "metadata": {
        "id": "w7osZqLuK2wM",
        "colab_type": "code",
        "colab": {
          "base_uri": "https://localhost:8080/",
          "height": 35
        },
        "outputId": "29d4b775-2a41-4e75-fe8a-c7967bdc6730"
      },
      "source": [
        "#8\n",
        "python = 'python is easy programming language'\n",
        "python[10:25]"
      ],
      "execution_count": 9,
      "outputs": [
        {
          "output_type": "execute_result",
          "data": {
            "application/vnd.google.colaboratory.intrinsic+json": {
              "type": "string"
            },
            "text/plain": [
              "'easy programmin'"
            ]
          },
          "metadata": {
            "tags": []
          },
          "execution_count": 9
        }
      ]
    },
    {
      "cell_type": "code",
      "metadata": {
        "id": "GFQvH8SHK8Cw",
        "colab_type": "code",
        "colab": {
          "base_uri": "https://localhost:8080/",
          "height": 35
        },
        "outputId": "5a74b82c-25c8-4e43-c10b-e5ce70a28e24"
      },
      "source": [
        "#9\n",
        "a = 'hello'\n",
        "b = 'world'\n",
        "a+b"
      ],
      "execution_count": 10,
      "outputs": [
        {
          "output_type": "execute_result",
          "data": {
            "application/vnd.google.colaboratory.intrinsic+json": {
              "type": "string"
            },
            "text/plain": [
              "'helloworld'"
            ]
          },
          "metadata": {
            "tags": []
          },
          "execution_count": 10
        }
      ]
    },
    {
      "cell_type": "code",
      "metadata": {
        "id": "QmOAbxEoLBxQ",
        "colab_type": "code",
        "colab": {
          "base_uri": "https://localhost:8080/",
          "height": 34
        },
        "outputId": "bafc9eff-8f05-46b1-90e2-533ca9653bc4"
      },
      "source": [
        "print(a+b)"
      ],
      "execution_count": 11,
      "outputs": [
        {
          "output_type": "stream",
          "text": [
            "helloworld\n"
          ],
          "name": "stdout"
        }
      ]
    },
    {
      "cell_type": "code",
      "metadata": {
        "id": "KQBPJLr9LDeC",
        "colab_type": "code",
        "colab": {
          "base_uri": "https://localhost:8080/",
          "height": 34
        },
        "outputId": "cb2dd9c8-452c-495b-e499-692fd5ce0f73"
      },
      "source": [
        "#10\n",
        "string = 'My name is tommy'\n",
        "print(string[0] + string[12:14])"
      ],
      "execution_count": 12,
      "outputs": [
        {
          "output_type": "stream",
          "text": [
            "Mom\n"
          ],
          "name": "stdout"
        }
      ]
    },
    {
      "cell_type": "code",
      "metadata": {
        "id": "rob1JbMxLI0Y",
        "colab_type": "code",
        "colab": {
          "base_uri": "https://localhost:8080/",
          "height": 34
        },
        "outputId": "07b8a955-eafc-4003-f03a-d568e2b80509"
      },
      "source": [
        "#11\n",
        "number1 = input()"
      ],
      "execution_count": 13,
      "outputs": [
        {
          "output_type": "stream",
          "text": [
            "4\n"
          ],
          "name": "stdout"
        }
      ]
    },
    {
      "cell_type": "code",
      "metadata": {
        "id": "1HCg4iF1LNvJ",
        "colab_type": "code",
        "colab": {
          "base_uri": "https://localhost:8080/",
          "height": 34
        },
        "outputId": "a210203c-e362-4787-d99b-3ef38316d10c"
      },
      "source": [
        "number1 = int(number1)\n",
        "number1 + 6"
      ],
      "execution_count": 14,
      "outputs": [
        {
          "output_type": "execute_result",
          "data": {
            "text/plain": [
              "10"
            ]
          },
          "metadata": {
            "tags": []
          },
          "execution_count": 14
        }
      ]
    },
    {
      "cell_type": "code",
      "metadata": {
        "id": "8PouUxZ0LSSE",
        "colab_type": "code",
        "colab": {
          "base_uri": "https://localhost:8080/",
          "height": 70
        },
        "outputId": "04cd2977-78af-4f76-a070-a650db7cd0d2"
      },
      "source": [
        "#12\n",
        "D = int(input(\"거리를 입력하시오.: \"))\n",
        "T = int(input(\"시간을 입력하시오.: \"))\n",
        "S = D/T\n",
        "print(\"속도는\",S,\"입니다.\")"
      ],
      "execution_count": 15,
      "outputs": [
        {
          "output_type": "stream",
          "text": [
            "거리를 입력하시오.: 100\n",
            "시간을 입력하시오.: 3\n",
            "속도는 33.333333333333336 입니다.\n"
          ],
          "name": "stdout"
        }
      ]
    },
    {
      "cell_type": "code",
      "metadata": {
        "id": "sHyQyzH7LlWX",
        "colab_type": "code",
        "colab": {
          "base_uri": "https://localhost:8080/",
          "height": 34
        },
        "outputId": "8a18e255-386b-4e6d-f57d-f6c5d1bdd722"
      },
      "source": [
        "#13\n",
        "x1 = 3\n",
        "y1 = 5\n",
        "x2 = -1\n",
        "y2 = 4\n",
        "area = ((x1-x2)*(y1-y2))/2\n",
        "print(area)"
      ],
      "execution_count": 16,
      "outputs": [
        {
          "output_type": "stream",
          "text": [
            "2.0\n"
          ],
          "name": "stdout"
        }
      ]
    },
    {
      "cell_type": "code",
      "metadata": {
        "id": "D_l7z_swMBDD",
        "colab_type": "code",
        "colab": {
          "base_uri": "https://localhost:8080/",
          "height": 52
        },
        "outputId": "5f6149d1-8c9c-4f10-92b7-3961342b5a7a"
      },
      "source": [
        "#14\n",
        "x = int(input(\"x를 입력하시오:\"))\n",
        "print(\"@\"*x)"
      ],
      "execution_count": 17,
      "outputs": [
        {
          "output_type": "stream",
          "text": [
            "x를 입력하시오:10\n",
            "@@@@@@@@@@\n"
          ],
          "name": "stdout"
        }
      ]
    },
    {
      "cell_type": "code",
      "metadata": {
        "id": "TUOEPPL1MJTr",
        "colab_type": "code",
        "colab": {
          "base_uri": "https://localhost:8080/",
          "height": 70
        },
        "outputId": "26298b6a-538d-49ed-f451-b23c1d334aab"
      },
      "source": [
        "#15\n",
        "last_name = input(\"last_name을 입력하시오.\")\n",
        "first_name = input(\"first_name을 입력하시오.\")\n",
        "fullname = last_name+first_name\n",
        "print(fullname)"
      ],
      "execution_count": 18,
      "outputs": [
        {
          "output_type": "stream",
          "text": [
            "last_name을 입력하시오.한\n",
            "first_name을 입력하시오.규현\n",
            "한규현\n"
          ],
          "name": "stdout"
        }
      ]
    },
    {
      "cell_type": "code",
      "metadata": {
        "id": "aj0axnUrMmh8",
        "colab_type": "code",
        "colab": {
          "base_uri": "https://localhost:8080/",
          "height": 87
        },
        "outputId": "a37355ef-c3ff-4185-dde4-d17429326b79"
      },
      "source": [
        "hour = input(\"시각을 입력하시오.\")\n",
        "minute = input(\"분을 입력하시오.\")\n",
        "second = input(\"초를 입력하시오.\")\n",
        "print(hour +\":\" + minute + \":\" + second)"
      ],
      "execution_count": 19,
      "outputs": [
        {
          "output_type": "stream",
          "text": [
            "시각을 입력하시오.18\n",
            "분을 입력하시오.16\n",
            "초를 입력하시오.40\n",
            "18:16:40\n"
          ],
          "name": "stdout"
        }
      ]
    },
    {
      "cell_type": "code",
      "metadata": {
        "id": "COoOJC2EMzl_",
        "colab_type": "code",
        "colab": {}
      },
      "source": [
        ""
      ],
      "execution_count": null,
      "outputs": []
    }
  ]
}