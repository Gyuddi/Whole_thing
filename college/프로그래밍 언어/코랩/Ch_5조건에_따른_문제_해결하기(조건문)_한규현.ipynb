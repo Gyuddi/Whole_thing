{
  "nbformat": 4,
  "nbformat_minor": 0,
  "metadata": {
    "colab": {
      "name": "Ch_5조건에_따른_문제_해결하기(조건문)_한규현.ipynb",
      "provenance": [],
      "collapsed_sections": []
    },
    "kernelspec": {
      "name": "python3",
      "display_name": "Python 3"
    }
  },
  "cells": [
    {
      "cell_type": "markdown",
      "metadata": {
        "id": "ZfQKACZMOI3x",
        "colab_type": "text"
      },
      "source": [
        "# Ch_5조건에_따른_문제_해결하기(조건문)\n",
        "## 지은이: 인하대 소프트웨어융합공학 연계전공 한규현(12173082)"
      ]
    },
    {
      "cell_type": "code",
      "metadata": {
        "id": "MDZuzHFvOs1x",
        "colab_type": "code",
        "colab": {
          "base_uri": "https://localhost:8080/",
          "height": 34
        },
        "outputId": "8bf9d272-2a0b-4dc7-a45d-7d5d09aee574"
      },
      "source": [
        "#실습 5-1\n",
        "total = 30000 + 50000 + 15000 + 25000\n",
        "total >= 100000"
      ],
      "execution_count": null,
      "outputs": [
        {
          "output_type": "execute_result",
          "data": {
            "text/plain": [
              "True"
            ]
          },
          "metadata": {
            "tags": []
          },
          "execution_count": 2
        }
      ]
    },
    {
      "cell_type": "code",
      "metadata": {
        "id": "vTPIG8YAR0Ff",
        "colab_type": "code",
        "colab": {
          "base_uri": "https://localhost:8080/",
          "height": 34
        },
        "outputId": "a9d5d615-0ae4-43f8-e15a-ee5b4445b7cd"
      },
      "source": [
        "#퀴즈 5-1\n",
        "A_English_score = 80\n",
        "A_math_score = 65\n",
        "A_average = (A_English_score + A_math_score)/2\n",
        "B_English_score =76\n",
        "B_math_score = 58\n",
        "B_average = (B_English_score  + B_math_score)/2\n",
        "A_average > B_average"
      ],
      "execution_count": null,
      "outputs": [
        {
          "output_type": "execute_result",
          "data": {
            "text/plain": [
              "True"
            ]
          },
          "metadata": {
            "tags": []
          },
          "execution_count": 8
        }
      ]
    },
    {
      "cell_type": "code",
      "metadata": {
        "id": "O8DNc0ulSovL",
        "colab_type": "code",
        "colab": {
          "base_uri": "https://localhost:8080/",
          "height": 34
        },
        "outputId": "e7ae8f4a-535b-4a6e-ec30-56c2136ee303"
      },
      "source": [
        "# 실습 5-2\n",
        "average = 2\n",
        "F_grade = 4\n",
        "average <= 1 or F_grade >= 3"
      ],
      "execution_count": null,
      "outputs": [
        {
          "output_type": "execute_result",
          "data": {
            "text/plain": [
              "True"
            ]
          },
          "metadata": {
            "tags": []
          },
          "execution_count": 9
        }
      ]
    },
    {
      "cell_type": "code",
      "metadata": {
        "id": "2KNSOuYoTxsj",
        "colab_type": "code",
        "colab": {
          "base_uri": "https://localhost:8080/",
          "height": 34
        },
        "outputId": "ad8a5de0-3be7-4114-e2c6-be65b726fddf"
      },
      "source": [
        "# 퀴즈 5-2\n",
        "a = True\n",
        "b = False\n",
        "c = (a and b)\n",
        "d = (a or b)\n",
        "a and b"
      ],
      "execution_count": null,
      "outputs": [
        {
          "output_type": "execute_result",
          "data": {
            "text/plain": [
              "False"
            ]
          },
          "metadata": {
            "tags": []
          },
          "execution_count": 10
        }
      ]
    },
    {
      "cell_type": "code",
      "metadata": {
        "id": "qGNzZANAT9Uk",
        "colab_type": "code",
        "colab": {
          "base_uri": "https://localhost:8080/",
          "height": 34
        },
        "outputId": "a0f5a5f3-6719-47fd-d6f6-368d7619e791"
      },
      "source": [
        "a or (c and d)"
      ],
      "execution_count": null,
      "outputs": [
        {
          "output_type": "execute_result",
          "data": {
            "text/plain": [
              "True"
            ]
          },
          "metadata": {
            "tags": []
          },
          "execution_count": 11
        }
      ]
    },
    {
      "cell_type": "code",
      "metadata": {
        "id": "MHZYow1YT-tf",
        "colab_type": "code",
        "colab": {
          "base_uri": "https://localhost:8080/",
          "height": 34
        },
        "outputId": "600f7292-3da4-49d2-b1a9-b54fc31d08a2"
      },
      "source": [
        "b and (a or c) and d"
      ],
      "execution_count": null,
      "outputs": [
        {
          "output_type": "execute_result",
          "data": {
            "text/plain": [
              "False"
            ]
          },
          "metadata": {
            "tags": []
          },
          "execution_count": 12
        }
      ]
    },
    {
      "cell_type": "code",
      "metadata": {
        "id": "4ANnPF79UAD9",
        "colab_type": "code",
        "colab": {
          "base_uri": "https://localhost:8080/",
          "height": 52
        },
        "outputId": "50754f13-fc00-4cb7-ed73-36a57c2ff8a5"
      },
      "source": [
        "#퀴즈 5-3\n",
        "age = int(input(\"사용자의 나이는?\"))\n",
        "if age >= 20:\n",
        "  print(\"You are an adult\")"
      ],
      "execution_count": null,
      "outputs": [
        {
          "output_type": "stream",
          "text": [
            "사용자의 나이는?25\n",
            "You are an adult\n"
          ],
          "name": "stdout"
        }
      ]
    },
    {
      "cell_type": "code",
      "metadata": {
        "id": "ZvqIn_CGUajk",
        "colab_type": "code",
        "colab": {
          "base_uri": "https://localhost:8080/",
          "height": 34
        },
        "outputId": "a66b6ea2-f427-49b7-a01d-4a40b3ac3480"
      },
      "source": [
        "# 실습 5-3\n",
        "import random\n",
        "if random.random() > 0.5:\n",
        "  print(\"앞면입니다.중국요리\")\n",
        "else:\n",
        "  print(\"뒷면입니다.일본요리\")"
      ],
      "execution_count": 22,
      "outputs": [
        {
          "output_type": "stream",
          "text": [
            "뒷면입니다.일본요리\n"
          ],
          "name": "stdout"
        }
      ]
    },
    {
      "cell_type": "code",
      "metadata": {
        "id": "OBvH-c3EVXt6",
        "colab_type": "code",
        "colab": {
          "base_uri": "https://localhost:8080/",
          "height": 70
        },
        "outputId": "b0be434f-db1a-4d98-9709-6851abd34ee9"
      },
      "source": [
        "# 실습 5-4 \n",
        "t = 10000\n",
        "s = 30000\n",
        "\n",
        "t_num = int(input(\"T-shirts 개수 \"))\n",
        "s_num = int(input(\"Sweater 개수 \"))\n",
        "\n",
        "total_price = (t * t_num) + (s * s_num)\n",
        "\n",
        "if total_price <= 100000:\n",
        "    total_price = total_price * 0.95\n",
        "else:\n",
        "    total_price = total_price * 0.85\n",
        "\n",
        "print(\"합계 :\", total_price )"
      ],
      "execution_count": null,
      "outputs": [
        {
          "output_type": "stream",
          "text": [
            "T-shirts 개수 5\n",
            "Sweater 개수 20\n",
            "합계 : 552500.0\n"
          ],
          "name": "stdout"
        }
      ]
    },
    {
      "cell_type": "code",
      "metadata": {
        "id": "mGBwfhaEWkBX",
        "colab_type": "code",
        "colab": {
          "base_uri": "https://localhost:8080/",
          "height": 70
        },
        "outputId": "5ec712f3-594a-43d8-b5e7-ce2a861b8298"
      },
      "source": [
        "#실습 5-5\n",
        "high = int(input(\"키를 입력하세요 : \"))\n",
        "weigh = int(input(\"몸무게를 입력하세요 : \"))\n",
        "\n",
        "if high <= 155 and weigh <= 50:\n",
        "  print(\"입장가능합니다.\")\n",
        "else:\n",
        "  print(\"입장 불가능합니다.\")"
      ],
      "execution_count": null,
      "outputs": [
        {
          "output_type": "stream",
          "text": [
            "키를 입력하세요 : 165\n",
            "몸무게를 입력하세요 : 60\n",
            "입장 불가능합니다.\n"
          ],
          "name": "stdout"
        }
      ]
    },
    {
      "cell_type": "code",
      "metadata": {
        "id": "ur_lkL9VYNsR",
        "colab_type": "code",
        "colab": {
          "base_uri": "https://localhost:8080/",
          "height": 34
        },
        "outputId": "2a067bd7-c9e5-474a-ff48-8fd8d04925e0"
      },
      "source": [
        "#연습문제 1)\n",
        "a = False\n",
        "b = a\n",
        "type (b)"
      ],
      "execution_count": null,
      "outputs": [
        {
          "output_type": "execute_result",
          "data": {
            "text/plain": [
              "bool"
            ]
          },
          "metadata": {
            "tags": []
          },
          "execution_count": 26
        }
      ]
    },
    {
      "cell_type": "code",
      "metadata": {
        "id": "Bzc54GZ3YdmF",
        "colab_type": "code",
        "colab": {}
      },
      "source": [
        "# 2)\n",
        "( 할당 ) 연산자인 ( = )은 변수에 어떤 값을 할당하는 데 사용하는 연산자이고,\n",
        "( 비교 ) 연산자인 ( == )은 서로 다른 두 변수의 값이 같은지를 확인하는 데 사용하는\n",
        "연산자이다."
      ],
      "execution_count": null,
      "outputs": []
    },
    {
      "cell_type": "code",
      "metadata": {
        "id": "sCT7s3xcYrpX",
        "colab_type": "code",
        "colab": {
          "base_uri": "https://localhost:8080/",
          "height": 134
        },
        "outputId": "52f216cf-a059-438e-a1bb-36ccd56f5001"
      },
      "source": [
        "# 3)\n",
        "if a > b\n",
        "  print('***')\n",
        "  print('True')\n",
        "  print('***') # a와 b가 할당되지 않았습니다."
      ],
      "execution_count": null,
      "outputs": [
        {
          "output_type": "error",
          "ename": "SyntaxError",
          "evalue": "ignored",
          "traceback": [
            "\u001b[0;36m  File \u001b[0;32m\"<ipython-input-27-5ef1eb0621e8>\"\u001b[0;36m, line \u001b[0;32m2\u001b[0m\n\u001b[0;31m    if a > b\u001b[0m\n\u001b[0m            ^\u001b[0m\n\u001b[0;31mSyntaxError\u001b[0m\u001b[0;31m:\u001b[0m invalid syntax\n"
          ]
        }
      ]
    },
    {
      "cell_type": "code",
      "metadata": {
        "id": "gSuPm78PYwKj",
        "colab_type": "code",
        "colab": {
          "base_uri": "https://localhost:8080/",
          "height": 52
        },
        "outputId": "2e8e3703-c82e-47e5-a25c-be52bbf40f9b"
      },
      "source": [
        "# 4)\n",
        "iq = int(input(\"IQ를 적으시오\"))\n",
        "\n",
        "if iq >= 148:\n",
        "  print('멘사에 가입할 수 있습니다.')\n",
        "else:\n",
        "  print('멘사에 가입할 수 없습니다.')"
      ],
      "execution_count": null,
      "outputs": [
        {
          "output_type": "stream",
          "text": [
            "IQ를 적으시오148\n",
            "멘사에 가입할 수 있습니다.\n"
          ],
          "name": "stdout"
        }
      ]
    },
    {
      "cell_type": "code",
      "metadata": {
        "id": "_gPyvwx7ZKJi",
        "colab_type": "code",
        "colab": {
          "base_uri": "https://localhost:8080/",
          "height": 52
        },
        "outputId": "f699330a-181c-45b8-d185-7d725334ec14"
      },
      "source": [
        "# 5)\n",
        "score = int(input(\"점수는? \"))\n",
        "\n",
        "if score >= 85:\n",
        "  print(\"정규직 전환 가능\")\n",
        "else:\n",
        "  print(\"정규직 전환 불가능\")"
      ],
      "execution_count": null,
      "outputs": [
        {
          "output_type": "stream",
          "text": [
            "점수는? 85\n",
            "정규직 전환 가능\n"
          ],
          "name": "stdout"
        }
      ]
    },
    {
      "cell_type": "code",
      "metadata": {
        "id": "y5k-THytZTkO",
        "colab_type": "code",
        "colab": {
          "base_uri": "https://localhost:8080/",
          "height": 52
        },
        "outputId": "c5cad611-c15e-41d4-cb13-eec1ab80cee0"
      },
      "source": [
        "# 6)\n",
        "oil = int(input('현재 휘발유 양은?:'))\n",
        "\n",
        "if oil < 10:\n",
        "  print('휘발유 공급')\n",
        "else:\n",
        "  print(\"아직은 괜찮아요!\") "
      ],
      "execution_count": null,
      "outputs": [
        {
          "output_type": "stream",
          "text": [
            "현재 휘발유 양은?:11\n",
            "아직은 괜찮아요!\n"
          ],
          "name": "stdout"
        }
      ]
    },
    {
      "cell_type": "code",
      "metadata": {
        "id": "PEQdLt_mZsy7",
        "colab_type": "code",
        "colab": {
          "base_uri": "https://localhost:8080/",
          "height": 52
        },
        "outputId": "4840316c-14a4-45ae-faf8-a65902de3dea"
      },
      "source": [
        "# 7)\n",
        "total_credit = int(input(\"현재 이수 학점 : \"))\n",
        "\n",
        "if total_credit >= 140:\n",
        "  print('졸업가능')\n",
        "else:\n",
        "  print('졸업불가능')"
      ],
      "execution_count": null,
      "outputs": [
        {
          "output_type": "stream",
          "text": [
            "현재 이수 학점 : 140\n",
            "졸업가능\n"
          ],
          "name": "stdout"
        }
      ]
    },
    {
      "cell_type": "code",
      "metadata": {
        "id": "YpIpo-R9aSRH",
        "colab_type": "code",
        "colab": {
          "base_uri": "https://localhost:8080/",
          "height": 52
        },
        "outputId": "c3c33674-d07a-493c-c489-3c59b27b7d7d"
      },
      "source": [
        "# 8)\n",
        "card_money = int(input('현재 잔액 : '))\n",
        "\n",
        "if card_money > 1200:\n",
        "  print('버스 탑승 가능')\n",
        "else:\n",
        "  print('버스 탑승 불가능')"
      ],
      "execution_count": null,
      "outputs": [
        {
          "output_type": "stream",
          "text": [
            "현재 잔액 : 1100\n",
            "버스 탑승 불가능\n"
          ],
          "name": "stdout"
        }
      ]
    },
    {
      "cell_type": "code",
      "metadata": {
        "id": "52HahNhnBxCe",
        "colab_type": "code",
        "colab": {
          "base_uri": "https://localhost:8080/",
          "height": 52
        },
        "outputId": "efd6b0b2-0422-4b01-d862-301e5cb42631"
      },
      "source": [
        "# 9)\n",
        "river = int(input('강의 폭은? '))\n",
        "\n",
        "if river > 30:\n",
        "  print('강을 건널 수 없습니다.')\n",
        "else:\n",
        "  print(\"강을 건널 수 있습니다.\")"
      ],
      "execution_count": null,
      "outputs": [
        {
          "output_type": "stream",
          "text": [
            "강의 폭은? 35\n",
            "강을 건널 수 없습니다.\n"
          ],
          "name": "stdout"
        }
      ]
    },
    {
      "cell_type": "code",
      "metadata": {
        "id": "mdghdhQpB6Z0",
        "colab_type": "code",
        "colab": {
          "base_uri": "https://localhost:8080/",
          "height": 52
        },
        "outputId": "df68bdec-d63c-4833-c274-c45aa687e635"
      },
      "source": [
        "# 10)\n",
        "aircon_d = int(input('현재 에어컨 온도는? '))\n",
        "\n",
        "if aircon_d < 23:\n",
        "  print('적정 온도가 아니니, 온도를 높여야 한다.')\n",
        "else:\n",
        "  print('적정 온도입니다.')"
      ],
      "execution_count": null,
      "outputs": [
        {
          "output_type": "stream",
          "text": [
            "현재 에어컨 온도는? 22\n",
            "적정 온도가 아니니, 온도를 높여야 한다.\n"
          ],
          "name": "stdout"
        }
      ]
    },
    {
      "cell_type": "code",
      "metadata": {
        "id": "8tPtie_wCuvt",
        "colab_type": "code",
        "colab": {
          "base_uri": "https://localhost:8080/",
          "height": 52
        },
        "outputId": "8431c453-1d59-40cb-b29b-08561f2bef96"
      },
      "source": [
        "# 11)\n",
        "vol = int(input('현재 음량은? '))\n",
        "\n",
        "if vol >= 7:\n",
        "  print('적정 음량보다 높다. 줄여야 한다.')\n",
        "elif (vol < 1):\n",
        "  print('오디오 음량이 아닙니다.')\n",
        "else:\n",
        "  ('적정음량입니다.')"
      ],
      "execution_count": null,
      "outputs": [
        {
          "output_type": "stream",
          "text": [
            "현재 음량은? 10\n",
            "적정 음량보다 높다. 줄여야 한다.\n"
          ],
          "name": "stdout"
        }
      ]
    },
    {
      "cell_type": "code",
      "metadata": {
        "id": "MUcafRGHC5eJ",
        "colab_type": "code",
        "colab": {
          "base_uri": "https://localhost:8080/",
          "height": 70
        },
        "outputId": "6365a76d-b4e2-411b-a37e-83258e73b777"
      },
      "source": [
        "# 12)\n",
        "total_elec = int(input('전체 전기 총량 : '))\n",
        "pre_elec = int(input('현재 전기 총량 : '))\n",
        "\n",
        "if pre_elec < (total_elec * 0.3):\n",
        "  print('전체 전기 총량의 30%보다 현재 전기량이 적으니, 휘발유로 주행해야 한다.')"
      ],
      "execution_count": null,
      "outputs": [
        {
          "output_type": "stream",
          "text": [
            "전체 전기 총량 : 100\n",
            "현재 전기 총량 : 20\n",
            "전체 전기 총량의 30%보다 현재 전기량이 적으니, 휘발유로 주행해야 한다.\n"
          ],
          "name": "stdout"
        }
      ]
    },
    {
      "cell_type": "code",
      "metadata": {
        "id": "jkMwq4gTDCqw",
        "colab_type": "code",
        "colab": {
          "base_uri": "https://localhost:8080/",
          "height": 70
        },
        "outputId": "dee1bd0b-aec6-4a39-cd0b-f9c9db1dbab2"
      },
      "source": [
        "# 13)\n",
        "age = int(input('탑승객의 나이는? '))\n",
        "height = int(input('탑승객의 신장은? '))\n",
        "\n",
        "if (age < 19) and (height > 140):\n",
        "  print(\"탑승가능하다.\")\n",
        "else:\n",
        "  print('답승불가능하다.')"
      ],
      "execution_count": null,
      "outputs": [
        {
          "output_type": "stream",
          "text": [
            "탑승객의 나이는? 19\n",
            "탑승객의 신장은? 150\n",
            "답승불가능하다.\n"
          ],
          "name": "stdout"
        }
      ]
    },
    {
      "cell_type": "code",
      "metadata": {
        "id": "J43w_7d8DSDq",
        "colab_type": "code",
        "colab": {
          "base_uri": "https://localhost:8080/",
          "height": 70
        },
        "outputId": "fcf299a3-55a4-49db-b59a-a49fe92f206f"
      },
      "source": [
        "# 14)\n",
        "canada = int(input('캐나다 대륙의 면적은?'))\n",
        "china = int(input('중국 대륙의 면적은?'))\n",
        "\n",
        "if china < canada:\n",
        "  print('true')\n",
        "else:\n",
        "  print('false')"
      ],
      "execution_count": null,
      "outputs": [
        {
          "output_type": "stream",
          "text": [
            "캐나다 대륙의 면적은?99\n",
            "중국 대륙의 면적은?95\n",
            "true\n"
          ],
          "name": "stdout"
        }
      ]
    },
    {
      "cell_type": "code",
      "metadata": {
        "id": "_uFLTBeJElgX",
        "colab_type": "code",
        "colab": {
          "base_uri": "https://localhost:8080/",
          "height": 52
        },
        "outputId": "ef331f31-59b1-48fb-ccfc-a8e8286442d8"
      },
      "source": [
        "# 15)\n",
        "debit = int(input('현재 통장 잔액(만 원) : '))\n",
        "\n",
        "if debit >= 300:\n",
        "  print('주식 투자가 가능합니다.')\n",
        "else:\n",
        "  print('주식 투자가 불가능합니다.')"
      ],
      "execution_count": null,
      "outputs": [
        {
          "output_type": "stream",
          "text": [
            "현재 통장 잔액(만 원) : 300\n",
            "주식 투자가 가능합니다.\n"
          ],
          "name": "stdout"
        }
      ]
    },
    {
      "cell_type": "code",
      "metadata": {
        "id": "3VBvZt0rEvX9",
        "colab_type": "code",
        "colab": {
          "base_uri": "https://localhost:8080/",
          "height": 70
        },
        "outputId": "6572c2d2-f46b-472d-c62b-99fbf17f729c"
      },
      "source": [
        "# 16)\n",
        "profit_percentage = int(input('이윤은? '))\n",
        "profit_money = int(input('벌어들인 금액은? '))\n",
        "if  (profit_percentage >= 10) or (profit_money >= 500):\n",
        "  print('주식 투자를 잘한 것이다.')\n",
        "else:\n",
        "  print('주식 투자를 실패하였다.')"
      ],
      "execution_count": null,
      "outputs": [
        {
          "output_type": "stream",
          "text": [
            "이윤은? 5\n",
            "벌어들인 금액은? 540\n",
            "주식 투자를 잘한 것이다.\n"
          ],
          "name": "stdout"
        }
      ]
    },
    {
      "cell_type": "code",
      "metadata": {
        "id": "6Q0MC5EGE9-K",
        "colab_type": "code",
        "colab": {
          "base_uri": "https://localhost:8080/",
          "height": 70
        },
        "outputId": "dca59a12-0cb0-46cc-aec6-0c8354127d84"
      },
      "source": [
        "# 17)\n",
        "major = str(input('학과 : '))\n",
        "grade = input('학년 : ')\n",
        "\n",
        "if (major == \"컴퓨터과학과\") and (grade == 4):\n",
        "  print(\"문자가 온다.\")\n",
        "else:\n",
        "  print('문자가 오지 않는다.')"
      ],
      "execution_count": null,
      "outputs": [
        {
          "output_type": "stream",
          "text": [
            "학과 : 컴퓨터과학과\n",
            "학년 : 3\n",
            "문자가 오지 않는다.\n"
          ],
          "name": "stdout"
        }
      ]
    },
    {
      "cell_type": "code",
      "metadata": {
        "id": "HzfipUABFGbx",
        "colab_type": "code",
        "colab": {
          "base_uri": "https://localhost:8080/",
          "height": 52
        },
        "outputId": "c7b102fb-0057-4c3d-9540-7d390ea59932"
      },
      "source": [
        "# 18)\n",
        "coat_price = 33000\n",
        "School_year = (input('학년은?'))\n",
        "\n",
        "if School_year == \"고3\":\n",
        "  coat_price = coat_price * 0.9\n",
        "  print( coat_price, \"원 입니다.\" )"
      ],
      "execution_count": null,
      "outputs": [
        {
          "output_type": "stream",
          "text": [
            "학년은?고3\n",
            "29700.0 원 입니다.\n"
          ],
          "name": "stdout"
        }
      ]
    },
    {
      "cell_type": "code",
      "metadata": {
        "id": "VCDdpjQBFVTc",
        "colab_type": "code",
        "colab": {
          "base_uri": "https://localhost:8080/",
          "height": 52
        },
        "outputId": "85aa7310-7e43-48ff-dd5a-600df91b5154"
      },
      "source": [
        "# 19)\n",
        "num = int(input(\"숫자를 입력하세요. \"))\n",
        "\n",
        "if (num % 3) == 0:\n",
        "  print('3의 배수입니다.')\n",
        "else:\n",
        "  print('3의 배수가 아닙니다.')"
      ],
      "execution_count": null,
      "outputs": [
        {
          "output_type": "stream",
          "text": [
            "숫자를 입력하세요. 33\n",
            "3의 배수입니다.\n"
          ],
          "name": "stdout"
        }
      ]
    },
    {
      "cell_type": "code",
      "metadata": {
        "id": "8YCFZNGnGfWr",
        "colab_type": "code",
        "colab": {}
      },
      "source": [
        "# 20)\n",
        "number의 변수값을 정하는 프로그램이 존재하지 않는다."
      ],
      "execution_count": null,
      "outputs": []
    },
    {
      "cell_type": "code",
      "metadata": {
        "id": "b7EZWjqUGljF",
        "colab_type": "code",
        "colab": {
          "base_uri": "https://localhost:8080/",
          "height": 105
        },
        "outputId": "179adeaf-d3bc-43d1-8813-e657ea9968de"
      },
      "source": [
        "# 21)\n",
        "apple = 1000\n",
        "grape = 3000\n",
        "pear = 2000\n",
        "orange = 500\n",
        "\n",
        "num_apple = int(input(\"사과의 개수 : \"))\n",
        "num_grape = int(input(\"포도의 개수 : \"))\n",
        "num_pear = int(input(\"배의 개수 : \"))\n",
        "num_orange = int(input(\"귤의 개수 : \"))\n",
        "\n",
        "total_fprice = (apple * num_apple) + (grape * num_grape) + (pear * num_pear) + (orange * num_orange)\n",
        "\n",
        "if num_grape >= 3:\n",
        "  print(total_fprice * 0.9, '원 입니다.' )\n",
        "else:\n",
        "  print(total_fprice,'원 입니다.')"
      ],
      "execution_count": null,
      "outputs": [
        {
          "output_type": "stream",
          "text": [
            "사과의 개수 : 5\n",
            "포도의 개수 : 5\n",
            "배의 개수 : 5\n",
            "귤의 개수 : 5\n",
            "29250.0 원 입니다.\n"
          ],
          "name": "stdout"
        }
      ]
    },
    {
      "cell_type": "code",
      "metadata": {
        "id": "6cih6ir6G27N",
        "colab_type": "code",
        "colab": {
          "base_uri": "https://localhost:8080/",
          "height": 87
        },
        "outputId": "d2f0a749-655b-4a83-e1bd-457a63af74db"
      },
      "source": [
        "# 22)\n",
        "bank = str(input('은행 이름 : '))\n",
        "way = str(input('방법 : '))\n",
        "money_check = str(input('돈 or 수표 : '))\n",
        "\n",
        "if (bank == \"파이\") and ((way == \"카드\") or (way == \"통장\")) and (money_check == \"돈\"):\n",
        "  print('입금할 수 있다.')\n",
        "else:\n",
        "  print('입금 불가능하다.')"
      ],
      "execution_count": null,
      "outputs": [
        {
          "output_type": "stream",
          "text": [
            "은행 이름 : 파이\n",
            "방법 : 카드\n",
            "돈 or 수표 : 수표\n",
            "입금 불가능하다.\n"
          ],
          "name": "stdout"
        }
      ]
    },
    {
      "cell_type": "code",
      "metadata": {
        "id": "yn2CDJ5fHvXi",
        "colab_type": "code",
        "colab": {
          "base_uri": "https://localhost:8080/",
          "height": 87
        },
        "outputId": "d6873603-e709-4b2f-d6d4-6b3770077f6a"
      },
      "source": [
        "# 23)\n",
        "object_one = int(input('1과목 : '))\n",
        "object_two = int(input('2과목 : '))\n",
        "object_three = int(input('3과목 : '))\n",
        "\n",
        "avg_object = (object_one + object_two + object_three) / 3\n",
        "\n",
        "if ((object_one >= 60) and (object_two >= 60) and (object_three >= 60)) or (avg_object >= 70):\n",
        "  print('자격증을 딸 수 있다.')\n",
        "else:\n",
        "  print('자격증을 딸 수 없다.')"
      ],
      "execution_count": null,
      "outputs": [
        {
          "output_type": "stream",
          "text": [
            "1과목 : 90\n",
            "2과목 : 70\n",
            "3과목 : 50\n",
            "자격증을 딸 수 있다.\n"
          ],
          "name": "stdout"
        }
      ]
    },
    {
      "cell_type": "code",
      "metadata": {
        "id": "uXa6OuoiH91y",
        "colab_type": "code",
        "colab": {
          "base_uri": "https://localhost:8080/",
          "height": 70
        },
        "outputId": "c8f27730-8928-4835-f9cc-1a02feb37051"
      },
      "source": [
        "# 24)\n",
        "num_semester = int(input('현재 학기는? '))\n",
        "num_object = int(input('현재 이수 학점은? '))\n",
        "\n",
        "if (num_semester < 8) and (num_object >= 140):\n",
        "  print('조기졸업이 가능하다.')\n",
        "else:\n",
        "  print('조기졸업이 불가능하다.')"
      ],
      "execution_count": null,
      "outputs": [
        {
          "output_type": "stream",
          "text": [
            "현재 학기는? 6\n",
            "현재 이수 학점은? 150\n",
            "조기졸업이 가능하다.\n"
          ],
          "name": "stdout"
        }
      ]
    },
    {
      "cell_type": "code",
      "metadata": {
        "id": "iSXCHnK3IIcT",
        "colab_type": "code",
        "colab": {}
      },
      "source": [
        ""
      ],
      "execution_count": null,
      "outputs": []
    }
  ]
}