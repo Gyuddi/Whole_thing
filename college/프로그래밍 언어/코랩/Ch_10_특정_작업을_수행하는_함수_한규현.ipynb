{
  "nbformat": 4,
  "nbformat_minor": 0,
  "metadata": {
    "colab": {
      "name": "Ch.10_특정_작업을_수행하는_함수_한규현.ipynb",
      "provenance": [],
      "collapsed_sections": []
    },
    "kernelspec": {
      "name": "python3",
      "display_name": "Python 3"
    }
  },
  "cells": [
    {
      "cell_type": "markdown",
      "metadata": {
        "id": "Cb7zRkarlo8E"
      },
      "source": [
        "#Ch_10.특정_작업을_수행하는_함수\n",
        "##성명:한규현 학과:경제학과 학번:12173082"
      ]
    },
    {
      "cell_type": "code",
      "metadata": {
        "id": "O2hl4nfEmBoE",
        "outputId": "4f9ac547-e267-4e73-f10c-991b568b87ce",
        "colab": {
          "base_uri": "https://localhost:8080/",
          "height": 52
        }
      },
      "source": [
        "#실습 10-1\n",
        "def increase_3(number):\n",
        "  print(number+3)\n",
        "number=int(input(\"n1=\"))\n",
        "increase_3(number)\n"
      ],
      "execution_count": null,
      "outputs": [
        {
          "output_type": "stream",
          "text": [
            "n1=3\n",
            "6\n"
          ],
          "name": "stdout"
        }
      ]
    },
    {
      "cell_type": "code",
      "metadata": {
        "id": "Ovl6X5Z3os6x",
        "outputId": "85de0f5b-3074-46aa-f39d-2d0448a2381a",
        "colab": {
          "base_uri": "https://localhost:8080/",
          "height": 35
        }
      },
      "source": [
        "#실습 10-2\n",
        "def list_avg(numlist):\n",
        "  sum=0\n",
        "  for num in numlist:\n",
        "    sum += num\n",
        "  avg= sum/len(numlist)\n",
        "  return avg\n",
        "math_score = [90,80,70,60,50]\n",
        "list_avg(math_score)"
      ],
      "execution_count": null,
      "outputs": [
        {
          "output_type": "execute_result",
          "data": {
            "text/plain": [
              "70.0"
            ]
          },
          "metadata": {
            "tags": []
          },
          "execution_count": 3
        }
      ]
    },
    {
      "cell_type": "code",
      "metadata": {
        "id": "3FEaNKAmqO1N",
        "outputId": "f78710ca-9840-4d56-d8cf-e7fd030e8f47",
        "colab": {
          "base_uri": "https://localhost:8080/",
          "height": 70
        }
      },
      "source": [
        "# 퀴즈 10-1\n",
        "def sub_num(num1,num2):\n",
        "  sub=abs(num1-num2)\n",
        "  return sub\n",
        "\n",
        "num1=int(input(\"number1=\"))\n",
        "num2=int(input(\"number2=\"))\n",
        "\n",
        "print(sub_num(num1,num2))"
      ],
      "execution_count": null,
      "outputs": [
        {
          "output_type": "stream",
          "text": [
            "number1=5\n",
            "number2=10\n",
            "5\n"
          ],
          "name": "stdout"
        }
      ]
    },
    {
      "cell_type": "code",
      "metadata": {
        "id": "BYB6T0agrQbK",
        "outputId": "e36f7892-8d19-4947-88b2-0a33eeb0de56",
        "colab": {
          "base_uri": "https://localhost:8080/",
          "height": 35
        }
      },
      "source": [
        "# 실습 10-3\n",
        "def dec_food(side):\n",
        "  if side == \"앞\":\n",
        "    print(\"중국요리\")\n",
        "  else:\n",
        "    print(\"일본요리\")\n",
        "\n",
        "dec_food(\"앞\")"
      ],
      "execution_count": null,
      "outputs": [
        {
          "output_type": "stream",
          "text": [
            "중국요리\n"
          ],
          "name": "stdout"
        }
      ]
    },
    {
      "cell_type": "code",
      "metadata": {
        "id": "zvR1nu25ybwa",
        "outputId": "b9e6b857-4fba-4ac9-da68-478ce5bfe26b",
        "colab": {
          "base_uri": "https://localhost:8080/",
          "height": 70
        }
      },
      "source": [
        "#퀴즈 10-3\n",
        "def concate_str(str1,str2):\n",
        "  print(str1+str2)\n",
        "str1=input(\"str1=\")\n",
        "str2=input(\"str2=\")\n",
        "concate_str(str1,str2)"
      ],
      "execution_count": null,
      "outputs": [
        {
          "output_type": "stream",
          "text": [
            "str1=안녕\n",
            "str2=하세요\n",
            "안녕하세요\n"
          ],
          "name": "stdout"
        }
      ]
    },
    {
      "cell_type": "code",
      "metadata": {
        "id": "Hi3kh3G9y6NN",
        "outputId": "8fbb02b7-e4ec-4125-e9d0-ef27030dd0b5",
        "colab": {
          "base_uri": "https://localhost:8080/",
          "height": 70
        }
      },
      "source": [
        "# 연습문제 1.\n",
        "def average(num1,num2):\n",
        "  print(num1+num2)\n",
        "num1=int(input(\"num1=\"))\n",
        "num2=int(input(\"num2=\"))\n",
        "average(num1,num2)"
      ],
      "execution_count": null,
      "outputs": [
        {
          "output_type": "stream",
          "text": [
            "num1=5\n",
            "num2=5\n",
            "10\n"
          ],
          "name": "stdout"
        }
      ]
    },
    {
      "cell_type": "code",
      "metadata": {
        "id": "3_d3mZeXzens",
        "outputId": "d81da427-e6f4-487b-898a-b7b61278216b",
        "colab": {
          "base_uri": "https://localhost:8080/",
          "height": 70
        }
      },
      "source": [
        "# 2.\n",
        "def print_list(num_list):\n",
        "  for n in num_list:\n",
        "    if(n != 0):\n",
        "      print(n)\n",
        "    else:\n",
        "      break\n",
        "  \n",
        "print_list([1,2,3,0])"
      ],
      "execution_count": null,
      "outputs": [
        {
          "output_type": "stream",
          "text": [
            "1\n",
            "2\n",
            "3\n"
          ],
          "name": "stdout"
        }
      ]
    },
    {
      "cell_type": "code",
      "metadata": {
        "id": "ZcYYFAIKzxA3"
      },
      "source": [
        "# 3.\n",
        "기억해야 할 중요한 사항은 함수를 정의하는 것과 함수를 수행하는 것은 다르다는 것이다.\n",
        "함수의 수행은 함수를 (호출)한 후에 함수 (반환)를 통해 이루어진다."
      ],
      "execution_count": null,
      "outputs": []
    },
    {
      "cell_type": "code",
      "metadata": {
        "id": "EGN1796G0pCc",
        "outputId": "73f3f558-162f-4f54-8652-0d06549cf9c1",
        "colab": {
          "base_uri": "https://localhost:8080/",
          "height": 70
        }
      },
      "source": [
        "# 4.\n",
        "def print_greeting(n):\n",
        "  for count in range(n):\n",
        "    print('Hello, Python')\n",
        "print_greeting(3)\n",
        "#return을 항상하는 것이 아닌, 바로 print를 해준다."
      ],
      "execution_count": null,
      "outputs": [
        {
          "output_type": "stream",
          "text": [
            "Hello, Python\n",
            "Hello, Python\n",
            "Hello, Python\n"
          ],
          "name": "stdout"
        }
      ]
    },
    {
      "cell_type": "code",
      "metadata": {
        "id": "HEGUeo54-IG8",
        "outputId": "0ab90980-5eaa-4cd9-fe5e-31723d90b8e7",
        "colab": {
          "base_uri": "https://localhost:8080/",
          "height": 35
        }
      },
      "source": [
        "# 5.\n",
        "def sum(n):\n",
        "  result = 0\n",
        "  for count in range(n):\n",
        "    result = result + count\n",
        "  return(result)\n",
        "\n",
        "print(sum(5))\n",
        "#for 루트가 끝난 뒤에 result값을 return 해줘야 한다."
      ],
      "execution_count": null,
      "outputs": [
        {
          "output_type": "stream",
          "text": [
            "10\n"
          ],
          "name": "stdout"
        }
      ]
    },
    {
      "cell_type": "code",
      "metadata": {
        "id": "eVEPdklG-u4d",
        "outputId": "2730f329-0999-4043-94d3-a32224550c60",
        "colab": {
          "base_uri": "https://localhost:8080/",
          "height": 35
        }
      },
      "source": [
        "# 6.\n",
        "def add(n1,n2):\n",
        "  print(n1+n2)\n",
        "add(3,5)"
      ],
      "execution_count": null,
      "outputs": [
        {
          "output_type": "stream",
          "text": [
            "8\n"
          ],
          "name": "stdout"
        }
      ]
    },
    {
      "cell_type": "code",
      "metadata": {
        "id": "LJTHfLCECClb",
        "outputId": "ddd1d0e1-21c6-47dc-9c1f-d83d2ada46b2",
        "colab": {
          "base_uri": "https://localhost:8080/",
          "height": 35
        }
      },
      "source": [
        "# 7.\n",
        "def square(a,b):\n",
        "  print(2*a+2*b)\n",
        "square(3,6)"
      ],
      "execution_count": null,
      "outputs": [
        {
          "output_type": "stream",
          "text": [
            "18\n"
          ],
          "name": "stdout"
        }
      ]
    },
    {
      "cell_type": "code",
      "metadata": {
        "id": "Z2yNlQsqCPmW",
        "outputId": "af0a5ae1-2648-4064-8935-b46654091905",
        "colab": {
          "base_uri": "https://localhost:8080/",
          "height": 35
        }
      },
      "source": [
        "# 8.\n",
        "def max_score(a,b,c,d,e,f):\n",
        "  score_list=[a,b,c,d,e,f]\n",
        "  maxvalue=score_list[0]\n",
        "  for i in range(1,len(score_list)):\n",
        "    if maxvalue < score_list[i]:\n",
        "      maxvalue = score_list[i]\n",
        "  print(maxvalue)\n",
        "\n",
        "max_score(50,84,54,96,90,100)\n",
        "    \n",
        "\n",
        "  \n",
        "\n"
      ],
      "execution_count": null,
      "outputs": [
        {
          "output_type": "stream",
          "text": [
            "100\n"
          ],
          "name": "stdout"
        }
      ]
    },
    {
      "cell_type": "code",
      "metadata": {
        "id": "D_ibvq22ExKb",
        "outputId": "69ebc26a-c08c-4594-f776-5ca0c763a936",
        "colab": {
          "base_uri": "https://localhost:8080/",
          "height": 70
        }
      },
      "source": [
        "# 9.\n",
        "def temp(x):\n",
        "  prtem = 0\n",
        "  prtem += x\n",
        "  if prtem > 5:\n",
        "    print(\"더 이상은 불가능입니다.\")\n",
        "  return(prtem)\n",
        "\n",
        "print(\"현재 템포는 0입니다. 템포 조정은 0부터 5까지 가능합니다. \")\n",
        "a=int(input(\"조정하고자 하는 만큼의 크기를 입력:\"))\n",
        "new = temp(a)\n",
        "print(\"조정한 후의 템포는 %d 입니다.\"% (new))"
      ],
      "execution_count": null,
      "outputs": [
        {
          "output_type": "stream",
          "text": [
            "현재 템포는 0입니다. 템포 조정은 0부터 5까지 가능합니다. \n",
            "조정하고자 하는 만큼의 크기를 입력:3\n",
            "조정한 후의 템포는 3 입니다.\n"
          ],
          "name": "stdout"
        }
      ]
    },
    {
      "cell_type": "code",
      "metadata": {
        "id": "5pLglvBtHBQF",
        "outputId": "79f63024-1e6f-469e-87c9-ff1418543169",
        "colab": {
          "base_uri": "https://localhost:8080/",
          "height": 70
        }
      },
      "source": [
        "# 10.\n",
        "def vol(x):\n",
        "  prvol = 3\n",
        "  prvol += x\n",
        "  return(prvol)\n",
        "\n",
        "print(\"현재 음량은 3입니다.\")\n",
        "a=int(input(\"증가시킬 만큼의 음량을 입력:\"))\n",
        "new = vol(a)\n",
        "print(\"증가 후의 음량은 %d 입니다.\"% (new))"
      ],
      "execution_count": null,
      "outputs": [
        {
          "output_type": "stream",
          "text": [
            "현재 음량은 3입니다.\n",
            "증가시킬 만큼의 음량을 입력:4\n",
            "증가 후의 음량은 7 입니다.\n"
          ],
          "name": "stdout"
        }
      ]
    },
    {
      "cell_type": "code",
      "metadata": {
        "id": "GLbhG-qrO4yM",
        "outputId": "c3af2b5d-3a0a-46d6-a8a2-897846e14706",
        "colab": {
          "base_uri": "https://localhost:8080/",
          "height": 52
        }
      },
      "source": [
        "# 11.\n",
        "def come_o():\n",
        "  a=input(\"이름을 입력하세요:\")\n",
        "  print(\"출근 완료되었습니다.\")\n",
        "\n",
        "come_o()"
      ],
      "execution_count": null,
      "outputs": [
        {
          "output_type": "stream",
          "text": [
            "이름을 입력하세요:suzi\n",
            "출근 완료되었습니다.\n"
          ],
          "name": "stdout"
        }
      ]
    },
    {
      "cell_type": "code",
      "metadata": {
        "id": "R7lKPYrjPYSG",
        "outputId": "875f62c5-e831-4ad9-c803-f46d4c338f06",
        "colab": {
          "base_uri": "https://localhost:8080/",
          "height": 70
        }
      },
      "source": [
        "# 12.\n",
        "def reservation ():\n",
        "  x=input(\"춘천(운임 : 5000원) / 부산(운임 :30000원) / 대구(운임 20000원) / 수원(운임10000)\\n 한곳을 입력하세요 :\")\n",
        "  if x == \"춘천\":\n",
        "    print(x,\"까지의 금액은 5000원 입니다.\")\n",
        "  elif x== \"부산\":\n",
        "    print(x,\"까지의 금액은 30000원 입니다.\")\n",
        "  elif x== \"대구\":\n",
        "    print(x,\"까지의 금액은 20000원 입니다.\")\n",
        "  elif x== \"수원\":\n",
        "    print(x,\"까지의 금액은 10000원 입니다.\")\n",
        "\n",
        "reservation()    "
      ],
      "execution_count": null,
      "outputs": [
        {
          "output_type": "stream",
          "text": [
            "춘천(운임 : 5000원) / 부산(운임 :30000원) / 대구(운임 20000원) / 수원(운임10000)\n",
            " 한곳을 입력하세요 :수원\n",
            "수원 까지의 금액은 10000원 입니다.\n"
          ],
          "name": "stdout"
        }
      ]
    },
    {
      "cell_type": "code",
      "metadata": {
        "id": "Bdgc7LR8P9Kf",
        "outputId": "f8e094d7-04df-4677-f323-e67e7adb3ab5",
        "colab": {
          "base_uri": "https://localhost:8080/",
          "height": 35
        }
      },
      "source": [
        "# 13.\n",
        "def factorial(x):\n",
        "  sum=1\n",
        "  for i in range(1,x+1):\n",
        "    sum = sum*i\n",
        "  return(sum)\n",
        "factorial(4)"
      ],
      "execution_count": null,
      "outputs": [
        {
          "output_type": "execute_result",
          "data": {
            "text/plain": [
              "24"
            ]
          },
          "metadata": {
            "tags": []
          },
          "execution_count": 94
        }
      ]
    },
    {
      "cell_type": "code",
      "metadata": {
        "id": "xUJftOhNRQv1"
      },
      "source": [
        ""
      ],
      "execution_count": null,
      "outputs": []
    },
    {
      "cell_type": "markdown",
      "metadata": {
        "id": "gOu6FpNOkIOr"
      },
      "source": [
        "#Ch.11_함수_활용_한규현\n",
        "## 성명:한규현 학과:경제학과 학번:12173082"
      ]
    },
    {
      "cell_type": "code",
      "metadata": {
        "id": "gOfs5ajBl2sY",
        "outputId": "49b06ad7-6967-471c-ec65-9eab0055e3df",
        "colab": {
          "base_uri": "https://localhost:8080/",
          "height": 106
        }
      },
      "source": [
        "#퀴즈 11-1\n",
        "def square(x):\n",
        "  print(x*x)\n",
        "nums= [2,3,4,5,6]\n",
        "\n",
        "for num in nums:\n",
        "  square(num)"
      ],
      "execution_count": null,
      "outputs": [
        {
          "output_type": "stream",
          "text": [
            "4\n",
            "9\n",
            "16\n",
            "25\n",
            "36\n"
          ],
          "name": "stdout"
        }
      ]
    },
    {
      "cell_type": "code",
      "metadata": {
        "id": "RG9QQSKlmKWY",
        "outputId": "032a9ef0-4edb-41c7-eea0-e545b8d60a88",
        "colab": {
          "base_uri": "https://localhost:8080/",
          "height": 35
        }
      },
      "source": [
        "# 실습 11-1\n",
        "def longest(words):\n",
        "  long_word = words[0]\n",
        "  long = len(words[0])\n",
        "\n",
        "  for i in range (len(words)):\n",
        "    if len(words[i])>long:\n",
        "      long = len(words[i])\n",
        "      long_word = words[i]\n",
        "  return long_word\n",
        "\n",
        "print(longest(['one','second','three']))"
      ],
      "execution_count": null,
      "outputs": [
        {
          "output_type": "stream",
          "text": [
            "second\n"
          ],
          "name": "stdout"
        }
      ]
    },
    {
      "cell_type": "code",
      "metadata": {
        "id": "D4i7BzCqnwuY",
        "outputId": "f17bcc24-e441-474b-ebed-bf015df843ce",
        "colab": {
          "base_uri": "https://localhost:8080/",
          "height": 35
        }
      },
      "source": [
        "# 실습 11-2\n",
        "def len_word(wordlist):\n",
        "  sum = 0\n",
        "  for i in wordlist:\n",
        "    sum += len(i)\n",
        "  return sum\n",
        "list_fruit = [\"apple\",\"banana\",\"tomato\"]\n",
        "print(len_word(list_fruit))"
      ],
      "execution_count": null,
      "outputs": [
        {
          "output_type": "stream",
          "text": [
            "17\n"
          ],
          "name": "stdout"
        }
      ]
    },
    {
      "cell_type": "code",
      "metadata": {
        "id": "Mq1Cze9DouRp",
        "outputId": "0cb1ad3b-99e1-426e-dca7-8bda432008b8",
        "colab": {
          "base_uri": "https://localhost:8080/",
          "height": 35
        }
      },
      "source": [
        "# 실습 11-3\n",
        "def passFail(scores):\n",
        "  if sum(scores) / len(scores) >= 60:\n",
        "    return \"pass\"\n",
        "  else:\n",
        "    return \"fail\"\n",
        "  \n",
        "passFail([30,40,50,60,70])"
      ],
      "execution_count": null,
      "outputs": [
        {
          "output_type": "execute_result",
          "data": {
            "application/vnd.google.colaboratory.intrinsic+json": {
              "type": "string"
            },
            "text/plain": [
              "'fail'"
            ]
          },
          "metadata": {
            "tags": []
          },
          "execution_count": 8
        }
      ]
    },
    {
      "cell_type": "code",
      "metadata": {
        "id": "_LUgV7R1o5pS",
        "outputId": "c9297b2a-519a-421a-c638-ce40451a8a70",
        "colab": {
          "base_uri": "https://localhost:8080/",
          "height": 35
        }
      },
      "source": [
        "#퀴즈 11-2\n",
        "def change(x):\n",
        "  x = 10\n",
        "\n",
        "x = 5\n",
        "change(x)           #call by value (새로운 x가 생긴것이다.)\n",
        "print(x)"
      ],
      "execution_count": null,
      "outputs": [
        {
          "output_type": "stream",
          "text": [
            "5\n"
          ],
          "name": "stdout"
        }
      ]
    },
    {
      "cell_type": "code",
      "metadata": {
        "id": "YrLbS0pko_1M",
        "outputId": "b9537924-dfe1-471e-bbcd-14b13f51fecb",
        "colab": {
          "base_uri": "https://localhost:8080/",
          "height": 35
        }
      },
      "source": [
        "# 실습 11-4\n",
        "def max_score(a):\n",
        " largest = a[0]\n",
        " for i in a:\n",
        "   if i > largest:\n",
        "     largest = i\n",
        " return largest\n",
        "\n",
        "math_score = [45, 66, 70, 83, 50, 77, 87, 92, 73, 89]\n",
        "max_score(math_score)"
      ],
      "execution_count": null,
      "outputs": [
        {
          "output_type": "execute_result",
          "data": {
            "text/plain": [
              "92"
            ]
          },
          "metadata": {
            "tags": []
          },
          "execution_count": 14
        }
      ]
    },
    {
      "cell_type": "code",
      "metadata": {
        "id": "0oIDDO-ArADH",
        "outputId": "9c2f1ab0-d7a7-4303-e4c5-3f61057aa045",
        "colab": {
          "base_uri": "https://localhost:8080/",
          "height": 35
        }
      },
      "source": [
        "#실습 11-5:\n",
        "def gap_score(a):\n",
        " largest = a[0]\n",
        " for i in a:\n",
        "   if i > largest:\n",
        "     largest = i\n",
        "\n",
        "\n",
        " smallest = a[0]\n",
        " for x in a:\n",
        "   if x < smallest:\n",
        "     smallest = x\n",
        " return largest-smallest\n",
        "\n",
        "math_score = [45, 66, 70, 83, 50, 77, 87, 92, 73, 89]\n",
        "gap_score(math_score)"
      ],
      "execution_count": null,
      "outputs": [
        {
          "output_type": "execute_result",
          "data": {
            "text/plain": [
              "47"
            ]
          },
          "metadata": {
            "tags": []
          },
          "execution_count": 19
        }
      ]
    },
    {
      "cell_type": "code",
      "metadata": {
        "id": "zQp70MFYszI0",
        "outputId": "0ca19123-dea2-4151-f012-f52da457ed02",
        "colab": {
          "base_uri": "https://localhost:8080/",
          "height": 52
        }
      },
      "source": [
        "#실습 11-6\n",
        "def change_temp(a):\n",
        "  x = ((9/5) * a + 32)\n",
        "  return x\n",
        "a= int(input(\"섭씨 온도 입력:\"))\n",
        "change_temp(a)"
      ],
      "execution_count": null,
      "outputs": [
        {
          "output_type": "stream",
          "text": [
            "섭씨 온도 입력:32\n"
          ],
          "name": "stdout"
        },
        {
          "output_type": "execute_result",
          "data": {
            "text/plain": [
              "89.6"
            ]
          },
          "metadata": {
            "tags": []
          },
          "execution_count": 20
        }
      ]
    },
    {
      "cell_type": "code",
      "metadata": {
        "id": "0s7Isn-Dtv1O",
        "outputId": "e48ad256-7731-489b-d4c2-41c58aaa9502",
        "colab": {
          "base_uri": "https://localhost:8080/",
          "height": 52
        }
      },
      "source": [
        "#실습 11-7\n",
        "def change(a):\n",
        "  feet = a / 0.305\n",
        "  yard = a * 1.0936\n",
        "  print(a,\"미터는\",feet,\"feet\",yard,\"yard 입니다\")\n",
        "\n",
        "m= float(input(\"meter 입력:\"))\n",
        "change(m)"
      ],
      "execution_count": null,
      "outputs": [
        {
          "output_type": "stream",
          "text": [
            "meter 입력:50\n",
            "50.0 미터는 163.9344262295082 feet 54.67999999999999 yard 입니다\n"
          ],
          "name": "stdout"
        }
      ]
    },
    {
      "cell_type": "code",
      "metadata": {
        "id": "GSB6JAGiufzm",
        "outputId": "ce290d23-e0a2-4a36-e80e-7cdc89094ef4",
        "colab": {
          "base_uri": "https://localhost:8080/",
          "height": 70
        }
      },
      "source": [
        "#실습 11-8\n",
        "def area(bottom,height):\n",
        "  area = float(0.5 * bottom * height)\n",
        "  print(area)\n",
        "\n",
        "a=int(input(\"밑변 입력:\"))\n",
        "b=int(input(\"높이 입력:\"))\n",
        "area(a,b)"
      ],
      "execution_count": null,
      "outputs": [
        {
          "output_type": "stream",
          "text": [
            "밑변 입력:20\n",
            "높이 입력:15\n",
            "150.0\n"
          ],
          "name": "stdout"
        }
      ]
    },
    {
      "cell_type": "code",
      "metadata": {
        "id": "YpZONzx5vN2h",
        "outputId": "6f10c1c3-8120-4958-9440-319ad760612d",
        "colab": {
          "base_uri": "https://localhost:8080/",
          "height": 35
        }
      },
      "source": [
        "# 실습 11-9\n",
        "def time(second):\n",
        "  h = second // (60*60)\n",
        "  m = (second-h*60*60) //60\n",
        "  sec = second - h*60*60 - m*60\n",
        "  return h,m,sec\n",
        "\n",
        "time(57894)"
      ],
      "execution_count": null,
      "outputs": [
        {
          "output_type": "execute_result",
          "data": {
            "text/plain": [
              "(16, 4, 54)"
            ]
          },
          "metadata": {
            "tags": []
          },
          "execution_count": 31
        }
      ]
    },
    {
      "cell_type": "code",
      "metadata": {
        "id": "CDNZssawv8dS",
        "outputId": "67e55637-5f90-4c53-bea8-fb289bd43869",
        "colab": {
          "base_uri": "https://localhost:8080/",
          "height": 52
        }
      },
      "source": [
        "#실습 11-10\n",
        "def cal_productPrice(a):\n",
        "  return a*(10/11)\n",
        "\n",
        "def cal_tax(a):\n",
        "  return a*(1/11)\n",
        "\n",
        "a=int(input(\"소비자가 입력(원):\"))\n",
        "productPrice = cal_productPrice(a)\n",
        "tax = cal_tax(a)\n",
        "print(\"제품 가격은%d원, 부가가치세는%d원입니다.\"%(productPrice,tax))"
      ],
      "execution_count": null,
      "outputs": [
        {
          "output_type": "stream",
          "text": [
            "소비자가 입력(원):11000\n",
            "제품 가격은10000원, 부가가치세는1000원입니다.\n"
          ],
          "name": "stdout"
        }
      ]
    },
    {
      "cell_type": "code",
      "metadata": {
        "id": "WCN5Kj6GxTrs",
        "outputId": "82f0b3e3-f3fc-4c18-8f1f-459cb2d30272",
        "colab": {
          "base_uri": "https://localhost:8080/",
          "height": 52
        }
      },
      "source": [
        "#실습 11-11\n",
        "def password(a):\n",
        "  if len(a) >=9:\n",
        "    print(\"Good\")\n",
        "  elif len(a) >= 5 and len(a) < 9:\n",
        "    print(\"Normal\")\n",
        "  elif len(a) < 5:\n",
        "    print(\"Bad\")\n",
        "\n",
        "a=input(\"비밀번호 입력:\")\n",
        "password(a)"
      ],
      "execution_count": null,
      "outputs": [
        {
          "output_type": "stream",
          "text": [
            "비밀번호 입력:myPassword\n",
            "Good\n"
          ],
          "name": "stdout"
        }
      ]
    },
    {
      "cell_type": "code",
      "metadata": {
        "id": "-voYwwZP1Lwh",
        "outputId": "56aa7da8-0c84-4790-c864-a9d4d958b518",
        "colab": {
          "base_uri": "https://localhost:8080/",
          "height": 88
        }
      },
      "source": [
        "def periodDiscount(cp,p):\n",
        "  if p <= 6:\n",
        "    return(cp)\n",
        "  elif p > 6 and p <=12:\n",
        "    cp = cp * (90/100)\n",
        "    return(cp)\n",
        "  elif p > 12:\n",
        "    cp = cp * (80/100)\n",
        "    return(cp)\n",
        "\n",
        "def creditCardDiscount(cp,c):\n",
        "  if c == 11:\n",
        "    cp = cp * (95/100)\n",
        "    return(cp)\n",
        "  elif c == 12:\n",
        "    cp = cp * (92/100)\n",
        "    return(cp)\n",
        "  elif c == 13:\n",
        "    cp = cp * (88/100)\n",
        "    return(cp)\n",
        "\n",
        "contractPrice=float(input(\"계약금액\"))\n",
        "period=float(input(\"사용개월\"))\n",
        "cardcode=float(input(\"카드코드\"))\n",
        "\n",
        "a=periodDiscount(contractPrice,period)\n",
        "\n",
        "print(creditCardDiscount(a,cardcode))\n"
      ],
      "execution_count": null,
      "outputs": [
        {
          "output_type": "stream",
          "text": [
            "계약금액50000\n",
            "사용개월10\n",
            "카드코드11\n",
            "42750.0\n"
          ],
          "name": "stdout"
        }
      ]
    },
    {
      "cell_type": "code",
      "metadata": {
        "id": "NHqoyb4V3f0g"
      },
      "source": [
        ""
      ],
      "execution_count": null,
      "outputs": []
    },
    {
      "cell_type": "markdown",
      "metadata": {
        "id": "P1yhSyB5oSUh"
      },
      "source": [
        "#Ch.11_함수_활용_한규현\n",
        "## 성명:한규현 학과:경제학과 학번:12173082"
      ]
    },
    {
      "cell_type": "code",
      "metadata": {
        "id": "6qUOtPL2oSUj",
        "outputId": "49b06ad7-6967-471c-ec65-9eab0055e3df",
        "colab": {
          "base_uri": "https://localhost:8080/",
          "height": 106
        }
      },
      "source": [
        "#퀴즈 11-1\n",
        "def square(x):\n",
        "  print(x*x)\n",
        "nums= [2,3,4,5,6]\n",
        "\n",
        "for num in nums:\n",
        "  square(num)"
      ],
      "execution_count": null,
      "outputs": [
        {
          "output_type": "stream",
          "text": [
            "4\n",
            "9\n",
            "16\n",
            "25\n",
            "36\n"
          ],
          "name": "stdout"
        }
      ]
    },
    {
      "cell_type": "code",
      "metadata": {
        "id": "BukJB8QSoSUr",
        "outputId": "032a9ef0-4edb-41c7-eea0-e545b8d60a88",
        "colab": {
          "base_uri": "https://localhost:8080/",
          "height": 35
        }
      },
      "source": [
        "# 실습 11-1\n",
        "def longest(words):\n",
        "  long_word = words[0]\n",
        "  long = len(words[0])\n",
        "\n",
        "  for i in range (len(words)):\n",
        "    if len(words[i])>long:\n",
        "      long = len(words[i])\n",
        "      long_word = words[i]\n",
        "  return long_word\n",
        "\n",
        "print(longest(['one','second','three']))"
      ],
      "execution_count": null,
      "outputs": [
        {
          "output_type": "stream",
          "text": [
            "second\n"
          ],
          "name": "stdout"
        }
      ]
    },
    {
      "cell_type": "code",
      "metadata": {
        "id": "AWfkJFoMoSUv",
        "outputId": "f17bcc24-e441-474b-ebed-bf015df843ce",
        "colab": {
          "base_uri": "https://localhost:8080/",
          "height": 35
        }
      },
      "source": [
        "# 실습 11-2\n",
        "def len_word(wordlist):\n",
        "  sum = 0\n",
        "  for i in wordlist:\n",
        "    sum += len(i)\n",
        "  return sum\n",
        "list_fruit = [\"apple\",\"banana\",\"tomato\"]\n",
        "print(len_word(list_fruit))"
      ],
      "execution_count": null,
      "outputs": [
        {
          "output_type": "stream",
          "text": [
            "17\n"
          ],
          "name": "stdout"
        }
      ]
    },
    {
      "cell_type": "code",
      "metadata": {
        "id": "8_NQ1qJ-oSUz",
        "outputId": "0cb1ad3b-99e1-426e-dca7-8bda432008b8",
        "colab": {
          "base_uri": "https://localhost:8080/",
          "height": 35
        }
      },
      "source": [
        "# 실습 11-3\n",
        "def passFail(scores):\n",
        "  if sum(scores) / len(scores) >= 60:\n",
        "    return \"pass\"\n",
        "  else:\n",
        "    return \"fail\"\n",
        "  \n",
        "passFail([30,40,50,60,70])"
      ],
      "execution_count": null,
      "outputs": [
        {
          "output_type": "execute_result",
          "data": {
            "application/vnd.google.colaboratory.intrinsic+json": {
              "type": "string"
            },
            "text/plain": [
              "'fail'"
            ]
          },
          "metadata": {
            "tags": []
          },
          "execution_count": 8
        }
      ]
    },
    {
      "cell_type": "code",
      "metadata": {
        "id": "EYdfuL5ioSU5",
        "outputId": "c9297b2a-519a-421a-c638-ce40451a8a70",
        "colab": {
          "base_uri": "https://localhost:8080/",
          "height": 35
        }
      },
      "source": [
        "#퀴즈 11-2\n",
        "def change(x):\n",
        "  x = 10\n",
        "\n",
        "x = 5\n",
        "change(x)           #call by value (새로운 x가 생긴것이다.)\n",
        "print(x)"
      ],
      "execution_count": null,
      "outputs": [
        {
          "output_type": "stream",
          "text": [
            "5\n"
          ],
          "name": "stdout"
        }
      ]
    },
    {
      "cell_type": "code",
      "metadata": {
        "id": "9eEb1qg-oSU8",
        "outputId": "b9537924-dfe1-471e-bbcd-14b13f51fecb",
        "colab": {
          "base_uri": "https://localhost:8080/",
          "height": 35
        }
      },
      "source": [
        "# 실습 11-4\n",
        "def max_score(a):\n",
        " largest = a[0]\n",
        " for i in a:\n",
        "   if i > largest:\n",
        "     largest = i\n",
        " return largest\n",
        "\n",
        "math_score = [45, 66, 70, 83, 50, 77, 87, 92, 73, 89]\n",
        "max_score(math_score)"
      ],
      "execution_count": null,
      "outputs": [
        {
          "output_type": "execute_result",
          "data": {
            "text/plain": [
              "92"
            ]
          },
          "metadata": {
            "tags": []
          },
          "execution_count": 14
        }
      ]
    },
    {
      "cell_type": "code",
      "metadata": {
        "id": "NW8vnCs-oSU_",
        "outputId": "9c2f1ab0-d7a7-4303-e4c5-3f61057aa045",
        "colab": {
          "base_uri": "https://localhost:8080/",
          "height": 35
        }
      },
      "source": [
        "#실습 11-5:\n",
        "def gap_score(a):\n",
        " largest = a[0]\n",
        " for i in a:\n",
        "   if i > largest:\n",
        "     largest = i\n",
        "\n",
        "\n",
        " smallest = a[0]\n",
        " for x in a:\n",
        "   if x < smallest:\n",
        "     smallest = x\n",
        " return largest-smallest\n",
        "\n",
        "math_score = [45, 66, 70, 83, 50, 77, 87, 92, 73, 89]\n",
        "gap_score(math_score)"
      ],
      "execution_count": null,
      "outputs": [
        {
          "output_type": "execute_result",
          "data": {
            "text/plain": [
              "47"
            ]
          },
          "metadata": {
            "tags": []
          },
          "execution_count": 19
        }
      ]
    },
    {
      "cell_type": "code",
      "metadata": {
        "id": "IrrpomRGoSVB",
        "outputId": "0ca19123-dea2-4151-f012-f52da457ed02",
        "colab": {
          "base_uri": "https://localhost:8080/",
          "height": 52
        }
      },
      "source": [
        "#실습 11-6\n",
        "def change_temp(a):\n",
        "  x = ((9/5) * a + 32)\n",
        "  return x\n",
        "a= int(input(\"섭씨 온도 입력:\"))\n",
        "change_temp(a)"
      ],
      "execution_count": null,
      "outputs": [
        {
          "output_type": "stream",
          "text": [
            "섭씨 온도 입력:32\n"
          ],
          "name": "stdout"
        },
        {
          "output_type": "execute_result",
          "data": {
            "text/plain": [
              "89.6"
            ]
          },
          "metadata": {
            "tags": []
          },
          "execution_count": 20
        }
      ]
    },
    {
      "cell_type": "code",
      "metadata": {
        "id": "AHX58wT3oSVF",
        "outputId": "e48ad256-7731-489b-d4c2-41c58aaa9502",
        "colab": {
          "base_uri": "https://localhost:8080/",
          "height": 52
        }
      },
      "source": [
        "#실습 11-7\n",
        "def change(a):\n",
        "  feet = a / 0.305\n",
        "  yard = a * 1.0936\n",
        "  print(a,\"미터는\",feet,\"feet\",yard,\"yard 입니다\")\n",
        "\n",
        "m= float(input(\"meter 입력:\"))\n",
        "change(m)"
      ],
      "execution_count": null,
      "outputs": [
        {
          "output_type": "stream",
          "text": [
            "meter 입력:50\n",
            "50.0 미터는 163.9344262295082 feet 54.67999999999999 yard 입니다\n"
          ],
          "name": "stdout"
        }
      ]
    },
    {
      "cell_type": "code",
      "metadata": {
        "id": "sYzcUWhnoSVL",
        "outputId": "ce290d23-e0a2-4a36-e80e-7cdc89094ef4",
        "colab": {
          "base_uri": "https://localhost:8080/",
          "height": 70
        }
      },
      "source": [
        "#실습 11-8\n",
        "def area(bottom,height):\n",
        "  area = float(0.5 * bottom * height)\n",
        "  print(area)\n",
        "\n",
        "a=int(input(\"밑변 입력:\"))\n",
        "b=int(input(\"높이 입력:\"))\n",
        "area(a,b)"
      ],
      "execution_count": null,
      "outputs": [
        {
          "output_type": "stream",
          "text": [
            "밑변 입력:20\n",
            "높이 입력:15\n",
            "150.0\n"
          ],
          "name": "stdout"
        }
      ]
    },
    {
      "cell_type": "code",
      "metadata": {
        "id": "-rJ3JMk8oSVN",
        "outputId": "6f10c1c3-8120-4958-9440-319ad760612d",
        "colab": {
          "base_uri": "https://localhost:8080/",
          "height": 35
        }
      },
      "source": [
        "# 실습 11-9\n",
        "def time(second):\n",
        "  h = second // (60*60)\n",
        "  m = (second-h*60*60) //60\n",
        "  sec = second - h*60*60 - m*60\n",
        "  return h,m,sec\n",
        "\n",
        "time(57894)"
      ],
      "execution_count": null,
      "outputs": [
        {
          "output_type": "execute_result",
          "data": {
            "text/plain": [
              "(16, 4, 54)"
            ]
          },
          "metadata": {
            "tags": []
          },
          "execution_count": 31
        }
      ]
    },
    {
      "cell_type": "code",
      "metadata": {
        "id": "oQUlfrn-oSVQ",
        "outputId": "67e55637-5f90-4c53-bea8-fb289bd43869",
        "colab": {
          "base_uri": "https://localhost:8080/",
          "height": 52
        }
      },
      "source": [
        "#실습 11-10\n",
        "def cal_productPrice(a):\n",
        "  return a*(10/11)\n",
        "\n",
        "def cal_tax(a):\n",
        "  return a*(1/11)\n",
        "\n",
        "a=int(input(\"소비자가 입력(원):\"))\n",
        "productPrice = cal_productPrice(a)\n",
        "tax = cal_tax(a)\n",
        "print(\"제품 가격은%d원, 부가가치세는%d원입니다.\"%(productPrice,tax))"
      ],
      "execution_count": null,
      "outputs": [
        {
          "output_type": "stream",
          "text": [
            "소비자가 입력(원):11000\n",
            "제품 가격은10000원, 부가가치세는1000원입니다.\n"
          ],
          "name": "stdout"
        }
      ]
    },
    {
      "cell_type": "code",
      "metadata": {
        "id": "mMqUwzALoSVT",
        "outputId": "82f0b3e3-f3fc-4c18-8f1f-459cb2d30272",
        "colab": {
          "base_uri": "https://localhost:8080/",
          "height": 52
        }
      },
      "source": [
        "#실습 11-11\n",
        "def password(a):\n",
        "  if len(a) >=9:\n",
        "    print(\"Good\")\n",
        "  elif len(a) >= 5 and len(a) < 9:\n",
        "    print(\"Normal\")\n",
        "  elif len(a) < 5:\n",
        "    print(\"Bad\")\n",
        "\n",
        "a=input(\"비밀번호 입력:\")\n",
        "password(a)"
      ],
      "execution_count": null,
      "outputs": [
        {
          "output_type": "stream",
          "text": [
            "비밀번호 입력:myPassword\n",
            "Good\n"
          ],
          "name": "stdout"
        }
      ]
    },
    {
      "cell_type": "code",
      "metadata": {
        "id": "sPoWaklloSVW",
        "outputId": "407c9b9b-fef7-4c3c-d8f2-8dfceb7f0971",
        "colab": {
          "base_uri": "https://localhost:8080/",
          "height": 88
        }
      },
      "source": [
        "#실습 11-12\n",
        "def periodDiscount(cp,p):\n",
        "  if p <= 6:\n",
        "    return(0)\n",
        "  elif p > 6 and p <=12:\n",
        "    cp = cp * (10/100)\n",
        "    return(cp)\n",
        "  elif p > 12:\n",
        "    cp = cp * (20/100)\n",
        "    return(cp)\n",
        "\n",
        "def creditCardDiscount(cp,c):\n",
        "  if c == 11:\n",
        "    cp = cp * (5/100)\n",
        "    return(cp)\n",
        "  elif c == 12:\n",
        "    cp = cp * (8/100)\n",
        "    return(cp)\n",
        "  elif c == 13:\n",
        "    cp = cp * (12/100)\n",
        "    return(cp)\n",
        "\n",
        "contractPrice=float(input(\"계약금액\"))\n",
        "period=float(input(\"사용개월\"))\n",
        "cardcode=float(input(\"카드코드\"))\n",
        "\n",
        "final = contractPrice- periodDiscount(contractPrice,period) - creditCardDiscount(contractPrice,cardcode)\n",
        "print(final)\n"
      ],
      "execution_count": null,
      "outputs": [
        {
          "output_type": "stream",
          "text": [
            "계약금액50000\n",
            "사용개월10\n",
            "카드코드11\n",
            "42500.0\n"
          ],
          "name": "stdout"
        }
      ]
    },
    {
      "cell_type": "code",
      "metadata": {
        "id": "9K2wZM12oSVZ",
        "outputId": "400e4d10-5da9-47e5-9daa-96ef0c2cd4c0",
        "colab": {
          "base_uri": "https://localhost:8080/",
          "height": 159
        }
      },
      "source": [
        "#실습 11-13\n",
        "def godown(a,b):\n",
        "  for i in range(a,b-1,-1):\n",
        "    print(i,\"층입니다.\")\n",
        "    if i == b-1:\n",
        "      break\n",
        "  print(i,\"층에 도착하였습니다\")\n",
        "\n",
        "def goup(a,b):\n",
        "  for i in range(a,b+1):\n",
        "    print(i,\"층입니다.\")\n",
        "    if i == b+1:\n",
        "      break\n",
        "  print(i,\"층에 도착하였습니다\")\n",
        "\n",
        "inputl= int(input(\"가고자 하는 층 입력:\"))\n",
        "nowl= int(input(\"현재 위치 입력:\"))\n",
        "\n",
        "if inputl == nowl:\n",
        "  print(\"문이 열립니다.\")\n",
        "elif inputl < nowl:\n",
        "  godown(nowl,inputl)\n",
        "elif inputl > nowl:\n",
        "  goup(nowl,inputl)"
      ],
      "execution_count": null,
      "outputs": [
        {
          "output_type": "stream",
          "text": [
            "가고자 하는 층 입력:5\n",
            "현재 위치 입력:1\n",
            "1 층입니다.\n",
            "2 층입니다.\n",
            "3 층입니다.\n",
            "4 층입니다.\n",
            "5 층입니다.\n",
            "5 층에 도착하였습니다\n"
          ],
          "name": "stdout"
        }
      ]
    },
    {
      "cell_type": "code",
      "metadata": {
        "id": "ed3Xm1_kvtJe",
        "outputId": "8efeb87b-7dff-4265-db00-3516084035f5",
        "colab": {
          "base_uri": "https://localhost:8080/",
          "height": 159
        }
      },
      "source": [
        "# 실습 11-14\n",
        "def add(num1,num2):\n",
        "  return num1+num2\n",
        "\n",
        "def sub(num1,num2):\n",
        "  if num1>=num2:\n",
        "    return num1-num2\n",
        "  elif num1<num2:\n",
        "    return num2-num1\n",
        "\n",
        "def mul(num1,num2):\n",
        "  return num1*num2\n",
        "\n",
        "def div(num1,num2):\n",
        "  return num1/num2\n",
        "\n",
        "while True:\n",
        "  a=int(input(\"1.덧셈 2.뺄셈 3.곱셈 4.나눗셈 5.종료:\"))\n",
        "  if a == 5:\n",
        "    break\n",
        "  num1,num2=map(float,input(\"정수 두개 입력\").split(\",\") )\n",
        "  if a == 1:\n",
        "    print(add(num1,num2))\n",
        "  elif a == 2:\n",
        "    print(sub(num1,num2))\n",
        "  elif a== 3:\n",
        "    print(mul(num1,num2))\n",
        "  elif a== 4:\n",
        "    print(div(num1,num2))\n",
        "print(\"종료되었습니다\")"
      ],
      "execution_count": null,
      "outputs": [
        {
          "output_type": "stream",
          "text": [
            "1.덧셈 2.뺄셈 3.곱셈 4.나눗셈 5.종료:2\n",
            "정수 두개 입력10,5\n",
            "5.0\n",
            "1.덧셈 2.뺄셈 3.곱셈 4.나눗셈 5.종료:3\n",
            "정수 두개 입력5,6\n",
            "30.0\n",
            "1.덧셈 2.뺄셈 3.곱셈 4.나눗셈 5.종료:5\n",
            "종료되었습니다\n"
          ],
          "name": "stdout"
        }
      ]
    },
    {
      "cell_type": "code",
      "metadata": {
        "id": "sGfdEfaByuOK",
        "outputId": "ff30414c-ae38-43d2-c99d-07393cc1bac6",
        "colab": {
          "base_uri": "https://localhost:8080/",
          "height": 159
        }
      },
      "source": [
        "# 실습 11-15\n",
        "def circum(side1, side2):\n",
        "  return 2*(side1+side2)\n",
        "def area(side1, side2):\n",
        "  return side1*side2\n",
        "\n",
        "while True:\n",
        "  a = int(input(\"1.둘레 2.넓이 3.종료 :\"))\n",
        "  if a == 3:\n",
        "    break\n",
        "  side1,side2=map(float,input(\"두 변 길이 입력\").split(\",\") )\n",
        "  if a == 1:\n",
        "    print(circum(side1, side2))\n",
        "  elif a == 2:\n",
        "    print(area(side1, side2))\n",
        "print(\"종료되었습니다\")"
      ],
      "execution_count": null,
      "outputs": [
        {
          "output_type": "stream",
          "text": [
            "1.둘레 2.넓이 3.종료 :2\n",
            "두 변 길이 입력2,3\n",
            "6.0\n",
            "1.둘레 2.넓이 3.종료 :1\n",
            "두 변 길이 입력1,1\n",
            "4.0\n",
            "1.둘레 2.넓이 3.종료 :3\n",
            "종료되었습니다\n"
          ],
          "name": "stdout"
        }
      ]
    },
    {
      "cell_type": "code",
      "metadata": {
        "id": "OeYgV5q6268i",
        "outputId": "607a6484-3e5f-4c68-9142-9d00eec39ce3",
        "colab": {
          "base_uri": "https://localhost:8080/",
          "height": 52
        }
      },
      "source": [
        "# 실습 11-16\n",
        "numlist = [95,90,45,10,80,100]\n",
        "def avg(numlist):\n",
        "  sum = 0\n",
        "  for i in range(len(numlist)):\n",
        "    sum += numlist[i]\n",
        "  avg = sum/len(numlist)\n",
        "  return(avg)\n",
        "\n",
        "def high(numlist):\n",
        "  high = numlist[0]\n",
        "  for i in range(len(numlist)):\n",
        "    if numlist[i] > high:\n",
        "      high = numlist[i]\n",
        "  return(high)\n",
        "\n",
        "def low(numlist):\n",
        "  low = numlist[0]\n",
        "  for i in range(len(numlist)):\n",
        "    if numlist[i] < low:\n",
        "      low = numlist[i]\n",
        "  return(low)\n",
        "\n",
        "a = int(input(\"1.평균 2.최고점 3.최저점 :\"))\n",
        "if a == 1:\n",
        "  print(avg(numlist))\n",
        "elif a == 2:\n",
        "  print(high(numlist))\n",
        "elif a == 3:\n",
        "  print(low(numlist))\n"
      ],
      "execution_count": null,
      "outputs": [
        {
          "output_type": "stream",
          "text": [
            "1.평균 2.최고점 3.최저점 :1\n",
            "70.0\n"
          ],
          "name": "stdout"
        }
      ]
    },
    {
      "cell_type": "code",
      "metadata": {
        "id": "mY-wMpeY41SN",
        "outputId": "999afb0b-de28-4d1c-fa0e-b19132241e87",
        "colab": {
          "base_uri": "https://localhost:8080/",
          "height": 107
        }
      },
      "source": [
        "# 실습 11-17\n",
        "import random\n",
        "\n",
        "now_vol = random.randint(1,101)\n",
        "now_eco = random.randint(-3,4)\n",
        "now_tem = random.randint(-5,6)\n",
        "def vol(now_vol):\n",
        "  print(\"음량 조절은 0부터 100까지 가능합니다. 현재 음량은 %d입니다.\"%(now_vol))\n",
        "  number = int(input(\"조절하고자하는 만큼 입력:\"))\n",
        "  print(\"조절 후 음량은 %d 입니다.\"%(now_vol+number))\n",
        "\n",
        "\n",
        "def eco(now_eco):\n",
        "  print(\"에코 조절은 -3부터 3까지 가능합니다. 현재 에코는 %d입니다.\"%(now_eco))\n",
        "  number = int(input(\"조절하고자하는 만큼 입력:\"))\n",
        "  print(\"조절 후 에코는 %d 입니다.\"%(now_eco+number))\n",
        "  \n",
        "\n",
        "def tem(now_tem):\n",
        "  print(\"템포 조절은 -3부터 3까지 가능합니다. 현재 템포는 %d입니다.\"%(now_tem))\n",
        "  number = int(input(\"조절하고자하는 만큼 입력:\"))\n",
        "  print(\"조절 후 템포는 %d 입니다.\"%(now_tem+number))\n",
        "  \n",
        "\n",
        "print(\"**노래 조절 프로그램**\")\n",
        "a= int(input(\"1.음량 2.에코 3.템포 :\"))\n",
        "if a == 1 :\n",
        "  vol(now_vol)\n",
        "elif a == 2:\n",
        "  eco(now_eco)\n",
        "elif a == 3:\n",
        "  tem(now_tem)\n",
        "\n",
        "  \n"
      ],
      "execution_count": null,
      "outputs": [
        {
          "output_type": "stream",
          "text": [
            "**노래 조절 프로그램**\n",
            "1.음량 2.에코 3.템포 :1\n",
            "음량 조절은 0부터 100까지 가능합니다. 현재 음량은 88입니다.\n",
            "조절하고자하는 만큼 입력:-30\n",
            "조절 후 음량은 58 입니다.\n"
          ],
          "name": "stdout"
        }
      ]
    },
    {
      "cell_type": "code",
      "metadata": {
        "id": "iUFdTNgK95UO",
        "outputId": "0260d8f3-7b19-4e71-bc71-197914b57f76",
        "colab": {
          "base_uri": "https://localhost:8080/",
          "height": 197
        }
      },
      "source": [
        "# 실습 11 - 18\n",
        "now_ch = 5\n",
        "now_vol = 4\n",
        "def channel(now_ch):\n",
        "  number = int(input(\"조절하고자하는 만큼 입력:\"))\n",
        "  print(\"조절 후 채널은 %d 입니다.\"%(now_ch+number))\n",
        "\n",
        "def volume(now_vol):\n",
        "  number = int(input(\"조절하고자하는 만큼 입력:\"))\n",
        "  print(\"조절 후 채널은 %d 입니다.\"%(now_vol+number))\n",
        "\n",
        "while True:\n",
        "  a= int(input(\"1.채널 2.음량 3.종료:\"))\n",
        "  if a == 1 :\n",
        "    vol(now_ch)\n",
        "  elif a == 2:\n",
        "    eco(now_vol)\n",
        "  elif a== 3:\n",
        "    break\n",
        "print(\"종료합니다\")"
      ],
      "execution_count": null,
      "outputs": [
        {
          "output_type": "stream",
          "text": [
            "1.채널 2.음량 3.종료:1\n",
            "음량 조절은 0부터 100까지 가능합니다. 현재 음량은 5입니다.\n",
            "조절하고자하는 만큼 입력:2\n",
            "조절 후 음량은 7 입니다.\n",
            "1.채널 2.음량 3.종료:1\n",
            "음량 조절은 0부터 100까지 가능합니다. 현재 음량은 5입니다.\n",
            "조절하고자하는 만큼 입력:-2\n",
            "조절 후 음량은 3 입니다.\n",
            "1.채널 2.음량 3.종료:3\n",
            "종료합니다\n"
          ],
          "name": "stdout"
        }
      ]
    },
    {
      "cell_type": "code",
      "metadata": {
        "id": "yO4vA0ze2fMQ",
        "outputId": "bee1a685-7efe-4af0-8f17-a9c0640f6240",
        "colab": {
          "base_uri": "https://localhost:8080/",
          "height": 89
        }
      },
      "source": [
        "# 실습 11 - 19\n",
        "a = input(\"춘천(운임 : 5000원) 부산(운임 :30000원) 대구(운임 20000원) 수원(운임 10000) 중 목적지를 한곳 입력하세요 :\")\n",
        "b = input(\"KTX(10000원 추가) / 새마을호(5000원 추가) / 무궁화호(3000원 추가) 중 하나를 입력하세요 :\")\n",
        "c = input(\"좌석 / 입석(2000원 할인)중 하나를 입력하세요:\")\n",
        "def objection(a):\n",
        "  if a == \"춘천\":\n",
        "    return 5000\n",
        "  elif a == \"부산\":\n",
        "    return 30000\n",
        "  elif a == \"대구\":\n",
        "    return 20000\n",
        "  elif a == \"수원\":\n",
        "    return 10000\n",
        "  \n",
        "def train(b):\n",
        "  if b == \"KTX\":\n",
        "    return 10000\n",
        "  elif b == \"새마을호\":\n",
        "    return 5000\n",
        "  elif b == \"무궁화호\":\n",
        "    return 3000\n",
        "\n",
        "def ud(c):\n",
        "  if c == \"좌석\":\n",
        "    return 0\n",
        "  elif c == \"입석\":\n",
        "    return -2000\n",
        "\n",
        "result = objection(a) + train(b) + ud(c)\n",
        "print(result)"
      ],
      "execution_count": null,
      "outputs": [
        {
          "output_type": "stream",
          "text": [
            "춘천(운임 : 5000원) 부산(운임 :30000원) 대구(운임 20000원) 수원(운임 10000) 중 목적지를 한곳 입력하세요 :수원\n",
            "KTX(10000원 추가) / 새마을호(5000원 추가) / 무궁화호(3000원 추가) 중 하나를 입력하세요 :무궁화호\n",
            "좌석 / 입석(2000원 할인)중 하나를 입력하세요:좌석\n",
            "13000\n"
          ],
          "name": "stdout"
        }
      ]
    },
    {
      "cell_type": "code",
      "metadata": {
        "id": "-jjHiBni5WoN",
        "outputId": "8fff0ead-27d4-42bd-aa46-7c8fc52f636f",
        "colab": {
          "base_uri": "https://localhost:8080/",
          "height": 71
        }
      },
      "source": [
        "# 실습 11 - 20\n",
        "a = input(\"Choose 1 : Americano / Cafe mocha / Cafe Latte / Green Tea Latte :\")\n",
        "b = input(\"Choose size: G(grande) / R(regular) / S(short) :\")\n",
        "def coffee(a):\n",
        "  if a == \"Americano\":\n",
        "    return 3900\n",
        "  elif a == \"Cafe mocha\":\n",
        "    return 4500\n",
        "  elif a == \"Cafe Latte\":\n",
        "    return 5000\n",
        "  elif a == \"Green Tea Latte\":\n",
        "    return 5500\n",
        "\n",
        "def size(b):\n",
        "  if b == \"G\":\n",
        "    return 1000\n",
        "  elif b == \"R\":\n",
        "    return 500\n",
        "  elif b == \"S\":\n",
        "    return 0\n",
        "\n",
        "result = coffee(a) + size(b)\n",
        "print(result)"
      ],
      "execution_count": null,
      "outputs": [
        {
          "output_type": "stream",
          "text": [
            "Choose 1 : Americano / Cafe mocha / Cafe Latte / Green Tea Latte :Americano\n",
            "Choose size: G(grande) / R(regular) / S(short) :G\n",
            "4900\n"
          ],
          "name": "stdout"
        }
      ]
    },
    {
      "cell_type": "code",
      "metadata": {
        "id": "IqM0XIfQOai2"
      },
      "source": [
        ""
      ],
      "execution_count": null,
      "outputs": []
    }
  ]
}