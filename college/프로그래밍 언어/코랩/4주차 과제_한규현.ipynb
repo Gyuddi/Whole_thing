{
  "nbformat": 4,
  "nbformat_minor": 0,
  "metadata": {
    "colab": {
      "name": "ch_8_효과적인 자료형 – tuple형, set형, dictionary형_한규현.ipynb",
      "provenance": [],
      "collapsed_sections": []
    },
    "kernelspec": {
      "name": "python3",
      "display_name": "Python 3"
    }
  },
  "cells": [
    {
      "cell_type": "markdown",
      "metadata": {
        "id": "ZC4IRvXaL6_q"
      },
      "source": [
        "#ch_8_효과적인 자료형 – tuple형, set형, dictionary형\n",
        "##성명:한규현 학과:경제학과 학번:12173082"
      ]
    },
    {
      "cell_type": "code",
      "metadata": {
        "id": "SvflCs1HNB3n",
        "outputId": "de23fb78-4289-4004-ff39-063b08fd15a4",
        "colab": {
          "base_uri": "https://localhost:8080/",
          "height": 35
        }
      },
      "source": [
        "#실습 8-1\n",
        "test = ('영어','수학','과학','사회')\n",
        "thisyear_test = ['영어','과제','과학','사회']\n",
        "thisyear_test"
      ],
      "execution_count": null,
      "outputs": [
        {
          "output_type": "execute_result",
          "data": {
            "text/plain": [
              "['영어', '과제', '과학', '사회']"
            ]
          },
          "metadata": {
            "tags": []
          },
          "execution_count": 1
        }
      ]
    },
    {
      "cell_type": "code",
      "metadata": {
        "id": "HyJRB5WeOEjo",
        "outputId": "7f7cb1d1-eb55-493b-ae84-6e3a855404d4",
        "colab": {
          "base_uri": "https://localhost:8080/",
          "height": 35
        }
      },
      "source": [
        "# 퀴즈 8-1\n",
        "str_red = 'Red'\n",
        "list_color = ['Red','Yellow','Orange']\n",
        "tuple_color = (str_red, list_color)\n",
        "tuple_color"
      ],
      "execution_count": null,
      "outputs": [
        {
          "output_type": "execute_result",
          "data": {
            "text/plain": [
              "('Red', ['Red', 'Yellow', 'Orange'])"
            ]
          },
          "metadata": {
            "tags": []
          },
          "execution_count": 2
        }
      ]
    },
    {
      "cell_type": "code",
      "metadata": {
        "id": "AgN5mRFUOWAc",
        "outputId": "a4eb1ab6-3864-457d-d7fd-1da8bd130cc7",
        "colab": {
          "base_uri": "https://localhost:8080/",
          "height": 35
        }
      },
      "source": [
        "# 실습 8-2\n",
        "coffeshop = {'Americano':'2000원','Cafe latte':'2500원','Green Tea latte':'3000원','Mocha latte':'3500원'}\n",
        "'Americano' in coffeshop"
      ],
      "execution_count": null,
      "outputs": [
        {
          "output_type": "execute_result",
          "data": {
            "text/plain": [
              "True"
            ]
          },
          "metadata": {
            "tags": []
          },
          "execution_count": 3
        }
      ]
    },
    {
      "cell_type": "code",
      "metadata": {
        "id": "qeHaA_tgOisE",
        "outputId": "73b74a4d-db9a-4dd5-ca1d-e07a157bd3b9",
        "colab": {
          "base_uri": "https://localhost:8080/",
          "height": 35
        }
      },
      "source": [
        "'Vanila latte' in coffeshop"
      ],
      "execution_count": null,
      "outputs": [
        {
          "output_type": "execute_result",
          "data": {
            "text/plain": [
              "False"
            ]
          },
          "metadata": {
            "tags": []
          },
          "execution_count": 4
        }
      ]
    },
    {
      "cell_type": "code",
      "metadata": {
        "id": "3gOPchTcOkB5",
        "outputId": "0b26fffe-251f-4219-ddbe-bdd2c4fd7de6",
        "colab": {
          "base_uri": "https://localhost:8080/",
          "height": 35
        }
      },
      "source": [
        "# 퀴즈 8-2\n",
        "store = {'연필':'200원','펜':'800원','지우개':'500원','자':'300원'}\n",
        "store.values() "
      ],
      "execution_count": null,
      "outputs": [
        {
          "output_type": "execute_result",
          "data": {
            "text/plain": [
              "dict_values(['200원', '800원', '500원', '300원'])"
            ]
          },
          "metadata": {
            "tags": []
          },
          "execution_count": 5
        }
      ]
    },
    {
      "cell_type": "code",
      "metadata": {
        "id": "UvChlCubO3Wr"
      },
      "source": [
        "# 연습문제 1.\n",
        "홈페이지에서 정보 수정 및 추가를 위해 사용할 수 있는 자료형은 ( list )이고, 해킹으로 인한 정보\n",
        "수정을 막기 위해 사용할 수 있는 자료형은 ( tuple )이다.\n"
      ],
      "execution_count": null,
      "outputs": []
    },
    {
      "cell_type": "code",
      "metadata": {
        "id": "DM2Zujw4PBEn"
      },
      "source": [
        "# 2.\n",
        "list형과 tuple형은 index 구조이기 때문에 ( 원소로 구성 ) 과 ( 시퀀스 형 )이 가능하다."
      ],
      "execution_count": null,
      "outputs": []
    },
    {
      "cell_type": "code",
      "metadata": {
        "id": "Cqntz4ZhPKlL"
      },
      "source": [
        "# 3.\n",
        "tuple = ('Hello', 'My', 'name', 'is', '예슬')\n",
        "tuple[4] = '지수'\n",
        "위의 프로그램을 실행했을 경우,\n",
        "tuple의 원솟값은 ('Hello', 'My', 'name', 'is', '지수')이다. (X)\n",
        "tuple에서도 list와 같이 min() 함수, max() 함수를 사용할 수 있다. (O)\n",
        "tuple에서는 삽입, 삭제는 불가하나 원소의 순서 교체는 가능하다. (X)\n",
        "arr = (35,45,2,10,11)\n",
        "arr[3]+arr[1]\n",
        "위의 프로그램의 결과 값은 (10,45)이다. (X) #45+10의 값인 55가 나온다."
      ],
      "execution_count": null,
      "outputs": []
    },
    {
      "cell_type": "code",
      "metadata": {
        "id": "QbxNGTtKPYpE",
        "outputId": "6afb1633-4051-479b-8632-d3613d5d8719",
        "colab": {
          "base_uri": "https://localhost:8080/",
          "height": 35
        }
      },
      "source": [
        "# 4.\n",
        "animal_list = ['dog','pig','tiger','eagle','cat','dog','pig','lion']\n",
        "animal_set = set(animal_list)\n",
        "new_animal_list = list(animal_set)\n",
        "new_animal_list"
      ],
      "execution_count": null,
      "outputs": [
        {
          "output_type": "execute_result",
          "data": {
            "text/plain": [
              "['lion', 'eagle', 'tiger', 'pig', 'dog', 'cat']"
            ]
          },
          "metadata": {
            "tags": []
          },
          "execution_count": 6
        }
      ]
    },
    {
      "cell_type": "code",
      "metadata": {
        "id": "SkTjmXZWVO_R"
      },
      "source": [
        "# 5.\n",
        "dictionary형은 ( key )와 ( value )가 한 쌍을 이루는 원소로 구성되어있다."
      ],
      "execution_count": null,
      "outputs": []
    },
    {
      "cell_type": "code",
      "metadata": {
        "id": "zTXRb-lTVUBo",
        "outputId": "060cf4a7-3f62-4957-83d7-60df9b5a9e62",
        "colab": {
          "base_uri": "https://localhost:8080/",
          "height": 35
        }
      },
      "source": [
        "# 6.\n",
        "arr = (1, 2, 3)\n",
        "brr = [arr[0],arr[2],arr[1]]\n",
        "brr"
      ],
      "execution_count": null,
      "outputs": [
        {
          "output_type": "execute_result",
          "data": {
            "text/plain": [
              "[1, 3, 2]"
            ]
          },
          "metadata": {
            "tags": []
          },
          "execution_count": 7
        }
      ]
    },
    {
      "cell_type": "code",
      "metadata": {
        "id": "LpDsGuxoVggO",
        "outputId": "199da81a-44ee-4b94-a5ec-31dde36d4323",
        "colab": {
          "base_uri": "https://localhost:8080/",
          "height": 35
        }
      },
      "source": [
        "# 7.\n",
        "score_list = [10, 9, 9, 6, 7, 6, 8, 9]\n",
        "set(score_list)\n"
      ],
      "execution_count": null,
      "outputs": [
        {
          "output_type": "execute_result",
          "data": {
            "text/plain": [
              "{6, 7, 8, 9, 10}"
            ]
          },
          "metadata": {
            "tags": []
          },
          "execution_count": 8
        }
      ]
    },
    {
      "cell_type": "code",
      "metadata": {
        "id": "2oo_BZToVos2",
        "outputId": "9075d68c-1e4f-4e90-f817-1cc06deccc0b",
        "colab": {
          "base_uri": "https://localhost:8080/",
          "height": 35
        }
      },
      "source": [
        "# 8.\n",
        "total = {'A','B','C','D','E','F','G','H','I','J','K','L','M'}\n",
        "group_A = {'C','D','J','K','L'}\n",
        "group_B = {'L','B','H','E'}\n",
        "\n",
        "uni = group_A | group_B \n",
        "total - uni"
      ],
      "execution_count": null,
      "outputs": [
        {
          "output_type": "execute_result",
          "data": {
            "text/plain": [
              "{'A', 'F', 'G', 'I', 'M'}"
            ]
          },
          "metadata": {
            "tags": []
          },
          "execution_count": 20
        }
      ]
    },
    {
      "cell_type": "code",
      "metadata": {
        "id": "MFkY4JP6Vvqu",
        "outputId": "eef0d01f-7342-4636-dab4-d68f21ca4a8b",
        "colab": {
          "base_uri": "https://localhost:8080/",
          "height": 35
        }
      },
      "source": [
        "# 9.\n",
        "coffeshop = {'Americano':'2000원','Cafe latte':'2500원','Green Tea latte':'3000원','Mocha latte':'3500원'}\n",
        "'Americano' in coffeshop"
      ],
      "execution_count": null,
      "outputs": [
        {
          "output_type": "execute_result",
          "data": {
            "text/plain": [
              "True"
            ]
          },
          "metadata": {
            "tags": []
          },
          "execution_count": 21
        }
      ]
    },
    {
      "cell_type": "code",
      "metadata": {
        "id": "ewiCdU9OW7Pr",
        "outputId": "4007596b-9823-4c65-be80-4d851bc337e3",
        "colab": {
          "base_uri": "https://localhost:8080/",
          "height": 35
        }
      },
      "source": [
        "'Vanila latte' in coffeshop"
      ],
      "execution_count": null,
      "outputs": [
        {
          "output_type": "execute_result",
          "data": {
            "text/plain": [
              "False"
            ]
          },
          "metadata": {
            "tags": []
          },
          "execution_count": 23
        }
      ]
    },
    {
      "cell_type": "code",
      "metadata": {
        "id": "pgyDTRBlW_td",
        "outputId": "ed40d63d-2cb6-4103-b1d2-f5c3c27c2ada",
        "colab": {
          "base_uri": "https://localhost:8080/",
          "height": 35
        }
      },
      "source": [
        "# 10.\n",
        "food = {'돈가스':'5000원','생선가스':'5500원','우동':'2500원','초밥 세트':'9000원'}\n",
        "food.keys()"
      ],
      "execution_count": null,
      "outputs": [
        {
          "output_type": "execute_result",
          "data": {
            "text/plain": [
              "dict_keys(['돈가스', '생선가스', '우동', '초밥 세트'])"
            ]
          },
          "metadata": {
            "tags": []
          },
          "execution_count": 24
        }
      ]
    },
    {
      "cell_type": "code",
      "metadata": {
        "id": "3VUTEON-XGQU",
        "outputId": "77557f74-e2b4-4cb6-e408-3c2218281f28",
        "colab": {
          "base_uri": "https://localhost:8080/",
          "height": 35
        }
      },
      "source": [
        "food.values()"
      ],
      "execution_count": null,
      "outputs": [
        {
          "output_type": "execute_result",
          "data": {
            "text/plain": [
              "dict_values(['5000원', '5500원', '2500원', '9000원'])"
            ]
          },
          "metadata": {
            "tags": []
          },
          "execution_count": 25
        }
      ]
    },
    {
      "cell_type": "code",
      "metadata": {
        "id": "tvo3_nSUXHK8",
        "outputId": "3816109c-0349-43c8-e627-965f6c5bd6de",
        "colab": {
          "base_uri": "https://localhost:8080/",
          "height": 35
        }
      },
      "source": [
        "# 11.\n",
        "A = {4,3,2,7,8,10,1,9}\n",
        "B = {0,1,3,5,6,8,9,10,4}\n",
        "if A ==A.intersection(B) or B==B.intersection(A) :\n",
        "  print(\"부분집합입니다.\")\n",
        "\n",
        "else:\n",
        "  print(A | B)\n"
      ],
      "execution_count": null,
      "outputs": [
        {
          "output_type": "stream",
          "text": [
            "{0, 1, 2, 3, 4, 5, 6, 7, 8, 9, 10}\n"
          ],
          "name": "stdout"
        }
      ]
    },
    {
      "cell_type": "code",
      "metadata": {
        "id": "0DoLHY5wX1ZJ",
        "outputId": "daf57953-cdea-4e25-92db-aa657706d9be",
        "colab": {
          "base_uri": "https://localhost:8080/",
          "height": 106
        }
      },
      "source": [
        "# 13.\n",
        "fruits = {'배':[2000,3], '사과':[1500,5], '딸기':[1800,2], '참외':[2300,5]}\n",
        "fruits.items()\n",
        "for value in fruits.items():\n",
        "  if value[1][1] <5:\n",
        "    sum = (5-value[1][1])*value[1][0]\n",
        "    print(value[0],\"가\",5-value[1][1],\"개 부족합니다.\")\n",
        "    print(\"따라서\",value[0],\"를\",sum ,\"원치 더 사야합니다\")\n",
        "    sum += sum\n",
        "print(\"합계는\",sum,\"원입니다\")\n",
        "\n"
      ],
      "execution_count": null,
      "outputs": [
        {
          "output_type": "stream",
          "text": [
            "배 가 2 개 부족합니다.\n",
            "따라서 배 를 4000 원치 더 사야합니다\n",
            "딸기 가 3 개 부족합니다.\n",
            "따라서 딸기 를 5400 원치 더 사야합니다\n",
            "합계는 10800 원입니다\n"
          ],
          "name": "stdout"
        }
      ]
    },
    {
      "cell_type": "code",
      "metadata": {
        "id": "GY481XhQaH1v",
        "outputId": "e543887b-c102-47b7-c071-c5e500c9d3c8",
        "colab": {
          "base_uri": "https://localhost:8080/",
          "height": 106
        }
      },
      "source": [
        "# 14.\n",
        "mart = {'비누':[3,2], '칫솔':[5,4], '샴푸':[2,1], '치약':[4,4], '로션':[5,3]}\n",
        "\n",
        "for item in mart.items():\n",
        "    if (item[1][0] >= 4) and (item[1][1] >= 4):\n",
        "        print(item[0],'는 우수 제품입니다.')\n",
        "    elif (item[1][0] < 4) and (item[1][1] < 4):\n",
        "        print(item[0],'는 판매중지 제품입니다.')\n",
        "    else:\n",
        "        print(item[0],'는 정상 제품입니다.')"
      ],
      "execution_count": 64,
      "outputs": [
        {
          "output_type": "stream",
          "text": [
            "비누 는 판매중지 제품입니다.\n",
            "칫솔 는 우수 제품입니다.\n",
            "샴푸 는 판매중지 제품입니다.\n",
            "치약 는 우수 제품입니다.\n",
            "로션 는 정상 제품입니다.\n"
          ],
          "name": "stdout"
        }
      ]
    },
    {
      "cell_type": "code",
      "metadata": {
        "id": "p8K4yWj5gOy3",
        "outputId": "868f80aa-027d-430c-f0e6-22c6e91e42dd",
        "colab": {
          "base_uri": "https://localhost:8080/",
          "height": 35
        }
      },
      "source": [
        "# 15.\n",
        "shop = {'연필':'200원','펜':'800원','지우개':'500원','자':'300원'}\n",
        "shop.values()"
      ],
      "execution_count": 65,
      "outputs": [
        {
          "output_type": "execute_result",
          "data": {
            "text/plain": [
              "dict_values(['200원', '800원', '500원', '300원'])"
            ]
          },
          "metadata": {
            "tags": []
          },
          "execution_count": 65
        }
      ]
    },
    {
      "cell_type": "markdown",
      "metadata": {
        "id": "jbnxUvx9g9bF"
      },
      "source": [
        "#Ch_9._같은_작업_여러_번_반복\n",
        "##성명:한규현 학과:경제학과 학번:12173082"
      ]
    },
    {
      "cell_type": "code",
      "metadata": {
        "id": "BgfpIADAi41E",
        "outputId": "d85b59be-d241-48f9-a922-c00ee705ab5e",
        "colab": {
          "base_uri": "https://localhost:8080/",
          "height": 124
        }
      },
      "source": [
        "# 퀴즈 9-1\n",
        "num = 0\n",
        "while (num <= 10):\n",
        "    num = num + 2\n",
        "    print(num)"
      ],
      "execution_count": 67,
      "outputs": [
        {
          "output_type": "stream",
          "text": [
            "2\n",
            "4\n",
            "6\n",
            "8\n",
            "10\n",
            "12\n"
          ],
          "name": "stdout"
        }
      ]
    },
    {
      "cell_type": "code",
      "metadata": {
        "id": "w9IQwjJajKSE",
        "outputId": "c692a35e-fba7-44e4-f54b-c4fc4693080f",
        "colab": {
          "base_uri": "https://localhost:8080/",
          "height": 177
        }
      },
      "source": [
        "num = 1\n",
        "while (num < 10):\n",
        "    print(num * num)\n",
        "    num = num + 1"
      ],
      "execution_count": 68,
      "outputs": [
        {
          "output_type": "stream",
          "text": [
            "1\n",
            "4\n",
            "9\n",
            "16\n",
            "25\n",
            "36\n",
            "49\n",
            "64\n",
            "81\n"
          ],
          "name": "stdout"
        }
      ]
    },
    {
      "cell_type": "code",
      "metadata": {
        "id": "hm2PFcNTjR1A",
        "outputId": "ae594efe-bb15-4a85-ebcc-83c88e77d37c",
        "colab": {
          "base_uri": "https://localhost:8080/",
          "height": 106
        }
      },
      "source": [
        "count = 1\n",
        "while (count <= 5):\n",
        "    print('ha!')\n",
        "    count = count + 1"
      ],
      "execution_count": 69,
      "outputs": [
        {
          "output_type": "stream",
          "text": [
            "ha!\n",
            "ha!\n",
            "ha!\n",
            "ha!\n",
            "ha!\n"
          ],
          "name": "stdout"
        }
      ]
    },
    {
      "cell_type": "code",
      "metadata": {
        "id": "V85G-lCGjY6o",
        "outputId": "82434941-b94b-41ac-9af1-6e66fbdf4bde",
        "colab": {
          "base_uri": "https://localhost:8080/",
          "height": 52
        }
      },
      "source": [
        "# 실습 9-1\n",
        "x=int(input(\"enter the number:\"))\n",
        "step = 0\n",
        "sum = 0\n",
        "while step <= x:\n",
        "  sum = sum + step\n",
        "  step = step +1\n",
        "print(sum)"
      ],
      "execution_count": 71,
      "outputs": [
        {
          "output_type": "stream",
          "text": [
            "enter the number:20\n",
            "210\n"
          ],
          "name": "stdout"
        }
      ]
    },
    {
      "cell_type": "code",
      "metadata": {
        "id": "e9cvUpVckHoD",
        "outputId": "52dd0fa4-b664-4dd4-afaa-285fab7a8715",
        "colab": {
          "base_uri": "https://localhost:8080/",
          "height": 35
        }
      },
      "source": [
        "# 퀴즈 9-2\n",
        "n = 5\n",
        "step = 0\n",
        "sum = 2\n",
        "while (step <= n):\n",
        "    sum += step\n",
        "    step += 1\n",
        "print(sum)"
      ],
      "execution_count": 74,
      "outputs": [
        {
          "output_type": "stream",
          "text": [
            "17\n"
          ],
          "name": "stdout"
        }
      ]
    },
    {
      "cell_type": "code",
      "metadata": {
        "id": "ruR6zAe7rTM4",
        "outputId": "0ceb625c-5776-4b8a-e6d6-731362acef37",
        "colab": {
          "base_uri": "https://localhost:8080/",
          "height": 35
        }
      },
      "source": [
        "# 실습 9-2\n",
        "sum = 0\n",
        "n = 0\n",
        "while True:\n",
        "  n += 1\n",
        "  sum += n\n",
        "  \n",
        "  if sum >= 1000:\n",
        "    print(n)\n",
        "    break"
      ],
      "execution_count": 79,
      "outputs": [
        {
          "output_type": "stream",
          "text": [
            "45\n"
          ],
          "name": "stdout"
        }
      ]
    },
    {
      "cell_type": "code",
      "metadata": {
        "id": "sWapzkjkrh4Q",
        "outputId": "7c43b55c-9dfb-46b7-fd0e-a86c5d5c8aa1",
        "colab": {
          "base_uri": "https://localhost:8080/",
          "height": 70
        }
      },
      "source": [
        "# 퀴즈 9-3\n",
        "while True:\n",
        "  n = int(input('Enter the number : '))\n",
        "  print(n)\n",
        "  if n == 0:\n",
        "      print('중단합니다.')\n",
        "      break"
      ],
      "execution_count": 80,
      "outputs": [
        {
          "output_type": "stream",
          "text": [
            "Enter the number : 0\n",
            "0\n",
            "중단합니다.\n"
          ],
          "name": "stdout"
        }
      ]
    },
    {
      "cell_type": "code",
      "metadata": {
        "id": "jtPMz1Dusc79"
      },
      "source": [
        "# 퀴즈 9-4\n",
        "list(range(1,20,3)) = [1, 4, 7, 10, 13, 16, 19]\n",
        "list(range(30,1,-7)) = [30, ,23, 16, 9, 2]\n",
        "0부터 90까지 8씩 증가하는 수열\n",
        "list(range(0,91,8)\n",
        "0부터 10까지 1씩 증가하는 수열\n",
        "list(range(11)"
      ],
      "execution_count": null,
      "outputs": []
    },
    {
      "cell_type": "code",
      "metadata": {
        "id": "Db7iNxqdsoED",
        "outputId": "da308904-542c-488c-9a02-e7b5f5e93166",
        "colab": {
          "base_uri": "https://localhost:8080/",
          "height": 70
        }
      },
      "source": [
        "# 퀴즈 9-5\n",
        "for number in range (0,3):\n",
        "  print(number)"
      ],
      "execution_count": 81,
      "outputs": [
        {
          "output_type": "stream",
          "text": [
            "0\n",
            "1\n",
            "2\n"
          ],
          "name": "stdout"
        }
      ]
    },
    {
      "cell_type": "code",
      "metadata": {
        "id": "uV4ZhSwSs1EV",
        "outputId": "38c466f9-6f29-4e9b-84e3-97e912efb857",
        "colab": {
          "base_uri": "https://localhost:8080/",
          "height": 35
        }
      },
      "source": [
        "# 실습 9-3\n",
        "word_list = ['scramble', 'kindly', 'do', 'learn']\n",
        "a = 0\n",
        "for i in word_list:\n",
        "  word_list[a]=\"un\"+i\n",
        "  a += 1\n",
        "print(word_list)\n",
        "\n"
      ],
      "execution_count": 94,
      "outputs": [
        {
          "output_type": "stream",
          "text": [
            "['unscramble', 'unkindly', 'undo', 'unlearn']\n"
          ],
          "name": "stdout"
        }
      ]
    },
    {
      "cell_type": "code",
      "metadata": {
        "id": "eQ-qUL-iucAl",
        "outputId": "24c618be-8517-4698-b23e-1933f2e1bf67",
        "colab": {
          "base_uri": "https://localhost:8080/",
          "height": 106
        }
      },
      "source": [
        "# 실습 9-4\n",
        "order = 1\n",
        "alpha = \"abcde\"\n",
        "for i in range(5):\n",
        "  print(order,\"번째 알파벳은\",alpha[order-1])\n",
        "  order += 1\n",
        "  "
      ],
      "execution_count": 95,
      "outputs": [
        {
          "output_type": "stream",
          "text": [
            "1 번째 알파벳은 a\n",
            "2 번째 알파벳은 b\n",
            "3 번째 알파벳은 c\n",
            "4 번째 알파벳은 d\n",
            "5 번째 알파벳은 e\n"
          ],
          "name": "stdout"
        }
      ]
    },
    {
      "cell_type": "code",
      "metadata": {
        "id": "SNHT8syUxOb2",
        "outputId": "684bd1e7-5560-43c3-e602-6603990663ac",
        "colab": {
          "base_uri": "https://localhost:8080/",
          "height": 205
        }
      },
      "source": [
        "# 퀴즈 9-6\n",
        "for seplling in 'PYTHON_SPELLING':\n",
        "  print(spelling + '*')\n",
        "  #spelling 값을 정의하지 않았다."
      ],
      "execution_count": 96,
      "outputs": [
        {
          "output_type": "error",
          "ename": "NameError",
          "evalue": "ignored",
          "traceback": [
            "\u001b[0;31m---------------------------------------------------------------------------\u001b[0m",
            "\u001b[0;31mNameError\u001b[0m                                 Traceback (most recent call last)",
            "\u001b[0;32m<ipython-input-96-3d81d7d723fb>\u001b[0m in \u001b[0;36m<module>\u001b[0;34m()\u001b[0m\n\u001b[1;32m      1\u001b[0m \u001b[0;31m# 퀴즈 9-6\u001b[0m\u001b[0;34m\u001b[0m\u001b[0;34m\u001b[0m\u001b[0;34m\u001b[0m\u001b[0m\n\u001b[1;32m      2\u001b[0m \u001b[0;32mfor\u001b[0m \u001b[0mseplling\u001b[0m \u001b[0;32min\u001b[0m \u001b[0;34m'PYTHON_SPELLING'\u001b[0m\u001b[0;34m:\u001b[0m\u001b[0;34m\u001b[0m\u001b[0;34m\u001b[0m\u001b[0m\n\u001b[0;32m----> 3\u001b[0;31m   \u001b[0mprint\u001b[0m\u001b[0;34m(\u001b[0m\u001b[0mspelling\u001b[0m \u001b[0;34m+\u001b[0m \u001b[0;34m'*'\u001b[0m\u001b[0;34m)\u001b[0m\u001b[0;34m\u001b[0m\u001b[0;34m\u001b[0m\u001b[0m\n\u001b[0m",
            "\u001b[0;31mNameError\u001b[0m: name 'spelling' is not defined"
          ]
        }
      ]
    },
    {
      "cell_type": "code",
      "metadata": {
        "id": "AqhQZxZXxap9",
        "outputId": "5e1c4650-f066-4501-b12b-eea1b2b9c3c5",
        "colab": {
          "base_uri": "https://localhost:8080/",
          "height": 52
        }
      },
      "source": [
        "# 실습 9-5\n",
        "n = int(input(\"enter the number:\"))\n",
        "fact = 1\n",
        "for i in range(1,n+1):\n",
        "  fact = fact * i\n",
        "print(n,\"!=\",fact)"
      ],
      "execution_count": 98,
      "outputs": [
        {
          "output_type": "stream",
          "text": [
            "enter the number:5\n",
            "5 != 120\n"
          ],
          "name": "stdout"
        }
      ]
    },
    {
      "cell_type": "code",
      "metadata": {
        "id": "lkwBCUQByEX6",
        "outputId": "e76f7c49-5c92-4383-f845-9cbaf9732be8",
        "colab": {
          "base_uri": "https://localhost:8080/",
          "height": 159
        }
      },
      "source": [
        "# 실습 9-6\n",
        "mixlist = ['apple', 5, 'banana', 'grape', 3, 8, 6, 'melon']\n",
        "\n",
        "for i in mixlist:\n",
        "    if type(i) == int:\n",
        "      print(i,\"는 숫자입니다\")\n",
        "    else:\n",
        "      print(i,\"는 문자입니다\")"
      ],
      "execution_count": 99,
      "outputs": [
        {
          "output_type": "stream",
          "text": [
            "apple 는 문자입니다\n",
            "5 는 숫자입니다\n",
            "banana 는 문자입니다\n",
            "grape 는 문자입니다\n",
            "3 는 숫자입니다\n",
            "8 는 숫자입니다\n",
            "6 는 숫자입니다\n",
            "melon 는 문자입니다\n"
          ],
          "name": "stdout"
        }
      ]
    },
    {
      "cell_type": "code",
      "metadata": {
        "id": "vi-hzAd80VPs",
        "outputId": "7ec7b324-435f-4248-d216-c0bf9ed07c73",
        "colab": {
          "base_uri": "https://localhost:8080/",
          "height": 52
        }
      },
      "source": [
        "# 퀴즈 9-7\n",
        "for num in range(10, 20):\n",
        "    if (num % 2 == 0) and (num % 3 == 0):\n",
        "        print('6x', num/6, '=', num)"
      ],
      "execution_count": 100,
      "outputs": [
        {
          "output_type": "stream",
          "text": [
            "6x 2.0 = 12\n",
            "6x 3.0 = 18\n"
          ],
          "name": "stdout"
        }
      ]
    },
    {
      "cell_type": "code",
      "metadata": {
        "id": "aZOIUZuM0ZzO"
      },
      "source": [
        "# 연습문제 1.\n",
        "반복의 횟수를 미리 지정할 수 있는 경우 또는 범위를 알고 있는 경우에는 (for문 )을, 그렇지 않고\n",
        "반복의 횟수를 조건식에 의존하는 경우에는 ( while문 )을 사용한다."
      ],
      "execution_count": null,
      "outputs": []
    },
    {
      "cell_type": "code",
      "metadata": {
        "id": "yUBHydi30iDo",
        "outputId": "c76ef171-ecff-4440-a222-f17ec9d51477",
        "colab": {
          "base_uri": "https://localhost:8080/",
          "height": 134
        }
      },
      "source": [
        "# 2.\n",
        "count = 1\n",
        "#sum = 0\n",
        "while count <=10 :\n",
        "sum = sum + count\n",
        "count = count + 1"
      ],
      "execution_count": 101,
      "outputs": [
        {
          "output_type": "error",
          "ename": "IndentationError",
          "evalue": "ignored",
          "traceback": [
            "\u001b[0;36m  File \u001b[0;32m\"<ipython-input-101-c1aa8972eda8>\"\u001b[0;36m, line \u001b[0;32m3\u001b[0m\n\u001b[0;31m    sum = sum + count\u001b[0m\n\u001b[0m      ^\u001b[0m\n\u001b[0;31mIndentationError\u001b[0m\u001b[0;31m:\u001b[0m expected an indented block\n"
          ]
        }
      ]
    },
    {
      "cell_type": "code",
      "metadata": {
        "id": "wrbWU0-j0mr2",
        "outputId": "40b1f249-c873-46e7-d485-d6ff83b165bf",
        "colab": {
          "base_uri": "https://localhost:8080/",
          "height": 35
        }
      },
      "source": [
        "# 3.\n",
        "sum = 0\n",
        "for i in range (1,11):\n",
        "  sum += i\n",
        "print(sum)"
      ],
      "execution_count": 1,
      "outputs": [
        {
          "output_type": "stream",
          "text": [
            "55\n"
          ],
          "name": "stdout"
        }
      ]
    },
    {
      "cell_type": "code",
      "metadata": {
        "id": "IyE4Vzju06Lm",
        "outputId": "c04f4423-0a3d-4d5d-b2d2-e68f0fe3e8be",
        "colab": {
          "base_uri": "https://localhost:8080/",
          "height": 106
        }
      },
      "source": [
        "# 4.\n",
        "for i in range (10,21):\n",
        "  if i % 2 != 0:\n",
        "    print(i,\"is a odd number\")\n"
      ],
      "execution_count": 2,
      "outputs": [
        {
          "output_type": "stream",
          "text": [
            "11 is a odd number\n",
            "13 is a odd number\n",
            "15 is a odd number\n",
            "17 is a odd number\n",
            "19 is a odd number\n"
          ],
          "name": "stdout"
        }
      ]
    },
    {
      "cell_type": "code",
      "metadata": {
        "id": "PYZKmFqkYa4q",
        "outputId": "a3fa4772-8b98-4477-bf5f-912b555ccfad",
        "colab": {
          "base_uri": "https://localhost:8080/",
          "height": 106
        }
      },
      "source": [
        "# 5.\n",
        "for i in range(1, 6):\n",
        "    print('*' * i)"
      ],
      "execution_count": 3,
      "outputs": [
        {
          "output_type": "stream",
          "text": [
            "*\n",
            "**\n",
            "***\n",
            "****\n",
            "*****\n"
          ],
          "name": "stdout"
        }
      ]
    },
    {
      "cell_type": "code",
      "metadata": {
        "id": "I2HZxIQdYgld",
        "outputId": "d175a69a-3905-4c74-9bae-e661fc9aa7fb",
        "colab": {
          "base_uri": "https://localhost:8080/",
          "height": 212
        }
      },
      "source": [
        "# 6.\n",
        "for i in range(1,11):\n",
        "  print(\"나무를\",i,\"번 찍었다.\")\n",
        "  if i == 10:\n",
        "    print(\"나무가 넘어갔다\")"
      ],
      "execution_count": 4,
      "outputs": [
        {
          "output_type": "stream",
          "text": [
            "나무를 1 번 찍었다.\n",
            "나무를 2 번 찍었다.\n",
            "나무를 3 번 찍었다.\n",
            "나무를 4 번 찍었다.\n",
            "나무를 5 번 찍었다.\n",
            "나무를 6 번 찍었다.\n",
            "나무를 7 번 찍었다.\n",
            "나무를 8 번 찍었다.\n",
            "나무를 9 번 찍었다.\n",
            "나무를 10 번 찍었다.\n",
            "나무가 넘어갔다\n"
          ],
          "name": "stdout"
        }
      ]
    },
    {
      "cell_type": "code",
      "metadata": {
        "id": "6Yvnb7JqY9V2",
        "outputId": "5315b7f8-21d8-4303-e306-185c70516db8",
        "colab": {
          "base_uri": "https://localhost:8080/",
          "height": 124
        }
      },
      "source": [
        "# 7.\n",
        "n = int(input('Enter the even number (1~30) : '))\n",
        "\n",
        "for i in range(n+2, 31, 2):\n",
        "    print(i)"
      ],
      "execution_count": 5,
      "outputs": [
        {
          "output_type": "stream",
          "text": [
            "Enter the even number (1~30) : 20\n",
            "22\n",
            "24\n",
            "26\n",
            "28\n",
            "30\n"
          ],
          "name": "stdout"
        }
      ]
    },
    {
      "cell_type": "code",
      "metadata": {
        "id": "65cNOdzLZDW8",
        "outputId": "e31aa340-c6f9-46cf-ddbb-a619c96811bf",
        "colab": {
          "base_uri": "https://localhost:8080/",
          "height": 177
        }
      },
      "source": [
        "# 8.\n",
        "floor = 1\n",
        "\n",
        "while floor <= 8:\n",
        "    print(\"계단을\",floor,\"칸 올라갔습니다.\")\n",
        "    floor += 1\n",
        "print(\"다음 층에 도착 하였습니다.\")"
      ],
      "execution_count": 6,
      "outputs": [
        {
          "output_type": "stream",
          "text": [
            "계단을 1 칸 올라갔습니다.\n",
            "계단을 2 칸 올라갔습니다.\n",
            "계단을 3 칸 올라갔습니다.\n",
            "계단을 4 칸 올라갔습니다.\n",
            "계단을 5 칸 올라갔습니다.\n",
            "계단을 6 칸 올라갔습니다.\n",
            "계단을 7 칸 올라갔습니다.\n",
            "계단을 8 칸 올라갔습니다.\n",
            "다음 층에 도착 하였습니다.\n"
          ],
          "name": "stdout"
        }
      ]
    },
    {
      "cell_type": "code",
      "metadata": {
        "id": "Dl-O-s3OZt3T",
        "outputId": "8b8a402f-4d79-4610-e275-aec18582f540",
        "colab": {
          "base_uri": "https://localhost:8080/",
          "height": 106
        }
      },
      "source": [
        "# 9.\n",
        "n = int(input('1이상의 정수 입력 : '))\n",
        "\n",
        "print(n,'의 약수' )\n",
        "\n",
        "for i in range(1, n+1):\n",
        "    if n % i == 0:\n",
        "        print(i)"
      ],
      "execution_count": 7,
      "outputs": [
        {
          "output_type": "stream",
          "text": [
            "1이상의 정수 입력 : 25\n",
            "25 의 약수\n",
            "1\n",
            "5\n",
            "25\n"
          ],
          "name": "stdout"
        }
      ]
    },
    {
      "cell_type": "code",
      "metadata": {
        "id": "W02JIjCLZzsq",
        "outputId": "cdf4414f-5820-4d93-f795-4f03d682217a",
        "colab": {
          "base_uri": "https://localhost:8080/",
          "height": 124
        }
      },
      "source": [
        "# 10.\n",
        "sum = 0\n",
        "while True:\n",
        "  x=int(input(\"덧셈을 하고 싶은 양의 정수들을 입력하세요\"))\n",
        "  sum += x\n",
        "  if x == 0:\n",
        "    print(\"총 합은\",sum,\"입니다\")\n",
        "    break"
      ],
      "execution_count": 8,
      "outputs": [
        {
          "output_type": "stream",
          "text": [
            "덧셈을 하고 싶은 양의 정수들을 입력하세요5\n",
            "덧셈을 하고 싶은 양의 정수들을 입력하세요4\n",
            "덧셈을 하고 싶은 양의 정수들을 입력하세요9\n",
            "덧셈을 하고 싶은 양의 정수들을 입력하세요8\n",
            "덧셈을 하고 싶은 양의 정수들을 입력하세요0\n",
            "총 합은 26 입니다\n"
          ],
          "name": "stdout"
        }
      ]
    },
    {
      "cell_type": "code",
      "metadata": {
        "id": "pZxrYgzgacgE",
        "outputId": "e63b8a38-9f88-4f46-c934-7033cdb821b2",
        "colab": {
          "base_uri": "https://localhost:8080/",
          "height": 124
        }
      },
      "source": [
        "# 11.\n",
        "score_list = [70, 80, 98, 77, 100, 85]\n",
        "\n",
        "for i in range(len(score_list)):\n",
        "    if score_list[i] >= 80:\n",
        "        print(i+1,'번 학생 통과')\n",
        "    else:\n",
        "        print(i+1,'번 학생은 불합격입니다.')"
      ],
      "execution_count": 11,
      "outputs": [
        {
          "output_type": "stream",
          "text": [
            "1 번 학생은 불합격입니다.\n",
            "2 번 학생 통과\n",
            "3 번 학생 통과\n",
            "4 번 학생은 불합격입니다.\n",
            "5 번 학생 통과\n",
            "6 번 학생 통과\n"
          ],
          "name": "stdout"
        }
      ]
    },
    {
      "cell_type": "code",
      "metadata": {
        "id": "6G21vzRsbcwy"
      },
      "source": [
        "# 12.\n",
        "문제에 오류가 있습니다."
      ],
      "execution_count": null,
      "outputs": []
    },
    {
      "cell_type": "code",
      "metadata": {
        "id": "8pv3GPY3cblZ",
        "outputId": "23ee26f7-5258-4a5e-9319-dc57d20cde36",
        "colab": {
          "base_uri": "https://localhost:8080/",
          "height": 88
        }
      },
      "source": [
        "# 13.\n",
        "a = [(1, 3), (3, 5), (7, 9), (13, 15)]\n",
        "i = 0\n",
        "\n",
        "while i < len(a):\n",
        "    sum = a[i][0] + a[i][1]\n",
        "    print(sum)\n",
        "    i += 1"
      ],
      "execution_count": 12,
      "outputs": [
        {
          "output_type": "stream",
          "text": [
            "4\n",
            "8\n",
            "16\n",
            "28\n"
          ],
          "name": "stdout"
        }
      ]
    },
    {
      "cell_type": "code",
      "metadata": {
        "id": "KvvN7Fb3cjlj",
        "outputId": "ebf08ef7-cbdd-458f-95ea-27bed23df029",
        "colab": {
          "base_uri": "https://localhost:8080/",
          "height": 106
        }
      },
      "source": [
        "# 14\n",
        "fruits = ['straberry', 'apple', 'banana', 'watermelon', 'grape']\n",
        "\n",
        "fruits.reverse()\n",
        "\n",
        "for i in range(len(fruits)):\n",
        "    print(fruits[i])"
      ],
      "execution_count": 13,
      "outputs": [
        {
          "output_type": "stream",
          "text": [
            "grape\n",
            "watermelon\n",
            "banana\n",
            "apple\n",
            "straberry\n"
          ],
          "name": "stdout"
        }
      ]
    },
    {
      "cell_type": "code",
      "metadata": {
        "id": "hwjlSXYdctpC",
        "outputId": "0f367802-db9d-4805-c302-bc5512f0d347",
        "colab": {
          "base_uri": "https://localhost:8080/",
          "height": 141
        }
      },
      "source": [
        "# 15\n",
        "while True:\n",
        "    n = int(input('Enter the number : '))\n",
        "    if n == 0:\n",
        "        break\n",
        "    elif (n % 2) == 0:\n",
        "        print(n,'is even number')\n",
        "    else:\n",
        "        print(n,'is odd number') "
      ],
      "execution_count": 14,
      "outputs": [
        {
          "output_type": "stream",
          "text": [
            "Enter the number : 5\n",
            "5 is odd number\n",
            "Enter the number : 3\n",
            "3 is odd number\n",
            "Enter the number : 2\n",
            "2 is even number\n",
            "Enter the number : 0\n"
          ],
          "name": "stdout"
        }
      ]
    },
    {
      "cell_type": "code",
      "metadata": {
        "id": "DwlemZUhc8ms",
        "outputId": "ac4a760f-a9a3-4e97-ab12-9d124346b184",
        "colab": {
          "base_uri": "https://localhost:8080/",
          "height": 134
        }
      },
      "source": [
        "# 16.\n",
        "15번 문제와 동일합니다."
      ],
      "execution_count": 15,
      "outputs": [
        {
          "output_type": "error",
          "ename": "SyntaxError",
          "evalue": "ignored",
          "traceback": [
            "\u001b[0;36m  File \u001b[0;32m\"<ipython-input-15-16283fa7e9e5>\"\u001b[0;36m, line \u001b[0;32m2\u001b[0m\n\u001b[0;31m    15번 문제와 동일합니다.\u001b[0m\n\u001b[0m      ^\u001b[0m\n\u001b[0;31mSyntaxError\u001b[0m\u001b[0;31m:\u001b[0m invalid syntax\n"
          ]
        }
      ]
    },
    {
      "cell_type": "code",
      "metadata": {
        "id": "gp64FekYdMKX",
        "outputId": "8d215f4c-5d56-48b7-8045-2082cd50feb9",
        "colab": {
          "base_uri": "https://localhost:8080/",
          "height": 52
        }
      },
      "source": [
        "# 17.\n",
        "x=int(input(\"자연수 입력\"))\n",
        "sum = 0\n",
        "for i in range(1,x+1):\n",
        "  if (i % 2) == 0:\n",
        "    sum += i\n",
        "print(\"짝수 합:\",sum)"
      ],
      "execution_count": 18,
      "outputs": [
        {
          "output_type": "stream",
          "text": [
            "자연수 입력8\n",
            "짝수 합: 20\n"
          ],
          "name": "stdout"
        }
      ]
    },
    {
      "cell_type": "code",
      "metadata": {
        "id": "92YIXsLGdqU0",
        "outputId": "d6ccafb5-696a-4ea8-8a21-f0e8961a496d",
        "colab": {
          "base_uri": "https://localhost:8080/",
          "height": 52
        }
      },
      "source": [
        "# 18.\n",
        "n = int(input('자연수 입력 : '))\n",
        "sum = 0\n",
        "\n",
        "for i in range(1, n+1):\n",
        "    if (i % 2) != 0:\n",
        "        sum += i\n",
        "print('홀수 합 :',sum)"
      ],
      "execution_count": 20,
      "outputs": [
        {
          "output_type": "stream",
          "text": [
            "자연수 입력 : 9\n",
            "홀수 합 : 25\n"
          ],
          "name": "stdout"
        }
      ]
    },
    {
      "cell_type": "code",
      "metadata": {
        "id": "ofd9njoueKih",
        "outputId": "ca6e392c-5a71-474c-d209-9afed0ac3c19",
        "colab": {
          "base_uri": "https://localhost:8080/",
          "height": 177
        }
      },
      "source": [
        "# 19.\n",
        "for i in range(2,10):\n",
        "  count = 1\n",
        "  print(\"\")\n",
        "  print(i,\"단:\",end=\" \")\n",
        "  while count < 10:\n",
        "    print(i * count,end=\" \")\n",
        "    count += 1\n"
      ],
      "execution_count": 30,
      "outputs": [
        {
          "output_type": "stream",
          "text": [
            "\n",
            "2 단: 2 4 6 8 10 12 14 16 18 \n",
            "3 단: 3 6 9 12 15 18 21 24 27 \n",
            "4 단: 4 8 12 16 20 24 28 32 36 \n",
            "5 단: 5 10 15 20 25 30 35 40 45 \n",
            "6 단: 6 12 18 24 30 36 42 48 54 \n",
            "7 단: 7 14 21 28 35 42 49 56 63 \n",
            "8 단: 8 16 24 32 40 48 56 64 72 \n",
            "9 단: 9 18 27 36 45 54 63 72 81 "
          ],
          "name": "stdout"
        }
      ]
    },
    {
      "cell_type": "code",
      "metadata": {
        "id": "JWiaq2HGfgzv",
        "outputId": "b9b776f6-8deb-41e0-d57f-08d6a00a0ae8",
        "colab": {
          "base_uri": "https://localhost:8080/",
          "height": 106
        }
      },
      "source": [
        "# 20.\n",
        "for i in range(1, 10, 2):\n",
        "    print('*' * i)"
      ],
      "execution_count": 31,
      "outputs": [
        {
          "output_type": "stream",
          "text": [
            "*\n",
            "***\n",
            "*****\n",
            "*******\n",
            "*********\n"
          ],
          "name": "stdout"
        }
      ]
    },
    {
      "cell_type": "code",
      "metadata": {
        "id": "8enpk-0ngibk",
        "outputId": "aea3d298-8430-4374-af06-d944b84e60e9",
        "colab": {
          "base_uri": "https://localhost:8080/",
          "height": 177
        }
      },
      "source": [
        "# 21.\n",
        "name = input(\"이름:\")\n",
        "num = int(input(\"문제 개수\"))\n",
        "count = 0\n",
        "for i in range(1,num+1):\n",
        "  x=input(\"%d 번 문제를 해결했나요?(y/n)\" %i)\n",
        "  if x == \"y\":\n",
        "    count +=1\n",
        "print(name,\"학생,총\",count,\"문제를 해결하였습니다\")"
      ],
      "execution_count": 33,
      "outputs": [
        {
          "output_type": "stream",
          "text": [
            "이름:규현\n",
            "문제 개수6\n",
            "1 번 문제를 해결했나요?(y/n)y\n",
            "2 번 문제를 해결했나요?(y/n)y\n",
            "3 번 문제를 해결했나요?(y/n)n\n",
            "4 번 문제를 해결했나요?(y/n)y\n",
            "5 번 문제를 해결했나요?(y/n)y\n",
            "6 번 문제를 해결했나요?(y/n)n\n",
            "규현 학생,총 4 문제를 해결하였습니다\n"
          ],
          "name": "stdout"
        }
      ]
    },
    {
      "cell_type": "code",
      "metadata": {
        "id": "9Y30HKSbhp0t",
        "outputId": "95163a83-f238-4b90-8e52-61080b078b4b",
        "colab": {
          "base_uri": "https://localhost:8080/",
          "height": 52
        }
      },
      "source": [
        "# 22.\n",
        "x=float(input(\"높이를 입력하시오(m)\"))\n",
        "count=0\n",
        "while True:\n",
        "  x = x/2\n",
        "  count += 1\n",
        "  if x < 0.00001:\n",
        "    print(\"공이 튀긴 횟수는\",count,\"회 입니다\")\n",
        "    break"
      ],
      "execution_count": 35,
      "outputs": [
        {
          "output_type": "stream",
          "text": [
            "높이를 입력하시오(m)30\n",
            "공이 튀긴 횟수는 22 회 입니다\n"
          ],
          "name": "stdout"
        }
      ]
    },
    {
      "cell_type": "code",
      "metadata": {
        "id": "foShP5IsizsT"
      },
      "source": [
        ""
      ],
      "execution_count": null,
      "outputs": []
    }
  ]
}